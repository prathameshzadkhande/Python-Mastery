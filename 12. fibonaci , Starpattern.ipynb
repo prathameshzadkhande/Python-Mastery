{
 "cells": [
  {
   "cell_type": "code",
   "execution_count": 1,
   "id": "1750e3a5",
   "metadata": {},
   "outputs": [],
   "source": [
    "# fibonacci series\n"
   ]
  },
  {
   "cell_type": "code",
   "execution_count": 2,
   "id": "82ed9e1c",
   "metadata": {
    "collapsed": true
   },
   "outputs": [
    {
     "ename": "SyntaxError",
     "evalue": "invalid syntax (1487324688.py, line 1)",
     "output_type": "error",
     "traceback": [
      "\u001b[1;36m  File \u001b[1;32m\"C:\\Users\\prath\\AppData\\Local\\Temp\\ipykernel_10532\\1487324688.py\"\u001b[1;36m, line \u001b[1;32m1\u001b[0m\n\u001b[1;33m    1  ,  2  ,  3  , 5  ,  8  , 12  ,  20 , 32  , .......\u001b[0m\n\u001b[1;37m                                                         ^\u001b[0m\n\u001b[1;31mSyntaxError\u001b[0m\u001b[1;31m:\u001b[0m invalid syntax\n"
     ]
    }
   ],
   "source": [
    " 1  ,  2  ,  3  , 5  ,  8  , 13  ,  21 , 34  , .......\n",
    "f      s    next\n",
    "      f      s   next\n",
    "             f    s    next\n",
    "                  f     s     next \n",
    "            "
   ]
  },
  {
   "cell_type": "code",
   "execution_count": 8,
   "id": "ad03e2b7",
   "metadata": {},
   "outputs": [
    {
     "name": "stdout",
     "output_type": "stream",
     "text": [
      "0 1 1 2 3 5 8 13 21 34 "
     ]
    }
   ],
   "source": [
    "next1 = 10\n",
    "first = 0\n",
    "second = 1\n",
    "print(first,second,end=\" \")\n",
    "for i in range (0,next1-2):\n",
    "    next1=first+second\n",
    "    first = second\n",
    "    second = next1\n",
    "    print(next1,end=\" \")"
   ]
  },
  {
   "cell_type": "code",
   "execution_count": 9,
   "id": "95cb024f",
   "metadata": {},
   "outputs": [],
   "source": [
    "def fibo():\n",
    "    next1 = int(input(\"Enter Fibonacci Series >>>\"))\n",
    "    first = int(input(\"Enter First Number >>>\"))\n",
    "    second =int(input(\"Enter Second Number >>>\")) \n",
    "    print(first,second,end=\" \")\n",
    "    for i in range (first,next1-2):\n",
    "        next1=first+second\n",
    "        first = second\n",
    "        second = next1\n",
    "        print(next1,end=\" \")"
   ]
  },
  {
   "cell_type": "code",
   "execution_count": 10,
   "id": "96b4b21d",
   "metadata": {},
   "outputs": [
    {
     "name": "stdout",
     "output_type": "stream",
     "text": [
      "Enter Fibonacci Series >>>20\n",
      "Enter First Number >>>11\n",
      "Enter Second Number >>>11\n",
      "11 11 22 33 55 88 143 231 374 "
     ]
    }
   ],
   "source": [
    "fibo()"
   ]
  },
  {
   "cell_type": "code",
   "execution_count": 11,
   "id": "d39cbfdb",
   "metadata": {},
   "outputs": [
    {
     "name": "stdout",
     "output_type": "stream",
     "text": [
      "Enter Fibonacci Series >>>20\n",
      "Enter First Number >>>5\n",
      "Enter Second Number >>>10\n",
      "5 10 15 25 40 65 105 170 275 445 720 1165 1885 3050 4935 "
     ]
    }
   ],
   "source": [
    "fibo()"
   ]
  },
  {
   "cell_type": "code",
   "execution_count": 12,
   "id": "8f598242",
   "metadata": {},
   "outputs": [],
   "source": [
    "# Star Patterns\n"
   ]
  },
  {
   "cell_type": "code",
   "execution_count": 13,
   "id": "c361e88b",
   "metadata": {
    "collapsed": true
   },
   "outputs": [
    {
     "ename": "SyntaxError",
     "evalue": "invalid syntax (1377202312.py, line 1)",
     "output_type": "error",
     "traceback": [
      "\u001b[1;36m  File \u001b[1;32m\"C:\\Users\\prath\\AppData\\Local\\Temp\\ipykernel_10532\\1377202312.py\"\u001b[1;36m, line \u001b[1;32m1\u001b[0m\n\u001b[1;33m    *\u001b[0m\n\u001b[1;37m     ^\u001b[0m\n\u001b[1;31mSyntaxError\u001b[0m\u001b[1;31m:\u001b[0m invalid syntax\n"
     ]
    }
   ],
   "source": [
    "# print These star pattern\n",
    "*\n",
    "* *\n",
    "* * *\n",
    "* * * *\n",
    "* * * * *"
   ]
  },
  {
   "cell_type": "code",
   "execution_count": 16,
   "id": "95e36f4f",
   "metadata": {},
   "outputs": [
    {
     "name": "stdout",
     "output_type": "stream",
     "text": [
      "\n",
      "* \n",
      "* * \n",
      "* * * \n",
      "* * * * \n",
      "* * * * * \n",
      "* * * * * * \n",
      "* * * * * * * \n"
     ]
    }
   ],
   "source": [
    "for i in range (8):\n",
    "    print(\"* \"*i)"
   ]
  },
  {
   "cell_type": "code",
   "execution_count": 17,
   "id": "abd35c37",
   "metadata": {
    "collapsed": true
   },
   "outputs": [
    {
     "ename": "SyntaxError",
     "evalue": "invalid syntax (2962835382.py, line 2)",
     "output_type": "error",
     "traceback": [
      "\u001b[1;36m  File \u001b[1;32m\"C:\\Users\\prath\\AppData\\Local\\Temp\\ipykernel_10532\\2962835382.py\"\u001b[1;36m, line \u001b[1;32m2\u001b[0m\n\u001b[1;33m    * * * * *\u001b[0m\n\u001b[1;37m      ^\u001b[0m\n\u001b[1;31mSyntaxError\u001b[0m\u001b[1;31m:\u001b[0m invalid syntax\n"
     ]
    }
   ],
   "source": [
    "# Print these star pattern\n",
    "* * * * *\n",
    "* * * * \n",
    "* * * \n",
    "* *\n",
    "*"
   ]
  },
  {
   "cell_type": "code",
   "execution_count": 18,
   "id": "5dd69844",
   "metadata": {},
   "outputs": [
    {
     "name": "stdout",
     "output_type": "stream",
     "text": [
      "* * * * * * * * \n",
      "* * * * * * * \n",
      "* * * * * * \n",
      "* * * * * \n",
      "* * * * \n",
      "* * * \n",
      "* * \n",
      "* \n"
     ]
    }
   ],
   "source": [
    "for i in range(8,0,-1):\n",
    "    print(\"* \"*i)"
   ]
  },
  {
   "cell_type": "code",
   "execution_count": 19,
   "id": "78238933",
   "metadata": {
    "collapsed": true
   },
   "outputs": [
    {
     "ename": "SyntaxError",
     "evalue": "invalid syntax (40417020.py, line 1)",
     "output_type": "error",
     "traceback": [
      "\u001b[1;36m  File \u001b[1;32m\"C:\\Users\\prath\\AppData\\Local\\Temp\\ipykernel_10532\\40417020.py\"\u001b[1;36m, line \u001b[1;32m1\u001b[0m\n\u001b[1;33m    *\u001b[0m\n\u001b[1;37m     ^\u001b[0m\n\u001b[1;31mSyntaxError\u001b[0m\u001b[1;31m:\u001b[0m invalid syntax\n"
     ]
    }
   ],
   "source": [
    "# print these star pattern\n",
    "*\n",
    "* *\n",
    "* * *\n",
    "* * * *\n",
    "* * * * *\n",
    "* * * * *\n",
    "* * * * \n",
    "* * * \n",
    "* *\n",
    "*"
   ]
  },
  {
   "cell_type": "code",
   "execution_count": 22,
   "id": "d03f8761",
   "metadata": {},
   "outputs": [
    {
     "name": "stdout",
     "output_type": "stream",
     "text": [
      "\n",
      "* \n",
      "* * \n",
      "* * * \n",
      "* * * * \n",
      "* * * * * \n",
      "* * * * * * \n",
      "* * * * * * * \n",
      "* * * * * * * \n",
      "* * * * * * \n",
      "* * * * * \n",
      "* * * * \n",
      "* * * \n",
      "* * \n",
      "* \n"
     ]
    }
   ],
   "source": [
    "for i in range (8):\n",
    "    print(\"* \"*i)\n",
    "for p in range(7,0,-1):\n",
    "    print(\"* \"*p)"
   ]
  },
  {
   "cell_type": "code",
   "execution_count": 47,
   "id": "ddc97548",
   "metadata": {
    "scrolled": true
   },
   "outputs": [
    {
     "name": "stdout",
     "output_type": "stream",
     "text": [
      "\n",
      "* \n",
      "* * \n",
      "* * * \n",
      "* * * * \n",
      "* * * * * \n",
      "* * * * * * \n",
      "* * * * * * * \n",
      "-> -> -> -> -> -> -> -> \n",
      "-> -> -> -> -> -> -> -> \n",
      "* * * * * * * \n",
      "* * * * * * \n",
      "* * * * * \n",
      "* * * * \n",
      "* * * \n",
      "* * \n",
      "* \n"
     ]
    }
   ],
   "source": [
    "for i in range (8):\n",
    "    print(\"* \"*i)\n",
    "for j in range(8,0,-1):\n",
    "    print(\"-> \"*j)\n",
    "    break\n",
    "for j in range(8,0,-1):\n",
    "    print(\"-> \"*j)\n",
    "    break\n",
    "for p in range(7,0,-1):\n",
    "    print(\"* \"*p)"
   ]
  },
  {
   "cell_type": "code",
   "execution_count": 26,
   "id": "da1bf71a",
   "metadata": {
    "collapsed": true
   },
   "outputs": [
    {
     "data": {
      "text/plain": [
       "55555"
      ]
     },
     "execution_count": 26,
     "metadata": {},
     "output_type": "execute_result"
    }
   ],
   "source": [
    "# print these pattern\n",
    "1\n",
    "22\n",
    "333\n",
    "4444\n",
    "55555"
   ]
  },
  {
   "cell_type": "code",
   "execution_count": 37,
   "id": "b16b9b44",
   "metadata": {},
   "outputs": [
    {
     "name": "stdout",
     "output_type": "stream",
     "text": [
      "\n",
      "1 \n",
      "2 2 \n",
      "3 3 3 \n",
      "4 4 4 4 \n",
      "5 5 5 5 5 \n",
      "6 6 6 6 6 6 \n",
      "7 7 7 7 7 7 7 \n",
      "8 8 8 8 8 8 8 8 \n"
     ]
    }
   ],
   "source": [
    "for i in range(9):\n",
    "    print(f\"{i} \"*i)"
   ]
  },
  {
   "cell_type": "code",
   "execution_count": 36,
   "id": "35b47a20",
   "metadata": {},
   "outputs": [
    {
     "name": "stdout",
     "output_type": "stream",
     "text": [
      "8 8 8 8 8 8 8 8 \n",
      "7 7 7 7 7 7 7 \n",
      "6 6 6 6 6 6 \n",
      "5 5 5 5 5 \n",
      "4 4 4 4 \n",
      "3 3 3 \n",
      "2 2 \n",
      "1 \n"
     ]
    }
   ],
   "source": [
    "for i in range(8,0,-1):\n",
    "    print(f\"{i} \"*i)"
   ]
  },
  {
   "cell_type": "code",
   "execution_count": null,
   "id": "3e351593",
   "metadata": {},
   "outputs": [],
   "source": [
    "# print These pattern\n",
    "1 \n",
    "2 2 \n",
    "3 3 3 \n",
    "4 4 4 4 \n",
    "5 5 5 5 5 \n",
    "6 6 6 6 6 6 \n",
    "7 7 7 7 7 7 7 \n",
    "8 8 8 8 8 8 8 8 \n",
    "8 8 8 8 8 8 8 8 \n",
    "7 7 7 7 7 7 7 \n",
    "6 6 6 6 6 6 \n",
    "5 5 5 5 5 \n",
    "4 4 4 4 \n",
    "3 3 3 \n",
    "2 2 \n",
    "1 \n"
   ]
  },
  {
   "cell_type": "code",
   "execution_count": 40,
   "id": "85055f85",
   "metadata": {},
   "outputs": [
    {
     "name": "stdout",
     "output_type": "stream",
     "text": [
      "\n",
      "1 \n",
      "2 2 \n",
      "3 3 3 \n",
      "4 4 4 4 \n",
      "5 5 5 5 5 \n",
      "6 6 6 6 6 6 \n",
      "7 7 7 7 7 7 7 \n",
      "8 8 8 8 8 8 8 8 \n",
      "->->->->->->->->->->\n",
      "8 8 8 8 8 8 8 8 \n",
      "7 7 7 7 7 7 7 \n",
      "6 6 6 6 6 6 \n",
      "5 5 5 5 5 \n",
      "4 4 4 4 \n",
      "3 3 3 \n",
      "2 2 \n",
      "1 \n"
     ]
    }
   ],
   "source": [
    "for i in range(9):\n",
    "    print(f\"{i} \"*i)\n",
    "for i in range(10,0,-1):\n",
    "    print(f\"->\"*i)\n",
    "    break\n",
    "for i in range(8,0,-1):\n",
    "    print(f\"{i} \"*i)"
   ]
  },
  {
   "cell_type": "code",
   "execution_count": 48,
   "id": "6c6859c7",
   "metadata": {},
   "outputs": [],
   "source": [
    "# for loop for inside loop"
   ]
  },
  {
   "cell_type": "code",
   "execution_count": 2,
   "id": "2473f810",
   "metadata": {},
   "outputs": [
    {
     "name": "stdout",
     "output_type": "stream",
     "text": [
      "0\n",
      "Hellow\n",
      "Hellow\n",
      "Hellow\n",
      "Hellow\n",
      "Hellow\n",
      "1\n",
      "Hellow\n",
      "Hellow\n",
      "Hellow\n",
      "Hellow\n",
      "Hellow\n",
      "2\n",
      "Hellow\n",
      "Hellow\n",
      "Hellow\n",
      "Hellow\n",
      "Hellow\n"
     ]
    }
   ],
   "source": [
    "for i in range(3):\n",
    "    print(i)\n",
    "    for j in range(5):\n",
    "        print(\"Hellow\")\n",
    "          "
   ]
  },
  {
   "cell_type": "code",
   "execution_count": null,
   "id": "d1f51d82",
   "metadata": {},
   "outputs": [],
   "source": [
    "# print these pattern\n",
    "0\n",
    "welcome\n",
    "welcome\n",
    "welcome\n",
    "welcome\n",
    "welcome\n",
    "************************\n",
    "1\n",
    "welcome\n",
    "welcome\n",
    "welcome\n",
    "welcome\n",
    "welcome\n",
    "************************\n",
    "2\n",
    "welcome\n",
    "welcome\n",
    "welcome\n",
    "welcome\n",
    "welcome\n",
    "************************"
   ]
  },
  {
   "cell_type": "code",
   "execution_count": 4,
   "id": "7a405ed5",
   "metadata": {},
   "outputs": [
    {
     "name": "stdout",
     "output_type": "stream",
     "text": [
      "0\n",
      "Hellow\n",
      "Hellow\n",
      "Hellow\n",
      "Hellow\n",
      "Hellow\n",
      "*********************\n",
      "1\n",
      "Hellow\n",
      "Hellow\n",
      "Hellow\n",
      "Hellow\n",
      "Hellow\n",
      "*********************\n",
      "2\n",
      "Hellow\n",
      "Hellow\n",
      "Hellow\n",
      "Hellow\n",
      "Hellow\n",
      "*********************\n"
     ]
    }
   ],
   "source": [
    "for i in range(3):\n",
    "    print(i)\n",
    "    for j in range(5):\n",
    "        print(\"Hellow\")\n",
    "    for k in range(1):\n",
    "            print(\"*********************\")\n",
    "          "
   ]
  },
  {
   "cell_type": "code",
   "execution_count": 7,
   "id": "1908ac76",
   "metadata": {},
   "outputs": [
    {
     "name": "stdout",
     "output_type": "stream",
     "text": [
      "0\n",
      "* * * * * * * * \n",
      "Hellow\n",
      "Hellow\n",
      "Hellow\n",
      "Hellow\n",
      "Hellow\n",
      "1\n",
      "* * * * * * * * \n",
      "Hellow\n",
      "Hellow\n",
      "Hellow\n",
      "Hellow\n",
      "Hellow\n",
      "2\n",
      "* * * * * * * * \n",
      "Hellow\n",
      "Hellow\n",
      "Hellow\n",
      "Hellow\n",
      "Hellow\n"
     ]
    }
   ],
   "source": [
    "for i in range(3):\n",
    "    print(i)\n",
    "    print(\"* \"*8)\n",
    "    for j in range(5):\n",
    "        print(\"Hellow\")\n",
    "    \n",
    "           "
   ]
  },
  {
   "cell_type": "code",
   "execution_count": 16,
   "id": "88153ed8",
   "metadata": {},
   "outputs": [
    {
     "name": "stdout",
     "output_type": "stream",
     "text": [
      "0\n",
      "Welcome\n",
      "Welcome\n",
      "Welcome\n",
      "Welcome\n",
      "Welcome\n",
      "to Data Science Cource\n",
      "to Data Science Cource\n",
      "------------------------------\n",
      "1\n",
      "Welcome\n",
      "Welcome\n",
      "Welcome\n",
      "Welcome\n",
      "Welcome\n",
      "to Data Science Cource\n",
      "to Data Science Cource\n",
      "------------------------------\n",
      "2\n",
      "Welcome\n",
      "Welcome\n",
      "Welcome\n",
      "Welcome\n",
      "Welcome\n",
      "to Data Science Cource\n",
      "to Data Science Cource\n",
      "------------------------------\n"
     ]
    }
   ],
   "source": [
    "for i in range(3):\n",
    "    print(i)\n",
    "    for j in range(5):\n",
    "        print(\"Welcome\")\n",
    "    for k in range(2):\n",
    "            print(\"to Data Science Cource\")\n",
    "    print(\"-\"*30)\n",
    "          "
   ]
  },
  {
   "cell_type": "code",
   "execution_count": 18,
   "id": "ef290d4b",
   "metadata": {},
   "outputs": [
    {
     "name": "stdout",
     "output_type": "stream",
     "text": [
      "0\n",
      "Welcome\n",
      "to Data Science Cource\n",
      "Welcome\n",
      "to Data Science Cource\n",
      "------------------------------\n",
      "1\n",
      "Welcome\n",
      "to Data Science Cource\n",
      "Welcome\n",
      "to Data Science Cource\n",
      "------------------------------\n",
      "2\n",
      "Welcome\n",
      "to Data Science Cource\n",
      "Welcome\n",
      "to Data Science Cource\n",
      "------------------------------\n"
     ]
    }
   ],
   "source": [
    "for i in range(3):\n",
    "    print(i)\n",
    "    for j in range(2):\n",
    "        print(\"Welcome\")\n",
    "        for k in range(1):\n",
    "            print(\"to Data Science Cource\")\n",
    "    print(\"-\"*30)\n",
    "          "
   ]
  },
  {
   "cell_type": "code",
   "execution_count": 19,
   "id": "fb21220b",
   "metadata": {},
   "outputs": [],
   "source": [
    "# print these pattern\n",
    "0\n",
    "0 1\n",
    "0 1 2\n",
    "0 1 2 3\n",
    "0 1 2 3 4"
   ]
  },
  {
   "cell_type": "code",
   "execution_count": 23,
   "id": "f3cc4ba4",
   "metadata": {},
   "outputs": [
    {
     "name": "stdout",
     "output_type": "stream",
     "text": [
      "0 0 1 0 1 2 0 1 2 3 "
     ]
    }
   ],
   "source": [
    "for i in range(5):\n",
    "    for j in range(i):\n",
    "        print(j,end=\" \")"
   ]
  },
  {
   "cell_type": "code",
   "execution_count": 25,
   "id": "81e037c9",
   "metadata": {},
   "outputs": [
    {
     "name": "stdout",
     "output_type": "stream",
     "text": [
      "\n",
      "\n",
      "\n",
      "\n",
      "0 \n",
      "\n",
      "0 1 \n",
      "\n",
      "0 1 2 \n",
      "\n",
      "0 1 2 3 \n",
      "\n",
      "0 1 2 3 4 "
     ]
    }
   ],
   "source": [
    "for i in range(6):\n",
    "    print(\"\\n\")\n",
    "    for j in range(i):\n",
    "        print(j,end=\" \")"
   ]
  },
  {
   "cell_type": "code",
   "execution_count": 29,
   "id": "d04df06f",
   "metadata": {},
   "outputs": [
    {
     "name": "stdout",
     "output_type": "stream",
     "text": [
      "\n",
      "\n",
      "\n",
      "\n",
      "0 \n",
      "\n",
      "0 1 \n",
      "\n",
      "0 1 2 \n",
      "\n",
      "0 1 2 3 \n",
      "\n",
      "0 1 2 3 4 \n",
      "\n",
      "0 1 2 3 4 \n",
      "\n",
      "0 1 2 3 \n",
      "\n",
      "0 1 2 \n",
      "\n",
      "0 1 \n",
      "\n",
      "0 "
     ]
    }
   ],
   "source": [
    "for i in range(6):\n",
    "    print(\"\\n\")\n",
    "    for j in range(i):\n",
    "        print(j,end=\" \")\n",
    "for i in range(5,0,-1):\n",
    "    print(\"\\n\")\n",
    "    for j in range(i):\n",
    "        print(j,end=\" \")       \n",
    "        "
   ]
  },
  {
   "cell_type": "code",
   "execution_count": 24,
   "id": "9f7f9db0",
   "metadata": {},
   "outputs": [
    {
     "name": "stdout",
     "output_type": "stream",
     "text": [
      "\n",
      "      * \n",
      "     * * \n",
      "    * * * \n",
      "   * * * * \n",
      "  * * * * * \n",
      " * * * * * * \n",
      "* * * * * * * \n"
     ]
    }
   ],
   "source": [
    "for i in range (8):\n",
    "    print(\"* \"*i)\n",
    "    if i==0:\n",
    "        print(end=\"      \")\n",
    "    elif i==1:\n",
    "        print(end=\"     \")\n",
    "    elif i==2:\n",
    "        print(end=\"    \")\n",
    "    elif i==3:\n",
    "        print(end=\"   \")\n",
    "    elif i==4:\n",
    "        print(end=\"  \")\n",
    "    elif i==5:\n",
    "        print(end=\" \")\n",
    " \n",
    "\n",
    "            \n",
    "\n"
   ]
  },
  {
   "cell_type": "code",
   "execution_count": 27,
   "id": "197ffde4",
   "metadata": {},
   "outputs": [
    {
     "name": "stdout",
     "output_type": "stream",
     "text": [
      "     \n",
      "    * \n",
      "   * * \n",
      "  * * * \n",
      " * * * * \n",
      "* * * * * \n"
     ]
    }
   ],
   "source": [
    "for i in range(6):\n",
    "    print(\" \"*(5-i)+\"* \"*i)"
   ]
  },
  {
   "cell_type": "code",
   "execution_count": 29,
   "id": "5786d02f",
   "metadata": {},
   "outputs": [
    {
     "name": "stdout",
     "output_type": "stream",
     "text": [
      "* * * * * * \n",
      " * * * * * \n",
      "  * * * * \n",
      "   * * * \n",
      "    * * \n",
      "     * \n"
     ]
    }
   ],
   "source": [
    "for i in range(6,0,-1):\n",
    "    print(\" \"*(6-i)+\"* \"*i)"
   ]
  },
  {
   "cell_type": "code",
   "execution_count": 31,
   "id": "29f66fbd",
   "metadata": {},
   "outputs": [
    {
     "name": "stdout",
     "output_type": "stream",
     "text": [
      "\n",
      "A \n",
      "A A \n",
      "A A A \n",
      "A A A A \n",
      "A A A A A \n",
      "A A A A A A \n",
      "A A A A A A A \n",
      "A A A A A A A A \n"
     ]
    }
   ],
   "source": [
    "for i in range(9):\n",
    "    print(\"A \"*i)"
   ]
  },
  {
   "cell_type": "code",
   "execution_count": 32,
   "id": "2e4cfb19",
   "metadata": {},
   "outputs": [
    {
     "name": "stdout",
     "output_type": "stream",
     "text": [
      "A A A A A A \n",
      "A A A A A \n",
      "A A A A \n",
      "A A A \n",
      "A A \n",
      "A \n"
     ]
    }
   ],
   "source": [
    "for i in range(6,0,-1):\n",
    "    print(\"A \"*i)"
   ]
  },
  {
   "cell_type": "code",
   "execution_count": 40,
   "id": "26cf31f0",
   "metadata": {},
   "outputs": [
    {
     "name": "stdout",
     "output_type": "stream",
     "text": [
      "\n",
      "\n",
      "\n",
      "\n",
      "0 \n",
      "\n",
      "0 1 \n",
      "\n",
      "0 1 2 \n",
      "\n",
      "0 1 2 3 \n",
      "\n",
      "0 1 2 3 4 \n",
      "\n",
      "0 1 2 3 4 5 "
     ]
    }
   ],
   "source": [
    "for i in range(7):\n",
    "    print(\"\\n\")\n",
    "    for j in range(i):\n",
    "        print(j,end=\" \")\n",
    "    "
   ]
  },
  {
   "cell_type": "code",
   "execution_count": 45,
   "id": "1ac62677",
   "metadata": {
    "scrolled": true
   },
   "outputs": [
    {
     "ename": "SyntaxError",
     "evalue": "invalid syntax (2562237523.py, line 1)",
     "output_type": "error",
     "traceback": [
      "\u001b[1;36m  File \u001b[1;32m\"C:\\Users\\prath\\AppData\\Local\\Temp\\ipykernel_16728\\2562237523.py\"\u001b[1;36m, line \u001b[1;32m1\u001b[0m\n\u001b[1;33m    for i in range(chr(1,6):\u001b[0m\n\u001b[1;37m                           ^\u001b[0m\n\u001b[1;31mSyntaxError\u001b[0m\u001b[1;31m:\u001b[0m invalid syntax\n"
     ]
    }
   ],
   "source": [
    "for i in range(chr(1,6):\n",
    "      print(f\"{i} \"*i)"
   ]
  },
  {
   "cell_type": "code",
   "execution_count": 53,
   "id": "c20034ea",
   "metadata": {},
   "outputs": [
    {
     "name": "stdout",
     "output_type": "stream",
     "text": [
      "\n",
      "B\n",
      "CC\n",
      "DDD\n",
      "EEEE\n",
      "FFFFF\n"
     ]
    }
   ],
   "source": [
    "\n",
    "for i in range(0,7):\n",
    "    if i==0:\n",
    "        print(\"A\"*i)\n",
    "    elif i==1:\n",
    "        print(\"B\"*i)\n",
    "    elif i==2:\n",
    "        print(\"C\"*i)\n",
    "    elif i==3:\n",
    "        print(\"D\"*i)\n",
    "    elif i==4:\n",
    "        print(\"E\"*i)\n",
    "    elif i==5:\n",
    "        print(\"F\"*i)"
   ]
  },
  {
   "cell_type": "code",
   "execution_count": 80,
   "id": "1083ee65",
   "metadata": {},
   "outputs": [
    {
     "name": "stdout",
     "output_type": "stream",
     "text": [
      "\n",
      "\n",
      "\n",
      "\n",
      "0 \n",
      "\n",
      "1 2 \n",
      "\n",
      "3 4 5 \n",
      "\n",
      "6 7 8 9 \n",
      "\n",
      "10 11 12 13 14 \n",
      "\n",
      "15 16 17 18 19 20 "
     ]
    }
   ],
   "source": [
    "c=0\n",
    "for i in range(0,7):\n",
    "    print(\"\\n\")\n",
    "    for j in range(i):\n",
    "        print(c,end=\" \")\n",
    "        c+=1\n",
    "        \n",
    "    "
   ]
  },
  {
   "cell_type": "code",
   "execution_count": 81,
   "id": "6a8d56bb",
   "metadata": {},
   "outputs": [
    {
     "name": "stdout",
     "output_type": "stream",
     "text": [
      "\n",
      "\n",
      "0 1 2 3 4 5 6 \n",
      "\n",
      "7 8 9 10 11 12 \n",
      "\n",
      "13 14 15 16 17 \n",
      "\n",
      "18 19 20 21 \n",
      "\n",
      "22 23 24 \n",
      "\n",
      "25 26 \n",
      "\n",
      "27 "
     ]
    }
   ],
   "source": [
    "c=0\n",
    "for i in range(7,0,-1):\n",
    "    print(\"\\n\")\n",
    "    for j in range(i):\n",
    "        print(c,end=\" \")\n",
    "        c+=1\n",
    "        \n",
    "    "
   ]
  },
  {
   "cell_type": "code",
   "execution_count": 82,
   "id": "aaaf78dc",
   "metadata": {},
   "outputs": [
    {
     "name": "stdout",
     "output_type": "stream",
     "text": [
      "\n",
      "* \n",
      "* * \n",
      "* * * \n",
      "* * * * \n",
      "* * * * * \n",
      "* * * * * * \n",
      "* * * * * * * \n",
      "* * * * * * * * \n",
      "* * * * * * * \n",
      "* * * * * * \n",
      "* * * * * \n",
      "* * * * \n",
      "* * * \n",
      "* * \n",
      "* \n"
     ]
    }
   ],
   "source": [
    "for i in range (8):\n",
    "    print(\"* \"*i)\n",
    "for j in range(8,0,-1):\n",
    "    print(\"* \"*j)\n",
    "    break\n",
    "for p in range(7,0,-1):\n",
    "    print(\"* \"*p)"
   ]
  },
  {
   "cell_type": "code",
   "execution_count": 83,
   "id": "8610d6b0",
   "metadata": {},
   "outputs": [
    {
     "name": "stdout",
     "output_type": "stream",
     "text": [
      "\n",
      "\n",
      "\n",
      "\n",
      "*  \n",
      "\n",
      "*  *  \n",
      "\n",
      "*  *  *  \n",
      "\n",
      "*  *  *  *  \n",
      "\n",
      "*  *  *  *  *  \n",
      "\n",
      "*  *  *  *  *  *  "
     ]
    }
   ],
   "source": [
    "for i in range(7):\n",
    "    print(\"\\n\")\n",
    "    for j in range(i):\n",
    "        print(\"* \",end=\" \")\n",
    "    \n",
    "    "
   ]
  },
  {
   "cell_type": "code",
   "execution_count": null,
   "id": "05cc6cc4",
   "metadata": {},
   "outputs": [],
   "source": []
  }
 ],
 "metadata": {
  "kernelspec": {
   "display_name": "Python 3 (ipykernel)",
   "language": "python",
   "name": "python3"
  },
  "language_info": {
   "codemirror_mode": {
    "name": "ipython",
    "version": 3
   },
   "file_extension": ".py",
   "mimetype": "text/x-python",
   "name": "python",
   "nbconvert_exporter": "python",
   "pygments_lexer": "ipython3",
   "version": "3.9.13"
  }
 },
 "nbformat": 4,
 "nbformat_minor": 5
}
