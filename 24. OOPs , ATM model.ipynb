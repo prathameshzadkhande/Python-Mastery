{
 "cells": [
  {
   "cell_type": "markdown",
   "id": "30d5f866",
   "metadata": {},
   "source": [
    "#### OBJECT ORIENTED PROGRAMMING\n"
   ]
  },
  {
   "cell_type": "code",
   "execution_count": 1,
   "id": "9be0cf99",
   "metadata": {},
   "outputs": [
    {
     "name": "stdout",
     "output_type": "stream",
     "text": [
      "<class 'str'>\n"
     ]
    }
   ],
   "source": [
    "str1='Prahtamesh'\n",
    "print(type(str1))"
   ]
  },
  {
   "cell_type": "code",
   "execution_count": 2,
   "id": "c8796540",
   "metadata": {},
   "outputs": [
    {
     "name": "stdout",
     "output_type": "stream",
     "text": [
      "<class 'list'>\n"
     ]
    }
   ],
   "source": [
    "list1=[12,3,4,5,3]\n",
    "print(type(list1))"
   ]
  },
  {
   "cell_type": "code",
   "execution_count": 3,
   "id": "176e4440",
   "metadata": {},
   "outputs": [
    {
     "name": "stdout",
     "output_type": "stream",
     "text": [
      "<class 'set'>\n"
     ]
    }
   ],
   "source": [
    "set1={1243,43,4}\n",
    "print(type(set1))"
   ]
  },
  {
   "cell_type": "code",
   "execution_count": 5,
   "id": "ce381770",
   "metadata": {},
   "outputs": [
    {
     "name": "stdout",
     "output_type": "stream",
     "text": [
      "<class 'dict'>\n"
     ]
    }
   ],
   "source": [
    "dict1={1:'@','er':'dsa'}\n",
    "print(type(dict1))"
   ]
  },
  {
   "cell_type": "code",
   "execution_count": 7,
   "id": "9c7762f3",
   "metadata": {},
   "outputs": [
    {
     "data": {
      "text/plain": [
       "10"
      ]
     },
     "execution_count": 7,
     "metadata": {},
     "output_type": "execute_result"
    }
   ],
   "source": [
    "len(str1) # len is  function"
   ]
  },
  {
   "cell_type": "code",
   "execution_count": 8,
   "id": "dd2c4f00",
   "metadata": {},
   "outputs": [],
   "source": [
    "list1.append(\"science\") # method dedicated to list"
   ]
  },
  {
   "cell_type": "code",
   "execution_count": 9,
   "id": "8aad8dcf",
   "metadata": {},
   "outputs": [
    {
     "data": {
      "text/plain": [
       "[12, 3, 4, 5, 3, 'science']"
      ]
     },
     "execution_count": 9,
     "metadata": {},
     "output_type": "execute_result"
    }
   ],
   "source": [
    "list1"
   ]
  },
  {
   "cell_type": "code",
   "execution_count": 10,
   "id": "5f05cf8c",
   "metadata": {
    "collapsed": true
   },
   "outputs": [
    {
     "ename": "AttributeError",
     "evalue": "'str' object has no attribute 'append'",
     "output_type": "error",
     "traceback": [
      "\u001b[1;31m---------------------------------------------------------------------------\u001b[0m",
      "\u001b[1;31mAttributeError\u001b[0m                            Traceback (most recent call last)",
      "\u001b[1;32m~\\AppData\\Local\\Temp\\ipykernel_23776\\3755759394.py\u001b[0m in \u001b[0;36m<module>\u001b[1;34m\u001b[0m\n\u001b[1;32m----> 1\u001b[1;33m \u001b[0mstr1\u001b[0m\u001b[1;33m.\u001b[0m\u001b[0mappend\u001b[0m\u001b[1;33m(\u001b[0m\u001b[1;34m\"agrawal\"\u001b[0m\u001b[1;33m)\u001b[0m\u001b[1;33m\u001b[0m\u001b[1;33m\u001b[0m\u001b[0m\n\u001b[0m",
      "\u001b[1;31mAttributeError\u001b[0m: 'str' object has no attribute 'append'"
     ]
    }
   ],
   "source": [
    "str1.append(\"agrawal\")"
   ]
  },
  {
   "cell_type": "code",
   "execution_count": 11,
   "id": "de2e371b",
   "metadata": {
    "collapsed": true
   },
   "outputs": [
    {
     "ename": "NameError",
     "evalue": "name 'car' is not defined",
     "output_type": "error",
     "traceback": [
      "\u001b[1;31m---------------------------------------------------------------------------\u001b[0m",
      "\u001b[1;31mNameError\u001b[0m                                 Traceback (most recent call last)",
      "\u001b[1;32m~\\AppData\\Local\\Temp\\ipykernel_23776\\2582975464.py\u001b[0m in \u001b[0;36m<module>\u001b[1;34m\u001b[0m\n\u001b[1;32m----> 1\u001b[1;33m \u001b[0mcar\u001b[0m \u001b[1;33m>>\u001b[0m \u001b[0mtoyota\u001b[0m \u001b[1;33m,\u001b[0m \u001b[0mTATA\u001b[0m \u001b[1;33m,\u001b[0m \u001b[0mmahendra\u001b[0m \u001b[1;33m,\u001b[0m \u001b[0mmaruti\u001b[0m\u001b[1;33m\u001b[0m\u001b[1;33m\u001b[0m\u001b[0m\n\u001b[0m",
      "\u001b[1;31mNameError\u001b[0m: name 'car' is not defined"
     ]
    }
   ],
   "source": [
    "car >> toyota , TATA , mahendra , maruti"
   ]
  },
  {
   "cell_type": "raw",
   "id": "223ceb07",
   "metadata": {},
   "source": [
    "> python supports opps language \n",
    "> whenever we called class and object then we called opps language\n",
    "> it supports different programming approaches\n",
    "> 1] Procedural programming language : if we used fuction and variable then we called prcedural programming language \n",
    "  2] Scripting programming language "
   ]
  },
  {
   "cell_type": "code",
   "execution_count": 12,
   "id": "79820ea1",
   "metadata": {},
   "outputs": [
    {
     "name": "stdout",
     "output_type": "stream",
     "text": [
      "300\n"
     ]
    }
   ],
   "source": [
    "n1=100\n",
    "n2=200\n",
    "add=n1+n2\n",
    "print(add)"
   ]
  },
  {
   "cell_type": "raw",
   "id": "33528cc8",
   "metadata": {},
   "source": [
    "OOP based on two things :\n",
    "   1. Class : blue print of an object that defines variables and methods or it is collection of an object \n",
    "   2. objects : \n",
    "    >Real world entities(House,Mobile,bird)\n",
    "    >Everything in python is object e.g str,list,int,tuple\n",
    "    >physical existence of class\n",
    "    >instance/variables\n",
    "    "
   ]
  },
  {
   "cell_type": "code",
   "execution_count": 13,
   "id": "db0d366b",
   "metadata": {},
   "outputs": [],
   "source": [
    "str1=\"Data Science\" # string ka object,string ka instance,string wala variable"
   ]
  },
  {
   "cell_type": "raw",
   "id": "db648b16",
   "metadata": {},
   "source": [
    "Object has two classes :\n",
    "1. Attributes \n",
    "2. Behavior \n",
    "\n",
    "class bird>>1)attributes(c/s):2 wings,2 pair,eyes,color,weight,size\n",
    "            2)behaviour(function):Flying,singing,eat,drink\n",
    "        \n",
    "class mobile: 1] attributes:color,size,ram,memory,dual sim,screen,camera\n",
    "              2] behaviour:calling,messaging,streaming,gamming,video recording\n",
    "             "
   ]
  },
  {
   "cell_type": "code",
   "execution_count": 14,
   "id": "e8f93d80",
   "metadata": {},
   "outputs": [],
   "source": [
    "#Class name format >>> camel case\n",
    "# first letter should be in capital case\n",
    "# one or more letters in that name in upper case\n",
    "# no number in that name at any place\n",
    "# class varibles: is the variable which defines the perticular property of a class"
   ]
  },
  {
   "cell_type": "code",
   "execution_count": 22,
   "id": "f89b89f0",
   "metadata": {},
   "outputs": [],
   "source": [
    "class  calculator():\n",
    "    def add(self,a,b):\n",
    "        add=a+b\n",
    "        print(\"addition of number :\",add)\n",
    "    def sub(self,a,b):\n",
    "        add=a-b\n",
    "        print(\"substraction of number :\",add)\n",
    "    def mult(self,a,b):\n",
    "        add=a*b\n",
    "        print(\"multiplication of number :\",add)\n",
    "    def div(self,a,b):\n",
    "        add=a/b\n",
    "        print(\"division of number :\",add)\n",
    "    "
   ]
  },
  {
   "cell_type": "code",
   "execution_count": 23,
   "id": "616dbf53",
   "metadata": {},
   "outputs": [
    {
     "name": "stdout",
     "output_type": "stream",
     "text": [
      "addition of number : 8\n"
     ]
    }
   ],
   "source": [
    "obj = calculator()\n",
    "obj.add(2,6)"
   ]
  },
  {
   "cell_type": "code",
   "execution_count": 24,
   "id": "a4dd9592",
   "metadata": {},
   "outputs": [
    {
     "name": "stdout",
     "output_type": "stream",
     "text": [
      "division of number : 100.0\n"
     ]
    }
   ],
   "source": [
    "obj.div(500,5)"
   ]
  },
  {
   "cell_type": "code",
   "execution_count": null,
   "id": "6935ec56",
   "metadata": {},
   "outputs": [],
   "source": []
  },
  {
   "cell_type": "code",
   "execution_count": 1,
   "id": "4aeaa761",
   "metadata": {},
   "outputs": [],
   "source": [
    "class ATM :\n",
    "    \n",
    "    \n",
    "    def __init__(self):\n",
    "        \n",
    "        self.pin = \" \"\n",
    "        self.balance = 0\n",
    "        \n",
    "        self.menu()\n",
    "        \n",
    "    def menu(self):\n",
    "        user_input = input(\"\"\"\n",
    "         Hellow , how would you like to proceed \n",
    "         1. Enter 1 to create pin \n",
    "         2. Enter 2 to deposite \n",
    "         3. Enter 3 to withdraw\n",
    "         4. Enter 4 to check balance \n",
    "         5. Enter 5 to Exit\n",
    "        \"\"\")\n",
    "        \n",
    "        if user_input == '1':\n",
    "            self.create_pin() \n",
    "        elif user_input == '2' :\n",
    "            self.deposit()\n",
    "        elif user_input == '3' :\n",
    "            self.withdraw()\n",
    "        elif user_input == '4' :\n",
    "            self.check_balance()\n",
    "        else:\n",
    "            print(\"exit\")\n",
    "    \n",
    "    def create_pin(self):\n",
    "        self.pin = input(\"Enter Your Pin : \")\n",
    "        print('Pin set successfully')\n",
    "        \n",
    "    def deposit(self):\n",
    "        temp = input(\"Enter Your Pin : \")\n",
    "        if temp == self.pin:\n",
    "            amount = int(input(\"Enter the Amount :\"))\n",
    "            self.balance = self.balance + amount\n",
    "            print(\"Deposited amount successfully\")\n",
    "        else:\n",
    "            print('Invalid Pin')\n",
    "            \n",
    "    def withdraw(self):\n",
    "        temp = input(\"Enter Your Pin : \")\n",
    "        if temp == self.pin:\n",
    "            amount = int(input(\"Enter the Amount :\"))\n",
    "            if amount <= self.balance :\n",
    "                self.balance = self.balance - amount\n",
    "                print(\"Withdraw amount successfully\")\n",
    "            else:\n",
    "                print(\"insufficent Balance \")\n",
    "        else:\n",
    "            print(\" Invaled Pin\")\n",
    "            \n",
    "    def check_balance(self):\n",
    "        temp = input(\"Enter Your Pin :\")\n",
    "        if temp == self.pin:\n",
    "            print(self.balance)\n",
    "        else:\n",
    "            print(\"invaled Pin\")\n",
    "            \n",
    "        \n",
    "        \n",
    "        \n",
    "        \n",
    "        "
   ]
  },
  {
   "cell_type": "code",
   "execution_count": 4,
   "id": "e4bbf371",
   "metadata": {},
   "outputs": [
    {
     "name": "stdout",
     "output_type": "stream",
     "text": [
      "\n",
      "         Hellow , how would you like to proceed \n",
      "         1. Enter 1 to create pin \n",
      "         2. Enter 2 to deposite \n",
      "         3. Enter 3 to withdraw\n",
      "         4. Enter 4 to check balance \n",
      "         5. Enter 5 to Exit\n",
      "        1\n",
      "Enter Your Pin : 1234\n",
      "Pin set successfully\n"
     ]
    }
   ],
   "source": [
    "hdfc = ATM()\n",
    "\n",
    "   "
   ]
  },
  {
   "cell_type": "code",
   "execution_count": 5,
   "id": "6407a083",
   "metadata": {},
   "outputs": [
    {
     "name": "stdout",
     "output_type": "stream",
     "text": [
      "Enter Your Pin : 1234\n",
      "Enter the Amount :10000\n",
      "Deposited amount successfully\n"
     ]
    }
   ],
   "source": [
    "hdfc.deposit()"
   ]
  },
  {
   "cell_type": "code",
   "execution_count": 6,
   "id": "c19fa83c",
   "metadata": {},
   "outputs": [
    {
     "name": "stdout",
     "output_type": "stream",
     "text": [
      "Enter Your Pin : 1234\n",
      "Enter the Amount :999\n",
      "Withdraw amount successfully\n"
     ]
    }
   ],
   "source": [
    "hdfc.withdraw(\n",
    ")"
   ]
  },
  {
   "cell_type": "code",
   "execution_count": 7,
   "id": "8c6287b3",
   "metadata": {},
   "outputs": [
    {
     "name": "stdout",
     "output_type": "stream",
     "text": [
      "Enter Your Pin :1234\n",
      "9001\n"
     ]
    }
   ],
   "source": [
    "hdfc.check_balance()"
   ]
  },
  {
   "cell_type": "code",
   "execution_count": null,
   "id": "d8ac7fcf",
   "metadata": {},
   "outputs": [],
   "source": []
  },
  {
   "cell_type": "code",
   "execution_count": null,
   "id": "14dd1dd5",
   "metadata": {},
   "outputs": [],
   "source": []
  },
  {
   "cell_type": "code",
   "execution_count": null,
   "id": "6a06232f",
   "metadata": {},
   "outputs": [],
   "source": []
  },
  {
   "cell_type": "markdown",
   "id": "c98987e4",
   "metadata": {},
   "source": []
  }
 ],
 "metadata": {
  "kernelspec": {
   "display_name": "Python 3 (ipykernel)",
   "language": "python",
   "name": "python3"
  },
  "language_info": {
   "codemirror_mode": {
    "name": "ipython",
    "version": 3
   },
   "file_extension": ".py",
   "mimetype": "text/x-python",
   "name": "python",
   "nbconvert_exporter": "python",
   "pygments_lexer": "ipython3",
   "version": "3.9.13"
  }
 },
 "nbformat": 4,
 "nbformat_minor": 5
}
