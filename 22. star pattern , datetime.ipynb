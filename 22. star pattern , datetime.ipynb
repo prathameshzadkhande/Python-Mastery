{
 "cells": [
  {
   "cell_type": "code",
   "execution_count": null,
   "id": "37792ded",
   "metadata": {},
   "outputs": [],
   "source": [
    "A\n",
    "A A \n",
    "A A A\n",
    "A A A A"
   ]
  },
  {
   "cell_type": "code",
   "execution_count": 2,
   "id": "185d08cf",
   "metadata": {},
   "outputs": [
    {
     "name": "stdout",
     "output_type": "stream",
     "text": [
      "\n",
      "A \n",
      "A A \n",
      "A A A \n",
      "A A A A \n"
     ]
    }
   ],
   "source": [
    "for i in range(5):\n",
    "    print(\"A \"*i)"
   ]
  },
  {
   "cell_type": "code",
   "execution_count": 3,
   "id": "a5ff62ad",
   "metadata": {},
   "outputs": [
    {
     "name": "stdout",
     "output_type": "stream",
     "text": [
      "A \n",
      "A A \n",
      "A A A \n",
      "A A A A \n"
     ]
    }
   ],
   "source": [
    "a=1\n",
    "while a<5:\n",
    "    print(\"A \"*a)\n",
    "    a+=1"
   ]
  },
  {
   "cell_type": "code",
   "execution_count": 4,
   "id": "cd6a2e92",
   "metadata": {},
   "outputs": [
    {
     "data": {
      "text/plain": [
       "'A'"
      ]
     },
     "execution_count": 4,
     "metadata": {},
     "output_type": "execute_result"
    }
   ],
   "source": [
    "chr(65)"
   ]
  },
  {
   "cell_type": "code",
   "execution_count": null,
   "id": "4e6454fd",
   "metadata": {},
   "outputs": [],
   "source": [
    "A \n",
    "B B\n",
    "C C C\n",
    "D D D D"
   ]
  },
  {
   "cell_type": "code",
   "execution_count": 11,
   "id": "bfefdf35",
   "metadata": {},
   "outputs": [
    {
     "name": "stdout",
     "output_type": "stream",
     "text": [
      "A \n",
      "B B \n",
      "C C C \n",
      "D D D D \n",
      "E E E E E \n"
     ]
    }
   ],
   "source": [
    "c=1\n",
    "for i in range(65,70):\n",
    "    print(f\"{chr(i)} \"*c)\n",
    "    c+=1"
   ]
  },
  {
   "cell_type": "code",
   "execution_count": 2,
   "id": "5c5615b1",
   "metadata": {},
   "outputs": [
    {
     "name": "stdout",
     "output_type": "stream",
     "text": [
      "A \n",
      "B B \n",
      "C C C \n",
      "D D D D \n",
      "E E E E E \n"
     ]
    }
   ],
   "source": [
    "a=65\n",
    "c=1\n",
    "while a<70:\n",
    "    print(f\"{chr(a)} \"*c)\n",
    "    c+=1\n",
    "    a+=1"
   ]
  },
  {
   "cell_type": "code",
   "execution_count": 5,
   "id": "97b9a99c",
   "metadata": {},
   "outputs": [
    {
     "name": "stdout",
     "output_type": "stream",
     "text": [
      "\n",
      "\n",
      "0 \n",
      "\n",
      "1 2 \n",
      "\n",
      "3 4 5 \n",
      "\n",
      "6 7 8 9 \n",
      "\n",
      "10 11 12 13 14 "
     ]
    }
   ],
   "source": [
    "c=0\n",
    "for i in range(1,6):\n",
    "    print(\"\\n\")\n",
    "    for j in range(i):\n",
    "        print(c,end=\" \")\n",
    "        c+=1"
   ]
  },
  {
   "cell_type": "code",
   "execution_count": 10,
   "id": "d6867eeb",
   "metadata": {},
   "outputs": [
    {
     "name": "stdout",
     "output_type": "stream",
     "text": [
      "\n",
      "\n",
      "A \n",
      "\n",
      "B C \n",
      "\n",
      "D E F \n",
      "\n",
      "G H I J \n",
      "\n",
      "K L M N O "
     ]
    }
   ],
   "source": [
    "a=65\n",
    "for i in range(1,6):\n",
    "    print(\"\\n\")\n",
    "    for j in range(i):\n",
    "        print(f\"{chr(a)}\",end=\" \")\n",
    "        a+=1"
   ]
  },
  {
   "cell_type": "code",
   "execution_count": 22,
   "id": "afa0689f",
   "metadata": {},
   "outputs": [
    {
     "name": "stdout",
     "output_type": "stream",
     "text": [
      "\n",
      "\n",
      "A \n",
      "\n",
      "B C \n",
      "\n",
      "D E F \n",
      "\n",
      "G H I J \n",
      "\n",
      "K L M N O "
     ]
    }
   ],
   "source": [
    "a=0\n",
    "c=65\n",
    "while a<5:\n",
    "    print(\"\\n\")\n",
    "    a+=1 \n",
    "    for i in range(a):\n",
    "        print(chr(c),end=\" \")\n",
    "        c+=1\n",
    "       \n",
    "        \n",
    "        "
   ]
  },
  {
   "cell_type": "code",
   "execution_count": 23,
   "id": "d5ec1557",
   "metadata": {},
   "outputs": [
    {
     "data": {
      "text/plain": [
       "'A'"
      ]
     },
     "execution_count": 23,
     "metadata": {},
     "output_type": "execute_result"
    }
   ],
   "source": [
    "chr(65)"
   ]
  },
  {
   "cell_type": "code",
   "execution_count": 24,
   "id": "13f84bb2",
   "metadata": {},
   "outputs": [
    {
     "data": {
      "text/plain": [
       "65"
      ]
     },
     "execution_count": 24,
     "metadata": {},
     "output_type": "execute_result"
    }
   ],
   "source": [
    "ord(\"A\")"
   ]
  },
  {
   "cell_type": "markdown",
   "id": "ad8f9204",
   "metadata": {},
   "source": [
    "#### Datetime"
   ]
  },
  {
   "cell_type": "code",
   "execution_count": 25,
   "id": "2a85ec5f",
   "metadata": {},
   "outputs": [],
   "source": [
    "import time\n",
    "import datetime"
   ]
  },
  {
   "cell_type": "code",
   "execution_count": 26,
   "id": "e8508469",
   "metadata": {},
   "outputs": [
    {
     "data": {
      "text/plain": [
       "['MAXYEAR',\n",
       " 'MINYEAR',\n",
       " '__all__',\n",
       " '__builtins__',\n",
       " '__cached__',\n",
       " '__doc__',\n",
       " '__file__',\n",
       " '__loader__',\n",
       " '__name__',\n",
       " '__package__',\n",
       " '__spec__',\n",
       " 'date',\n",
       " 'datetime',\n",
       " 'datetime_CAPI',\n",
       " 'sys',\n",
       " 'time',\n",
       " 'timedelta',\n",
       " 'timezone',\n",
       " 'tzinfo']"
      ]
     },
     "execution_count": 26,
     "metadata": {},
     "output_type": "execute_result"
    }
   ],
   "source": [
    "dir(datetime)"
   ]
  },
  {
   "cell_type": "code",
   "execution_count": 27,
   "id": "dbc0bd3d",
   "metadata": {},
   "outputs": [
    {
     "data": {
      "text/plain": [
       "['_STRUCT_TM_ITEMS',\n",
       " '__doc__',\n",
       " '__loader__',\n",
       " '__name__',\n",
       " '__package__',\n",
       " '__spec__',\n",
       " 'altzone',\n",
       " 'asctime',\n",
       " 'ctime',\n",
       " 'daylight',\n",
       " 'get_clock_info',\n",
       " 'gmtime',\n",
       " 'localtime',\n",
       " 'mktime',\n",
       " 'monotonic',\n",
       " 'monotonic_ns',\n",
       " 'perf_counter',\n",
       " 'perf_counter_ns',\n",
       " 'process_time',\n",
       " 'process_time_ns',\n",
       " 'sleep',\n",
       " 'strftime',\n",
       " 'strptime',\n",
       " 'struct_time',\n",
       " 'thread_time',\n",
       " 'thread_time_ns',\n",
       " 'time',\n",
       " 'time_ns',\n",
       " 'timezone',\n",
       " 'tzname']"
      ]
     },
     "execution_count": 27,
     "metadata": {},
     "output_type": "execute_result"
    }
   ],
   "source": [
    "dir(time)"
   ]
  },
  {
   "cell_type": "markdown",
   "id": "e9bb5d50",
   "metadata": {},
   "source": [
    "#### 1.time.time"
   ]
  },
  {
   "cell_type": "code",
   "execution_count": 28,
   "id": "bd48e99d",
   "metadata": {},
   "outputs": [
    {
     "data": {
      "text/plain": [
       "1693645904.1747386"
      ]
     },
     "execution_count": 28,
     "metadata": {},
     "output_type": "execute_result"
    }
   ],
   "source": [
    "time.time()"
   ]
  },
  {
   "cell_type": "code",
   "execution_count": null,
   "id": "753389f3",
   "metadata": {},
   "outputs": [],
   "source": [
    "absolute time >> it is measure from fixed point (1st jan 1970)"
   ]
  },
  {
   "cell_type": "code",
   "execution_count": 29,
   "id": "cd35ee49",
   "metadata": {},
   "outputs": [],
   "source": [
    "import time"
   ]
  },
  {
   "cell_type": "code",
   "execution_count": 30,
   "id": "da030e8f",
   "metadata": {},
   "outputs": [
    {
     "data": {
      "text/plain": [
       "1693645978.091491"
      ]
     },
     "execution_count": 30,
     "metadata": {},
     "output_type": "execute_result"
    }
   ],
   "source": [
    "time.time()"
   ]
  },
  {
   "cell_type": "code",
   "execution_count": 40,
   "id": "2e80e7a5",
   "metadata": {},
   "outputs": [
    {
     "name": "stdout",
     "output_type": "stream",
     "text": [
      "1693646259.4810236\n",
      "0\n",
      "1\n",
      "2\n",
      "3\n",
      "4\n",
      "5\n",
      "6\n",
      "7\n",
      "8\n",
      "9\n",
      "1693646259.4817405\n",
      "execution time  : 0.0007169246673583984\n"
     ]
    }
   ],
   "source": [
    "t=time.time()\n",
    "print(t)\n",
    "for i in range (10):\n",
    "    print(i)\n",
    "print(time.time())\n",
    "print(\"execution time  :\",time.time()-t)\n"
   ]
  },
  {
   "cell_type": "code",
   "execution_count": 41,
   "id": "cc76c83f",
   "metadata": {},
   "outputs": [
    {
     "name": "stdout",
     "output_type": "stream",
     "text": [
      "1693646259.4810236\n",
      "0\n",
      "1\n",
      "2\n",
      "3\n",
      "4\n",
      "1693646351.1000137\n",
      "execution time  : 0.001302480697631836\n"
     ]
    }
   ],
   "source": [
    "start_time=time.time()\n",
    "print(t)\n",
    "i=0\n",
    "while i<5:\n",
    "    print(i)\n",
    "    i+=1\n",
    "end_time=time.time()\n",
    "print(end_time)\n",
    "print(\"execution time  :\",end_time-start_time) #8:15-8:27=12min"
   ]
  },
  {
   "cell_type": "markdown",
   "id": "f6136d8a",
   "metadata": {},
   "source": [
    "#### 2. time.ctime()"
   ]
  },
  {
   "cell_type": "code",
   "execution_count": 42,
   "id": "1a8080d5",
   "metadata": {},
   "outputs": [
    {
     "ename": "SyntaxError",
     "evalue": "invalid syntax (27791241.py, line 1)",
     "output_type": "error",
     "traceback": [
      "\u001b[1;36m  File \u001b[1;32m\"C:\\Users\\prath\\AppData\\Local\\Temp\\ipykernel_9608\\27791241.py\"\u001b[1;36m, line \u001b[1;32m1\u001b[0m\n\u001b[1;33m    it will retrun the current time but it requires the argument as second\u001b[0m\n\u001b[1;37m       ^\u001b[0m\n\u001b[1;31mSyntaxError\u001b[0m\u001b[1;31m:\u001b[0m invalid syntax\n"
     ]
    }
   ],
   "source": [
    "it will retrun the current time but it requires the argument as second\n",
    "syntax > time.ctime()"
   ]
  },
  {
   "cell_type": "code",
   "execution_count": 1,
   "id": "dbd7e149",
   "metadata": {
    "scrolled": true
   },
   "outputs": [
    {
     "name": "stdout",
     "output_type": "stream",
     "text": [
      "1693647022.4816265\n"
     ]
    }
   ],
   "source": [
    "import time\n",
    "time = time.time()\n",
    "print(time)"
   ]
  },
  {
   "cell_type": "code",
   "execution_count": 3,
   "id": "4c4d8f3e",
   "metadata": {},
   "outputs": [
    {
     "data": {
      "text/plain": [
       "'Sat Sep  2 14:59:20 2023'"
      ]
     },
     "execution_count": 3,
     "metadata": {},
     "output_type": "execute_result"
    }
   ],
   "source": [
    "import time\n",
    "time.ctime(1693646960.97989)"
   ]
  },
  {
   "cell_type": "code",
   "execution_count": 4,
   "id": "7eb8ed62",
   "metadata": {},
   "outputs": [
    {
     "data": {
      "text/plain": [
       "'Thu Jan  1 05:30:00 1970'"
      ]
     },
     "execution_count": 4,
     "metadata": {},
     "output_type": "execute_result"
    }
   ],
   "source": [
    "time.ctime(0)"
   ]
  },
  {
   "cell_type": "markdown",
   "id": "a1de3494",
   "metadata": {},
   "source": [
    "#### 3. time.localtime()"
   ]
  },
  {
   "cell_type": "code",
   "execution_count": null,
   "id": "2163f695",
   "metadata": {},
   "outputs": [],
   "source": [
    "it will return the local time but in different way\n",
    "it also requires arguments as second \n",
    "syntax > time.localtime(second)"
   ]
  },
  {
   "cell_type": "code",
   "execution_count": 6,
   "id": "9ee633b5",
   "metadata": {},
   "outputs": [
    {
     "data": {
      "text/plain": [
       "time.struct_time(tm_year=2023, tm_mon=9, tm_mday=2, tm_hour=14, tm_min=59, tm_sec=20, tm_wday=5, tm_yday=245, tm_isdst=0)"
      ]
     },
     "execution_count": 6,
     "metadata": {},
     "output_type": "execute_result"
    }
   ],
   "source": [
    "time.localtime(1693646960.97989)"
   ]
  },
  {
   "cell_type": "markdown",
   "id": "9176c43c",
   "metadata": {},
   "source": [
    "#### 4. time.pref_counter()"
   ]
  },
  {
   "cell_type": "code",
   "execution_count": null,
   "id": "2afcf1f5",
   "metadata": {},
   "outputs": [],
   "source": [
    "relative time > it has no relation between real world time \n",
    "> return from current time\n",
    "time.time() give second from UTC 1970"
   ]
  },
  {
   "cell_type": "code",
   "execution_count": 7,
   "id": "1b0aa0e3",
   "metadata": {},
   "outputs": [
    {
     "name": "stdout",
     "output_type": "stream",
     "text": [
      "start_time : 1693647679.0692313\n",
      "end time : 1693647679.087499\n",
      "execution time : 0.01826763153076172\n"
     ]
    }
   ],
   "source": [
    "def get_test_time():\n",
    "    for i in range(100000):\n",
    "        pass\n",
    "\n",
    "start_time=time.time()\n",
    "print(\"start_time :\",start_time)\n",
    "get_test_time()\n",
    "end_time=time.time()\n",
    "\n",
    "print(\"end time :\",end_time)\n",
    "print(\"execution time :\",end_time-start_time)"
   ]
  },
  {
   "cell_type": "code",
   "execution_count": 8,
   "id": "c0be53e8",
   "metadata": {},
   "outputs": [
    {
     "name": "stdout",
     "output_type": "stream",
     "text": [
      "start_time : 675.5327814\n",
      "end time : 675.5368365\n",
      "execution time : 0.004055100000073253\n"
     ]
    }
   ],
   "source": [
    "def get_test_time():\n",
    "    for i in range(100000):\n",
    "        pass\n",
    "\n",
    "start_time=time.perf_counter()\n",
    "print(\"start_time :\",start_time)\n",
    "get_test_time()\n",
    "end_time=time.perf_counter()\n",
    "\n",
    "print(\"end time :\",end_time)\n",
    "print(\"execution time :\",end_time-start_time)"
   ]
  },
  {
   "cell_type": "markdown",
   "id": "badffe2e",
   "metadata": {},
   "source": [
    "#### 3. time>sleep()"
   ]
  },
  {
   "cell_type": "code",
   "execution_count": null,
   "id": "42544b67",
   "metadata": {},
   "outputs": [],
   "source": [
    "it will suspent operation for time we give to this function\n",
    "5 sec > time.sleep(5)\n"
   ]
  },
  {
   "cell_type": "code",
   "execution_count": 11,
   "id": "5bfe9ab5",
   "metadata": {},
   "outputs": [
    {
     "name": "stdout",
     "output_type": "stream",
     "text": [
      "Hii ! \n",
      "Prathamesh\n"
     ]
    }
   ],
   "source": [
    "print(\"Hii ! \")\n",
    "time.sleep(10)\n",
    "print(\"Prathamesh\")"
   ]
  },
  {
   "cell_type": "code",
   "execution_count": null,
   "id": "802052d0",
   "metadata": {},
   "outputs": [],
   "source": []
  },
  {
   "cell_type": "code",
   "execution_count": null,
   "id": "c19d2d14",
   "metadata": {},
   "outputs": [],
   "source": []
  },
  {
   "cell_type": "code",
   "execution_count": null,
   "id": "2d42991e",
   "metadata": {},
   "outputs": [],
   "source": []
  },
  {
   "cell_type": "code",
   "execution_count": null,
   "id": "3aa9e515",
   "metadata": {},
   "outputs": [],
   "source": []
  },
  {
   "cell_type": "code",
   "execution_count": null,
   "id": "a47129e5",
   "metadata": {},
   "outputs": [],
   "source": []
  },
  {
   "cell_type": "code",
   "execution_count": null,
   "id": "43c8d0b7",
   "metadata": {},
   "outputs": [],
   "source": []
  },
  {
   "cell_type": "code",
   "execution_count": null,
   "id": "8228f09e",
   "metadata": {},
   "outputs": [],
   "source": []
  },
  {
   "cell_type": "code",
   "execution_count": null,
   "id": "3807c982",
   "metadata": {},
   "outputs": [],
   "source": []
  }
 ],
 "metadata": {
  "kernelspec": {
   "display_name": "Python 3 (ipykernel)",
   "language": "python",
   "name": "python3"
  },
  "language_info": {
   "codemirror_mode": {
    "name": "ipython",
    "version": 3
   },
   "file_extension": ".py",
   "mimetype": "text/x-python",
   "name": "python",
   "nbconvert_exporter": "python",
   "pygments_lexer": "ipython3",
   "version": "3.9.13"
  }
 },
 "nbformat": 4,
 "nbformat_minor": 5
}
