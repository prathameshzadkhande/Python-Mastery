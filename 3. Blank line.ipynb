{
 "cells": [
  {
   "cell_type": "code",
   "execution_count": 1,
   "id": "912265ce",
   "metadata": {},
   "outputs": [],
   "source": [
    "# How to Remove blank line present in string\n",
    "str1 = '''Machine learning is popular in past years\n",
    "Machine learning is sub field of Artificial intelligance\n",
    "\n",
    "we can create a projects using ml and ai'''"
   ]
  },
  {
   "cell_type": "code",
   "execution_count": 2,
   "id": "defe8375",
   "metadata": {},
   "outputs": [
    {
     "name": "stdout",
     "output_type": "stream",
     "text": [
      "Machine learning is popular in past years\n",
      "Machine learning is sub field of Artificial intelligance\n",
      "\n",
      "we can create a projects using ml and ai\n"
     ]
    }
   ],
   "source": [
    "print(str1)"
   ]
  },
  {
   "cell_type": "code",
   "execution_count": 14,
   "id": "f13cbfda",
   "metadata": {},
   "outputs": [],
   "source": [
    "# to remove blank lines we use .split() and join()\n",
    "a =str1.split()"
   ]
  },
  {
   "cell_type": "code",
   "execution_count": 5,
   "id": "5eda55f0",
   "metadata": {},
   "outputs": [
    {
     "data": {
      "text/plain": [
       "'Machine learning is popular in past years Machine learning is sub field of Artificial intelligance we can create a projects using ml and ai'"
      ]
     },
     "execution_count": 5,
     "metadata": {},
     "output_type": "execute_result"
    }
   ],
   "source": [
    "\" \".join(a)"
   ]
  },
  {
   "cell_type": "code",
   "execution_count": 6,
   "id": "b719ef6f",
   "metadata": {},
   "outputs": [
    {
     "name": "stdout",
     "output_type": "stream",
     "text": [
      "Machine learning is popular in past years\n",
      "Machine learning is sub field of Artificial intelligance\n",
      "\n",
      "we can create a projects using ml and ai\n"
     ]
    }
   ],
   "source": [
    "print(str1)"
   ]
  },
  {
   "cell_type": "code",
   "execution_count": 11,
   "id": "c072abfc",
   "metadata": {},
   "outputs": [
    {
     "data": {
      "text/plain": [
       "'Machine learning is popular in past years\\nMachine learning is sub field of Artificial intelligance\\n\\nwe can create a projects using ml and ai'"
      ]
     },
     "execution_count": 11,
     "metadata": {},
     "output_type": "execute_result"
    }
   ],
   "source": [
    "str1.replace(\"/n\",\" \")"
   ]
  },
  {
   "cell_type": "code",
   "execution_count": 12,
   "id": "408543fd",
   "metadata": {},
   "outputs": [
    {
     "name": "stdout",
     "output_type": "stream",
     "text": [
      "Machine learning is popular in past years\n",
      "Machine learning is sub field of Artificial intelligance\n",
      "\n",
      "we can create a projects using ml and ai\n"
     ]
    }
   ],
   "source": [
    "print(str1)"
   ]
  },
  {
   "cell_type": "code",
   "execution_count": 17,
   "id": "7bc22278",
   "metadata": {},
   "outputs": [
    {
     "data": {
      "text/plain": [
       "'Deep learning is popular in past years\\nDeep learning is sub field of Artificial intelligance\\n\\nwe can create a projects using ml and ai'"
      ]
     },
     "execution_count": 17,
     "metadata": {},
     "output_type": "execute_result"
    }
   ],
   "source": [
    "str1.replace(\"Machine\",\"Deep\")"
   ]
  },
  {
   "cell_type": "code",
   "execution_count": 15,
   "id": "731845c3",
   "metadata": {},
   "outputs": [
    {
     "data": {
      "text/plain": [
       "['Machine',\n",
       " 'learning',\n",
       " 'is',\n",
       " 'popular',\n",
       " 'in',\n",
       " 'past',\n",
       " 'years',\n",
       " 'Machine',\n",
       " 'learning',\n",
       " 'is',\n",
       " 'sub',\n",
       " 'field',\n",
       " 'of',\n",
       " 'Artificial',\n",
       " 'intelligance',\n",
       " 'we',\n",
       " 'can',\n",
       " 'create',\n",
       " 'a',\n",
       " 'projects',\n",
       " 'using',\n",
       " 'ml',\n",
       " 'and',\n",
       " 'ai']"
      ]
     },
     "execution_count": 15,
     "metadata": {},
     "output_type": "execute_result"
    }
   ],
   "source": [
    "str1.split()"
   ]
  },
  {
   "cell_type": "code",
   "execution_count": 18,
   "id": "a517166a",
   "metadata": {},
   "outputs": [
    {
     "data": {
      "text/plain": [
       "'00000Cloud'"
      ]
     },
     "execution_count": 18,
     "metadata": {},
     "output_type": "execute_result"
    }
   ],
   "source": [
    "# zfill()\n",
    "l1 = \"Cloud\"\n",
    "l1.zfill(10)"
   ]
  },
  {
   "cell_type": "code",
   "execution_count": 20,
   "id": "c0efd46f",
   "metadata": {},
   "outputs": [
    {
     "data": {
      "text/plain": [
       "'___Pratham____'"
      ]
     },
     "execution_count": 20,
     "metadata": {},
     "output_type": "execute_result"
    }
   ],
   "source": [
    "# Center\n",
    "l2 = \"Pratham\"\n",
    "l2.center(14,\"_\")"
   ]
  },
  {
   "cell_type": "code",
   "execution_count": 22,
   "id": "e2ff6c6a",
   "metadata": {},
   "outputs": [
    {
     "data": {
      "text/plain": [
       "'       Pratham        '"
      ]
     },
     "execution_count": 22,
     "metadata": {},
     "output_type": "execute_result"
    }
   ],
   "source": [
    "l2.center(22)"
   ]
  },
  {
   "cell_type": "code",
   "execution_count": 24,
   "id": "b3001731",
   "metadata": {},
   "outputs": [
    {
     "data": {
      "text/plain": [
       "'99Pratham99'"
      ]
     },
     "execution_count": 24,
     "metadata": {},
     "output_type": "execute_result"
    }
   ],
   "source": [
    "l2.center(11,\"9\")"
   ]
  },
  {
   "cell_type": "code",
   "execution_count": null,
   "id": "7e137370",
   "metadata": {},
   "outputs": [],
   "source": [
    "# if Else Statement\n",
    "a =  int(input(\"Enter your No a >>\"))\n",
    "\n",
    "b =  int(input(\"Enter your No b >>\"))\n",
    "\n"
   ]
  },
  {
   "cell_type": "code",
   "execution_count": null,
   "id": "7c053b84",
   "metadata": {},
   "outputs": [],
   "source": []
  }
 ],
 "metadata": {
  "kernelspec": {
   "display_name": "Python 3 (ipykernel)",
   "language": "python",
   "name": "python3"
  },
  "language_info": {
   "codemirror_mode": {
    "name": "ipython",
    "version": 3
   },
   "file_extension": ".py",
   "mimetype": "text/x-python",
   "name": "python",
   "nbconvert_exporter": "python",
   "pygments_lexer": "ipython3",
   "version": "3.9.13"
  }
 },
 "nbformat": 4,
 "nbformat_minor": 5
}
