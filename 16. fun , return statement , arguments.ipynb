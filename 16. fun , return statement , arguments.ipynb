{
 "cells": [
  {
   "cell_type": "markdown",
   "id": "31a5db71",
   "metadata": {},
   "source": [
    "#### Function"
   ]
  },
  {
   "cell_type": "code",
   "execution_count": null,
   "id": "a1bd1a8b",
   "metadata": {},
   "outputs": [],
   "source": [
    "1. it is user define function\n",
    "2. Function are organized block of reusable code\n",
    "3. it will rexecute only when we call it explecity\n",
    "4. def >> define \n",
    "5.def function_name(parameter): # defining a function\n",
    "    statement-1\n",
    "    statement-2\n",
    "    return output\n",
    "6.function_name(argument) # calling a function"
   ]
  },
  {
   "cell_type": "code",
   "execution_count": 1,
   "id": "5db9b2e8",
   "metadata": {
    "collapsed": true
   },
   "outputs": [
    {
     "ename": "SyntaxError",
     "evalue": "invalid syntax (4247617178.py, line 1)",
     "output_type": "error",
     "traceback": [
      "\u001b[1;36m  File \u001b[1;32m\"C:\\Users\\prath\\AppData\\Local\\Temp\\ipykernel_21892\\4247617178.py\"\u001b[1;36m, line \u001b[1;32m1\u001b[0m\n\u001b[1;33m    1.A parameter is the variable listed inside the parentheses in the function definition.\u001b[0m\n\u001b[1;37m      ^\u001b[0m\n\u001b[1;31mSyntaxError\u001b[0m\u001b[1;31m:\u001b[0m invalid syntax\n"
     ]
    }
   ],
   "source": [
    "1.A parameter is the variable listed inside the parentheses in the function definition.\n",
    "2.An argument is the value that are sent to the function when it is called."
   ]
  },
  {
   "cell_type": "code",
   "execution_count": null,
   "id": "1fbcb228",
   "metadata": {},
   "outputs": [],
   "source": [
    "argument>>1.variable or value which is passes to the function\n",
    "          2.whenever we are defining function a,b are called as parameter\n",
    "          3.whenever we are calling function A,B are called as positional argument"
   ]
  },
  {
   "cell_type": "code",
   "execution_count": 2,
   "id": "725c9613",
   "metadata": {},
   "outputs": [],
   "source": [
    "def add(a,b):\n",
    "    ad=a+b\n",
    "    return ad"
   ]
  },
  {
   "cell_type": "code",
   "execution_count": 3,
   "id": "d5e54b28",
   "metadata": {},
   "outputs": [
    {
     "data": {
      "text/plain": [
       "31"
      ]
     },
     "execution_count": 3,
     "metadata": {},
     "output_type": "execute_result"
    }
   ],
   "source": [
    "add(14,17)"
   ]
  },
  {
   "cell_type": "code",
   "execution_count": 4,
   "id": "46bd6a50",
   "metadata": {},
   "outputs": [],
   "source": [
    "def mult(a,b,c,d):\n",
    "    return a*b*c*d"
   ]
  },
  {
   "cell_type": "code",
   "execution_count": 5,
   "id": "523c016c",
   "metadata": {},
   "outputs": [
    {
     "data": {
      "text/plain": [
       "55650"
      ]
     },
     "execution_count": 5,
     "metadata": {},
     "output_type": "execute_result"
    }
   ],
   "source": [
    "mult(3,5,742,5)"
   ]
  },
  {
   "cell_type": "code",
   "execution_count": 6,
   "id": "d4395653",
   "metadata": {},
   "outputs": [],
   "source": [
    "def sq(a):\n",
    "    return a*a"
   ]
  },
  {
   "cell_type": "code",
   "execution_count": 7,
   "id": "62f2f09b",
   "metadata": {},
   "outputs": [
    {
     "data": {
      "text/plain": [
       "25"
      ]
     },
     "execution_count": 7,
     "metadata": {},
     "output_type": "execute_result"
    }
   ],
   "source": [
    "sq (5)"
   ]
  },
  {
   "cell_type": "code",
   "execution_count": 8,
   "id": "468c5ca0",
   "metadata": {},
   "outputs": [],
   "source": [
    "def cube(b):\n",
    "    return b*b*b"
   ]
  },
  {
   "cell_type": "code",
   "execution_count": 9,
   "id": "c03961b7",
   "metadata": {},
   "outputs": [
    {
     "data": {
      "text/plain": [
       "216"
      ]
     },
     "execution_count": 9,
     "metadata": {},
     "output_type": "execute_result"
    }
   ],
   "source": [
    "cube(6)"
   ]
  },
  {
   "cell_type": "markdown",
   "id": "635a673e",
   "metadata": {},
   "source": [
    "#### Return Statement"
   ]
  },
  {
   "cell_type": "code",
   "execution_count": 10,
   "id": "7c3de1d4",
   "metadata": {
    "collapsed": true
   },
   "outputs": [
    {
     "ename": "SyntaxError",
     "evalue": "invalid syntax (1092373289.py, line 1)",
     "output_type": "error",
     "traceback": [
      "\u001b[1;36m  File \u001b[1;32m\"C:\\Users\\prath\\AppData\\Local\\Temp\\ipykernel_21892\\1092373289.py\"\u001b[1;36m, line \u001b[1;32m1\u001b[0m\n\u001b[1;33m    It is use at the end of the function\u001b[0m\n\u001b[1;37m              ^\u001b[0m\n\u001b[1;31mSyntaxError\u001b[0m\u001b[1;31m:\u001b[0m invalid syntax\n"
     ]
    }
   ],
   "source": [
    "It is use at the end of the function\n",
    "we can return multiple output"
   ]
  },
  {
   "cell_type": "code",
   "execution_count": null,
   "id": "214f127b",
   "metadata": {},
   "outputs": [],
   "source": [
    "A return statement is used to end the execution of the function call and “returns” the result\n",
    "(value of the expression following the return keyword) to the caller. The statements after the\n",
    "return statements are not executed. If the return statement is without any expression, then the\n",
    "special value None is returned. A return statement is overall used to invoke a function so that \n",
    "the passed statements can be executed."
   ]
  },
  {
   "cell_type": "code",
   "execution_count": null,
   "id": "ecdc5b2e",
   "metadata": {},
   "outputs": [],
   "source": [
    "create a function to find first five number and last five numbers square "
   ]
  },
  {
   "cell_type": "code",
   "execution_count": 7,
   "id": "9ab60156",
   "metadata": {},
   "outputs": [],
   "source": [
    "def square():\n",
    "    start=int(input(\"Enter the starting Range :\"))\n",
    "    end = int(input(\"Enter the Ending Range :\"))\n",
    "    for i in range(start,end):\n",
    "        l1=[i*i for i in range(start,start+5)]\n",
    "        l2=[i*i for i in range(end-5,end)]\n",
    "        l1.extend(l2)\n",
    "        return l1\n",
    "    "
   ]
  },
  {
   "cell_type": "code",
   "execution_count": 8,
   "id": "49d21fe7",
   "metadata": {},
   "outputs": [
    {
     "name": "stdout",
     "output_type": "stream",
     "text": [
      "Enter the starting Range :2\n",
      "Enter the Ending Range :20\n"
     ]
    },
    {
     "data": {
      "text/plain": [
       "[4, 9, 16, 25, 36, 225, 256, 289, 324, 361]"
      ]
     },
     "execution_count": 8,
     "metadata": {},
     "output_type": "execute_result"
    }
   ],
   "source": [
    "square()"
   ]
  },
  {
   "cell_type": "markdown",
   "id": "e2df4064",
   "metadata": {},
   "source": [
    "#### Types of Arguments"
   ]
  },
  {
   "cell_type": "code",
   "execution_count": null,
   "id": "570581ed",
   "metadata": {},
   "outputs": [],
   "source": [
    "1.positional argument\n",
    "2.default argument \n",
    "3.arbitrary arg/arbitrary positional arg/variable length arg\n",
    "4.arbitrary keyword argument"
   ]
  },
  {
   "cell_type": "markdown",
   "id": "90327ea1",
   "metadata": {},
   "source": [
    "#### Positional Arguments"
   ]
  },
  {
   "cell_type": "code",
   "execution_count": null,
   "id": "f35480cb",
   "metadata": {},
   "outputs": [],
   "source": [
    "1.positional Argument>>number of arg==number of parameter\n",
    ">>arg that we pass to the function should be in correct positional order"
   ]
  },
  {
   "cell_type": "code",
   "execution_count": 9,
   "id": "9c479b99",
   "metadata": {},
   "outputs": [],
   "source": [
    "def show(a,b):\n",
    "    print(\"a :\",a,\"b :\",b)"
   ]
  },
  {
   "cell_type": "code",
   "execution_count": 10,
   "id": "889d7d48",
   "metadata": {},
   "outputs": [
    {
     "name": "stdout",
     "output_type": "stream",
     "text": [
      "a : 5 b : 11\n"
     ]
    }
   ],
   "source": [
    "show(5,11)"
   ]
  },
  {
   "cell_type": "markdown",
   "id": "bb0a5abf",
   "metadata": {},
   "source": [
    "#### Default Arguments"
   ]
  },
  {
   "cell_type": "code",
   "execution_count": 13,
   "id": "9da77390",
   "metadata": {},
   "outputs": [],
   "source": [
    "def even(n1,n2=2):\n",
    "    j = [i*n2 for i in range(1,n1+1)]\n",
    "    return j"
   ]
  },
  {
   "cell_type": "code",
   "execution_count": 14,
   "id": "5faf26f2",
   "metadata": {},
   "outputs": [
    {
     "data": {
      "text/plain": [
       "[2, 4, 6, 8, 10, 12, 14]"
      ]
     },
     "execution_count": 14,
     "metadata": {},
     "output_type": "execute_result"
    }
   ],
   "source": [
    "even(7)"
   ]
  },
  {
   "cell_type": "code",
   "execution_count": null,
   "id": "9b4fad32",
   "metadata": {},
   "outputs": [],
   "source": [
    "pin1 (function ) yes/no >>>door1>>pin2 (function) open the app door2 >>>diferent account application"
   ]
  },
  {
   "cell_type": "code",
   "execution_count": 15,
   "id": "d7eb7c59",
   "metadata": {},
   "outputs": [
    {
     "ename": "SyntaxError",
     "evalue": "non-default argument follows default argument (3039345464.py, line 1)",
     "output_type": "error",
     "traceback": [
      "\u001b[1;36m  File \u001b[1;32m\"C:\\Users\\prath\\AppData\\Local\\Temp\\ipykernel_16124\\3039345464.py\"\u001b[1;36m, line \u001b[1;32m1\u001b[0m\n\u001b[1;33m    def multiplication(n1,n2=10,n3):\u001b[0m\n\u001b[1;37m                                  ^\u001b[0m\n\u001b[1;31mSyntaxError\u001b[0m\u001b[1;31m:\u001b[0m non-default argument follows default argument\n"
     ]
    }
   ],
   "source": [
    "def multiplication(n1,n2=10,n3):\n",
    "    mul=n1*n2*n3\n",
    "    print(mul)\n",
    "    return mul"
   ]
  },
  {
   "cell_type": "code",
   "execution_count": 16,
   "id": "1da0dcbe",
   "metadata": {},
   "outputs": [],
   "source": [
    "def multiplication(n1,n2,n3=11):\n",
    "    mul=n1*n2*n3\n",
    "    print(mul)\n",
    "    return mul"
   ]
  },
  {
   "cell_type": "code",
   "execution_count": 17,
   "id": "bd04bcef",
   "metadata": {},
   "outputs": [
    {
     "name": "stdout",
     "output_type": "stream",
     "text": [
      "66\n"
     ]
    },
    {
     "data": {
      "text/plain": [
       "66"
      ]
     },
     "execution_count": 17,
     "metadata": {},
     "output_type": "execute_result"
    }
   ],
   "source": [
    "multiplication(2,3)"
   ]
  },
  {
   "cell_type": "code",
   "execution_count": 3,
   "id": "ed353cb3",
   "metadata": {},
   "outputs": [
    {
     "name": "stdout",
     "output_type": "stream",
     "text": [
      "Enter the factorial5\n",
      "120\n"
     ]
    }
   ],
   "source": [
    "n=int(input(\"Enter the factorial\"))\n",
    "a=1\n",
    "for i in range(1,n+1):\n",
    "    a*=i\n",
    "    \n",
    "print(a)"
   ]
  },
  {
   "cell_type": "code",
   "execution_count": 4,
   "id": "b27b98d0",
   "metadata": {},
   "outputs": [],
   "source": [
    "def factorial(a):\n",
    "    b=1\n",
    "    for i in range(1,a+1):\n",
    "        b*=i\n",
    "    return b"
   ]
  },
  {
   "cell_type": "code",
   "execution_count": 5,
   "id": "e419045b",
   "metadata": {},
   "outputs": [
    {
     "data": {
      "text/plain": [
       "120"
      ]
     },
     "execution_count": 5,
     "metadata": {},
     "output_type": "execute_result"
    }
   ],
   "source": [
    "factorial(5)"
   ]
  },
  {
   "cell_type": "code",
   "execution_count": null,
   "id": "56447225",
   "metadata": {},
   "outputs": [],
   "source": []
  }
 ],
 "metadata": {
  "kernelspec": {
   "display_name": "Python 3 (ipykernel)",
   "language": "python",
   "name": "python3"
  },
  "language_info": {
   "codemirror_mode": {
    "name": "ipython",
    "version": 3
   },
   "file_extension": ".py",
   "mimetype": "text/x-python",
   "name": "python",
   "nbconvert_exporter": "python",
   "pygments_lexer": "ipython3",
   "version": "3.9.13"
  }
 },
 "nbformat": 4,
 "nbformat_minor": 5
}
