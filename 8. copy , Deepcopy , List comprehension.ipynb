{
 "cells": [
  {
   "cell_type": "code",
   "execution_count": 3,
   "id": "c290133f",
   "metadata": {},
   "outputs": [
    {
     "data": {
      "text/plain": [
       "[1, 2, 4, 5, 6]"
      ]
     },
     "execution_count": 3,
     "metadata": {},
     "output_type": "execute_result"
    }
   ],
   "source": [
    "# copy()\n",
    "l1= [1,2,4,5,6]\n",
    "l2=l1.copy()\n",
    "l2"
   ]
  },
  {
   "cell_type": "code",
   "execution_count": 9,
   "id": "90d8a976",
   "metadata": {},
   "outputs": [
    {
     "name": "stdout",
     "output_type": "stream",
     "text": [
      "[1, 2, 4, 5, 6, 2, 2, 2, 2, 2]\n",
      "[1, 2, 4, 5, 6]\n"
     ]
    }
   ],
   "source": [
    "l2.append(2)\n",
    "print(l2)\n",
    "print(l1)"
   ]
  },
  {
   "cell_type": "code",
   "execution_count": 13,
   "id": "84b075de",
   "metadata": {},
   "outputs": [
    {
     "name": "stdout",
     "output_type": "stream",
     "text": [
      "[1, 2, 4, 5, 6, 'Gujrat']\n",
      "[1, 2, 4, 5, 6]\n"
     ]
    }
   ],
   "source": [
    "c1=[1,2,4,5,6]\n",
    "c2=c1.copy()\n",
    "c1.append(\"Gujrat\")\n",
    "print(c1)\n",
    "print(c2)"
   ]
  },
  {
   "cell_type": "code",
   "execution_count": 14,
   "id": "ee03f618",
   "metadata": {},
   "outputs": [
    {
     "name": "stdout",
     "output_type": "stream",
     "text": [
      "[1, 2, 4, 5, 6, 'Gujrat']\n",
      "[1, 2, 4, 5, 6]\n"
     ]
    }
   ],
   "source": [
    "c1=[1,2,4,5,6]\n",
    "c2=c1.copy()\n",
    "c1.append(\"Gujrat\")\n",
    "print(c1)\n",
    "print(c2)"
   ]
  },
  {
   "cell_type": "code",
   "execution_count": 15,
   "id": "384dad0d",
   "metadata": {},
   "outputs": [],
   "source": [
    "# Deepcopy\n",
    "import copy"
   ]
  },
  {
   "cell_type": "code",
   "execution_count": 18,
   "id": "9f4e51e2",
   "metadata": {},
   "outputs": [
    {
     "name": "stdout",
     "output_type": "stream",
     "text": [
      "[1, 2, 4, 5, 6, 'Gujrat']\n"
     ]
    }
   ],
   "source": [
    "c3 = copy.deepcopy(c1)\n",
    "print(c3)"
   ]
  },
  {
   "cell_type": "code",
   "execution_count": 19,
   "id": "4085ec26",
   "metadata": {},
   "outputs": [
    {
     "name": "stdout",
     "output_type": "stream",
     "text": [
      "[2, 4, 6, 8, 10, 12, 14, 16, 18, 20, 22, 24, 26, 28, 30, 32, 34, 36, 38, 40, 42, 44, 46, 48, 50, 52, 54, 56, 58, 60, 62, 64, 66, 68, 70, 72, 74, 76, 78, 80, 82, 84, 86, 88, 90, 92, 94, 96, 98, 100]\n"
     ]
    }
   ],
   "source": [
    "# find even numbers\n",
    "c1=[]\n",
    "for i in range(1,101):\n",
    "    if i%2==0:\n",
    "        c1.append(i)\n",
    "print(c1)"
   ]
  },
  {
   "cell_type": "code",
   "execution_count": 23,
   "id": "ccf38dac",
   "metadata": {},
   "outputs": [
    {
     "name": "stdout",
     "output_type": "stream",
     "text": [
      "[2, 4, 6, 8, 10, 12, 14, 16, 18, 20, 22, 24, 26, 28, 30, 32, 34, 36, 38, 40, 42, 44, 46, 48, 50, 52, 54]\n"
     ]
    }
   ],
   "source": [
    "# using list comprihension\n",
    "c2=[i for i in range(1,55) if i%2==0 ]\n",
    "print(c2)"
   ]
  },
  {
   "cell_type": "code",
   "execution_count": 26,
   "id": "b2bc2912",
   "metadata": {},
   "outputs": [
    {
     "name": "stdout",
     "output_type": "stream",
     "text": [
      "[1, 3, 5, 7, 9, 11, 13, 15, 17, 19, 21, 23, 25, 27, 29, 31, 33, 35, 37, 39, 41, 43, 45, 47, 49, 51, 53, 55, 57, 59, 61, 63, 65, 67, 69, 71, 73, 75, 77, 79]\n"
     ]
    }
   ],
   "source": [
    "# list comprihension\n",
    "# create odd number code from 1 to 80 using list comprihension\n",
    "l3= [j for j in range(1,80) if j%2!=0]\n",
    "print(l3)"
   ]
  },
  {
   "cell_type": "code",
   "execution_count": 2,
   "id": "a3a34035",
   "metadata": {},
   "outputs": [
    {
     "data": {
      "text/plain": [
       "['Jalgaon', 'Mumbai', 'Chorwad']"
      ]
     },
     "execution_count": 2,
     "metadata": {},
     "output_type": "execute_result"
    }
   ],
   "source": [
    "# for print capital letters using l comnp\n",
    "a1=[\"Jalgaon\",\"Mumbai\",\"bhusawal\",\"Chorwad\",\"delhi\"]\n",
    "a2=[a for a in a1 if a.istitle()==True]\n",
    "a2"
   ]
  },
  {
   "cell_type": "code",
   "execution_count": 6,
   "id": "2ad2b0f6",
   "metadata": {},
   "outputs": [
    {
     "name": "stdout",
     "output_type": "stream",
     "text": [
      "['Jalgaon', 'Mumbai', 'bhusawal', 'Chorwad', 'delhi']\n"
     ]
    },
    {
     "data": {
      "text/plain": [
       "['bhusawal', 'delhi']"
      ]
     },
     "execution_count": 6,
     "metadata": {},
     "output_type": "execute_result"
    }
   ],
   "source": [
    "# for Small case letters \n",
    "print(a1)\n",
    "c=[j for j in a1 if j.istitle()==False]\n",
    "c"
   ]
  },
  {
   "cell_type": "code",
   "execution_count": 7,
   "id": "5c6132b9",
   "metadata": {},
   "outputs": [
    {
     "data": {
      "text/plain": [
       "['RAW']"
      ]
     },
     "execution_count": 7,
     "metadata": {},
     "output_type": "execute_result"
    }
   ],
   "source": [
    "# Function for upper and lower case letters\n",
    "p=[\"Hydra\",\"RAW\",\"Cia\",\"Euro\",\"anti\",\"cR\"]\n",
    "#for upper case\n",
    "s=[a for a in p if a.isupper()]\n",
    "s"
   ]
  },
  {
   "cell_type": "code",
   "execution_count": 10,
   "id": "37a2f23a",
   "metadata": {},
   "outputs": [
    {
     "name": "stdout",
     "output_type": "stream",
     "text": [
      "['anti']\n",
      "['Hydra', 'Cia', 'Euro']\n"
     ]
    }
   ],
   "source": [
    "#for lower case\n",
    "d=[a for a in p if a.islower()]\n",
    "print(d)\n",
    "b=[j for j in p if j.istitle()]\n",
    "print(b)"
   ]
  },
  {
   "cell_type": "code",
   "execution_count": 16,
   "id": "5813ec53",
   "metadata": {},
   "outputs": [
    {
     "name": "stdout",
     "output_type": "stream",
     "text": [
      "[1, 4, 9, 16, 25, 36, 49, 64, 81, 100, 121, 144, 169, 196, 225, 256, 289, 324, 361, 400, 441, 484, 529, 576, 625, 676, 729, 784, 841, 900, 961, 1024, 1089, 1156, 1225, 1296, 1369, 1444, 1521, 1600, 1681, 1764, 1849, 1936, 2025, 2116, 2209, 2304, 2401, 2500, 2601, 2704, 2809, 2916, 3025, 3136, 3249, 3364, 3481, 3600, 3721, 3844, 3969, 4096, 4225, 4356, 4489, 4624, 4761, 4900, 5041, 5184, 5329, 5476, 5625, 5776, 5929, 6084, 6241, 6400, 6561, 6724, 6889, 7056, 7225, 7396, 7569, 7744, 7921, 8100, 8281, 8464, 8649, 8836, 9025, 9216, 9409, 9604, 9801, 10000]\n",
      "[1.0, 2.0, 3.0, 4.0, 5.0, 6.0, 7.0, 8.0, 9.0, 10.0, 11.0, 12.0, 13.0, 14.0, 15.0, 16.0, 17.0, 18.0, 19.0, 20.0, 21.0, 22.0, 23.0, 24.0, 25.0, 26.0, 27.0, 28.0, 29.0, 30.0, 31.0, 32.0, 33.0, 34.0, 35.0, 36.0, 37.0, 38.0, 39.0, 40.0, 41.0, 42.0, 43.0, 44.0, 45.0, 46.0, 47.0, 48.0, 49.0, 50.0, 51.0, 52.0, 53.0, 54.0, 55.0, 56.0, 57.0, 58.0, 59.0, 60.0, 61.0, 62.0, 63.0, 64.0, 65.0, 66.0, 67.0, 68.0, 69.0, 70.0, 71.0, 72.0, 73.0, 74.0, 75.0, 76.0, 77.0, 78.0, 79.0, 80.0, 81.0, 82.0, 83.0, 84.0, 85.0, 86.0, 87.0, 88.0, 89.0, 90.0, 91.0, 92.0, 93.0, 94.0, 95.0, 96.0, 97.0, 98.0, 99.0, 100.0]\n"
     ]
    }
   ],
   "source": [
    "# first make square and the make there square root from 1 to 100\n",
    "a2= [j*j for j in range(1,101) ]\n",
    "print(a2)\n",
    "c2= [i**0.5 for i in a2 ]\n",
    "print(c2)"
   ]
  },
  {
   "cell_type": "code",
   "execution_count": 32,
   "id": "f4a42cc7",
   "metadata": {},
   "outputs": [
    {
     "name": "stdout",
     "output_type": "stream",
     "text": [
      "[1, 8, 27, 64, 125, 216, 343, 512, 729, 1000, 1331, 1728, 2197, 2744, 3375, 4096, 4913, 5832, 6859, 8000]\n",
      "[1.0, 2.8284271247461903, 5.196152422706632, 8.0, 11.180339887498949, 14.696938456699069, 18.520259177452132, 22.627416997969522, 27.0, 31.622776601683793, 36.4828726939094, 41.569219381653056, 46.87216658103186, 52.38320341483518, 58.09475019311125, 64.0, 70.09279563550022, 76.36753236814714, 82.8190799272728, 89.44271909999159]\n"
     ]
    }
   ],
   "source": [
    "# first make cube and the make there cube root from 1 to 20\n",
    "a2= [j*j*j for j in range(1,21) ]\n",
    "print(a2)\n",
    "c2= [i**0.5  for i in a2 ]\n",
    "print(c2)"
   ]
  },
  {
   "cell_type": "code",
   "execution_count": 33,
   "id": "7355fd5b",
   "metadata": {
    "collapsed": true
   },
   "outputs": [
    {
     "ename": "SyntaxError",
     "evalue": "invalid syntax (1197097457.py, line 3)",
     "output_type": "error",
     "traceback": [
      "\u001b[1;36m  File \u001b[1;32m\"C:\\Users\\prath\\AppData\\Local\\Temp\\ipykernel_3148\\1197097457.py\"\u001b[1;36m, line \u001b[1;32m3\u001b[0m\n\u001b[1;33m    answer>>>>>>[1,2,3,4,5,6]\u001b[0m\n\u001b[1;37m            ^\u001b[0m\n\u001b[1;31mSyntaxError\u001b[0m\u001b[1;31m:\u001b[0m invalid syntax\n"
     ]
    }
   ],
   "source": [
    "# Flatten a list of lists with a list comprehensions\n",
    "li = [[1,2,3],[4,5,6]]\n",
    "answer>>>>>>[1,2,3,4,5,6]"
   ]
  },
  {
   "cell_type": "code",
   "execution_count": 11,
   "id": "b1ab8706",
   "metadata": {},
   "outputs": [
    {
     "name": "stdout",
     "output_type": "stream",
     "text": [
      "[1, 2, 3, 4, 5, 6]\n"
     ]
    }
   ],
   "source": [
    "li = [[1,2,3],[4,5,6]]\n",
    "l2 =[]\n",
    "for i in li:\n",
    "    \n",
    "    for j in i:\n",
    "        l2.append(j)\n",
    "\n",
    "\n",
    "print(l2)"
   ]
  },
  {
   "cell_type": "code",
   "execution_count": null,
   "id": "a6839350",
   "metadata": {},
   "outputs": [],
   "source": []
  },
  {
   "cell_type": "code",
   "execution_count": null,
   "id": "5d8511b7",
   "metadata": {},
   "outputs": [],
   "source": []
  }
 ],
 "metadata": {
  "kernelspec": {
   "display_name": "Python 3 (ipykernel)",
   "language": "python",
   "name": "python3"
  },
  "language_info": {
   "codemirror_mode": {
    "name": "ipython",
    "version": 3
   },
   "file_extension": ".py",
   "mimetype": "text/x-python",
   "name": "python",
   "nbconvert_exporter": "python",
   "pygments_lexer": "ipython3",
   "version": "3.9.13"
  }
 },
 "nbformat": 4,
 "nbformat_minor": 5
}
