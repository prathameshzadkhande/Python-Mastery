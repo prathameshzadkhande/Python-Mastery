{
 "cells": [
  {
   "cell_type": "markdown",
   "id": "341b6e6d",
   "metadata": {},
   "source": [
    "#### Hybrid Inheritance "
   ]
  },
  {
   "cell_type": "code",
   "execution_count": 1,
   "id": "5e449c9d",
   "metadata": {},
   "outputs": [],
   "source": [
    "class parent():\n",
    "    pass\n",
    "class child1(parent):\n",
    "    pass\n",
    "class child2(parent):\n",
    "    pass\n",
    "class grandchild(child1,child2):\n",
    "    pass"
   ]
  },
  {
   "cell_type": "code",
   "execution_count": 2,
   "id": "f334502d",
   "metadata": {},
   "outputs": [],
   "source": [
    "class parent():\n",
    "    def __init__(self):\n",
    "        print(\"These is Prent Class \")\n",
    "    def parent_fun(self):\n",
    "        print((\"These is Parent Function\"))\n",
    "class child1(parent):\n",
    "    def __init__(self):\n",
    "        print(\"These is Child1 Class \")\n",
    "    def child1_fun(self):\n",
    "        print((\"These is Child1 Function\"))\n",
    "class child2(parent):\n",
    "    def __init__(self):\n",
    "        print(\"These is Child2 Class \")\n",
    "    def child2_fun(self):\n",
    "        print((\"These is Child2 Function\"))\n",
    "class grandchild(child1,child2):\n",
    "    def __init__(self):\n",
    "        print(\"These is Grand_child Class \")\n",
    "    def grandchild_fun(self):\n",
    "        print((\"These is Grand_child Function\"))"
   ]
  },
  {
   "cell_type": "code",
   "execution_count": 3,
   "id": "013aa514",
   "metadata": {},
   "outputs": [
    {
     "name": "stdout",
     "output_type": "stream",
     "text": [
      "These is Grand_child Class \n"
     ]
    }
   ],
   "source": [
    "obj_gc = grandchild()"
   ]
  },
  {
   "cell_type": "code",
   "execution_count": 5,
   "id": "b3cc2d67",
   "metadata": {},
   "outputs": [
    {
     "name": "stdout",
     "output_type": "stream",
     "text": [
      "These is Parent Function\n"
     ]
    }
   ],
   "source": [
    "obj_gc.parent_fun()"
   ]
  },
  {
   "cell_type": "markdown",
   "id": "0b1a8743",
   "metadata": {},
   "source": [
    "#### Private Method ()"
   ]
  },
  {
   "cell_type": "code",
   "execution_count": 41,
   "id": "4d37915a",
   "metadata": {},
   "outputs": [],
   "source": [
    "class Gym():\n",
    "    def __init__(self):\n",
    "        self.__Id = \" \" # encapsulation method \n",
    "        self.__Contact = 0\n",
    "        self.menu()\n",
    "    def menu(self):\n",
    "        user_in = int(input(\"\"\"\n",
    "              < Welcome to Pratham Fitness >\n",
    "              1. Enter 1 For Regstraction \n",
    "              2. Enter 2 for check GYM Planns \n",
    "              3. Enter 3 for Bill Payments \n",
    "              4 .Enter 4 For Exit \n",
    "        \"\"\"))\n",
    "        if user_in ==1:\n",
    "            self.__register()\n",
    "        elif user_in==2:\n",
    "            name = input(\"Enter Your Registered ID :\")\n",
    "            if self.__Id==name:\n",
    "                print(\"Yes \")\n",
    "            else:\n",
    "                print(\"First Register your name \")\n",
    "            \n",
    "            \n",
    "    def __register(self):   # these is Private Method \n",
    "        self.__Id = input(\"Enter Your Name :\")\n",
    "        self.__Contact = int(input(\"Enter Your Contact Number : \"))\n",
    "             \n",
    "            \n",
    "          "
   ]
  },
  {
   "cell_type": "code",
   "execution_count": 43,
   "id": "ea7374f8",
   "metadata": {},
   "outputs": [
    {
     "name": "stdout",
     "output_type": "stream",
     "text": [
      "\n",
      "              < Welcome to Pratham Fitness >\n",
      "              1. Enter 1 For Regstraction \n",
      "              2. Enter 2 for check GYM Planns \n",
      "              3. Enter 3 for Bill Payments \n",
      "              4 .Enter 4 For Exit \n",
      "        1\n",
      "Enter Your Name :ps\n",
      "Enter Your Contact Number : 22\n"
     ]
    }
   ],
   "source": [
    "obj = Gym()"
   ]
  },
  {
   "cell_type": "code",
   "execution_count": 44,
   "id": "f464a61e",
   "metadata": {},
   "outputs": [
    {
     "name": "stdout",
     "output_type": "stream",
     "text": [
      "\n",
      "              < Welcome to Pratham Fitness >\n",
      "              1. Enter 1 For Regstraction \n",
      "              2. Enter 2 for check GYM Planns \n",
      "              3. Enter 3 for Bill Payments \n",
      "              4 .Enter 4 For Exit \n",
      "        2\n",
      "Enter Your Registered ID :ps\n",
      "Yes \n"
     ]
    }
   ],
   "source": [
    "obj.menu()"
   ]
  },
  {
   "cell_type": "markdown",
   "id": "2e58fb06",
   "metadata": {},
   "source": [
    "in these code below \n",
    "self.__Id = \" \" # encapsulation method \n",
    "and \n",
    "def __function() # Private method "
   ]
  },
  {
   "cell_type": "markdown",
   "id": "9b67189b",
   "metadata": {},
   "source": [
    "#### Name Mangling "
   ]
  },
  {
   "cell_type": "code",
   "execution_count": null,
   "id": "5bf2f7eb",
   "metadata": {},
   "outputs": [],
   "source": [
    "To access/modify Private method and variables from outside a class\n",
    ">> syntax \n",
    "obj._classname__private_method\n",
    "or \n",
    "obj._classname__encapsulated_varable\n"
   ]
  },
  {
   "cell_type": "code",
   "execution_count": 60,
   "id": "22a86487",
   "metadata": {},
   "outputs": [],
   "source": [
    "class Employe():\n",
    "    def __init__(self):\n",
    "        self.__company = \"Amazon\"\n",
    "        self.__menu()\n",
    "    def __menu(self):\n",
    "        print(self.__company)"
   ]
  },
  {
   "cell_type": "code",
   "execution_count": 64,
   "id": "b316cb77",
   "metadata": {},
   "outputs": [
    {
     "name": "stdout",
     "output_type": "stream",
     "text": [
      "Amazon\n"
     ]
    },
    {
     "ename": "AttributeError",
     "evalue": "'Employe' object has no attribute '__menu'",
     "output_type": "error",
     "traceback": [
      "\u001b[1;31m---------------------------------------------------------------------------\u001b[0m",
      "\u001b[1;31mAttributeError\u001b[0m                            Traceback (most recent call last)",
      "\u001b[1;32m~\\AppData\\Local\\Temp\\ipykernel_16036\\3251698119.py\u001b[0m in \u001b[0;36m<module>\u001b[1;34m\u001b[0m\n\u001b[0;32m      1\u001b[0m \u001b[0mobj\u001b[0m \u001b[1;33m=\u001b[0m \u001b[0mEmploye\u001b[0m\u001b[1;33m(\u001b[0m\u001b[1;33m)\u001b[0m\u001b[1;33m\u001b[0m\u001b[1;33m\u001b[0m\u001b[0m\n\u001b[1;32m----> 2\u001b[1;33m \u001b[0mobj\u001b[0m\u001b[1;33m.\u001b[0m\u001b[0m__menu\u001b[0m\u001b[1;33m(\u001b[0m\u001b[1;33m)\u001b[0m\u001b[1;33m\u001b[0m\u001b[1;33m\u001b[0m\u001b[0m\n\u001b[0m",
      "\u001b[1;31mAttributeError\u001b[0m: 'Employe' object has no attribute '__menu'"
     ]
    }
   ],
   "source": [
    "obj = Employe()\n",
    "obj.__menu() # these is private method "
   ]
  },
  {
   "cell_type": "code",
   "execution_count": 65,
   "id": "3a1f496c",
   "metadata": {},
   "outputs": [
    {
     "data": {
      "text/plain": [
       "'Amazon'"
      ]
     },
     "execution_count": 65,
     "metadata": {},
     "output_type": "execute_result"
    }
   ],
   "source": [
    "# but using name mangling \n",
    "obj._Employe__company"
   ]
  },
  {
   "cell_type": "code",
   "execution_count": null,
   "id": "28143537",
   "metadata": {},
   "outputs": [],
   "source": []
  },
  {
   "cell_type": "markdown",
   "id": "0068070e",
   "metadata": {},
   "source": [
    "#### Polymorphism"
   ]
  },
  {
   "cell_type": "code",
   "execution_count": null,
   "id": "6f36788c",
   "metadata": {},
   "outputs": [],
   "source": [
    "Poly > Multiple\n",
    "morphism >> Formss\n",
    "it means multiple forms \n",
    "> same Funnction name is used in many classes \n",
    "> Function which identical in names \n"
   ]
  },
  {
   "cell_type": "code",
   "execution_count": 66,
   "id": "f29773d3",
   "metadata": {},
   "outputs": [],
   "source": [
    "class str1():\n",
    "    def __init__(self):\n",
    "        print(\"string class\")\n",
    "    def len1(self):\n",
    "        print(\"counting of number of alphabets\")\n",
    "class list1():\n",
    "    def __init__(self):\n",
    "        print(\"list class\")\n",
    "    def len1(self):\n",
    "        print(\"counting of number of items\")\n",
    "class dict1():\n",
    "    def __init__(self):\n",
    "        print(\"dictionary class\")\n",
    "    def len1(self):\n",
    "        print(\"counting of number of key value pair\")"
   ]
  },
  {
   "cell_type": "code",
   "execution_count": 75,
   "id": "1d7283c0",
   "metadata": {},
   "outputs": [],
   "source": [
    "import math"
   ]
  },
  {
   "cell_type": "code",
   "execution_count": 69,
   "id": "e503af4c",
   "metadata": {},
   "outputs": [
    {
     "data": {
      "text/plain": [
       "3.141592653589793"
      ]
     },
     "execution_count": 69,
     "metadata": {},
     "output_type": "execute_result"
    }
   ],
   "source": [
    "math.pi"
   ]
  },
  {
   "cell_type": "code",
   "execution_count": 77,
   "id": "f1f66ab3",
   "metadata": {},
   "outputs": [],
   "source": [
    "class Circle():\n",
    "    def __init__(self):\n",
    "        print(\"this class is for finding the area of circle\")\n",
    "    def get_area(self,radius):\n",
    "        self.radius=radius\n",
    "        area=math.pi*(self.radius)**2\n",
    "        return area\n",
    "class Square():\n",
    "    def __init__(self):\n",
    "        print(\"this is for area of square \")\n",
    "    def get_area(self,side):\n",
    "        area=side*side\n",
    "        return area\n",
    "    \n",
    "class Triangle():\n",
    "    def __init__(self):\n",
    "        print(\"this is for area of Triangle \")\n",
    "    def get_area(self,hig,bre):\n",
    "        area=0.5*hig*bre\n",
    "        return area"
   ]
  },
  {
   "cell_type": "code",
   "execution_count": 78,
   "id": "d717a83d",
   "metadata": {},
   "outputs": [
    {
     "name": "stdout",
     "output_type": "stream",
     "text": [
      "this class is for finding the area of circle\n",
      "this is for area of square \n",
      "this is for area of Triangle \n"
     ]
    }
   ],
   "source": [
    "c1=Circle()\n",
    "s1=Square()\n",
    "t1=Triangle()"
   ]
  },
  {
   "cell_type": "code",
   "execution_count": 79,
   "id": "bd551b10",
   "metadata": {},
   "outputs": [
    {
     "data": {
      "text/plain": [
       "50.26548245743669"
      ]
     },
     "execution_count": 79,
     "metadata": {},
     "output_type": "execute_result"
    }
   ],
   "source": [
    "c1.get_area(4)"
   ]
  },
  {
   "cell_type": "code",
   "execution_count": 80,
   "id": "4beef146",
   "metadata": {},
   "outputs": [
    {
     "data": {
      "text/plain": [
       "16"
      ]
     },
     "execution_count": 80,
     "metadata": {},
     "output_type": "execute_result"
    }
   ],
   "source": [
    "s1.get_area(4)"
   ]
  },
  {
   "cell_type": "code",
   "execution_count": 81,
   "id": "f28159f2",
   "metadata": {},
   "outputs": [
    {
     "data": {
      "text/plain": [
       "10.0"
      ]
     },
     "execution_count": 81,
     "metadata": {},
     "output_type": "execute_result"
    }
   ],
   "source": [
    "t1.get_area(4,5)"
   ]
  },
  {
   "cell_type": "code",
   "execution_count": null,
   "id": "727bb403",
   "metadata": {},
   "outputs": [],
   "source": []
  },
  {
   "cell_type": "markdown",
   "id": "50131ac7",
   "metadata": {},
   "source": [
    "#### Abstraction "
   ]
  },
  {
   "cell_type": "code",
   "execution_count": null,
   "id": "a9907637",
   "metadata": {},
   "outputs": [],
   "source": [
    "blue print of your project or blueprint of your class"
   ]
  },
  {
   "cell_type": "code",
   "execution_count": 82,
   "id": "f3b37180",
   "metadata": {},
   "outputs": [
    {
     "name": "stdout",
     "output_type": "stream",
     "text": [
      "registration of project function class\n",
      "login of project function class\n"
     ]
    }
   ],
   "source": [
    "class ProjectBlueprint():\n",
    "    def get_registration(self):\n",
    "        print(\"registration of blueprint class\")\n",
    "    def get_login(self):\n",
    "        print(\"login of blueprint class\")\n",
    "        \n",
    "class ProjectFunction(ProjectBlueprint):\n",
    "    def get_registration(self):\n",
    "        print(\"registration of project function class\")\n",
    "    def get_login(self):\n",
    "        print(\"login of project function class\")\n",
    "        \n",
    "        \n",
    "obj=ProjectFunction()\n",
    "\n",
    "obj.get_registration()\n",
    "obj.get_login()\n",
    "    "
   ]
  },
  {
   "cell_type": "code",
   "execution_count": 1,
   "id": "4fe807cc",
   "metadata": {},
   "outputs": [],
   "source": [
    "from abc import abstractclassmethod,ABC"
   ]
  },
  {
   "cell_type": "code",
   "execution_count": 2,
   "id": "f8875e3b",
   "metadata": {},
   "outputs": [],
   "source": [
    "class vehical():\n",
    "    @abstractclassmethod\n",
    "    def transport():\n",
    "        pass"
   ]
  },
  {
   "cell_type": "code",
   "execution_count": 19,
   "id": "5233ef41",
   "metadata": {},
   "outputs": [],
   "source": [
    "class student(ABC):\n",
    "    @abstractclassmethod\n",
    "    def degree(self):\n",
    "        print(\"B.Tech\")\n",
    "class student2(student):\n",
    "    @abstractclassmethod\n",
    "    def __init__(self):\n",
    "        print(\"Student 2 Class\")\n",
    "    def name(self):\n",
    "        print(\"Ram\")\n",
    "class vehicle(student2):\n",
    "    def tata(self):\n",
    "        print(\"Gravitas\")\n",
    "    \n",
    "    "
   ]
  },
  {
   "cell_type": "code",
   "execution_count": 20,
   "id": "b4fb72f5",
   "metadata": {},
   "outputs": [
    {
     "ename": "TypeError",
     "evalue": "Can't instantiate abstract class vehicle with abstract methods __init__, degree",
     "output_type": "error",
     "traceback": [
      "\u001b[1;31m---------------------------------------------------------------------------\u001b[0m",
      "\u001b[1;31mTypeError\u001b[0m                                 Traceback (most recent call last)",
      "\u001b[1;32m~\\AppData\\Local\\Temp\\ipykernel_2116\\4172666314.py\u001b[0m in \u001b[0;36m<module>\u001b[1;34m\u001b[0m\n\u001b[1;32m----> 1\u001b[1;33m \u001b[0mobj\u001b[0m \u001b[1;33m=\u001b[0m \u001b[0mvehicle\u001b[0m\u001b[1;33m(\u001b[0m\u001b[1;33m)\u001b[0m\u001b[1;33m\u001b[0m\u001b[1;33m\u001b[0m\u001b[0m\n\u001b[0m",
      "\u001b[1;31mTypeError\u001b[0m: Can't instantiate abstract class vehicle with abstract methods __init__, degree"
     ]
    }
   ],
   "source": [
    "obj = vehicle()"
   ]
  },
  {
   "cell_type": "code",
   "execution_count": 24,
   "id": "5ef66313",
   "metadata": {},
   "outputs": [],
   "source": [
    "class Car(ABC):\n",
    "    @abstractclassmethod\n",
    "    def __init__(self):\n",
    "        print(\"Hunday Tuson\")\n",
    "    def fule(self):\n",
    "        print(\"Petrol\")\n",
    "class Car2(Car):\n",
    "    def __init__(self):\n",
    "        print(\"Hunday Velar\")\n",
    "    def fule_car2(self):\n",
    "        print(\"Hybrid\")\n",
    "        \n",
    "    "
   ]
  },
  {
   "cell_type": "code",
   "execution_count": 25,
   "id": "1ed2169e",
   "metadata": {},
   "outputs": [
    {
     "name": "stdout",
     "output_type": "stream",
     "text": [
      "Hunday Velar\n"
     ]
    }
   ],
   "source": [
    "obj=Car2()"
   ]
  },
  {
   "cell_type": "code",
   "execution_count": 26,
   "id": "24b1d607",
   "metadata": {},
   "outputs": [
    {
     "name": "stdout",
     "output_type": "stream",
     "text": [
      "Petrol\n"
     ]
    }
   ],
   "source": [
    "obj.fule()"
   ]
  },
  {
   "cell_type": "code",
   "execution_count": null,
   "id": "ed3b405b",
   "metadata": {},
   "outputs": [],
   "source": []
  }
 ],
 "metadata": {
  "kernelspec": {
   "display_name": "Python 3 (ipykernel)",
   "language": "python",
   "name": "python3"
  },
  "language_info": {
   "codemirror_mode": {
    "name": "ipython",
    "version": 3
   },
   "file_extension": ".py",
   "mimetype": "text/x-python",
   "name": "python",
   "nbconvert_exporter": "python",
   "pygments_lexer": "ipython3",
   "version": "3.9.13"
  }
 },
 "nbformat": 4,
 "nbformat_minor": 5
}
