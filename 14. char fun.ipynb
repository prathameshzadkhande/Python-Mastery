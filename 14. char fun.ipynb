{
 "cells": [
  {
   "cell_type": "code",
   "execution_count": 4,
   "id": "07f28455",
   "metadata": {},
   "outputs": [
    {
     "name": "stdout",
     "output_type": "stream",
     "text": [
      "{'andrew'}\n",
      "{'andrew'}\n",
      "{'andrew'}\n",
      "{'andrew'}\n",
      "{'ganesh'}\n",
      "{'ganesh'}\n",
      "{'ganesh'}\n",
      "{'ganesh'}\n",
      "{'prathmesh'}\n",
      "{'prathmesh'}\n",
      "{'prathmesh'}\n",
      "{'prathmesh'}\n",
      "{'nakul'}\n",
      "{'nakul'}\n",
      "{'nakul'}\n",
      "{'nakul'}\n"
     ]
    }
   ],
   "source": [
    "names=[\"andrew\",\"ganesh\",\"prathmesh\",\"nakul\"]\n",
    "district=[\"nagpur\",\"panaji\",\"raipur\",\"jalgaon\"]\n",
    "for i in names:\n",
    "    for j in district:\n",
    "        print({i })"
   ]
  },
  {
   "cell_type": "code",
   "execution_count": 12,
   "id": "3fb2a353",
   "metadata": {},
   "outputs": [
    {
     "name": "stdout",
     "output_type": "stream",
     "text": [
      "1 >> 1\n",
      "2 >> 8\n",
      "3 >> 27\n",
      "4 >> 64\n",
      "5 >> 125\n",
      "6 >> 216\n",
      "7 >> 343\n",
      "8 >> 512\n",
      "9 >> 729\n",
      "10 >> 1000\n"
     ]
    }
   ],
   "source": [
    "d1={1,2,3,4,5,6,7,8,9,10}\n",
    "for i in d1:\n",
    "    print(F\"{i} >>\",i*i*i)\n"
   ]
  },
  {
   "cell_type": "code",
   "execution_count": 21,
   "id": "8c203d33",
   "metadata": {},
   "outputs": [
    {
     "name": "stdout",
     "output_type": "stream",
     "text": [
      "{1}\n",
      "{8, 2}\n",
      "{3, 27}\n",
      "{64, 4}\n",
      "{5, 125}\n",
      "{216, 6}\n",
      "{7, 343}\n",
      "{512, 8}\n",
      "{729, 9}\n",
      "{1000, 10}\n"
     ]
    }
   ],
   "source": [
    "d1={1,2,3,4,5,6,7,8,9,10}\n",
    "for i in d1:\n",
    "    d2=i\n",
    "    d3=i*i*i\n",
    "    print({d3,d2})\n"
   ]
  },
  {
   "cell_type": "code",
   "execution_count": 27,
   "id": "59b3904f",
   "metadata": {},
   "outputs": [
    {
     "name": "stdout",
     "output_type": "stream",
     "text": [
      "{65: 'A', 66: 'B', 67: 'C', 68: 'D', 69: 'E', 70: 'F', 71: 'G', 72: 'H', 73: 'I', 74: 'J', 75: 'K', 76: 'L', 77: 'M', 78: 'N', 79: 'O', 80: 'P', 81: 'Q', 82: 'R', 83: 'S', 84: 'T', 85: 'U', 86: 'V', 87: 'W', 88: 'X', 89: 'Y', 90: 'Z', 91: '[', 92: '\\\\', 93: ']', 94: '^', 95: '_', 96: '`', 97: 'a', 98: 'b', 99: 'c', 100: 'd', 101: 'e', 102: 'f', 103: 'g', 104: 'h', 105: 'i', 106: 'j', 107: 'k', 108: 'l', 109: 'm', 110: 'n', 111: 'o', 112: 'p', 113: 'q', 114: 'r', 115: 's', 116: 't', 117: 'u', 118: 'v', 119: 'w', 120: 'x', 121: 'y'}\n"
     ]
    }
   ],
   "source": [
    "ed={}\n",
    "for i in range(65,122):\n",
    "    ed[i]=(chr(i))\n",
    "print(ed)"
   ]
  },
  {
   "cell_type": "code",
   "execution_count": 44,
   "id": "dc6370fa",
   "metadata": {
    "collapsed": true
   },
   "outputs": [
    {
     "name": "stdout",
     "output_type": "stream",
     "text": [
      "1\n",
      "2\n",
      "2\n",
      "1\n",
      "1\n",
      "1\n",
      "6\n",
      "12\n",
      "6\n",
      "2\n",
      "12\n",
      "15\n",
      "12\n",
      "6\n",
      "12\n",
      "15\n",
      "6\n",
      "9\n",
      "6\n",
      "12\n",
      "12\n",
      "15\n",
      "9\n",
      "12\n",
      "3\n",
      "6\n",
      "6\n",
      "3\n",
      "12\n",
      "12\n",
      "15\n",
      "3\n",
      "12\n",
      "12\n",
      "15\n",
      "9\n",
      "12\n",
      "9\n",
      "15\n",
      "12\n",
      "12\n",
      "15\n",
      "6\n",
      "12\n",
      "12\n",
      "15\n",
      "9\n",
      "12\n",
      "3\n",
      "2\n",
      "12\n",
      "15\n",
      "9\n",
      "3\n",
      "12\n",
      "6\n",
      "6\n",
      "15\n",
      "9\n",
      "15\n",
      "1\n",
      "2\n",
      "1\n",
      "3\n",
      "2\n",
      "12\n",
      "15\n",
      "9\n",
      "6\n",
      "12\n",
      "15\n",
      "6\n",
      "12\n",
      "12\n",
      "15\n",
      "9\n",
      "12\n",
      "15\n"
     ]
    }
   ],
   "source": [
    "d1={}\n",
    "c=\"machine sadf sdfsge dfg weswd fr dfgdgf dfs dfg rtdfgw eefgfbcvrt fgedfsd fgdf\"\n",
    "for i in c:\n",
    "    d1(c.count(i))\n",
    "    "
   ]
  },
  {
   "cell_type": "code",
   "execution_count": 48,
   "id": "413c9493",
   "metadata": {},
   "outputs": [
    {
     "name": "stdout",
     "output_type": "stream",
     "text": [
      "{'a': 2, 'b': 1, 'c': 2, 'd': 12, 'e': 6, 'f': 15, 'g': 9, 'h': 1, 'i': 1, 'j': 0, 'k': 0, 'l': 0, 'm': 1, 'n': 1, 'o': 0, 'p': 0, 'q': 0, 'r': 3, 's': 6, 't': 2, 'u': 0, 'v': 1, 'w': 3, 'x': 0, 'y': 0, 'z': 0}\n"
     ]
    }
   ],
   "source": [
    "ed={}\n",
    "c=\"machine sadf sdfsge dfg weswd fr dfgdgf dfs dfg rtdfgw eefgfbcvrt fgedfsd fgdf\"\n",
    "for i in range(97,123):\n",
    "    ed[chr(i)]=c.count(chr(i))\n",
    "print(ed)"
   ]
  },
  {
   "cell_type": "code",
   "execution_count": null,
   "id": "7425b00b",
   "metadata": {},
   "outputs": [],
   "source": []
  }
 ],
 "metadata": {
  "kernelspec": {
   "display_name": "Python 3 (ipykernel)",
   "language": "python",
   "name": "python3"
  },
  "language_info": {
   "codemirror_mode": {
    "name": "ipython",
    "version": 3
   },
   "file_extension": ".py",
   "mimetype": "text/x-python",
   "name": "python",
   "nbconvert_exporter": "python",
   "pygments_lexer": "ipython3",
   "version": "3.9.13"
  }
 },
 "nbformat": 4,
 "nbformat_minor": 5
}
