{
 "cells": [
  {
   "cell_type": "code",
   "execution_count": 8,
   "id": "b36aa886",
   "metadata": {},
   "outputs": [],
   "source": [
    "# Convert the first letter in title case \n"
   ]
  },
  {
   "cell_type": "code",
   "execution_count": 9,
   "id": "a0423b63",
   "metadata": {},
   "outputs": [
    {
     "name": "stdout",
     "output_type": "stream",
     "text": [
      "['Hindi', 'Engish', 'Marathi', 'Gujrati', 'Tamil', 'Kannada', 'Punjabi']\n",
      "('Hindi', 'Engish', 'Marathi', 'Gujrati', 'Tamil', 'Kannada', 'Punjabi')\n"
     ]
    }
   ],
   "source": [
    "tup1=(\"Hindi\",\"Engish\",\"MARATHI\",\"gujrati\",\"tamil\",\"kannada\",\"Punjabi\")\n",
    "list1=[i.title()  for  i in tup1]\n",
    "print(list1)\n",
    "print(tuple(list1 ))"
   ]
  },
  {
   "cell_type": "code",
   "execution_count": 11,
   "id": "a83e334f",
   "metadata": {},
   "outputs": [
    {
     "name": "stdout",
     "output_type": "stream",
     "text": [
      "('Hindi', 'Engish', 'Marathi', 'Gujrati', 'Tamil', 'Kannada', 'Punjabi')\n"
     ]
    }
   ],
   "source": [
    "t1=( \"Hindi\",\"Engish\",\"MARATHI\",\"gujrati\",\"tamil\",\"kannada\",\"Punjabi\" )\n",
    "l1=[i.title() for i in t1]\n",
    "print(tuple(l1))"
   ]
  },
  {
   "cell_type": "code",
   "execution_count": 16,
   "id": "a0a4c1f4",
   "metadata": {},
   "outputs": [
    {
     "name": "stdout",
     "output_type": "stream",
     "text": [
      "('Hindi', 'English')\n"
     ]
    }
   ],
   "source": [
    "t2=(\"marathi\",\"Hindi\",\"English\",\"temil\")\n",
    "l2=[v for v in t2 if v.istitle()==True]\n",
    "print(tuple(l2) )"
   ]
  },
  {
   "cell_type": "code",
   "execution_count": 18,
   "id": "867368ff",
   "metadata": {},
   "outputs": [
    {
     "ename": "AttributeError",
     "evalue": "'tuple' object has no attribute 'copy'",
     "output_type": "error",
     "traceback": [
      "\u001b[1;31m---------------------------------------------------------------------------\u001b[0m",
      "\u001b[1;31mAttributeError\u001b[0m                            Traceback (most recent call last)",
      "\u001b[1;32m~\\AppData\\Local\\Temp\\ipykernel_9584\\1489566095.py\u001b[0m in \u001b[0;36m<module>\u001b[1;34m\u001b[0m\n\u001b[0;32m      2\u001b[0m \u001b[1;33m\u001b[0m\u001b[0m\n\u001b[0;32m      3\u001b[0m \u001b[0ma\u001b[0m\u001b[1;33m=\u001b[0m\u001b[1;33m(\u001b[0m\u001b[1;36m1\u001b[0m\u001b[1;33m,\u001b[0m\u001b[1;36m24\u001b[0m\u001b[1;33m,\u001b[0m\u001b[1;36m5\u001b[0m\u001b[1;33m,\u001b[0m\u001b[1;33m[\u001b[0m\u001b[1;34m'Pratham'\u001b[0m\u001b[1;33m,\u001b[0m\u001b[1;34m'Dvwitya'\u001b[0m\u001b[1;33m]\u001b[0m\u001b[1;33m,\u001b[0m\u001b[1;36m34\u001b[0m\u001b[1;33m,\u001b[0m\u001b[1;36m6554\u001b[0m\u001b[1;33m,\u001b[0m\u001b[1;36m23\u001b[0m\u001b[1;33m)\u001b[0m\u001b[1;33m\u001b[0m\u001b[1;33m\u001b[0m\u001b[0m\n\u001b[1;32m----> 4\u001b[1;33m \u001b[0mb\u001b[0m\u001b[1;33m=\u001b[0m\u001b[0ma\u001b[0m\u001b[1;33m.\u001b[0m\u001b[0mcopy\u001b[0m\u001b[1;33m(\u001b[0m\u001b[1;33m)\u001b[0m\u001b[1;33m\u001b[0m\u001b[1;33m\u001b[0m\u001b[0m\n\u001b[0m",
      "\u001b[1;31mAttributeError\u001b[0m: 'tuple' object has no attribute 'copy'"
     ]
    }
   ],
   "source": [
    "# copy and Deepcopy for tuple (Deepcopy can only usefull for  tuple)\n",
    "\n",
    "a=(1,24,5,['Pratham','Dvwitya'],34,6554,23)\n",
    "b=a.copy()"
   ]
  },
  {
   "cell_type": "code",
   "execution_count": 21,
   "id": "29ac528f",
   "metadata": {},
   "outputs": [
    {
     "name": "stdout",
     "output_type": "stream",
     "text": [
      "(1, 24, 5, ['Prathamesh', 'Dvwitya'], 34, 6554, 23)\n",
      "(1, 24, 5, ['Pratham', 'Dvwitya'], 34, 6554, 23)\n"
     ]
    }
   ],
   "source": [
    "# 'tuple' object has no attribute 'copy'\n",
    "# there fore we can use Deepcopy\n",
    "import copy\n",
    "a=(1,24,5,['Pratham','Dvwitya'],34,6554,23)\n",
    "b =copy.deepcopy(a)\n",
    "a[3][0]='Prathamesh'\n",
    "print(a)\n",
    "print(b)"
   ]
  },
  {
   "cell_type": "code",
   "execution_count": 22,
   "id": "03ca1cb5",
   "metadata": {
    "collapsed": true
   },
   "outputs": [
    {
     "ename": "SyntaxError",
     "evalue": "invalid syntax (4194663774.py, line 1)",
     "output_type": "error",
     "traceback": [
      "\u001b[1;36m  File \u001b[1;32m\"C:\\Users\\prath\\AppData\\Local\\Temp\\ipykernel_9584\\4194663774.py\"\u001b[1;36m, line \u001b[1;32m1\u001b[0m\n\u001b[1;33m    TUPLE=====copy()>>NOT SUPPORT,deepcopy()>>>USE\u001b[0m\n\u001b[1;37m           ^\u001b[0m\n\u001b[1;31mSyntaxError\u001b[0m\u001b[1;31m:\u001b[0m invalid syntax\n"
     ]
    }
   ],
   "source": [
    "TUPLE=====copy()>>NOT SUPPORT,deepcopy()>>>USE\n",
    "TUPLE=====sort()>>NOT SUPPORT,sorted()>>USE\n",
    "TUPLE=====reverse()>>NOT SUPPORT,reversed()>>USE\n"
   ]
  },
  {
   "cell_type": "code",
   "execution_count": 23,
   "id": "fbe81a50",
   "metadata": {},
   "outputs": [
    {
     "name": "stdout",
     "output_type": "stream",
     "text": [
      "(1, 3, 54, 3, 12, 34, 0, 5)\n"
     ]
    }
   ],
   "source": [
    "# plus operator \n",
    "a=(1,3,54,3)\n",
    "b=(12,34,0,5)\n",
    "print(a+b)\n"
   ]
  },
  {
   "cell_type": "code",
   "execution_count": 24,
   "id": "10704aa9",
   "metadata": {},
   "outputs": [
    {
     "data": {
      "text/plain": [
       "(5, 0, 34, 12)"
      ]
     },
     "execution_count": 24,
     "metadata": {},
     "output_type": "execute_result"
    }
   ],
   "source": [
    "b[::-1]"
   ]
  },
  {
   "cell_type": "code",
   "execution_count": 25,
   "id": "fc8a25d8",
   "metadata": {},
   "outputs": [
    {
     "data": {
      "text/plain": [
       "[0, 5, 12, 34]"
      ]
     },
     "execution_count": 25,
     "metadata": {},
     "output_type": "execute_result"
    }
   ],
   "source": [
    "sorted(b)"
   ]
  },
  {
   "cell_type": "code",
   "execution_count": 26,
   "id": "9b422b6d",
   "metadata": {},
   "outputs": [
    {
     "data": {
      "text/plain": [
       "(5, 0, 34, 12)"
      ]
     },
     "execution_count": 26,
     "metadata": {},
     "output_type": "execute_result"
    }
   ],
   "source": [
    "tuple(reversed(b))"
   ]
  },
  {
   "cell_type": "code",
   "execution_count": 29,
   "id": "766afb21",
   "metadata": {},
   "outputs": [
    {
     "data": {
      "text/plain": [
       "[-33, -23, -22, 0, 1, 2, 23, 45]"
      ]
     },
     "execution_count": 29,
     "metadata": {},
     "output_type": "execute_result"
    }
   ],
   "source": [
    "# use of sorted function in tuple convert the datatype into list\n",
    "t4=(1,-33,2,-22,45,23,-23,0)\n",
    "sorted(t4)"
   ]
  },
  {
   "cell_type": "code",
   "execution_count": 30,
   "id": "24b6c80f",
   "metadata": {},
   "outputs": [],
   "source": [
    "# loops in python\n",
    "# 1.For loop\n",
    "# 2.While loop"
   ]
  },
  {
   "cell_type": "code",
   "execution_count": 31,
   "id": "d73602e7",
   "metadata": {
    "collapsed": true
   },
   "outputs": [
    {
     "ename": "SyntaxError",
     "evalue": "invalid syntax (149448510.py, line 1)",
     "output_type": "error",
     "traceback": [
      "\u001b[1;36m  File \u001b[1;32m\"C:\\Users\\prath\\AppData\\Local\\Temp\\ipykernel_9584\\149448510.py\"\u001b[1;36m, line \u001b[1;32m1\u001b[0m\n\u001b[1;33m    syntax>>for i in iterable data\u001b[0m\n\u001b[1;37m            ^\u001b[0m\n\u001b[1;31mSyntaxError\u001b[0m\u001b[1;31m:\u001b[0m invalid syntax\n"
     ]
    }
   ],
   "source": [
    "syntax>>for i in iterable data\n",
    "sequence/iterable>>>str,list,tuple,set,frozenset,array,numpy,pandas data frame\n",
    "for items in sequence:\n",
    "    statement1\n",
    "    statement2"
   ]
  },
  {
   "cell_type": "code",
   "execution_count": 1,
   "id": "d0613988",
   "metadata": {
    "collapsed": true
   },
   "outputs": [
    {
     "ename": "SyntaxError",
     "evalue": "invalid syntax (1958498096.py, line 1)",
     "output_type": "error",
     "traceback": [
      "\u001b[1;36m  File \u001b[1;32m\"C:\\Users\\prath\\AppData\\Local\\Temp\\ipykernel_7272\\1958498096.py\"\u001b[1;36m, line \u001b[1;32m1\u001b[0m\n\u001b[1;33m    while loop is generate infinite lopp\u001b[0m\n\u001b[1;37m                           ^\u001b[0m\n\u001b[1;31mSyntaxError\u001b[0m\u001b[1;31m:\u001b[0m invalid syntax\n"
     ]
    }
   ],
   "source": [
    "while loop is generate infinite lopp\n"
   ]
  },
  {
   "cell_type": "code",
   "execution_count": 2,
   "id": "880255b7",
   "metadata": {},
   "outputs": [],
   "source": [
    "import os "
   ]
  },
  {
   "cell_type": "code",
   "execution_count": 4,
   "id": "b50f86f4",
   "metadata": {},
   "outputs": [],
   "source": [
    "path=os.getcwd()"
   ]
  },
  {
   "cell_type": "code",
   "execution_count": 5,
   "id": "38c0e576",
   "metadata": {},
   "outputs": [
    {
     "data": {
      "text/plain": [
       "'C:\\\\Users\\\\prath\\\\Data Science\\\\Prathamesh'"
      ]
     },
     "execution_count": 5,
     "metadata": {},
     "output_type": "execute_result"
    }
   ],
   "source": [
    "path"
   ]
  },
  {
   "cell_type": "code",
   "execution_count": 10,
   "id": "a4477163",
   "metadata": {},
   "outputs": [
    {
     "data": {
      "text/plain": [
       "['.ipynb_checkpoints',\n",
       " 'DS_07_24.ipynb',\n",
       " 'DS_07_26.ipynb',\n",
       " 'DS_07_27.ipynb',\n",
       " 'DS_07_28.ipynb',\n",
       " 'DS_07_29.ipynb',\n",
       " 'DS_07_31.ipynb',\n",
       " 'DS_08_01.ipynb',\n",
       " 'DS_08_02.ipynb',\n",
       " 'DS_08_03.ipynb',\n",
       " 'DS_08_04.ipynb']"
      ]
     },
     "execution_count": 10,
     "metadata": {},
     "output_type": "execute_result"
    }
   ],
   "source": [
    "file_list = os.listdir()\n",
    "file_list"
   ]
  },
  {
   "cell_type": "code",
   "execution_count": 15,
   "id": "ab283c69",
   "metadata": {},
   "outputs": [],
   "source": [
    "import pandas as pd \n",
    "dt = pd.read_csv(\"Hefpi.csv\")"
   ]
  },
  {
   "cell_type": "code",
   "execution_count": 18,
   "id": "8406ae3a",
   "metadata": {},
   "outputs": [
    {
     "data": {
      "text/html": [
       "<div>\n",
       "<style scoped>\n",
       "    .dataframe tbody tr th:only-of-type {\n",
       "        vertical-align: middle;\n",
       "    }\n",
       "\n",
       "    .dataframe tbody tr th {\n",
       "        vertical-align: top;\n",
       "    }\n",
       "\n",
       "    .dataframe thead th {\n",
       "        text-align: right;\n",
       "    }\n",
       "</style>\n",
       "<table border=\"1\" class=\"dataframe\">\n",
       "  <thead>\n",
       "    <tr style=\"text-align: right;\">\n",
       "      <th></th>\n",
       "      <th>Country Name</th>\n",
       "      <th>Country Code</th>\n",
       "      <th>Indicator Name</th>\n",
       "      <th>Indicator Code</th>\n",
       "      <th>1982</th>\n",
       "      <th>1983</th>\n",
       "      <th>1984</th>\n",
       "      <th>1985</th>\n",
       "      <th>1986</th>\n",
       "      <th>1987</th>\n",
       "      <th>...</th>\n",
       "      <th>2009</th>\n",
       "      <th>2010</th>\n",
       "      <th>2011</th>\n",
       "      <th>2012</th>\n",
       "      <th>2013</th>\n",
       "      <th>2014</th>\n",
       "      <th>2015</th>\n",
       "      <th>2016</th>\n",
       "      <th>2017</th>\n",
       "      <th>2018</th>\n",
       "    </tr>\n",
       "  </thead>\n",
       "  <tbody>\n",
       "    <tr>\n",
       "      <th>0</th>\n",
       "      <td>Afghanistan</td>\n",
       "      <td>AFG</td>\n",
       "      <td>Acute respiratory infections treated (% of chi...</td>\n",
       "      <td>HF.STA.ARIC.ZS</td>\n",
       "      <td>NaN</td>\n",
       "      <td>NaN</td>\n",
       "      <td>NaN</td>\n",
       "      <td>NaN</td>\n",
       "      <td>NaN</td>\n",
       "      <td>NaN</td>\n",
       "      <td>...</td>\n",
       "      <td>NaN</td>\n",
       "      <td>60.355908</td>\n",
       "      <td>NaN</td>\n",
       "      <td>NaN</td>\n",
       "      <td>NaN</td>\n",
       "      <td>NaN</td>\n",
       "      <td>61.427754</td>\n",
       "      <td>NaN</td>\n",
       "      <td>NaN</td>\n",
       "      <td>NaN</td>\n",
       "    </tr>\n",
       "    <tr>\n",
       "      <th>1</th>\n",
       "      <td>Afghanistan</td>\n",
       "      <td>AFG</td>\n",
       "      <td>Acute respiratory infections treated (% of chi...</td>\n",
       "      <td>HF.STA.ARIC.ZS.Q1</td>\n",
       "      <td>NaN</td>\n",
       "      <td>NaN</td>\n",
       "      <td>NaN</td>\n",
       "      <td>NaN</td>\n",
       "      <td>NaN</td>\n",
       "      <td>NaN</td>\n",
       "      <td>...</td>\n",
       "      <td>NaN</td>\n",
       "      <td>45.818409</td>\n",
       "      <td>NaN</td>\n",
       "      <td>NaN</td>\n",
       "      <td>NaN</td>\n",
       "      <td>NaN</td>\n",
       "      <td>54.306960</td>\n",
       "      <td>NaN</td>\n",
       "      <td>NaN</td>\n",
       "      <td>NaN</td>\n",
       "    </tr>\n",
       "    <tr>\n",
       "      <th>2</th>\n",
       "      <td>Afghanistan</td>\n",
       "      <td>AFG</td>\n",
       "      <td>Acute respiratory infections treated (% of chi...</td>\n",
       "      <td>HF.STA.ARIC.ZS.Q2</td>\n",
       "      <td>NaN</td>\n",
       "      <td>NaN</td>\n",
       "      <td>NaN</td>\n",
       "      <td>NaN</td>\n",
       "      <td>NaN</td>\n",
       "      <td>NaN</td>\n",
       "      <td>...</td>\n",
       "      <td>NaN</td>\n",
       "      <td>59.437793</td>\n",
       "      <td>NaN</td>\n",
       "      <td>NaN</td>\n",
       "      <td>NaN</td>\n",
       "      <td>NaN</td>\n",
       "      <td>65.181047</td>\n",
       "      <td>NaN</td>\n",
       "      <td>NaN</td>\n",
       "      <td>NaN</td>\n",
       "    </tr>\n",
       "    <tr>\n",
       "      <th>3</th>\n",
       "      <td>Afghanistan</td>\n",
       "      <td>AFG</td>\n",
       "      <td>Acute respiratory infections treated (% of chi...</td>\n",
       "      <td>HF.STA.ARIC.ZS.Q3</td>\n",
       "      <td>NaN</td>\n",
       "      <td>NaN</td>\n",
       "      <td>NaN</td>\n",
       "      <td>NaN</td>\n",
       "      <td>NaN</td>\n",
       "      <td>NaN</td>\n",
       "      <td>...</td>\n",
       "      <td>NaN</td>\n",
       "      <td>65.523684</td>\n",
       "      <td>NaN</td>\n",
       "      <td>NaN</td>\n",
       "      <td>NaN</td>\n",
       "      <td>NaN</td>\n",
       "      <td>57.236749</td>\n",
       "      <td>NaN</td>\n",
       "      <td>NaN</td>\n",
       "      <td>NaN</td>\n",
       "    </tr>\n",
       "    <tr>\n",
       "      <th>4</th>\n",
       "      <td>Afghanistan</td>\n",
       "      <td>AFG</td>\n",
       "      <td>Acute respiratory infections treated (% of chi...</td>\n",
       "      <td>HF.STA.ARIC.ZS.Q4</td>\n",
       "      <td>NaN</td>\n",
       "      <td>NaN</td>\n",
       "      <td>NaN</td>\n",
       "      <td>NaN</td>\n",
       "      <td>NaN</td>\n",
       "      <td>NaN</td>\n",
       "      <td>...</td>\n",
       "      <td>NaN</td>\n",
       "      <td>63.517118</td>\n",
       "      <td>NaN</td>\n",
       "      <td>NaN</td>\n",
       "      <td>NaN</td>\n",
       "      <td>NaN</td>\n",
       "      <td>66.636157</td>\n",
       "      <td>NaN</td>\n",
       "      <td>NaN</td>\n",
       "      <td>NaN</td>\n",
       "    </tr>\n",
       "    <tr>\n",
       "      <th>...</th>\n",
       "      <td>...</td>\n",
       "      <td>...</td>\n",
       "      <td>...</td>\n",
       "      <td>...</td>\n",
       "      <td>...</td>\n",
       "      <td>...</td>\n",
       "      <td>...</td>\n",
       "      <td>...</td>\n",
       "      <td>...</td>\n",
       "      <td>...</td>\n",
       "      <td>...</td>\n",
       "      <td>...</td>\n",
       "      <td>...</td>\n",
       "      <td>...</td>\n",
       "      <td>...</td>\n",
       "      <td>...</td>\n",
       "      <td>...</td>\n",
       "      <td>...</td>\n",
       "      <td>...</td>\n",
       "      <td>...</td>\n",
       "      <td>...</td>\n",
       "    </tr>\n",
       "    <tr>\n",
       "      <th>62050</th>\n",
       "      <td>Zimbabwe</td>\n",
       "      <td>ZWE</td>\n",
       "      <td>Use of insecticide-treated bed nets (% of unde...</td>\n",
       "      <td>HF.MLR.NETS.ZS.Q1</td>\n",
       "      <td>NaN</td>\n",
       "      <td>NaN</td>\n",
       "      <td>NaN</td>\n",
       "      <td>NaN</td>\n",
       "      <td>NaN</td>\n",
       "      <td>NaN</td>\n",
       "      <td>...</td>\n",
       "      <td>NaN</td>\n",
       "      <td>9.697901</td>\n",
       "      <td>NaN</td>\n",
       "      <td>NaN</td>\n",
       "      <td>NaN</td>\n",
       "      <td>33.460024</td>\n",
       "      <td>9.445526</td>\n",
       "      <td>NaN</td>\n",
       "      <td>NaN</td>\n",
       "      <td>NaN</td>\n",
       "    </tr>\n",
       "    <tr>\n",
       "      <th>62051</th>\n",
       "      <td>Zimbabwe</td>\n",
       "      <td>ZWE</td>\n",
       "      <td>Use of insecticide-treated bed nets (% of unde...</td>\n",
       "      <td>HF.MLR.NETS.ZS.Q2</td>\n",
       "      <td>NaN</td>\n",
       "      <td>NaN</td>\n",
       "      <td>NaN</td>\n",
       "      <td>NaN</td>\n",
       "      <td>NaN</td>\n",
       "      <td>NaN</td>\n",
       "      <td>...</td>\n",
       "      <td>NaN</td>\n",
       "      <td>9.436990</td>\n",
       "      <td>NaN</td>\n",
       "      <td>NaN</td>\n",
       "      <td>NaN</td>\n",
       "      <td>29.164651</td>\n",
       "      <td>10.388638</td>\n",
       "      <td>NaN</td>\n",
       "      <td>NaN</td>\n",
       "      <td>NaN</td>\n",
       "    </tr>\n",
       "    <tr>\n",
       "      <th>62052</th>\n",
       "      <td>Zimbabwe</td>\n",
       "      <td>ZWE</td>\n",
       "      <td>Use of insecticide-treated bed nets (% of unde...</td>\n",
       "      <td>HF.MLR.NETS.ZS.Q3</td>\n",
       "      <td>NaN</td>\n",
       "      <td>NaN</td>\n",
       "      <td>NaN</td>\n",
       "      <td>NaN</td>\n",
       "      <td>NaN</td>\n",
       "      <td>NaN</td>\n",
       "      <td>...</td>\n",
       "      <td>NaN</td>\n",
       "      <td>9.830812</td>\n",
       "      <td>NaN</td>\n",
       "      <td>NaN</td>\n",
       "      <td>NaN</td>\n",
       "      <td>25.598219</td>\n",
       "      <td>10.053198</td>\n",
       "      <td>NaN</td>\n",
       "      <td>NaN</td>\n",
       "      <td>NaN</td>\n",
       "    </tr>\n",
       "    <tr>\n",
       "      <th>62053</th>\n",
       "      <td>Zimbabwe</td>\n",
       "      <td>ZWE</td>\n",
       "      <td>Use of insecticide-treated bed nets (% of unde...</td>\n",
       "      <td>HF.MLR.NETS.ZS.Q4</td>\n",
       "      <td>NaN</td>\n",
       "      <td>NaN</td>\n",
       "      <td>NaN</td>\n",
       "      <td>NaN</td>\n",
       "      <td>NaN</td>\n",
       "      <td>NaN</td>\n",
       "      <td>...</td>\n",
       "      <td>NaN</td>\n",
       "      <td>10.367597</td>\n",
       "      <td>NaN</td>\n",
       "      <td>NaN</td>\n",
       "      <td>NaN</td>\n",
       "      <td>21.713442</td>\n",
       "      <td>6.969739</td>\n",
       "      <td>NaN</td>\n",
       "      <td>NaN</td>\n",
       "      <td>NaN</td>\n",
       "    </tr>\n",
       "    <tr>\n",
       "      <th>62054</th>\n",
       "      <td>Zimbabwe</td>\n",
       "      <td>ZWE</td>\n",
       "      <td>Use of insecticide-treated bed nets (% of unde...</td>\n",
       "      <td>HF.MLR.NETS.ZS.Q5</td>\n",
       "      <td>NaN</td>\n",
       "      <td>NaN</td>\n",
       "      <td>NaN</td>\n",
       "      <td>NaN</td>\n",
       "      <td>NaN</td>\n",
       "      <td>NaN</td>\n",
       "      <td>...</td>\n",
       "      <td>NaN</td>\n",
       "      <td>10.448778</td>\n",
       "      <td>NaN</td>\n",
       "      <td>NaN</td>\n",
       "      <td>NaN</td>\n",
       "      <td>17.344494</td>\n",
       "      <td>7.669484</td>\n",
       "      <td>NaN</td>\n",
       "      <td>NaN</td>\n",
       "      <td>NaN</td>\n",
       "    </tr>\n",
       "  </tbody>\n",
       "</table>\n",
       "<p>62055 rows × 41 columns</p>\n",
       "</div>"
      ],
      "text/plain": [
       "      Country Name Country Code  \\\n",
       "0      Afghanistan          AFG   \n",
       "1      Afghanistan          AFG   \n",
       "2      Afghanistan          AFG   \n",
       "3      Afghanistan          AFG   \n",
       "4      Afghanistan          AFG   \n",
       "...            ...          ...   \n",
       "62050     Zimbabwe          ZWE   \n",
       "62051     Zimbabwe          ZWE   \n",
       "62052     Zimbabwe          ZWE   \n",
       "62053     Zimbabwe          ZWE   \n",
       "62054     Zimbabwe          ZWE   \n",
       "\n",
       "                                          Indicator Name     Indicator Code  \\\n",
       "0      Acute respiratory infections treated (% of chi...     HF.STA.ARIC.ZS   \n",
       "1      Acute respiratory infections treated (% of chi...  HF.STA.ARIC.ZS.Q1   \n",
       "2      Acute respiratory infections treated (% of chi...  HF.STA.ARIC.ZS.Q2   \n",
       "3      Acute respiratory infections treated (% of chi...  HF.STA.ARIC.ZS.Q3   \n",
       "4      Acute respiratory infections treated (% of chi...  HF.STA.ARIC.ZS.Q4   \n",
       "...                                                  ...                ...   \n",
       "62050  Use of insecticide-treated bed nets (% of unde...  HF.MLR.NETS.ZS.Q1   \n",
       "62051  Use of insecticide-treated bed nets (% of unde...  HF.MLR.NETS.ZS.Q2   \n",
       "62052  Use of insecticide-treated bed nets (% of unde...  HF.MLR.NETS.ZS.Q3   \n",
       "62053  Use of insecticide-treated bed nets (% of unde...  HF.MLR.NETS.ZS.Q4   \n",
       "62054  Use of insecticide-treated bed nets (% of unde...  HF.MLR.NETS.ZS.Q5   \n",
       "\n",
       "       1982  1983  1984  1985  1986  1987  ...  2009       2010  2011  2012  \\\n",
       "0       NaN   NaN   NaN   NaN   NaN   NaN  ...   NaN  60.355908   NaN   NaN   \n",
       "1       NaN   NaN   NaN   NaN   NaN   NaN  ...   NaN  45.818409   NaN   NaN   \n",
       "2       NaN   NaN   NaN   NaN   NaN   NaN  ...   NaN  59.437793   NaN   NaN   \n",
       "3       NaN   NaN   NaN   NaN   NaN   NaN  ...   NaN  65.523684   NaN   NaN   \n",
       "4       NaN   NaN   NaN   NaN   NaN   NaN  ...   NaN  63.517118   NaN   NaN   \n",
       "...     ...   ...   ...   ...   ...   ...  ...   ...        ...   ...   ...   \n",
       "62050   NaN   NaN   NaN   NaN   NaN   NaN  ...   NaN   9.697901   NaN   NaN   \n",
       "62051   NaN   NaN   NaN   NaN   NaN   NaN  ...   NaN   9.436990   NaN   NaN   \n",
       "62052   NaN   NaN   NaN   NaN   NaN   NaN  ...   NaN   9.830812   NaN   NaN   \n",
       "62053   NaN   NaN   NaN   NaN   NaN   NaN  ...   NaN  10.367597   NaN   NaN   \n",
       "62054   NaN   NaN   NaN   NaN   NaN   NaN  ...   NaN  10.448778   NaN   NaN   \n",
       "\n",
       "       2013       2014       2015  2016  2017  2018  \n",
       "0       NaN        NaN  61.427754   NaN   NaN   NaN  \n",
       "1       NaN        NaN  54.306960   NaN   NaN   NaN  \n",
       "2       NaN        NaN  65.181047   NaN   NaN   NaN  \n",
       "3       NaN        NaN  57.236749   NaN   NaN   NaN  \n",
       "4       NaN        NaN  66.636157   NaN   NaN   NaN  \n",
       "...     ...        ...        ...   ...   ...   ...  \n",
       "62050   NaN  33.460024   9.445526   NaN   NaN   NaN  \n",
       "62051   NaN  29.164651  10.388638   NaN   NaN   NaN  \n",
       "62052   NaN  25.598219  10.053198   NaN   NaN   NaN  \n",
       "62053   NaN  21.713442   6.969739   NaN   NaN   NaN  \n",
       "62054   NaN  17.344494   7.669484   NaN   NaN   NaN  \n",
       "\n",
       "[62055 rows x 41 columns]"
      ]
     },
     "execution_count": 18,
     "metadata": {},
     "output_type": "execute_result"
    }
   ],
   "source": [
    "dt"
   ]
  },
  {
   "cell_type": "code",
   "execution_count": 17,
   "id": "64856033",
   "metadata": {},
   "outputs": [
    {
     "data": {
      "text/plain": [
       "<bound method DataFrame.info of       Country Name Country Code  \\\n",
       "0      Afghanistan          AFG   \n",
       "1      Afghanistan          AFG   \n",
       "2      Afghanistan          AFG   \n",
       "3      Afghanistan          AFG   \n",
       "4      Afghanistan          AFG   \n",
       "...            ...          ...   \n",
       "62050     Zimbabwe          ZWE   \n",
       "62051     Zimbabwe          ZWE   \n",
       "62052     Zimbabwe          ZWE   \n",
       "62053     Zimbabwe          ZWE   \n",
       "62054     Zimbabwe          ZWE   \n",
       "\n",
       "                                          Indicator Name     Indicator Code  \\\n",
       "0      Acute respiratory infections treated (% of chi...     HF.STA.ARIC.ZS   \n",
       "1      Acute respiratory infections treated (% of chi...  HF.STA.ARIC.ZS.Q1   \n",
       "2      Acute respiratory infections treated (% of chi...  HF.STA.ARIC.ZS.Q2   \n",
       "3      Acute respiratory infections treated (% of chi...  HF.STA.ARIC.ZS.Q3   \n",
       "4      Acute respiratory infections treated (% of chi...  HF.STA.ARIC.ZS.Q4   \n",
       "...                                                  ...                ...   \n",
       "62050  Use of insecticide-treated bed nets (% of unde...  HF.MLR.NETS.ZS.Q1   \n",
       "62051  Use of insecticide-treated bed nets (% of unde...  HF.MLR.NETS.ZS.Q2   \n",
       "62052  Use of insecticide-treated bed nets (% of unde...  HF.MLR.NETS.ZS.Q3   \n",
       "62053  Use of insecticide-treated bed nets (% of unde...  HF.MLR.NETS.ZS.Q4   \n",
       "62054  Use of insecticide-treated bed nets (% of unde...  HF.MLR.NETS.ZS.Q5   \n",
       "\n",
       "       1982  1983  1984  1985  1986  1987  ...  2009       2010  2011  2012  \\\n",
       "0       NaN   NaN   NaN   NaN   NaN   NaN  ...   NaN  60.355908   NaN   NaN   \n",
       "1       NaN   NaN   NaN   NaN   NaN   NaN  ...   NaN  45.818409   NaN   NaN   \n",
       "2       NaN   NaN   NaN   NaN   NaN   NaN  ...   NaN  59.437793   NaN   NaN   \n",
       "3       NaN   NaN   NaN   NaN   NaN   NaN  ...   NaN  65.523684   NaN   NaN   \n",
       "4       NaN   NaN   NaN   NaN   NaN   NaN  ...   NaN  63.517118   NaN   NaN   \n",
       "...     ...   ...   ...   ...   ...   ...  ...   ...        ...   ...   ...   \n",
       "62050   NaN   NaN   NaN   NaN   NaN   NaN  ...   NaN   9.697901   NaN   NaN   \n",
       "62051   NaN   NaN   NaN   NaN   NaN   NaN  ...   NaN   9.436990   NaN   NaN   \n",
       "62052   NaN   NaN   NaN   NaN   NaN   NaN  ...   NaN   9.830812   NaN   NaN   \n",
       "62053   NaN   NaN   NaN   NaN   NaN   NaN  ...   NaN  10.367597   NaN   NaN   \n",
       "62054   NaN   NaN   NaN   NaN   NaN   NaN  ...   NaN  10.448778   NaN   NaN   \n",
       "\n",
       "       2013       2014       2015  2016  2017  2018  \n",
       "0       NaN        NaN  61.427754   NaN   NaN   NaN  \n",
       "1       NaN        NaN  54.306960   NaN   NaN   NaN  \n",
       "2       NaN        NaN  65.181047   NaN   NaN   NaN  \n",
       "3       NaN        NaN  57.236749   NaN   NaN   NaN  \n",
       "4       NaN        NaN  66.636157   NaN   NaN   NaN  \n",
       "...     ...        ...        ...   ...   ...   ...  \n",
       "62050   NaN  33.460024   9.445526   NaN   NaN   NaN  \n",
       "62051   NaN  29.164651  10.388638   NaN   NaN   NaN  \n",
       "62052   NaN  25.598219  10.053198   NaN   NaN   NaN  \n",
       "62053   NaN  21.713442   6.969739   NaN   NaN   NaN  \n",
       "62054   NaN  17.344494   7.669484   NaN   NaN   NaN  \n",
       "\n",
       "[62055 rows x 41 columns]>"
      ]
     },
     "execution_count": 17,
     "metadata": {},
     "output_type": "execute_result"
    }
   ],
   "source": [
    "dt.info"
   ]
  },
  {
   "cell_type": "code",
   "execution_count": 19,
   "id": "f4037832",
   "metadata": {},
   "outputs": [
    {
     "data": {
      "text/html": [
       "<div>\n",
       "<style scoped>\n",
       "    .dataframe tbody tr th:only-of-type {\n",
       "        vertical-align: middle;\n",
       "    }\n",
       "\n",
       "    .dataframe tbody tr th {\n",
       "        vertical-align: top;\n",
       "    }\n",
       "\n",
       "    .dataframe thead th {\n",
       "        text-align: right;\n",
       "    }\n",
       "</style>\n",
       "<table border=\"1\" class=\"dataframe\">\n",
       "  <thead>\n",
       "    <tr style=\"text-align: right;\">\n",
       "      <th></th>\n",
       "      <th>1982</th>\n",
       "      <th>1983</th>\n",
       "      <th>1984</th>\n",
       "      <th>1985</th>\n",
       "      <th>1986</th>\n",
       "      <th>1987</th>\n",
       "      <th>1988</th>\n",
       "      <th>1989</th>\n",
       "      <th>1990</th>\n",
       "      <th>1991</th>\n",
       "      <th>...</th>\n",
       "      <th>2009</th>\n",
       "      <th>2010</th>\n",
       "      <th>2011</th>\n",
       "      <th>2012</th>\n",
       "      <th>2013</th>\n",
       "      <th>2014</th>\n",
       "      <th>2015</th>\n",
       "      <th>2016</th>\n",
       "      <th>2017</th>\n",
       "      <th>2018</th>\n",
       "    </tr>\n",
       "  </thead>\n",
       "  <tbody>\n",
       "    <tr>\n",
       "      <th>count</th>\n",
       "      <td>1.000000</td>\n",
       "      <td>1.000000</td>\n",
       "      <td>15.000000</td>\n",
       "      <td>35.000000</td>\n",
       "      <td>35.000000</td>\n",
       "      <td>27.000000</td>\n",
       "      <td>21.000000</td>\n",
       "      <td>15.000000</td>\n",
       "      <td>298.000000</td>\n",
       "      <td>217.000000</td>\n",
       "      <td>...</td>\n",
       "      <td>1885.000000</td>\n",
       "      <td>3950.000000</td>\n",
       "      <td>4517.000000</td>\n",
       "      <td>3.121000e+03</td>\n",
       "      <td>2658.000000</td>\n",
       "      <td>3498.000000</td>\n",
       "      <td>2094.000000</td>\n",
       "      <td>1390.000000</td>\n",
       "      <td>357.000000</td>\n",
       "      <td>59.000000</td>\n",
       "    </tr>\n",
       "    <tr>\n",
       "      <th>mean</th>\n",
       "      <td>9.811054</td>\n",
       "      <td>9.713393</td>\n",
       "      <td>9.595286</td>\n",
       "      <td>12.476893</td>\n",
       "      <td>8.240528</td>\n",
       "      <td>8.220250</td>\n",
       "      <td>7.247452</td>\n",
       "      <td>12.077602</td>\n",
       "      <td>32.983255</td>\n",
       "      <td>26.608991</td>\n",
       "      <td>...</td>\n",
       "      <td>23.772957</td>\n",
       "      <td>22.333663</td>\n",
       "      <td>25.054075</td>\n",
       "      <td>2.670550e+01</td>\n",
       "      <td>27.366570</td>\n",
       "      <td>31.491216</td>\n",
       "      <td>27.867160</td>\n",
       "      <td>29.569840</td>\n",
       "      <td>41.054405</td>\n",
       "      <td>13.852262</td>\n",
       "    </tr>\n",
       "    <tr>\n",
       "      <th>std</th>\n",
       "      <td>NaN</td>\n",
       "      <td>NaN</td>\n",
       "      <td>26.257356</td>\n",
       "      <td>38.040308</td>\n",
       "      <td>25.391448</td>\n",
       "      <td>18.473818</td>\n",
       "      <td>18.480487</td>\n",
       "      <td>35.539854</td>\n",
       "      <td>39.040081</td>\n",
       "      <td>34.630384</td>\n",
       "      <td>...</td>\n",
       "      <td>35.139816</td>\n",
       "      <td>50.062558</td>\n",
       "      <td>29.451669</td>\n",
       "      <td>3.703215e+01</td>\n",
       "      <td>39.217558</td>\n",
       "      <td>35.370873</td>\n",
       "      <td>37.036014</td>\n",
       "      <td>48.649785</td>\n",
       "      <td>49.895670</td>\n",
       "      <td>93.020529</td>\n",
       "    </tr>\n",
       "    <tr>\n",
       "      <th>min</th>\n",
       "      <td>9.811054</td>\n",
       "      <td>9.713393</td>\n",
       "      <td>0.021790</td>\n",
       "      <td>0.001089</td>\n",
       "      <td>0.000000</td>\n",
       "      <td>0.000000</td>\n",
       "      <td>0.000000</td>\n",
       "      <td>0.019569</td>\n",
       "      <td>0.000000</td>\n",
       "      <td>0.003940</td>\n",
       "      <td>...</td>\n",
       "      <td>0.000000</td>\n",
       "      <td>0.000000</td>\n",
       "      <td>0.000000</td>\n",
       "      <td>-2.211891e-10</td>\n",
       "      <td>0.000000</td>\n",
       "      <td>0.000000</td>\n",
       "      <td>-0.000620</td>\n",
       "      <td>0.000000</td>\n",
       "      <td>0.000000</td>\n",
       "      <td>0.000000</td>\n",
       "    </tr>\n",
       "    <tr>\n",
       "      <th>25%</th>\n",
       "      <td>9.811054</td>\n",
       "      <td>9.713393</td>\n",
       "      <td>0.329610</td>\n",
       "      <td>0.339623</td>\n",
       "      <td>0.264364</td>\n",
       "      <td>1.221587</td>\n",
       "      <td>0.211755</td>\n",
       "      <td>0.350853</td>\n",
       "      <td>0.875137</td>\n",
       "      <td>0.880552</td>\n",
       "      <td>...</td>\n",
       "      <td>0.827324</td>\n",
       "      <td>0.409448</td>\n",
       "      <td>1.706701</td>\n",
       "      <td>1.589220e+00</td>\n",
       "      <td>1.093516</td>\n",
       "      <td>1.668043</td>\n",
       "      <td>0.937006</td>\n",
       "      <td>0.773917</td>\n",
       "      <td>0.847389</td>\n",
       "      <td>0.075702</td>\n",
       "    </tr>\n",
       "    <tr>\n",
       "      <th>50%</th>\n",
       "      <td>9.811054</td>\n",
       "      <td>9.713393</td>\n",
       "      <td>2.244750</td>\n",
       "      <td>2.407738</td>\n",
       "      <td>1.675484</td>\n",
       "      <td>3.768081</td>\n",
       "      <td>2.415513</td>\n",
       "      <td>2.210580</td>\n",
       "      <td>23.260214</td>\n",
       "      <td>12.321954</td>\n",
       "      <td>...</td>\n",
       "      <td>7.944475</td>\n",
       "      <td>3.246729</td>\n",
       "      <td>17.006803</td>\n",
       "      <td>1.485326e+01</td>\n",
       "      <td>13.535521</td>\n",
       "      <td>23.655193</td>\n",
       "      <td>13.562204</td>\n",
       "      <td>13.130552</td>\n",
       "      <td>34.695944</td>\n",
       "      <td>0.326553</td>\n",
       "    </tr>\n",
       "    <tr>\n",
       "      <th>75%</th>\n",
       "      <td>9.811054</td>\n",
       "      <td>9.713393</td>\n",
       "      <td>3.624320</td>\n",
       "      <td>5.807928</td>\n",
       "      <td>4.720453</td>\n",
       "      <td>9.319872</td>\n",
       "      <td>4.766865</td>\n",
       "      <td>3.925420</td>\n",
       "      <td>51.175484</td>\n",
       "      <td>42.238954</td>\n",
       "      <td>...</td>\n",
       "      <td>36.246971</td>\n",
       "      <td>28.266098</td>\n",
       "      <td>37.136894</td>\n",
       "      <td>4.045493e+01</td>\n",
       "      <td>44.172342</td>\n",
       "      <td>51.693067</td>\n",
       "      <td>46.687441</td>\n",
       "      <td>47.753628</td>\n",
       "      <td>67.272246</td>\n",
       "      <td>2.022825</td>\n",
       "    </tr>\n",
       "    <tr>\n",
       "      <th>max</th>\n",
       "      <td>9.811054</td>\n",
       "      <td>9.713393</td>\n",
       "      <td>103.738686</td>\n",
       "      <td>172.388992</td>\n",
       "      <td>146.796432</td>\n",
       "      <td>97.895149</td>\n",
       "      <td>86.394409</td>\n",
       "      <td>139.869583</td>\n",
       "      <td>239.644989</td>\n",
       "      <td>200.651215</td>\n",
       "      <td>...</td>\n",
       "      <td>429.138184</td>\n",
       "      <td>1016.209595</td>\n",
       "      <td>384.082214</td>\n",
       "      <td>6.717599e+02</td>\n",
       "      <td>655.624634</td>\n",
       "      <td>674.992676</td>\n",
       "      <td>645.832520</td>\n",
       "      <td>702.284912</td>\n",
       "      <td>709.605957</td>\n",
       "      <td>715.929565</td>\n",
       "    </tr>\n",
       "  </tbody>\n",
       "</table>\n",
       "<p>8 rows × 37 columns</p>\n",
       "</div>"
      ],
      "text/plain": [
       "           1982      1983        1984        1985        1986       1987  \\\n",
       "count  1.000000  1.000000   15.000000   35.000000   35.000000  27.000000   \n",
       "mean   9.811054  9.713393    9.595286   12.476893    8.240528   8.220250   \n",
       "std         NaN       NaN   26.257356   38.040308   25.391448  18.473818   \n",
       "min    9.811054  9.713393    0.021790    0.001089    0.000000   0.000000   \n",
       "25%    9.811054  9.713393    0.329610    0.339623    0.264364   1.221587   \n",
       "50%    9.811054  9.713393    2.244750    2.407738    1.675484   3.768081   \n",
       "75%    9.811054  9.713393    3.624320    5.807928    4.720453   9.319872   \n",
       "max    9.811054  9.713393  103.738686  172.388992  146.796432  97.895149   \n",
       "\n",
       "            1988        1989        1990        1991  ...         2009  \\\n",
       "count  21.000000   15.000000  298.000000  217.000000  ...  1885.000000   \n",
       "mean    7.247452   12.077602   32.983255   26.608991  ...    23.772957   \n",
       "std    18.480487   35.539854   39.040081   34.630384  ...    35.139816   \n",
       "min     0.000000    0.019569    0.000000    0.003940  ...     0.000000   \n",
       "25%     0.211755    0.350853    0.875137    0.880552  ...     0.827324   \n",
       "50%     2.415513    2.210580   23.260214   12.321954  ...     7.944475   \n",
       "75%     4.766865    3.925420   51.175484   42.238954  ...    36.246971   \n",
       "max    86.394409  139.869583  239.644989  200.651215  ...   429.138184   \n",
       "\n",
       "              2010         2011          2012         2013         2014  \\\n",
       "count  3950.000000  4517.000000  3.121000e+03  2658.000000  3498.000000   \n",
       "mean     22.333663    25.054075  2.670550e+01    27.366570    31.491216   \n",
       "std      50.062558    29.451669  3.703215e+01    39.217558    35.370873   \n",
       "min       0.000000     0.000000 -2.211891e-10     0.000000     0.000000   \n",
       "25%       0.409448     1.706701  1.589220e+00     1.093516     1.668043   \n",
       "50%       3.246729    17.006803  1.485326e+01    13.535521    23.655193   \n",
       "75%      28.266098    37.136894  4.045493e+01    44.172342    51.693067   \n",
       "max    1016.209595   384.082214  6.717599e+02   655.624634   674.992676   \n",
       "\n",
       "              2015         2016        2017        2018  \n",
       "count  2094.000000  1390.000000  357.000000   59.000000  \n",
       "mean     27.867160    29.569840   41.054405   13.852262  \n",
       "std      37.036014    48.649785   49.895670   93.020529  \n",
       "min      -0.000620     0.000000    0.000000    0.000000  \n",
       "25%       0.937006     0.773917    0.847389    0.075702  \n",
       "50%      13.562204    13.130552   34.695944    0.326553  \n",
       "75%      46.687441    47.753628   67.272246    2.022825  \n",
       "max     645.832520   702.284912  709.605957  715.929565  \n",
       "\n",
       "[8 rows x 37 columns]"
      ]
     },
     "execution_count": 19,
     "metadata": {},
     "output_type": "execute_result"
    }
   ],
   "source": [
    "dt.describe()"
   ]
  },
  {
   "cell_type": "code",
   "execution_count": 22,
   "id": "4c659b96",
   "metadata": {},
   "outputs": [
    {
     "data": {
      "text/plain": [
       "0    Afghanistan\n",
       "1    Afghanistan\n",
       "2    Afghanistan\n",
       "3    Afghanistan\n",
       "4    Afghanistan\n",
       "Name: Country Name, dtype: object"
      ]
     },
     "execution_count": 22,
     "metadata": {},
     "output_type": "execute_result"
    }
   ],
   "source": [
    "dt['Country Name'].head()"
   ]
  },
  {
   "cell_type": "code",
   "execution_count": 1,
   "id": "b62d3ed8",
   "metadata": {
    "collapsed": true
   },
   "outputs": [
    {
     "ename": "SyntaxError",
     "evalue": "invalid syntax (428952697.py, line 2)",
     "output_type": "error",
     "traceback": [
      "\u001b[1;36m  File \u001b[1;32m\"C:\\Users\\prath\\AppData\\Local\\Temp\\ipykernel_15712\\428952697.py\"\u001b[1;36m, line \u001b[1;32m2\u001b[0m\n\u001b[1;33m    *****\u001b[0m\n\u001b[1;37m    ^\u001b[0m\n\u001b[1;31mSyntaxError\u001b[0m\u001b[1;31m:\u001b[0m invalid syntax\n"
     ]
    }
   ],
   "source": [
    "# Print these pattern\n",
    "*****\n",
    "*****\n",
    "*****\n",
    "*****\n",
    "*****"
   ]
  },
  {
   "cell_type": "code",
   "execution_count": 30,
   "id": "8f9d1876",
   "metadata": {},
   "outputs": [],
   "source": [
    "def square_pattern():\n",
    "    a=int(input(\"Enter the first number >>\"))\n",
    "    b=int(input(\"Enter the second number >>\"))\n",
    "    for j in range(a):\n",
    "        print(end=\"\\n\")\n",
    "        for i in range(b):\n",
    "             print(\"*\",end=\" \")\n",
    "    \n",
    " "
   ]
  },
  {
   "cell_type": "code",
   "execution_count": 31,
   "id": "0f43fbd8",
   "metadata": {},
   "outputs": [
    {
     "name": "stdout",
     "output_type": "stream",
     "text": [
      "Enter the first number >>12\n",
      "Enter the second number >>50\n",
      "\n",
      "* * * * * * * * * * * * * * * * * * * * * * * * * * * * * * * * * * * * * * * * * * * * * * * * * * \n",
      "* * * * * * * * * * * * * * * * * * * * * * * * * * * * * * * * * * * * * * * * * * * * * * * * * * \n",
      "* * * * * * * * * * * * * * * * * * * * * * * * * * * * * * * * * * * * * * * * * * * * * * * * * * \n",
      "* * * * * * * * * * * * * * * * * * * * * * * * * * * * * * * * * * * * * * * * * * * * * * * * * * \n",
      "* * * * * * * * * * * * * * * * * * * * * * * * * * * * * * * * * * * * * * * * * * * * * * * * * * \n",
      "* * * * * * * * * * * * * * * * * * * * * * * * * * * * * * * * * * * * * * * * * * * * * * * * * * \n",
      "* * * * * * * * * * * * * * * * * * * * * * * * * * * * * * * * * * * * * * * * * * * * * * * * * * \n",
      "* * * * * * * * * * * * * * * * * * * * * * * * * * * * * * * * * * * * * * * * * * * * * * * * * * \n",
      "* * * * * * * * * * * * * * * * * * * * * * * * * * * * * * * * * * * * * * * * * * * * * * * * * * \n",
      "* * * * * * * * * * * * * * * * * * * * * * * * * * * * * * * * * * * * * * * * * * * * * * * * * * \n",
      "* * * * * * * * * * * * * * * * * * * * * * * * * * * * * * * * * * * * * * * * * * * * * * * * * * \n",
      "* * * * * * * * * * * * * * * * * * * * * * * * * * * * * * * * * * * * * * * * * * * * * * * * * * "
     ]
    }
   ],
   "source": [
    "square_pattern()"
   ]
  },
  {
   "cell_type": "code",
   "execution_count": 33,
   "id": "5dcce2a3",
   "metadata": {},
   "outputs": [
    {
     "name": "stdout",
     "output_type": "stream",
     "text": [
      "Enter the first number >>22\n",
      "\n",
      "\n",
      "*\n",
      "**\n",
      "***\n",
      "****\n",
      "*****\n",
      "******\n",
      "*******\n",
      "********\n",
      "*********\n",
      "**********\n",
      "***********\n",
      "************\n",
      "*************\n",
      "**************\n",
      "***************\n",
      "****************\n",
      "*****************\n",
      "******************\n",
      "*******************\n",
      "********************\n",
      "*********************"
     ]
    }
   ],
   "source": [
    "a=int(input(\"Enter the first number >>\"))\n",
    "for i in range(1,a+1):\n",
    "    print(end='\\n')\n",
    "    for j in range(1,i):\n",
    "        print(\"*\",end=\"\")\n"
   ]
  },
  {
   "cell_type": "code",
   "execution_count": 35,
   "id": "2848db4c",
   "metadata": {},
   "outputs": [
    {
     "name": "stdout",
     "output_type": "stream",
     "text": [
      "Enter the first number >>12\n",
      "\n",
      "************\n",
      "***********\n",
      "**********\n",
      "*********\n",
      "********\n",
      "*******\n",
      "******\n",
      "*****\n",
      "****\n",
      "***\n",
      "**\n",
      "*"
     ]
    }
   ],
   "source": [
    "a=int(input(\"Enter the first number >>\"))\n",
    "for i in range(a,0,-1):\n",
    "    print(end='\\n')\n",
    "    for j in range(1,i+1):\n",
    "        print(\"*\",end=\"\")"
   ]
  },
  {
   "cell_type": "code",
   "execution_count": null,
   "id": "1bf17770",
   "metadata": {},
   "outputs": [],
   "source": []
  }
 ],
 "metadata": {
  "kernelspec": {
   "display_name": "Python 3 (ipykernel)",
   "language": "python",
   "name": "python3"
  },
  "language_info": {
   "codemirror_mode": {
    "name": "ipython",
    "version": 3
   },
   "file_extension": ".py",
   "mimetype": "text/x-python",
   "name": "python",
   "nbconvert_exporter": "python",
   "pygments_lexer": "ipython3",
   "version": "3.9.13"
  }
 },
 "nbformat": 4,
 "nbformat_minor": 5
}
