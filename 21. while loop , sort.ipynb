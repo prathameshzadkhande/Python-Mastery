{
 "cells": [
  {
   "cell_type": "code",
   "execution_count": 1,
   "id": "d76753d9",
   "metadata": {},
   "outputs": [],
   "source": [
    "# sort each sublist"
   ]
  },
  {
   "cell_type": "code",
   "execution_count": 8,
   "id": "1be52f99",
   "metadata": {},
   "outputs": [
    {
     "data": {
      "text/plain": [
       "[2, 3, 4, 5, 5, 54, 65, 634]"
      ]
     },
     "execution_count": 8,
     "metadata": {},
     "output_type": "execute_result"
    }
   ],
   "source": [
    "l1=[54,2,3,4,5,5,65,634]\n",
    "sorted(l1)"
   ]
  },
  {
   "cell_type": "code",
   "execution_count": 9,
   "id": "8b9f4b13",
   "metadata": {},
   "outputs": [],
   "source": [
    "# reduce function"
   ]
  },
  {
   "cell_type": "code",
   "execution_count": 10,
   "id": "a79ecf96",
   "metadata": {},
   "outputs": [],
   "source": [
    "from functools import reduce"
   ]
  },
  {
   "cell_type": "code",
   "execution_count": 11,
   "id": "7d2dd81e",
   "metadata": {},
   "outputs": [
    {
     "data": {
      "text/plain": [
       "[54, 2, 3, 4, 5, 5, 65, 634]"
      ]
     },
     "execution_count": 11,
     "metadata": {},
     "output_type": "execute_result"
    }
   ],
   "source": [
    "l1"
   ]
  },
  {
   "cell_type": "code",
   "execution_count": 12,
   "id": "7332d524",
   "metadata": {},
   "outputs": [
    {
     "data": {
      "text/plain": [
       "772"
      ]
     },
     "execution_count": 12,
     "metadata": {},
     "output_type": "execute_result"
    }
   ],
   "source": [
    "reduce(lambda x,y:x+y ,l1)"
   ]
  },
  {
   "cell_type": "code",
   "execution_count": 15,
   "id": "7dd8627e",
   "metadata": {},
   "outputs": [
    {
     "name": "stdout",
     "output_type": "stream",
     "text": [
      "772\n"
     ]
    }
   ],
   "source": [
    "# using for loop\n",
    "c=0\n",
    "for i in l1:\n",
    "    c=i+c\n",
    "print(c)"
   ]
  },
  {
   "cell_type": "code",
   "execution_count": 17,
   "id": "75115dfe",
   "metadata": {},
   "outputs": [],
   "source": [
    "list1=[2,4,7,5,89,67,54]\n",
    "# x=2,y=4 > 6\n",
    "# x=6,y=7 > 13\n",
    "# x=13,y=5 > 18\n",
    "# x=18,y=89 > 107\n",
    "# x=107,y=67 > 174\n",
    "# x=174,y=54 > 228"
   ]
  },
  {
   "cell_type": "code",
   "execution_count": 18,
   "id": "6076d88c",
   "metadata": {},
   "outputs": [
    {
     "data": {
      "text/plain": [
       "228"
      ]
     },
     "execution_count": 18,
     "metadata": {},
     "output_type": "execute_result"
    }
   ],
   "source": [
    "reduce(lambda x,y:x+y,list1)"
   ]
  },
  {
   "cell_type": "markdown",
   "id": "27408b32",
   "metadata": {},
   "source": [
    "#### while loop"
   ]
  },
  {
   "cell_type": "code",
   "execution_count": 22,
   "id": "c8f69157",
   "metadata": {},
   "outputs": [
    {
     "name": "stdout",
     "output_type": "stream",
     "text": [
      "1\n",
      "2\n",
      "3\n",
      "4\n",
      "5\n"
     ]
    }
   ],
   "source": [
    "a=1\n",
    "while a<=5:\n",
    "    print(a)\n",
    "    a+=1"
   ]
  },
  {
   "cell_type": "code",
   "execution_count": 27,
   "id": "47d85dfa",
   "metadata": {},
   "outputs": [
    {
     "name": "stdout",
     "output_type": "stream",
     "text": [
      "P >> 0\n",
      "r >> 1\n",
      "a >> 2\n",
      "t >> 3\n",
      "h >> 4\n",
      "a >> 5\n",
      "m >> 6\n",
      "e >> 7\n",
      "s >> 8\n",
      "h >> 9\n"
     ]
    }
   ],
   "source": [
    "str1=\"Prathamesh\"\n",
    "a=0\n",
    "while a<len(str1):\n",
    "    print(f\"{str1[a]} >> {a}\")\n",
    "    a+=1"
   ]
  },
  {
   "cell_type": "code",
   "execution_count": 1,
   "id": "623bbc16",
   "metadata": {},
   "outputs": [
    {
     "name": "stdout",
     "output_type": "stream",
     "text": [
      "P >> -10\n",
      "r >> -9\n",
      "a >> -8\n",
      "t >> -7\n",
      "h >> -6\n",
      "a >> -5\n",
      "m >> -4\n",
      "e >> -3\n",
      "s >> -2\n",
      "h >> -1\n"
     ]
    }
   ],
   "source": [
    "str1=\"Prathamesh\"\n",
    "a=-len(str1)\n",
    "while a<0:\n",
    "    print(f\"{str1[a]} >> {a}\")\n",
    "    a+=1"
   ]
  },
  {
   "cell_type": "code",
   "execution_count": 2,
   "id": "aaba97dd",
   "metadata": {},
   "outputs": [
    {
     "name": "stdout",
     "output_type": "stream",
     "text": [
      "\n",
      "*\n",
      "**\n",
      "***\n",
      "****\n",
      "*****\n"
     ]
    }
   ],
   "source": [
    "a=0\n",
    "while a<6:\n",
    "    print(\"*\"*a)\n",
    "    a+=1"
   ]
  },
  {
   "cell_type": "code",
   "execution_count": 5,
   "id": "6c66f44a",
   "metadata": {},
   "outputs": [
    {
     "name": "stdout",
     "output_type": "stream",
     "text": [
      "******\n",
      "*****\n",
      "****\n",
      "***\n",
      "**\n",
      "*\n"
     ]
    }
   ],
   "source": [
    "a=6\n",
    "while a>0:\n",
    "    print(\"*\"*a)\n",
    "    a-=1"
   ]
  },
  {
   "cell_type": "code",
   "execution_count": 9,
   "id": "308953fd",
   "metadata": {},
   "outputs": [
    {
     "name": "stdout",
     "output_type": "stream",
     "text": [
      "******\n",
      "*****\n",
      "****\n",
      "***\n",
      "**\n",
      "*\n",
      "\n"
     ]
    }
   ],
   "source": [
    "for i in range(6,-1,-1):\n",
    "    print(\"*\"*i)\n",
    "    "
   ]
  },
  {
   "cell_type": "code",
   "execution_count": 11,
   "id": "b4ea59a0",
   "metadata": {},
   "outputs": [
    {
     "name": "stdout",
     "output_type": "stream",
     "text": [
      "1 * 2 == 2\n",
      "2 * 2 == 4\n",
      "3 * 2 == 6\n",
      "4 * 2 == 8\n",
      "5 * 2 == 10\n",
      "6 * 2 == 12\n",
      "7 * 2 == 14\n",
      "8 * 2 == 16\n",
      "9 * 2 == 18\n",
      "10 * 2 == 20\n"
     ]
    }
   ],
   "source": [
    "a=1\n",
    "while a<11:\n",
    "    print(f\"{a} * 2 == {a*2}\")\n",
    "    a+=1"
   ]
  },
  {
   "cell_type": "code",
   "execution_count": 16,
   "id": "832da864",
   "metadata": {},
   "outputs": [],
   "source": [
    "def table(b):\n",
    "    a=1\n",
    "    while a<11:\n",
    "        print(f\"{b} * {a} == {a*b}\")\n",
    "        a+=1\n",
    "    "
   ]
  },
  {
   "cell_type": "code",
   "execution_count": 17,
   "id": "821d55b1",
   "metadata": {},
   "outputs": [
    {
     "name": "stdout",
     "output_type": "stream",
     "text": [
      "3 * 1 == 3\n",
      "3 * 2 == 6\n",
      "3 * 3 == 9\n",
      "3 * 4 == 12\n",
      "3 * 5 == 15\n",
      "3 * 6 == 18\n",
      "3 * 7 == 21\n",
      "3 * 8 == 24\n",
      "3 * 9 == 27\n",
      "3 * 10 == 30\n"
     ]
    }
   ],
   "source": [
    "table(3)"
   ]
  },
  {
   "cell_type": "code",
   "execution_count": 24,
   "id": "4db20a7b",
   "metadata": {},
   "outputs": [],
   "source": [
    "def table_for(a):\n",
    "    for i in range(1,11):\n",
    "        print(i*a)"
   ]
  },
  {
   "cell_type": "code",
   "execution_count": 25,
   "id": "cb1b24dc",
   "metadata": {},
   "outputs": [
    {
     "name": "stdout",
     "output_type": "stream",
     "text": [
      "2\n",
      "4\n",
      "6\n",
      "8\n",
      "10\n",
      "12\n",
      "14\n",
      "16\n",
      "18\n",
      "20\n"
     ]
    }
   ],
   "source": [
    "table_for(2)"
   ]
  },
  {
   "cell_type": "code",
   "execution_count": 26,
   "id": "306ba0f0",
   "metadata": {},
   "outputs": [
    {
     "name": "stdout",
     "output_type": "stream",
     "text": [
      "0\n",
      "-1\n",
      "-2\n",
      "-3\n",
      "-4\n",
      "value become -5 and i stop the while loop\n"
     ]
    }
   ],
   "source": [
    "i=0\n",
    "while i<10:\n",
    "    print(i)\n",
    "    i-=1\n",
    "    if i==-5:\n",
    "        print(\"value become -5 and i stop the while loop\")\n",
    "        break"
   ]
  },
  {
   "cell_type": "code",
   "execution_count": 27,
   "id": "45957b85",
   "metadata": {},
   "outputs": [
    {
     "name": "stdout",
     "output_type": "stream",
     "text": [
      "1\n",
      "2\n",
      "3\n",
      "4\n",
      "5\n",
      "6\n",
      "7\n",
      "8\n",
      "9\n",
      "10\n",
      "11\n",
      "12\n",
      "13\n",
      "14\n",
      "15\n",
      "16\n",
      "17\n",
      "18\n",
      "19\n",
      "i become 20 and want to stop\n"
     ]
    }
   ],
   "source": [
    "i=1\n",
    "while i>0:\n",
    "    print(i)\n",
    "    i+=1\n",
    "    if i==20:\n",
    "        print(\"i become 20 and want to stop\")\n",
    "        break\n",
    "    "
   ]
  },
  {
   "cell_type": "code",
   "execution_count": 28,
   "id": "477d4270",
   "metadata": {},
   "outputs": [
    {
     "name": "stdout",
     "output_type": "stream",
     "text": [
      "5\n",
      "6\n",
      "continue executed 7\n",
      "7\n",
      "8\n",
      "9\n",
      "10\n"
     ]
    }
   ],
   "source": [
    "i=5\n",
    "while i<=10:\n",
    "    print(i)\n",
    "    i+=1\n",
    "    if i==7:\n",
    "        print(\"continue executed\",i)\n",
    "        continue"
   ]
  },
  {
   "cell_type": "code",
   "execution_count": 29,
   "id": "94fdf2d1",
   "metadata": {},
   "outputs": [
    {
     "name": "stdout",
     "output_type": "stream",
     "text": [
      "5\n",
      "6\n",
      "8\n",
      "9\n",
      "10\n"
     ]
    }
   ],
   "source": [
    "i=5\n",
    "while i<=10:\n",
    "    if i==7:\n",
    "        pass\n",
    "    else:\n",
    "        print(i)\n",
    "    i+=1\n"
   ]
  },
  {
   "cell_type": "code",
   "execution_count": 30,
   "id": "15db696b",
   "metadata": {},
   "outputs": [],
   "source": [
    "# create a function for fartrial using while loop"
   ]
  },
  {
   "cell_type": "code",
   "execution_count": 33,
   "id": "9688059a",
   "metadata": {},
   "outputs": [],
   "source": [
    "c=1\n",
    "a=1\n",
    "while a<6:\n",
    "    c=a*c\n",
    "    a+=1"
   ]
  },
  {
   "cell_type": "code",
   "execution_count": 38,
   "id": "b957d850",
   "metadata": {},
   "outputs": [],
   "source": [
    "def factorial(d):\n",
    "    c=1\n",
    "    a=1\n",
    "    while a<d+1:\n",
    "        c=a*c\n",
    "        a+=1\n",
    "    return c"
   ]
  },
  {
   "cell_type": "code",
   "execution_count": 41,
   "id": "f3082787",
   "metadata": {},
   "outputs": [
    {
     "data": {
      "text/plain": [
       "24"
      ]
     },
     "execution_count": 41,
     "metadata": {},
     "output_type": "execute_result"
    }
   ],
   "source": [
    "factorial(4)"
   ]
  },
  {
   "cell_type": "code",
   "execution_count": null,
   "id": "a232656c",
   "metadata": {},
   "outputs": [],
   "source": []
  },
  {
   "cell_type": "code",
   "execution_count": 7,
   "id": "707812c2",
   "metadata": {},
   "outputs": [
    {
     "name": "stdout",
     "output_type": "stream",
     "text": [
      "A \n",
      "B B \n",
      "C C C \n",
      "D D D D \n",
      "E E E E E \n"
     ]
    }
   ],
   "source": [
    "b=1\n",
    "a=65\n",
    "while a<70:\n",
    "    print(f\"{chr(a=)} \"*b)\n",
    "    a+=1\n",
    "    b+=1"
   ]
  },
  {
   "cell_type": "code",
   "execution_count": null,
   "id": "affa11da",
   "metadata": {},
   "outputs": [],
   "source": [
    "for i in range(chr)"
   ]
  },
  {
   "cell_type": "code",
   "execution_count": 15,
   "id": "e5ea12cf",
   "metadata": {},
   "outputs": [
    {
     "name": "stdout",
     "output_type": "stream",
     "text": [
      "A \n",
      "B C \n",
      "D E F \n",
      "G H I J \n",
      "K L M N O \n"
     ]
    }
   ],
   "source": [
    "p=65\n",
    "for i in range(5):\n",
    "    for j in range(i+1):\n",
    "        print(chr(p),end=' ')\n",
    "        p+=1\n",
    "    print()\n"
   ]
  },
  {
   "cell_type": "code",
   "execution_count": null,
   "id": "516a7379",
   "metadata": {},
   "outputs": [],
   "source": []
  },
  {
   "cell_type": "code",
   "execution_count": 2,
   "id": "6642ab93",
   "metadata": {},
   "outputs": [
    {
     "name": "stdout",
     "output_type": "stream",
     "text": [
      "1\n",
      "2\n",
      "3\n",
      "4\n",
      "5\n"
     ]
    }
   ],
   "source": [
    "a=1\n",
    "while a<=5:\n",
    "    print(a)\n",
    "    a+=1\n",
    "    if a==6:\n",
    "        break\n",
    "    else:\n",
    "        pass"
   ]
  },
  {
   "cell_type": "code",
   "execution_count": 5,
   "id": "be845634",
   "metadata": {},
   "outputs": [
    {
     "name": "stdout",
     "output_type": "stream",
     "text": [
      "2\n"
     ]
    }
   ],
   "source": [
    "d={'a':1,'b':2}\n",
    "print(d['b'])"
   ]
  },
  {
   "cell_type": "code",
   "execution_count": null,
   "id": "30a25a1c",
   "metadata": {},
   "outputs": [],
   "source": []
  },
  {
   "cell_type": "code",
   "execution_count": null,
   "id": "0d346e8f",
   "metadata": {},
   "outputs": [],
   "source": []
  }
 ],
 "metadata": {
  "kernelspec": {
   "display_name": "Python 3 (ipykernel)",
   "language": "python",
   "name": "python3"
  },
  "language_info": {
   "codemirror_mode": {
    "name": "ipython",
    "version": 3
   },
   "file_extension": ".py",
   "mimetype": "text/x-python",
   "name": "python",
   "nbconvert_exporter": "python",
   "pygments_lexer": "ipython3",
   "version": "3.9.13"
  }
 },
 "nbformat": 4,
 "nbformat_minor": 5
}
