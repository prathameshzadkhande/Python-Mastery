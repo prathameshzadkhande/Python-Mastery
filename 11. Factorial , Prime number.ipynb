{
 "cells": [
  {
   "cell_type": "code",
   "execution_count": 3,
   "id": "fb918fc9",
   "metadata": {},
   "outputs": [
    {
     "name": "stdout",
     "output_type": "stream",
     "text": [
      "[['Machine', 'Learning']] type >> <class 'list'>\n",
      "[{'Hellow': 'World'}] type >> <class 'list'>\n",
      "[0.5] type >> <class 'list'>\n",
      "[1, 3, 4, -12] type >> <class 'list'>\n",
      "[] type >> <class 'list'>\n",
      "['string', 'Colombo'] type >> <class 'list'>\n",
      "[(4123, 234, 234)] type >> <class 'list'>\n"
     ]
    }
   ],
   "source": [
    "l1=[0.5,1,3,4,-12,[\"Machine\",\"Learning\"],{\"Hellow\":\"World\"},(4123,234,234),'string',\"Colombo\"]\n",
    "list_tup=[i for i in l1 if type(i)==tuple]\n",
    "list_dictionary=[i for i in l1 if type(i)==dict]\n",
    "list_str=[i for i in l1 if type(i)==str]\n",
    "list_int=[i for i in l1 if type(i)==int]\n",
    "list_float=[i for i in l1 if type(i)==float]\n",
    "list_1=[i for i in l1 if type(i)==list]\n",
    "list_set=[i for i in l1 if type(i)==set]\n",
    "print(list_1, f\"type >> {type(list_1)}\")\n",
    "print(list_dictionary , f\"type >> {type(list_dictionary)}\")\n",
    "print(list_float, f\"type >> {type(list_float)}\")\n",
    "print(list_int, f\"type >> {type(list_int)}\")\n",
    "print(list_set, f\"type >> {type(list_set)}\")\n",
    "print(list_str, f\"type >> {type(list_str)}\")\n",
    "print(list_tup, f\"type >> {type(list_tup)}\")"
   ]
  },
  {
   "cell_type": "code",
   "execution_count": 6,
   "id": "8846b557",
   "metadata": {},
   "outputs": [],
   "source": [
    "l1=[0.5,1,3,4,-12,[\"Machine\",\"Learning\"],{\"Hellow\":\"World\"},(4123,234,234),'string',\"Colombo\"]\n",
    "ll=[]\n",
    "for i in l1:\n",
    "    if type(i)==tuple:\n",
    "        ll.append(i)\n",
    "    else:\n",
    "        pass"
   ]
  },
  {
   "cell_type": "code",
   "execution_count": null,
   "id": "cdb4ac9d",
   "metadata": {},
   "outputs": [],
   "source": [
    "# For else condition"
   ]
  },
  {
   "cell_type": "code",
   "execution_count": null,
   "id": "4e5fe324",
   "metadata": {},
   "outputs": [],
   "source": [
    "else:block will execute only when the loop complete its all iteration"
   ]
  },
  {
   "cell_type": "code",
   "execution_count": 2,
   "id": "5b483201",
   "metadata": {},
   "outputs": [
    {
     "name": "stdout",
     "output_type": "stream",
     "text": [
      "0\n",
      "1\n",
      "2\n",
      "3\n",
      "4\n",
      "5\n",
      "Loop is Completed\n"
     ]
    }
   ],
   "source": [
    "for i in range(6):\n",
    "    print(i)\n",
    "else :\n",
    "        print(\"Loop is Completed\")"
   ]
  },
  {
   "cell_type": "code",
   "execution_count": 7,
   "id": "50f0c416",
   "metadata": {},
   "outputs": [
    {
     "name": "stdout",
     "output_type": "stream",
     "text": [
      "0\n",
      "1\n",
      "2\n",
      "3\n"
     ]
    }
   ],
   "source": [
    "# break Condition\n",
    "for i in range(7):\n",
    "    print(i)\n",
    "    if i>2:\n",
    "        break\n"
   ]
  },
  {
   "cell_type": "code",
   "execution_count": null,
   "id": "ba8a8863",
   "metadata": {},
   "outputs": [],
   "source": [
    "# Factorial\n",
    "0!=====1\n",
    "1!=====1\n",
    "2!=====1*2\n",
    "3!=====1*2*3\n",
    "4!=====1*2*3*4\n",
    "5!=====1*2*3*4*5\n",
    "6!=====1*2*3*4*5*6\n",
    "7!=====1*2*3*4*5*6*7"
   ]
  },
  {
   "cell_type": "code",
   "execution_count": 3,
   "id": "c9ae9b14",
   "metadata": {},
   "outputs": [
    {
     "name": "stdout",
     "output_type": "stream",
     "text": [
      "Enter the factorial >>>5\n",
      "The Factorial of 5 >>> 600\n"
     ]
    }
   ],
   "source": [
    "# make the function for factorial\n",
    "\n",
    "s=int(input(\"Enter the factorial >>>\"))\n",
    "c=s\n",
    "for i in range(1,s+1):\n",
    "    s=s*i\n",
    "print(f\"The Factorial of {c} >>>\",s)"
   ]
  },
  {
   "cell_type": "code",
   "execution_count": 11,
   "id": "8d244447",
   "metadata": {},
   "outputs": [],
   "source": [
    "def fact_rial():\n",
    "    s=int(input(\"Enter the Number for factorial >>>\"))\n",
    "    c=s\n",
    "    if s>0:\n",
    "        for i in range(1,s+1):\n",
    "            s=s*i\n",
    "        print(f\"The Factorial of {c} >>>\",s)\n",
    "    else:\n",
    "        print(\"Integer is Negative\")\n",
    " \n",
    " "
   ]
  },
  {
   "cell_type": "code",
   "execution_count": 12,
   "id": "85f61a50",
   "metadata": {},
   "outputs": [
    {
     "name": "stdout",
     "output_type": "stream",
     "text": [
      "Enter the Number for factorial >>>-3\n",
      "Integer is Negative\n"
     ]
    }
   ],
   "source": [
    "fact_rial() "
   ]
  },
  {
   "cell_type": "code",
   "execution_count": 10,
   "id": "7b919ea7",
   "metadata": {},
   "outputs": [
    {
     "name": "stdout",
     "output_type": "stream",
     "text": [
      "Enter the Number for factorial >>>-3\n",
      "The Factorial of -3 >>> -3\n"
     ]
    }
   ],
   "source": [
    "fact_rial()"
   ]
  },
  {
   "cell_type": "code",
   "execution_count": 13,
   "id": "c25ad103",
   "metadata": {
    "collapsed": true
   },
   "outputs": [
    {
     "ename": "SyntaxError",
     "evalue": "invalid syntax (2314277228.py, line 2)",
     "output_type": "error",
     "traceback": [
      "\u001b[1;36m  File \u001b[1;32m\"C:\\Users\\prath\\AppData\\Local\\Temp\\ipykernel_17884\\2314277228.py\"\u001b[1;36m, line \u001b[1;32m2\u001b[0m\n\u001b[1;33m    prime number >> if the number is divisible by 1 and itself\u001b[0m\n\u001b[1;37m          ^\u001b[0m\n\u001b[1;31mSyntaxError\u001b[0m\u001b[1;31m:\u001b[0m invalid syntax\n"
     ]
    }
   ],
   "source": [
    "# Prime number\n",
    "prime number >> if the number is divisible by 1 and itself\n",
    "2,3,5,7,11,13,17,19,...,83,89,97"
   ]
  },
  {
   "cell_type": "code",
   "execution_count": 22,
   "id": "7c403b28",
   "metadata": {},
   "outputs": [],
   "source": [
    "def prime_num():\n",
    "    b= int(input(\"Enter the Number >>\"))\n",
    "    for i in (2,b):\n",
    "        if b%i==0:\n",
    "            print(\"Number is Not prime\")\n",
    "            break\n",
    "        else:\n",
    "            print(\"Number is prime \")\n",
    "            break"
   ]
  },
  {
   "cell_type": "code",
   "execution_count": 24,
   "id": "8f3471e8",
   "metadata": {},
   "outputs": [
    {
     "name": "stdout",
     "output_type": "stream",
     "text": [
      "Enter the Number >>-33\n",
      "Number is prime \n"
     ]
    }
   ],
   "source": [
    "prime_num()"
   ]
  },
  {
   "cell_type": "code",
   "execution_count": 18,
   "id": "2fea6fb3",
   "metadata": {
    "scrolled": true
   },
   "outputs": [],
   "source": [
    "# How to find prime numbers in given range "
   ]
  },
  {
   "cell_type": "code",
   "execution_count": 19,
   "id": "582f37cf",
   "metadata": {},
   "outputs": [
    {
     "name": "stdout",
     "output_type": "stream",
     "text": [
      "[2, 3, 5, 7, 11, 13, 17, 19, 23, 29, 31, 37, 41, 43, 47, 53, 59, 61, 67, 71, 73, 79, 83, 89, 97]\n"
     ]
    }
   ],
   "source": [
    "l1=[]\n",
    "for n in range(2,101): #2,3,4.....100   \n",
    "    for i in range(2,101):\n",
    "        if n%i == 0:\n",
    "            break\n",
    "    if n == i:\n",
    "        l1.append(n)\n",
    "print(l1)"
   ]
  },
  {
   "cell_type": "code",
   "execution_count": null,
   "id": "38a8fbdf",
   "metadata": {},
   "outputs": [],
   "source": []
  },
  {
   "cell_type": "code",
   "execution_count": 3,
   "id": "c0994ac8",
   "metadata": {},
   "outputs": [
    {
     "name": "stdout",
     "output_type": "stream",
     "text": [
      "Enter the Number >>22\n",
      "Number is Not prime\n"
     ]
    }
   ],
   "source": [
    "b= int(input(\"Enter the Number >>\"))\n",
    "for i in (2,b):\n",
    "    if b%i==0:\n",
    "        print(\"Number is Not prime\")\n",
    "        break\n",
    "    else:\n",
    "        print(\"Number is prime \")\n",
    "        break"
   ]
  },
  {
   "cell_type": "code",
   "execution_count": null,
   "id": "43e68351",
   "metadata": {},
   "outputs": [],
   "source": []
  }
 ],
 "metadata": {
  "kernelspec": {
   "display_name": "Python 3 (ipykernel)",
   "language": "python",
   "name": "python3"
  },
  "language_info": {
   "codemirror_mode": {
    "name": "ipython",
    "version": 3
   },
   "file_extension": ".py",
   "mimetype": "text/x-python",
   "name": "python",
   "nbconvert_exporter": "python",
   "pygments_lexer": "ipython3",
   "version": "3.9.13"
  }
 },
 "nbformat": 4,
 "nbformat_minor": 5
}
