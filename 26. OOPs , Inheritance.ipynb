{
 "cells": [
  {
   "cell_type": "markdown",
   "id": "8b269493",
   "metadata": {},
   "source": [
    "#### Object oriented programming "
   ]
  },
  {
   "cell_type": "markdown",
   "id": "abafba4b",
   "metadata": {},
   "source": [
    "#### Concepts"
   ]
  },
  {
   "cell_type": "markdown",
   "id": "d3988a14",
   "metadata": {},
   "source": [
    "#### 1] Inheritance "
   ]
  },
  {
   "cell_type": "code",
   "execution_count": null,
   "id": "6b8d1932",
   "metadata": {},
   "outputs": [],
   "source": [
    "inheritance allow a class to inherite the properties from other class \n",
    ">> Properties are method and variable \n",
    "( to use one class (parent) features in other class (child ))\n",
    "Note : we can call methods and variable of parent class by creating the object of child class\n",
    "    "
   ]
  },
  {
   "cell_type": "code",
   "execution_count": 1,
   "id": "cad5248f",
   "metadata": {
    "collapsed": true
   },
   "outputs": [
    {
     "ename": "SyntaxError",
     "evalue": "invalid syntax (3145734732.py, line 1)",
     "output_type": "error",
     "traceback": [
      "\u001b[1;36m  File \u001b[1;32m\"C:\\Users\\prath\\AppData\\Local\\Temp\\ipykernel_26576\\3145734732.py\"\u001b[1;36m, line \u001b[1;32m1\u001b[0m\n\u001b[1;33m    class parent( ) : Base class / Super class\u001b[0m\n\u001b[1;37m                           ^\u001b[0m\n\u001b[1;31mSyntaxError\u001b[0m\u001b[1;31m:\u001b[0m invalid syntax\n"
     ]
    }
   ],
   "source": [
    "class parent( ) : Base class / Super class\n",
    "class child () : Derived class / Sub class \n",
    "    "
   ]
  },
  {
   "cell_type": "code",
   "execution_count": null,
   "id": "17172648",
   "metadata": {},
   "outputs": [],
   "source": [
    "class parent () # base \n",
    "class child () # base "
   ]
  },
  {
   "cell_type": "code",
   "execution_count": null,
   "id": "504ef205",
   "metadata": {},
   "outputs": [],
   "source": [
    "class parent () # base \n",
    "class child (parent) # derived class"
   ]
  },
  {
   "cell_type": "code",
   "execution_count": 16,
   "id": "99c1eb68",
   "metadata": {},
   "outputs": [],
   "source": [
    "class ParentClass():\n",
    "    def __init__(self):\n",
    "        print('We are in parent class ')\n",
    "    def mathod_1(self):\n",
    "        return 'We are in method on of parent class'\n",
    "class ChildClass():\n",
    "    def __init__(self):\n",
    "        print('we are in child class ')\n",
    "    def method_2(self):\n",
    "        print('we are in mathod_2 of child class')\n",
    "        "
   ]
  },
  {
   "cell_type": "code",
   "execution_count": 17,
   "id": "74ab2408",
   "metadata": {},
   "outputs": [
    {
     "name": "stdout",
     "output_type": "stream",
     "text": [
      "We are in parent class \n"
     ]
    }
   ],
   "source": [
    "obj = ParentClass()"
   ]
  },
  {
   "cell_type": "code",
   "execution_count": 18,
   "id": "651d435d",
   "metadata": {},
   "outputs": [
    {
     "data": {
      "text/plain": [
       "'We are in method on of parent class'"
      ]
     },
     "execution_count": 18,
     "metadata": {},
     "output_type": "execute_result"
    }
   ],
   "source": [
    "obj.mathod_1()"
   ]
  },
  {
   "cell_type": "code",
   "execution_count": 20,
   "id": "29a29832",
   "metadata": {},
   "outputs": [],
   "source": [
    "class Baseclass():\n",
    "    a= 10\n",
    "    d=12\n",
    "class DeriveClass(Baseclass):\n",
    "    b=11\n",
    "    c=13\n"
   ]
  },
  {
   "cell_type": "code",
   "execution_count": 22,
   "id": "dbac8091",
   "metadata": {},
   "outputs": [],
   "source": [
    "obj=Baseclass"
   ]
  },
  {
   "cell_type": "code",
   "execution_count": 23,
   "id": "519e39e6",
   "metadata": {},
   "outputs": [
    {
     "data": {
      "text/plain": [
       "10"
      ]
     },
     "execution_count": 23,
     "metadata": {},
     "output_type": "execute_result"
    }
   ],
   "source": [
    "obj.a"
   ]
  },
  {
   "cell_type": "code",
   "execution_count": 27,
   "id": "c1a07932",
   "metadata": {},
   "outputs": [],
   "source": [
    "obj_1=DeriveClass()"
   ]
  },
  {
   "cell_type": "code",
   "execution_count": 28,
   "id": "8e8249be",
   "metadata": {},
   "outputs": [
    {
     "data": {
      "text/plain": [
       "12"
      ]
     },
     "execution_count": 28,
     "metadata": {},
     "output_type": "execute_result"
    }
   ],
   "source": [
    "obj_1.d"
   ]
  },
  {
   "cell_type": "code",
   "execution_count": null,
   "id": "d36ded2b",
   "metadata": {},
   "outputs": [],
   "source": []
  },
  {
   "cell_type": "code",
   "execution_count": 40,
   "id": "104f074d",
   "metadata": {},
   "outputs": [],
   "source": [
    "class Tata():\n",
    "    def __init__(self):\n",
    "        print('Welcome to TATA ')\n",
    "    def Employe (self):\n",
    "        self.employe = 1000\n",
    "        self.office = 'Mumbai'\n",
    "        print(self.employe )\n",
    "        print(self.office)\n",
    "class Tata_Power(Tata):\n",
    "    def __init__(self):\n",
    "        print('Welcome to TATA Power')\n",
    "    def Employe_Power(self):\n",
    "        self.employe_pw= 200\n",
    "        self.pw_office = 'jamnagar'\n",
    "class TCS (Tata):\n",
    "    def __init__(self):\n",
    "        print('Welcome to TCS ')\n",
    "    def EM_TCS(self):\n",
    "        self.tcs_em=1300\n",
    "        self.tcs_office = 'Pune'\n"
   ]
  },
  {
   "cell_type": "code",
   "execution_count": 41,
   "id": "34a490f7",
   "metadata": {},
   "outputs": [
    {
     "name": "stdout",
     "output_type": "stream",
     "text": [
      "Welcome to TATA Power\n"
     ]
    }
   ],
   "source": [
    "obj_t = Tata_Power()"
   ]
  },
  {
   "cell_type": "code",
   "execution_count": 42,
   "id": "63c26e31",
   "metadata": {},
   "outputs": [
    {
     "name": "stdout",
     "output_type": "stream",
     "text": [
      "1000\n",
      "Mumbai\n"
     ]
    }
   ],
   "source": [
    "obj_t.Employe()"
   ]
  },
  {
   "cell_type": "code",
   "execution_count": null,
   "id": "78f42cd9",
   "metadata": {},
   "outputs": [],
   "source": []
  },
  {
   "cell_type": "code",
   "execution_count": 50,
   "id": "8481aada",
   "metadata": {},
   "outputs": [],
   "source": [
    "class SSGB():\n",
    "    def __init__(self):\n",
    "        print(\"Welcome to Shri Sant Gadge Baba College of Engineering and Technology\")\n",
    "        self.login_id = \"1234 \"\n",
    "        self.login_pass = '22'\n",
    "        self.menu()\n",
    "    def menu(self):\n",
    "        user_in = int(input(\"\"\"\n",
    "                      Checking for Faculty Information\n",
    "                     1] Enter 1 for CSE Branch \n",
    "                     2] Enter 2 for DS&AI Branch\n",
    "                     3] Enter 3 for E&tc Branch\n",
    "                     4] Enter 4 for Civil Branch\n",
    "                     5] Enter 5 for Machenical Branch\n",
    "                     \"\"\"))\n",
    "        if user_in ==1:\n",
    "            self.CSE()\n",
    "        elif user_in ==2:\n",
    "            print('DS&AI')\n",
    "        elif user_in ==3:\n",
    "            print('E&tc')\n",
    "        elif user_in ==4:\n",
    "            print('Civil')\n",
    "        elif user_in ==5:\n",
    "            print('Machenical')\n",
    "        \n",
    "    def id_pass(self):\n",
    "        self.std_id = input('Enter Your Login ID :')\n",
    "        self.std_pass = input('Enter Your Password :')\n",
    "        if self.std_id == self.login_id and self.std_pass == self.login_pass:\n",
    "            pass\n",
    "        else:\n",
    "            return \"ID & Password is incorrect \"\n",
    "    \n",
    "    def CSE(self):\n",
    "        if self.id_pass():\n",
    "            print(\"Welcome to Computer Science and Engineering Branch \")\n",
    "            \n",
    "        \n",
    "        \n",
    "        \n",
    "        \n",
    "            \n",
    "      \n",
    "    \n",
    "    \n",
    "    \n",
    "    \n",
    "    \n",
    "    \n",
    "    \n",
    "    \n",
    "    "
   ]
  },
  {
   "cell_type": "code",
   "execution_count": 51,
   "id": "13b58907",
   "metadata": {},
   "outputs": [
    {
     "name": "stdout",
     "output_type": "stream",
     "text": [
      "Welcome to Shri Sant Gadge Baba College of Engineering and Technology\n",
      "\n",
      "                      Checking for Faculty Information\n",
      "                     1] Enter 1 for CSE Branch \n",
      "                     2] Enter 2 for DS&AI Branch\n",
      "                     3] Enter 3 for E&tc Branch\n",
      "                     4] Enter 4 for Civil Branch\n",
      "                     5] Enter 5 for Machenical Branch\n",
      "                     1\n",
      "Enter Your Login ID :1234\n",
      "Enter Your Password :22\n",
      "Welcome to Computer Science and Engineering Branch \n"
     ]
    }
   ],
   "source": [
    "college = SSGB()"
   ]
  },
  {
   "cell_type": "code",
   "execution_count": null,
   "id": "4c1b8494",
   "metadata": {},
   "outputs": [],
   "source": []
  },
  {
   "cell_type": "code",
   "execution_count": null,
   "id": "197ffdd3",
   "metadata": {},
   "outputs": [],
   "source": []
  },
  {
   "cell_type": "code",
   "execution_count": 7,
   "id": "8bf4f046",
   "metadata": {},
   "outputs": [],
   "source": [
    "class GrandFather():\n",
    "    def __init__(self):\n",
    "        print(\"This is GrandFather class\")\n",
    "    def hall(self):\n",
    "        print(\"Always in hall\")\n",
    "class Dad(GrandFather):\n",
    "    def __init__(self):\n",
    "        print(\"This is Dad Class\")\n",
    "    def Job(self):\n",
    "        print(\"In Working Place \")\n",
    "class Mother(Dad):\n",
    "    def __init__(self):\n",
    "        print(\"this is the mother class\")\n",
    "    def kitchen(self):\n",
    "        print(\"mother class kitchen function\")\n",
    "class Son(Mother,Dad):\n",
    "    def __init__(self):\n",
    "        print(\"this is the son class\")\n",
    "    def mobile(self):\n",
    "        print(\"always on mobile\")\n",
    "class daughter(Mother,Dad):\n",
    "    def __init__(self):\n",
    "        print(\"this is daughter class\")\n",
    "    def instaqueen(self):\n",
    "        print(\"scrolling instagram\")"
   ]
  },
  {
   "cell_type": "code",
   "execution_count": null,
   "id": "6f9d348e",
   "metadata": {},
   "outputs": [],
   "source": []
  },
  {
   "cell_type": "code",
   "execution_count": null,
   "id": "80618a1f",
   "metadata": {},
   "outputs": [],
   "source": []
  }
 ],
 "metadata": {
  "kernelspec": {
   "display_name": "Python 3 (ipykernel)",
   "language": "python",
   "name": "python3"
  },
  "language_info": {
   "codemirror_mode": {
    "name": "ipython",
    "version": 3
   },
   "file_extension": ".py",
   "mimetype": "text/x-python",
   "name": "python",
   "nbconvert_exporter": "python",
   "pygments_lexer": "ipython3",
   "version": "3.9.13"
  }
 },
 "nbformat": 4,
 "nbformat_minor": 5
}
