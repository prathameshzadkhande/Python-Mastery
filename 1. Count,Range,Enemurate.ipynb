{
 "cells": [
  {
   "cell_type": "code",
   "execution_count": 2,
   "id": "4ea09f24",
   "metadata": {},
   "outputs": [
    {
     "name": "stdout",
     "output_type": "stream",
     "text": [
      "P_r_a_t_h_a_m_e_s_h_ _Z_a_d_k_h_a_n_d_e_"
     ]
    }
   ],
   "source": [
    "str1 = \"Prathamesh Zadkhande\"\n",
    "for i in str1 :\n",
    "    print(i,end=\"_\")"
   ]
  },
  {
   "cell_type": "code",
   "execution_count": null,
   "id": "e008833f",
   "metadata": {},
   "outputs": [],
   "source": []
  },
  {
   "cell_type": "code",
   "execution_count": null,
   "id": "806d96f6",
   "metadata": {},
   "outputs": [],
   "source": []
  },
  {
   "cell_type": "code",
   "execution_count": 9,
   "id": "c5ad6b7e",
   "metadata": {},
   "outputs": [],
   "source": [
    "## string Function"
   ]
  },
  {
   "cell_type": "code",
   "execution_count": 7,
   "id": "6c8f19d0",
   "metadata": {},
   "outputs": [
    {
     "name": "stdout",
     "output_type": "stream",
     "text": [
      "String  P > value== 1\n",
      "String  r > value== 2\n",
      "String  a > value== 3\n",
      "String  t > value== 4\n",
      "String  h > value== 5\n",
      "String  a > value== 6\n",
      "String  m > value== 7\n",
      "String  e > value== 8\n",
      "String  s > value== 9\n",
      "String  h > value== 10\n",
      "String    > value== 11\n",
      "String  Z > value== 12\n",
      "String  a > value== 13\n",
      "String  d > value== 14\n",
      "String  k > value== 15\n",
      "String  h > value== 16\n",
      "String  a > value== 17\n",
      "String  n > value== 18\n",
      "String  d > value== 19\n",
      "String  e > value== 20\n"
     ]
    }
   ],
   "source": [
    "# for Count the index\n",
    "count=1\n",
    "for i in str1 :\n",
    "    print(f\"String  {i} > value==\",count)\n",
    "    count=count+1"
   ]
  },
  {
   "cell_type": "code",
   "execution_count": 8,
   "id": "4acb24f3",
   "metadata": {},
   "outputs": [
    {
     "name": "stdout",
     "output_type": "stream",
     "text": [
      "string P == -20\n",
      "string r == -19\n",
      "string a == -18\n",
      "string t == -17\n",
      "string h == -16\n",
      "string a == -15\n",
      "string m == -14\n",
      "string e == -13\n",
      "string s == -12\n",
      "string h == -11\n",
      "string   == -10\n",
      "string Z == -9\n",
      "string a == -8\n",
      "string d == -7\n",
      "string k == -6\n",
      "string h == -5\n",
      "string a == -4\n",
      "string n == -3\n",
      "string d == -2\n",
      "string e == -1\n"
     ]
    }
   ],
   "source": [
    "# for negative count indexing\n",
    "count = -20\n",
    "for i in str1 :\n",
    "    print(f\"string {i} ==\",count)\n",
    "    count=count+1"
   ]
  },
  {
   "cell_type": "markdown",
   "id": "8955ec01",
   "metadata": {},
   "source": [
    "## Range Function"
   ]
  },
  {
   "cell_type": "code",
   "execution_count": 12,
   "id": "beb0af16",
   "metadata": {},
   "outputs": [
    {
     "name": "stdout",
     "output_type": "stream",
     "text": [
      "2\n",
      "--------------------\n",
      "4\n",
      "--------------------\n",
      "6\n",
      "--------------------\n",
      "8\n",
      "--------------------\n",
      "10\n",
      "--------------------\n",
      "12\n",
      "--------------------\n",
      "14\n",
      "--------------------\n",
      "16\n",
      "--------------------\n",
      "18\n",
      "--------------------\n",
      "20\n",
      "--------------------\n"
     ]
    }
   ],
   "source": [
    "## for 2 table \n",
    "for i in range(2,21,2):\n",
    "    print(i)\n",
    "    print(\"-\"*20)"
   ]
  },
  {
   "cell_type": "code",
   "execution_count": 17,
   "id": "336eea62",
   "metadata": {},
   "outputs": [
    {
     "name": "stdout",
     "output_type": "stream",
     "text": [
      "9 * 1 == 9\n",
      "--------------------\n",
      "9 * 2 == 18\n",
      "--------------------\n",
      "9 * 3 == 27\n",
      "--------------------\n",
      "9 * 4 == 36\n",
      "--------------------\n",
      "9 * 5 == 45\n",
      "--------------------\n",
      "9 * 6 == 54\n",
      "--------------------\n",
      "9 * 7 == 63\n",
      "--------------------\n",
      "9 * 8 == 72\n",
      "--------------------\n",
      "9 * 9 == 81\n",
      "--------------------\n",
      "9 * 10 == 90\n",
      "--------------------\n"
     ]
    }
   ],
   "source": [
    "# to draw 9 Table\n",
    "count=9\n",
    "c = 1\n",
    "for i in range(9,95,9):\n",
    "    print(f\"{count} * {c} ==\",i)\n",
    "    c = c+1\n",
    "    print(\"-\"*20)"
   ]
  },
  {
   "cell_type": "code",
   "execution_count": 21,
   "id": "745b6d64",
   "metadata": {},
   "outputs": [
    {
     "name": "stdout",
     "output_type": "stream",
     "text": [
      "15 * 1 = 15\n",
      "-------------------------\n",
      "15 * 2 = 30\n",
      "-------------------------\n",
      "15 * 3 = 45\n",
      "-------------------------\n",
      "15 * 4 = 60\n",
      "-------------------------\n",
      "15 * 5 = 75\n",
      "-------------------------\n",
      "15 * 6 = 90\n",
      "-------------------------\n",
      "15 * 7 = 105\n",
      "-------------------------\n",
      "15 * 8 = 120\n",
      "-------------------------\n",
      "15 * 9 = 135\n",
      "-------------------------\n",
      "15 * 10 = 150\n",
      "-------------------------\n"
     ]
    }
   ],
   "source": [
    "# to draw 15 table\n",
    "a = 15\n",
    "b= 1\n",
    "for i in range (15,155,15):\n",
    "    print(f'{a} * {b} =',i)\n",
    "    b = b+1\n",
    "    print(\"-\"*25)"
   ]
  },
  {
   "cell_type": "markdown",
   "id": "e1c895b6",
   "metadata": {},
   "source": [
    "### Enumerate Function"
   ]
  },
  {
   "cell_type": "code",
   "execution_count": 6,
   "id": "cafc1a27",
   "metadata": {},
   "outputs": [
    {
     "name": "stdout",
     "output_type": "stream",
     "text": [
      "index>> 0 character>>> D\n",
      "index>> 1 character>>> a\n",
      "index>> 2 character>>> t\n",
      "index>> 3 character>>> a\n",
      "index>> 4 character>>>  \n",
      "index>> 5 character>>> S\n",
      "index>> 6 character>>> c\n",
      "index>> 7 character>>> i\n",
      "index>> 8 character>>> e\n",
      "index>> 9 character>>> n\n",
      "index>> 10 character>>> c\n",
      "index>> 11 character>>> e\n"
     ]
    }
   ],
   "source": [
    "str1=\"Data Science\"\n",
    "for index,value in enumerate(str1):\n",
    "    print(\"index>>\",index,\"character>>>\",value)"
   ]
  },
  {
   "cell_type": "code",
   "execution_count": 14,
   "id": "c3405f58",
   "metadata": {},
   "outputs": [
    {
     "name": "stdout",
     "output_type": "stream",
     "text": [
      "1\n",
      "2\n",
      "3\n",
      "4\n",
      "5\n",
      "6\n",
      "38\n",
      "Roll No 38 Your name is prathamesh\n",
      "45\n",
      "67\n"
     ]
    }
   ],
   "source": [
    "roll_no = [1,2,3,4,5,6,38,45,67]\n",
    "for index,name in enumerate(roll_no):\n",
    "    print(name)\n",
    "    if (index==6):\n",
    "        print(f\"Roll No {name} Your name is prathamesh\")"
   ]
  },
  {
   "cell_type": "code",
   "execution_count": 15,
   "id": "2bd79fad",
   "metadata": {},
   "outputs": [
    {
     "name": "stdout",
     "output_type": "stream",
     "text": [
      "index =  0 value =  d\n",
      "index =  1 value =  a\n",
      "index =  2 value =  t\n",
      "index =  3 value =  a\n",
      "index =  4 value =   \n",
      "index =  5 value =  S\n",
      "index =  6 value =  c\n",
      "index =  7 value =  i\n",
      "index =  8 value =  e\n",
      "index =  9 value =  n\n",
      "index =  10 value =  c\n",
      "index =  11 value =  e\n"
     ]
    }
   ],
   "source": [
    "str1 =\"data Science\"\n",
    "for index,value in enumerate(str1):\n",
    "    print(f\"index = \",index,\"value = \",value)"
   ]
  },
  {
   "cell_type": "code",
   "execution_count": 27,
   "id": "5823d452",
   "metadata": {},
   "outputs": [],
   "source": [
    "def pos_int(str1):\n",
    "    str1=input(\"Enter Your String >>\")\n",
    "    count = 1\n",
    "    for i in str1:\n",
    "        print(f\"string>> {i} index >> \",count)\n",
    "        count=count+1\n"
   ]
  },
  {
   "cell_type": "code",
   "execution_count": 28,
   "id": "4ab0b4c5",
   "metadata": {},
   "outputs": [
    {
     "name": "stdout",
     "output_type": "stream",
     "text": [
      "Enter Your String >>Prathamesh zadkhande\n",
      "string>> P index >>  1\n",
      "string>> r index >>  2\n",
      "string>> a index >>  3\n",
      "string>> t index >>  4\n",
      "string>> h index >>  5\n",
      "string>> a index >>  6\n",
      "string>> m index >>  7\n",
      "string>> e index >>  8\n",
      "string>> s index >>  9\n",
      "string>> h index >>  10\n",
      "string>>   index >>  11\n",
      "string>> z index >>  12\n",
      "string>> a index >>  13\n",
      "string>> d index >>  14\n",
      "string>> k index >>  15\n",
      "string>> h index >>  16\n",
      "string>> a index >>  17\n",
      "string>> n index >>  18\n",
      "string>> d index >>  19\n",
      "string>> e index >>  20\n"
     ]
    }
   ],
   "source": [
    "pos_int(str1)"
   ]
  },
  {
   "cell_type": "code",
   "execution_count": 37,
   "id": "21deabae",
   "metadata": {},
   "outputs": [],
   "source": [
    "def neg_int(str):\n",
    "    str=input(\"Enter Your string\")\n",
    "    count=-1\n",
    "    for i in str:\n",
    "        print(\"string>>\",i ,\"Negative Index >>\",count)\n",
    "        count=count-1"
   ]
  },
  {
   "cell_type": "code",
   "execution_count": 38,
   "id": "06855e8b",
   "metadata": {},
   "outputs": [
    {
     "name": "stdout",
     "output_type": "stream",
     "text": [
      "Enter Your stringwewvddfv g\n",
      "string>> w Negative Index >> -1\n",
      "string>> e Negative Index >> -2\n",
      "string>> w Negative Index >> -3\n",
      "string>> v Negative Index >> -4\n",
      "string>> d Negative Index >> -5\n",
      "string>> d Negative Index >> -6\n",
      "string>> f Negative Index >> -7\n",
      "string>> v Negative Index >> -8\n",
      "string>>   Negative Index >> -9\n",
      "string>> g Negative Index >> -10\n"
     ]
    }
   ],
   "source": [
    "neg_int(str)"
   ]
  },
  {
   "cell_type": "code",
   "execution_count": null,
   "id": "fae4d4ea",
   "metadata": {},
   "outputs": [],
   "source": [
    "# how to create function for table\n",
    "def table(num)\n",
    "for i in num:\n",
    "    "
   ]
  },
  {
   "cell_type": "code",
   "execution_count": 3,
   "id": "d1553816",
   "metadata": {},
   "outputs": [
    {
     "name": "stdout",
     "output_type": "stream",
     "text": [
      "z is grater\n"
     ]
    }
   ],
   "source": [
    "x = 5 \n",
    "y = 6\n",
    "z = 8\n",
    "if x>y:\n",
    "    print (\"X is big\")\n",
    "elif y>z:\n",
    "        print(\"yis grater\")\n",
    "elif z>x:\n",
    "        print(\"z is grater\")\n",
    "else :\n",
    "        print(\" all are equal\")"
   ]
  },
  {
   "cell_type": "code",
   "execution_count": 12,
   "id": "186b72f0",
   "metadata": {},
   "outputs": [
    {
     "name": "stdout",
     "output_type": "stream",
     "text": [
      ">>23\n",
      "the num is odd\n"
     ]
    }
   ],
   "source": [
    "l1 = int(input(\">>\"))\n",
    "if l1 % 2 == 0:\n",
    "    print (\"the num is even\")\n",
    "else:\n",
    "    print(\"the num is odd\")"
   ]
  },
  {
   "cell_type": "code",
   "execution_count": null,
   "id": "5a40249e",
   "metadata": {},
   "outputs": [],
   "source": [
    "l1 = [1,2,3,4,5,6,7,9,10]\n",
    "for l1 in range()"
   ]
  },
  {
   "cell_type": "code",
   "execution_count": 1,
   "id": "041be461",
   "metadata": {},
   "outputs": [
    {
     "name": "stdout",
     "output_type": "stream",
     "text": [
      "23\n",
      "-23\n",
      "-23\n",
      "-23\n",
      "-23\n",
      "-23\n",
      "-23\n",
      "-23\n",
      "-23\n",
      "-23\n",
      "-23\n",
      "-23\n",
      "-23\n",
      "-23\n",
      "-23\n",
      "-23\n",
      "-23\n",
      "-23\n",
      "-23\n",
      "-23\n",
      "-23\n",
      "-23\n",
      "-23\n",
      "-23\n"
     ]
    }
   ],
   "source": [
    "#accept the count of test cases given in the the 1st line\n",
    "t = int(input())        \n",
    "#run a loop to accept 't' inputs\n",
    "for i in range(t):      \n",
    "    #accept 1 integer on the 1st line of each test case\n",
    "    N = int(-t)        \n",
    "    #output the negative integer - i.e. (-N)\n",
    "    print(N)"
   ]
  },
  {
   "cell_type": "code",
   "execution_count": 3,
   "id": "be827edc",
   "metadata": {},
   "outputs": [],
   "source": [
    "def auto_sub(t):\n",
    "    t = int(input())        \n",
    "#run a loop to accept 't' inputs\n",
    "    for i in range(t):      \n",
    "    #accept 1 integer on the 1st line of each test case\n",
    "           N = int(-t)        \n",
    "    #output the negative integer - i.e. (-N)\n",
    "           print(N)"
   ]
  },
  {
   "cell_type": "code",
   "execution_count": 4,
   "id": "ecdd2c6b",
   "metadata": {},
   "outputs": [
    {
     "name": "stdout",
     "output_type": "stream",
     "text": [
      "12\n",
      "-12\n",
      "-12\n",
      "-12\n",
      "-12\n",
      "-12\n",
      "-12\n",
      "-12\n",
      "-12\n",
      "-12\n",
      "-12\n",
      "-12\n",
      "-12\n"
     ]
    }
   ],
   "source": [
    "b=9\n",
    "auto_sub(b)"
   ]
  },
  {
   "cell_type": "code",
   "execution_count": null,
   "id": "bcfa79b3",
   "metadata": {},
   "outputs": [],
   "source": []
  }
 ],
 "metadata": {
  "kernelspec": {
   "display_name": "Python 3 (ipykernel)",
   "language": "python",
   "name": "python3"
  },
  "language_info": {
   "codemirror_mode": {
    "name": "ipython",
    "version": 3
   },
   "file_extension": ".py",
   "mimetype": "text/x-python",
   "name": "python",
   "nbconvert_exporter": "python",
   "pygments_lexer": "ipython3",
   "version": "3.11.7"
  }
 },
 "nbformat": 4,
 "nbformat_minor": 5
}
