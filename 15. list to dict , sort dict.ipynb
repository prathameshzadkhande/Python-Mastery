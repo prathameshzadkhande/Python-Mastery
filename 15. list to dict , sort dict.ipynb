{
 "cells": [
  {
   "cell_type": "markdown",
   "id": "23021140",
   "metadata": {},
   "source": [
    "#### Convert list into dictionaray "
   ]
  },
  {
   "cell_type": "code",
   "execution_count": 3,
   "id": "bed64256",
   "metadata": {},
   "outputs": [
    {
     "data": {
      "text/plain": [
       "21"
      ]
     },
     "execution_count": 3,
     "metadata": {},
     "output_type": "execute_result"
    }
   ],
   "source": [
    "# Revised Dictionary\n",
    "d1={\"Name\":'Prathamesh','age':21,'college':'SSGB','city':'Bhusawal'}\n",
    "d1.get('age')"
   ]
  },
  {
   "cell_type": "code",
   "execution_count": 4,
   "id": "4ea6bad1",
   "metadata": {},
   "outputs": [
    {
     "data": {
      "text/plain": [
       "dict_keys(['Name', 'age', 'college', 'city'])"
      ]
     },
     "execution_count": 4,
     "metadata": {},
     "output_type": "execute_result"
    }
   ],
   "source": [
    "d1.keys()"
   ]
  },
  {
   "cell_type": "code",
   "execution_count": 5,
   "id": "365bf301",
   "metadata": {},
   "outputs": [
    {
     "data": {
      "text/plain": [
       "dict_values(['Prathamesh', 21, 'SSGB', 'Bhusawal'])"
      ]
     },
     "execution_count": 5,
     "metadata": {},
     "output_type": "execute_result"
    }
   ],
   "source": [
    "d1.values()"
   ]
  },
  {
   "cell_type": "code",
   "execution_count": 6,
   "id": "7b60cfd2",
   "metadata": {},
   "outputs": [
    {
     "data": {
      "text/plain": [
       "dict_items([('Name', 'Prathamesh'), ('age', 21), ('college', 'SSGB'), ('city', 'Bhusawal')])"
      ]
     },
     "execution_count": 6,
     "metadata": {},
     "output_type": "execute_result"
    }
   ],
   "source": [
    "d1.items()"
   ]
  },
  {
   "cell_type": "code",
   "execution_count": 7,
   "id": "91eb74c1",
   "metadata": {},
   "outputs": [
    {
     "data": {
      "text/plain": [
       "{'Name': 'Prathamesh', 'age': 21, 'college': 'SSGB', 'city': 'Pune'}"
      ]
     },
     "execution_count": 7,
     "metadata": {},
     "output_type": "execute_result"
    }
   ],
   "source": [
    "d1['city']='Pune'\n",
    "d1"
   ]
  },
  {
   "cell_type": "code",
   "execution_count": 8,
   "id": "f821ac68",
   "metadata": {},
   "outputs": [
    {
     "data": {
      "text/plain": [
       "[17, 'Prathamesh', 'Zadkhande']"
      ]
     },
     "execution_count": 8,
     "metadata": {},
     "output_type": "execute_result"
    }
   ],
   "source": [
    "l1=[17,'Rasika','Zadkhande']\n",
    "l1[1]='Prathamesh'\n",
    "l1"
   ]
  },
  {
   "cell_type": "code",
   "execution_count": 9,
   "id": "18d8e5c0",
   "metadata": {},
   "outputs": [
    {
     "data": {
      "text/plain": [
       "{'Name': 'Prathamesh',\n",
       " 'age': 21,\n",
       " 'college': 'SSGB',\n",
       " 'city': 'Banglore',\n",
       " 'company': 'Amazon',\n",
       " 'role': 'Data Scientist'}"
      ]
     },
     "execution_count": 9,
     "metadata": {},
     "output_type": "execute_result"
    }
   ],
   "source": [
    "d2={\"Name\":'Prathamesh','age':21,'college':'SSGB','city':'Banglore'}\n",
    "d2.update({'company':'Amazon','role':'Data Scientist'})\n",
    "d2"
   ]
  },
  {
   "cell_type": "code",
   "execution_count": 10,
   "id": "0f4e4279",
   "metadata": {},
   "outputs": [
    {
     "data": {
      "text/plain": [
       "{'Name': 'Prathamesh',\n",
       " 'age': 21,\n",
       " 'college': 'SSGB',\n",
       " 'city': 'Banglore',\n",
       " 'company': 'Amazon',\n",
       " 'role': 'Data Scientist',\n",
       " 'placed': 'off-campus'}"
      ]
     },
     "execution_count": 10,
     "metadata": {},
     "output_type": "execute_result"
    }
   ],
   "source": [
    "d2['placed']='off-campus'\n",
    "d2"
   ]
  },
  {
   "cell_type": "code",
   "execution_count": 11,
   "id": "4e657994",
   "metadata": {},
   "outputs": [
    {
     "data": {
      "text/plain": [
       "'SSGB'"
      ]
     },
     "execution_count": 11,
     "metadata": {},
     "output_type": "execute_result"
    }
   ],
   "source": [
    "d2.pop('college')"
   ]
  },
  {
   "cell_type": "code",
   "execution_count": 12,
   "id": "33998474",
   "metadata": {},
   "outputs": [
    {
     "data": {
      "text/plain": [
       "{'Name': 'Prathamesh',\n",
       " 'age': 21,\n",
       " 'city': 'Banglore',\n",
       " 'company': 'Amazon',\n",
       " 'role': 'Data Scientist',\n",
       " 'placed': 'off-campus'}"
      ]
     },
     "execution_count": 12,
     "metadata": {},
     "output_type": "execute_result"
    }
   ],
   "source": [
    "d2"
   ]
  },
  {
   "cell_type": "code",
   "execution_count": 13,
   "id": "667a7892",
   "metadata": {},
   "outputs": [
    {
     "data": {
      "text/plain": [
       "('placed', 'off-campus')"
      ]
     },
     "execution_count": 13,
     "metadata": {},
     "output_type": "execute_result"
    }
   ],
   "source": [
    "d2.popitem()"
   ]
  },
  {
   "cell_type": "code",
   "execution_count": 14,
   "id": "af409b82",
   "metadata": {},
   "outputs": [],
   "source": [
    "d2.clear()"
   ]
  },
  {
   "cell_type": "code",
   "execution_count": 15,
   "id": "9108d291",
   "metadata": {},
   "outputs": [
    {
     "data": {
      "text/plain": [
       "{}"
      ]
     },
     "execution_count": 15,
     "metadata": {},
     "output_type": "execute_result"
    }
   ],
   "source": [
    "d2"
   ]
  },
  {
   "cell_type": "code",
   "execution_count": 16,
   "id": "c41617c2",
   "metadata": {},
   "outputs": [],
   "source": [
    "del d2"
   ]
  },
  {
   "cell_type": "code",
   "execution_count": 17,
   "id": "14e4472a",
   "metadata": {},
   "outputs": [
    {
     "ename": "NameError",
     "evalue": "name 'd2' is not defined",
     "output_type": "error",
     "traceback": [
      "\u001b[1;31m---------------------------------------------------------------------------\u001b[0m",
      "\u001b[1;31mNameError\u001b[0m                                 Traceback (most recent call last)",
      "\u001b[1;32m~\\AppData\\Local\\Temp\\ipykernel_1048\\3031988998.py\u001b[0m in \u001b[0;36m<module>\u001b[1;34m\u001b[0m\n\u001b[1;32m----> 1\u001b[1;33m \u001b[0md2\u001b[0m\u001b[1;33m\u001b[0m\u001b[1;33m\u001b[0m\u001b[0m\n\u001b[0m",
      "\u001b[1;31mNameError\u001b[0m: name 'd2' is not defined"
     ]
    }
   ],
   "source": [
    "d2\n"
   ]
  },
  {
   "cell_type": "markdown",
   "id": "a1e63604",
   "metadata": {},
   "source": [
    "#### Convert list into Dictionary"
   ]
  },
  {
   "cell_type": "code",
   "execution_count": 18,
   "id": "60d26c2d",
   "metadata": {},
   "outputs": [
    {
     "name": "stdout",
     "output_type": "stream",
     "text": [
      "{'cloud': 95, 'data': 92, 'cyber securuty': 88, 'operating system': 85}\n"
     ]
    }
   ],
   "source": [
    "# we use enumerate function\n",
    "d3={}\n",
    "l1=['cloud','data','cyber securuty','operating system']\n",
    "l2=[95,92,88,85]\n",
    "for key,index in enumerate(l1):\n",
    "    d3[index]=l2[key]\n",
    "print(d3)\n",
    "    \n",
    "    \n",
    "    "
   ]
  },
  {
   "cell_type": "markdown",
   "id": "e0174750",
   "metadata": {},
   "source": [
    "##### Sort Dictionary using key"
   ]
  },
  {
   "cell_type": "code",
   "execution_count": 19,
   "id": "90e35bdc",
   "metadata": {},
   "outputs": [
    {
     "data": {
      "text/plain": [
       "{'Name': 'Prathamesh', 'age': 21, 'college': 'SSGB', 'city': 'Pune'}"
      ]
     },
     "execution_count": 19,
     "metadata": {},
     "output_type": "execute_result"
    }
   ],
   "source": [
    "d1"
   ]
  },
  {
   "cell_type": "code",
   "execution_count": 20,
   "id": "b89a905e",
   "metadata": {},
   "outputs": [
    {
     "name": "stdout",
     "output_type": "stream",
     "text": [
      "{'Name': 'Prathamesh', 'age': 21, 'city': 'Pune', 'college': 'SSGB'}\n"
     ]
    }
   ],
   "source": [
    "d4={}\n",
    "sort_d1=sorted(d1.keys())\n",
    "for i in sort_d1:\n",
    "    d4[i]=d1[i]\n",
    "print(d4)"
   ]
  },
  {
   "cell_type": "code",
   "execution_count": 21,
   "id": "11f0f4bf",
   "metadata": {},
   "outputs": [],
   "source": [
    "d4['age']=22"
   ]
  },
  {
   "cell_type": "code",
   "execution_count": 22,
   "id": "991a6524",
   "metadata": {},
   "outputs": [
    {
     "data": {
      "text/plain": [
       "{'Name': 'Prathamesh', 'age': 22, 'city': 'Pune', 'college': 'SSGB'}"
      ]
     },
     "execution_count": 22,
     "metadata": {},
     "output_type": "execute_result"
    }
   ],
   "source": [
    "d4"
   ]
  },
  {
   "cell_type": "markdown",
   "id": "99ae9f9e",
   "metadata": {},
   "source": [
    "#### Q. Cube of the first 10 numbers in dictionary\n"
   ]
  },
  {
   "cell_type": "code",
   "execution_count": 23,
   "id": "bb7dc585",
   "metadata": {
    "scrolled": true
   },
   "outputs": [
    {
     "name": "stdout",
     "output_type": "stream",
     "text": [
      "{1: 1, 2: 8, 3: 27, 4: 64, 5: 125, 6: 216, 7: 343, 8: 512, 9: 729, 10: 1000}\n"
     ]
    }
   ],
   "source": [
    "d5={}\n",
    "for i in range(1,11):\n",
    "    d5[i]=i*i*i\n",
    "print(d5)"
   ]
  },
  {
   "cell_type": "code",
   "execution_count": 24,
   "id": "8589f427",
   "metadata": {},
   "outputs": [],
   "source": [
    "# cube using function\n",
    "def cube_dict():\n",
    "    a=int(input(\"Enter starting Range >>\"))\n",
    "    b=int(input(\"Enter ending Range >>\"))\n",
    "    d5={}\n",
    "    for i in range(a,b):\n",
    "        d5[i]=i*i*i\n",
    "    print(d5)"
   ]
  },
  {
   "cell_type": "code",
   "execution_count": 30,
   "id": "8d1fe35e",
   "metadata": {},
   "outputs": [
    {
     "name": "stdout",
     "output_type": "stream",
     "text": [
      "Enter starting Range >>1\n",
      "Enter ending Range >>100\n",
      "{1: 1, 2: 8, 3: 27, 4: 64, 5: 125, 6: 216, 7: 343, 8: 512, 9: 729, 10: 1000, 11: 1331, 12: 1728, 13: 2197, 14: 2744, 15: 3375, 16: 4096, 17: 4913, 18: 5832, 19: 6859, 20: 8000, 21: 9261, 22: 10648, 23: 12167, 24: 13824, 25: 15625, 26: 17576, 27: 19683, 28: 21952, 29: 24389, 30: 27000, 31: 29791, 32: 32768, 33: 35937, 34: 39304, 35: 42875, 36: 46656, 37: 50653, 38: 54872, 39: 59319, 40: 64000, 41: 68921, 42: 74088, 43: 79507, 44: 85184, 45: 91125, 46: 97336, 47: 103823, 48: 110592, 49: 117649, 50: 125000, 51: 132651, 52: 140608, 53: 148877, 54: 157464, 55: 166375, 56: 175616, 57: 185193, 58: 195112, 59: 205379, 60: 216000, 61: 226981, 62: 238328, 63: 250047, 64: 262144, 65: 274625, 66: 287496, 67: 300763, 68: 314432, 69: 328509, 70: 343000, 71: 357911, 72: 373248, 73: 389017, 74: 405224, 75: 421875, 76: 438976, 77: 456533, 78: 474552, 79: 493039, 80: 512000, 81: 531441, 82: 551368, 83: 571787, 84: 592704, 85: 614125, 86: 636056, 87: 658503, 88: 681472, 89: 704969, 90: 729000, 91: 753571, 92: 778688, 93: 804357, 94: 830584, 95: 857375, 96: 884736, 97: 912673, 98: 941192, 99: 970299}\n"
     ]
    }
   ],
   "source": [
    "cube_dict()"
   ]
  },
  {
   "cell_type": "code",
   "execution_count": 26,
   "id": "22172cbf",
   "metadata": {},
   "outputs": [],
   "source": [
    "# create a dictionary to show the character with there values"
   ]
  },
  {
   "cell_type": "code",
   "execution_count": 27,
   "id": "cfa4259a",
   "metadata": {},
   "outputs": [
    {
     "name": "stdout",
     "output_type": "stream",
     "text": [
      "{65: 'A', 66: 'B', 67: 'C', 68: 'D', 69: 'E', 70: 'F', 71: 'G', 72: 'H', 73: 'I', 74: 'J', 75: 'K', 76: 'L', 77: 'M', 78: 'N', 79: 'O', 80: 'P', 81: 'Q', 82: 'R', 83: 'S', 84: 'T', 85: 'U', 86: 'V', 87: 'W', 88: 'X', 89: 'Y', 90: 'Z', 91: '[', 92: '\\\\', 93: ']', 94: '^', 95: '_', 96: '`', 97: 'a', 98: 'b', 99: 'c', 100: 'd', 101: 'e', 102: 'f', 103: 'g', 104: 'h', 105: 'i', 106: 'j', 107: 'k', 108: 'l', 109: 'm', 110: 'n', 111: 'o', 112: 'p', 113: 'q', 114: 'r', 115: 's', 116: 't', 117: 'u', 118: 'v', 119: 'w', 120: 'x', 121: 'y', 122: 'z'}\n"
     ]
    }
   ],
   "source": [
    "d6={}\n",
    "for i in range(65,123):\n",
    "    d6[i]=chr(i)\n",
    "print(d6)"
   ]
  },
  {
   "cell_type": "markdown",
   "id": "02761adf",
   "metadata": {},
   "source": [
    "#### Copy Function"
   ]
  },
  {
   "cell_type": "code",
   "execution_count": 28,
   "id": "0da68c28",
   "metadata": {},
   "outputs": [
    {
     "data": {
      "text/plain": [
       "{'Name': 'Prathamesh', 'age': 22, 'city': 'Pune', 'college': 'SSGB'}"
      ]
     },
     "execution_count": 28,
     "metadata": {},
     "output_type": "execute_result"
    }
   ],
   "source": [
    "d4"
   ]
  },
  {
   "cell_type": "code",
   "execution_count": 31,
   "id": "2e255258",
   "metadata": {},
   "outputs": [],
   "source": [
    "d7=d4"
   ]
  },
  {
   "cell_type": "code",
   "execution_count": 32,
   "id": "7e0a88b8",
   "metadata": {},
   "outputs": [
    {
     "data": {
      "text/plain": [
       "{'Name': 'Prathamesh', 'age': 22, 'city': 'Pune', 'college': 'SSGB'}"
      ]
     },
     "execution_count": 32,
     "metadata": {},
     "output_type": "execute_result"
    }
   ],
   "source": [
    "d7"
   ]
  },
  {
   "cell_type": "code",
   "execution_count": 33,
   "id": "ef9c0791",
   "metadata": {},
   "outputs": [],
   "source": [
    "d7['age']=20"
   ]
  },
  {
   "cell_type": "code",
   "execution_count": 34,
   "id": "55ce81f3",
   "metadata": {},
   "outputs": [
    {
     "data": {
      "text/plain": [
       "{'Name': 'Prathamesh', 'age': 20, 'city': 'Pune', 'college': 'SSGB'}"
      ]
     },
     "execution_count": 34,
     "metadata": {},
     "output_type": "execute_result"
    }
   ],
   "source": [
    "d7"
   ]
  },
  {
   "cell_type": "code",
   "execution_count": 35,
   "id": "6c7d950b",
   "metadata": {},
   "outputs": [
    {
     "data": {
      "text/plain": [
       "{'Name': 'Prathamesh', 'age': 20, 'city': 'Pune', 'college': 'SSGB'}"
      ]
     },
     "execution_count": 35,
     "metadata": {},
     "output_type": "execute_result"
    }
   ],
   "source": [
    "d4"
   ]
  },
  {
   "cell_type": "markdown",
   "id": "8b588bdf",
   "metadata": {},
   "source": [
    "#### count Function "
   ]
  },
  {
   "cell_type": "code",
   "execution_count": 56,
   "id": "be29ee94",
   "metadata": {},
   "outputs": [],
   "source": [
    "str1=\"\"\"machine learning is a branch of artificial intelligence and computer science\n",
    "which focuses on the use of data and algorithms to imitate the way that humans\"\"\"\n"
   ]
  },
  {
   "cell_type": "code",
   "execution_count": 57,
   "id": "d1e82e11",
   "metadata": {},
   "outputs": [
    {
     "data": {
      "text/plain": [
       "5"
      ]
     },
     "execution_count": 57,
     "metadata": {},
     "output_type": "execute_result"
    }
   ],
   "source": [
    "str1.count('m')"
   ]
  },
  {
   "cell_type": "code",
   "execution_count": 58,
   "id": "a1ad1b86",
   "metadata": {},
   "outputs": [
    {
     "data": {
      "text/plain": [
       "{'a': 15,\n",
       " 'b': 1,\n",
       " 'c': 9,\n",
       " 'd': 3,\n",
       " 'e': 13,\n",
       " 'f': 4,\n",
       " 'g': 3,\n",
       " 'h': 9,\n",
       " 'i': 13,\n",
       " 'j': 0,\n",
       " 'k': 0,\n",
       " 'l': 5,\n",
       " 'm': 5,\n",
       " 'n': 11,\n",
       " 'o': 7,\n",
       " 'p': 1,\n",
       " 'q': 0,\n",
       " 'r': 5,\n",
       " 's': 7,\n",
       " 't': 12,\n",
       " 'u': 4,\n",
       " 'v': 0,\n",
       " 'w': 2,\n",
       " 'x': 0,\n",
       " 'y': 1,\n",
       " 'z': 0}"
      ]
     },
     "execution_count": 58,
     "metadata": {},
     "output_type": "execute_result"
    }
   ],
   "source": [
    "d1={}\n",
    "for i in range(97,123):\n",
    "    d1[chr(i)]=str1.count(chr(i))\n",
    "d1"
   ]
  },
  {
   "cell_type": "code",
   "execution_count": 52,
   "id": "4771849c",
   "metadata": {},
   "outputs": [],
   "source": [
    "# enumerate function with negative indexing\n",
    "# sort dictionary through values"
   ]
  },
  {
   "cell_type": "code",
   "execution_count": 3,
   "id": "0827b370",
   "metadata": {},
   "outputs": [],
   "source": [
    "def sq():\n",
    "    a=int(input(\"Enter Starting Range >>\"))\n",
    "    b=int(input(\"Enter Ending Range >>\"))\n",
    "    for i in range(a,b):\n",
    "        l1=[i*i for i in range(a,a+5)]\n",
    "        l2=[i*i for i in range(b-5,b+1)]\n",
    "    print(l1)   \n",
    "    print(l2)    \n",
    "    "
   ]
  },
  {
   "cell_type": "code",
   "execution_count": 4,
   "id": "6fa549a1",
   "metadata": {},
   "outputs": [
    {
     "name": "stdout",
     "output_type": "stream",
     "text": [
      "Enter Starting Range >>2\n",
      "Enter Ending Range >>19\n",
      "[4, 9, 16, 25, 36]\n",
      "[196, 225, 256, 289, 324, 361]\n"
     ]
    }
   ],
   "source": [
    "sq()"
   ]
  },
  {
   "cell_type": "code",
   "execution_count": null,
   "id": "5389009b",
   "metadata": {},
   "outputs": [],
   "source": []
  },
  {
   "cell_type": "code",
   "execution_count": null,
   "id": "c320edca",
   "metadata": {},
   "outputs": [],
   "source": []
  }
 ],
 "metadata": {
  "kernelspec": {
   "display_name": "Python 3 (ipykernel)",
   "language": "python",
   "name": "python3"
  },
  "language_info": {
   "codemirror_mode": {
    "name": "ipython",
    "version": 3
   },
   "file_extension": ".py",
   "mimetype": "text/x-python",
   "name": "python",
   "nbconvert_exporter": "python",
   "pygments_lexer": "ipython3",
   "version": "3.9.13"
  }
 },
 "nbformat": 4,
 "nbformat_minor": 5
}
