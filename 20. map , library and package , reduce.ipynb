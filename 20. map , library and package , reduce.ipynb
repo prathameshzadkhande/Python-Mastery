{
 "cells": [
  {
   "cell_type": "markdown",
   "id": "d5586396",
   "metadata": {},
   "source": [
    "#### Map"
   ]
  },
  {
   "cell_type": "code",
   "execution_count": 1,
   "id": "df15c6ba",
   "metadata": {},
   "outputs": [],
   "source": [
    "# map (function,iterable)\n",
    "# map function is used when we want to do exact operation on ecah element"
   ]
  },
  {
   "cell_type": "code",
   "execution_count": 3,
   "id": "793a1a94",
   "metadata": {},
   "outputs": [
    {
     "name": "stdout",
     "output_type": "stream",
     "text": [
      "MONDAY\n",
      "TUESDAY\n",
      "SATURDAY\n",
      "WEDNESDAY\n",
      "SUNDAY\n"
     ]
    }
   ],
   "source": [
    "day=['Monday','tuesday','Saturday','wednesday','Sunday']\n",
    "for i in day:\n",
    "    print(i.upper())"
   ]
  },
  {
   "cell_type": "code",
   "execution_count": 4,
   "id": "7b7a9d6d",
   "metadata": {},
   "outputs": [],
   "source": [
    "obj = lambda x : x.upper()"
   ]
  },
  {
   "cell_type": "code",
   "execution_count": 7,
   "id": "34f6b4da",
   "metadata": {},
   "outputs": [
    {
     "name": "stdout",
     "output_type": "stream",
     "text": [
      "['MONDAY', 'TUESDAY', 'SATURDAY', 'WEDNESDAY', 'SUNDAY']\n"
     ]
    }
   ],
   "source": [
    "l1=[]\n",
    "for i in day:\n",
    "    l1.append(obj(i))\n",
    "print(l1)\n",
    "    \n"
   ]
  },
  {
   "cell_type": "code",
   "execution_count": null,
   "id": "a6d055e6",
   "metadata": {},
   "outputs": [],
   "source": [
    "list(map(fun,iterables))"
   ]
  },
  {
   "cell_type": "code",
   "execution_count": 10,
   "id": "fbefcd3e",
   "metadata": {},
   "outputs": [],
   "source": [
    "def upp(n):\n",
    "    return n.upper()\n",
    "def lower(a):\n",
    "    return a.lower()"
   ]
  },
  {
   "cell_type": "code",
   "execution_count": 11,
   "id": "1d6f2d1f",
   "metadata": {},
   "outputs": [
    {
     "data": {
      "text/plain": [
       "['MONDAY', 'TUESDAY', 'SATURDAY', 'WEDNESDAY', 'SUNDAY']"
      ]
     },
     "execution_count": 11,
     "metadata": {},
     "output_type": "execute_result"
    }
   ],
   "source": [
    "list(map(upp,day))"
   ]
  },
  {
   "cell_type": "code",
   "execution_count": 13,
   "id": "1d8faeac",
   "metadata": {},
   "outputs": [
    {
     "data": {
      "text/plain": [
       "['monday', 'tuesday', 'saturday', 'wednesday', 'sunday']"
      ]
     },
     "execution_count": 13,
     "metadata": {},
     "output_type": "execute_result"
    }
   ],
   "source": [
    "list(map(lower,day))"
   ]
  },
  {
   "cell_type": "code",
   "execution_count": 14,
   "id": "e9042301",
   "metadata": {},
   "outputs": [
    {
     "data": {
      "text/plain": [
       "['MONDAY', 'TUESDAY', 'SATURDAY', 'WEDNESDAY', 'SUNDAY']"
      ]
     },
     "execution_count": 14,
     "metadata": {},
     "output_type": "execute_result"
    }
   ],
   "source": [
    "list(map(lambda x:x.upper() ,day))"
   ]
  },
  {
   "cell_type": "code",
   "execution_count": 16,
   "id": "e9443c83",
   "metadata": {},
   "outputs": [],
   "source": [
    "dys=['MONDAY', 'tuesday', 'SUNDAY', 'Saturday', 'FRIDAY']"
   ]
  },
  {
   "cell_type": "code",
   "execution_count": 19,
   "id": "b71e5f77",
   "metadata": {},
   "outputs": [
    {
     "name": "stdout",
     "output_type": "stream",
     "text": [
      "MONDAY\n",
      "SUNDAY\n",
      "FRIDAY\n"
     ]
    }
   ],
   "source": [
    "for i in dys:\n",
    "    if i.isupper():\n",
    "        print(i )"
   ]
  },
  {
   "cell_type": "code",
   "execution_count": 20,
   "id": "00fad9f6",
   "metadata": {},
   "outputs": [
    {
     "data": {
      "text/plain": [
       "('MONDAY', 'SUNDAY', 'FRIDAY')"
      ]
     },
     "execution_count": 20,
     "metadata": {},
     "output_type": "execute_result"
    }
   ],
   "source": [
    "tuple(filter(lambda x:x.isupper(),dys))"
   ]
  },
  {
   "cell_type": "code",
   "execution_count": 2,
   "id": "a73c912d",
   "metadata": {},
   "outputs": [
    {
     "data": {
      "text/plain": [
       "('S', 'cc', 'iii', 'eeee', 'nnnnn', 'cccccc', 'eeeeeee')"
      ]
     },
     "execution_count": 2,
     "metadata": {},
     "output_type": "execute_result"
    }
   ],
   "source": [
    "str1=\"Science\"\n",
    "l2=[1,2,3,4,5,6,7]\n",
    "tuple(map(lambda x,y : x*y  ,str1 , l2 ))"
   ]
  },
  {
   "cell_type": "code",
   "execution_count": 26,
   "id": "7a68b6ad",
   "metadata": {},
   "outputs": [
    {
     "data": {
      "text/plain": [
       "['1 is odd ',\n",
       " 4,\n",
       " '3 is odd ',\n",
       " 2916,\n",
       " 16,\n",
       " '5 is odd ',\n",
       " 36,\n",
       " 36,\n",
       " '7 is odd ',\n",
       " 64,\n",
       " 7056,\n",
       " 2916,\n",
       " 1171829824,\n",
       " 1156]"
      ]
     },
     "execution_count": 26,
     "metadata": {},
     "output_type": "execute_result"
    }
   ],
   "source": [
    "l1=[1,2,3,54,4,5,6,6,7,8,84,54,34232,34]\n",
    "list(map(lambda x: x*x if x%2==0 else (f\"{x} is odd \"),l1))"
   ]
  },
  {
   "cell_type": "code",
   "execution_count": null,
   "id": "f39bc2b7",
   "metadata": {},
   "outputs": [],
   "source": []
  },
  {
   "cell_type": "markdown",
   "id": "a3f67517",
   "metadata": {},
   "source": [
    "#### library and package module "
   ]
  },
  {
   "cell_type": "code",
   "execution_count": 35,
   "id": "1f01175c",
   "metadata": {},
   "outputs": [],
   "source": [
    "import math as mt"
   ]
  },
  {
   "cell_type": "code",
   "execution_count": 36,
   "id": "ccc20228",
   "metadata": {},
   "outputs": [],
   "source": [
    "import pandas as pd"
   ]
  },
  {
   "cell_type": "code",
   "execution_count": 1,
   "id": "a11db774",
   "metadata": {},
   "outputs": [
    {
     "ename": "IndentationError",
     "evalue": "expected an indented block (1394356856.py, line 2)",
     "output_type": "error",
     "traceback": [
      "\u001b[1;36m  File \u001b[1;32m\"C:\\Users\\prath\\AppData\\Local\\Temp\\ipykernel_16540\\1394356856.py\"\u001b[1;36m, line \u001b[1;32m2\u001b[0m\n\u001b[1;33m    def odd(n):\u001b[0m\n\u001b[1;37m    ^\u001b[0m\n\u001b[1;31mIndentationError\u001b[0m\u001b[1;31m:\u001b[0m expected an indented block\n"
     ]
    }
   ],
   "source": [
    "def even(n):\n",
    "def odd(n):\n",
    "def root(n):\n",
    "    "
   ]
  },
  {
   "cell_type": "code",
   "execution_count": null,
   "id": "746696f7",
   "metadata": {},
   "outputs": [],
   "source": [
    "library>packages(__init__.py)>module(.py)>functions & variables"
   ]
  },
  {
   "cell_type": "markdown",
   "id": "4e70d638",
   "metadata": {},
   "source": [
    "#### reduce "
   ]
  },
  {
   "cell_type": "code",
   "execution_count": 3,
   "id": "8ea0547e",
   "metadata": {},
   "outputs": [],
   "source": [
    "from functools import reduce"
   ]
  },
  {
   "cell_type": "code",
   "execution_count": 5,
   "id": "a0d51e51",
   "metadata": {},
   "outputs": [
    {
     "data": {
      "text/plain": [
       "45645"
      ]
     },
     "execution_count": 5,
     "metadata": {},
     "output_type": "execute_result"
    }
   ],
   "source": [
    "# find largest number in list \n",
    "l3=[12,34,23,54,3452,342,34234,23,45645,2345,456]\n",
    "reduce(lambda x,y : x if x>y else y,l3)"
   ]
  },
  {
   "cell_type": "code",
   "execution_count": 6,
   "id": "8396f851",
   "metadata": {},
   "outputs": [],
   "source": [
    "# using lambda function \n",
    "big = lambda x,*arx if x>y else y"
   ]
  },
  {
   "cell_type": "code",
   "execution_count": 4,
   "id": "f6a6745e",
   "metadata": {},
   "outputs": [],
   "source": [
    "big = lambda x,**y: x if x>y else y"
   ]
  },
  {
   "cell_type": "code",
   "execution_count": 5,
   "id": "029a4333",
   "metadata": {},
   "outputs": [
    {
     "ename": "TypeError",
     "evalue": "<lambda>() takes 1 positional argument but 6 were given",
     "output_type": "error",
     "traceback": [
      "\u001b[1;31m---------------------------------------------------------------------------\u001b[0m",
      "\u001b[1;31mTypeError\u001b[0m                                 Traceback (most recent call last)",
      "\u001b[1;32m~\\AppData\\Local\\Temp\\ipykernel_21612\\3178811652.py\u001b[0m in \u001b[0;36m<module>\u001b[1;34m\u001b[0m\n\u001b[1;32m----> 1\u001b[1;33m \u001b[0mbig\u001b[0m\u001b[1;33m(\u001b[0m\u001b[1;36m1\u001b[0m\u001b[1;33m,\u001b[0m\u001b[1;36m2\u001b[0m\u001b[1;33m,\u001b[0m\u001b[1;36m3\u001b[0m\u001b[1;33m,\u001b[0m\u001b[1;36m23\u001b[0m\u001b[1;33m,\u001b[0m\u001b[1;36m443\u001b[0m\u001b[1;33m,\u001b[0m\u001b[1;36m34\u001b[0m\u001b[1;33m)\u001b[0m\u001b[1;33m\u001b[0m\u001b[1;33m\u001b[0m\u001b[0m\n\u001b[0m",
      "\u001b[1;31mTypeError\u001b[0m: <lambda>() takes 1 positional argument but 6 were given"
     ]
    }
   ],
   "source": [
    "big(1,2,3,23,443,34)"
   ]
  },
  {
   "cell_type": "code",
   "execution_count": null,
   "id": "9939bd00",
   "metadata": {},
   "outputs": [],
   "source": []
  },
  {
   "cell_type": "code",
   "execution_count": 3,
   "id": "319fb60d",
   "metadata": {},
   "outputs": [
    {
     "name": "stdout",
     "output_type": "stream",
     "text": [
      "index :p Count: 0\n",
      "index :y Count: -1\n",
      "index :t Count: -2\n",
      "index :h Count: -3\n",
      "index :o Count: -4\n",
      "index :n Count: -5\n"
     ]
    }
   ],
   "source": [
    "s='python'\n",
    "c=0\n",
    "for i in s:\n",
    "    print(f\"index :{i} Count:\",c)\n",
    "    c-=1\n",
    "    "
   ]
  },
  {
   "cell_type": "code",
   "execution_count": 5,
   "id": "0a644213",
   "metadata": {},
   "outputs": [
    {
     "name": "stdout",
     "output_type": "stream",
     "text": [
      "2\n",
      "4\n",
      "6\n",
      "8\n",
      "10\n",
      "12\n",
      "14\n",
      "16\n",
      "18\n",
      "20\n"
     ]
    }
   ],
   "source": [
    "a=0\n",
    "while a<20:\n",
    "    print(a+2)\n",
    "    a+=2\n",
    "    pass"
   ]
  },
  {
   "cell_type": "code",
   "execution_count": 9,
   "id": "65d5d908",
   "metadata": {},
   "outputs": [
    {
     "name": "stdout",
     "output_type": "stream",
     "text": [
      "30\n"
     ]
    }
   ],
   "source": [
    "a=1\n",
    "for i in range(6):\n",
    "    c=i*a\n",
    "    a+=1\n",
    "print(c)    "
   ]
  },
  {
   "cell_type": "code",
   "execution_count": null,
   "id": "3bf746a4",
   "metadata": {},
   "outputs": [],
   "source": []
  }
 ],
 "metadata": {
  "kernelspec": {
   "display_name": "Python 3 (ipykernel)",
   "language": "python",
   "name": "python3"
  },
  "language_info": {
   "codemirror_mode": {
    "name": "ipython",
    "version": 3
   },
   "file_extension": ".py",
   "mimetype": "text/x-python",
   "name": "python",
   "nbconvert_exporter": "python",
   "pygments_lexer": "ipython3",
   "version": "3.9.13"
  }
 },
 "nbformat": 4,
 "nbformat_minor": 5
}
