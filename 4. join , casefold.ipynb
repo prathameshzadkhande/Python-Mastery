{
 "cells": [
  {
   "cell_type": "code",
   "execution_count": 1,
   "id": "014f79c2",
   "metadata": {},
   "outputs": [
    {
     "data": {
      "text/plain": [
       "4"
      ]
     },
     "execution_count": 1,
     "metadata": {},
     "output_type": "execute_result"
    }
   ],
   "source": [
    "str1= \"Machine Learning\"\n",
    "str1.index(\"i\")"
   ]
  },
  {
   "cell_type": "markdown",
   "id": "c751ec57",
   "metadata": {},
   "source": [
    "### Index()"
   ]
  },
  {
   "cell_type": "code",
   "execution_count": 2,
   "id": "73ba0bf7",
   "metadata": {},
   "outputs": [
    {
     "data": {
      "text/plain": [
       "4"
      ]
     },
     "execution_count": 2,
     "metadata": {},
     "output_type": "execute_result"
    }
   ],
   "source": [
    "str1.index(\"i\")"
   ]
  },
  {
   "cell_type": "code",
   "execution_count": 3,
   "id": "36d0248c",
   "metadata": {},
   "outputs": [
    {
     "name": "stdout",
     "output_type": "stream",
     "text": [
      "your addition is 1 + 0>>\n",
      "1\n",
      "your addition is 3 + 1>>\n",
      "4\n",
      "your addition is 4 + 4>>\n",
      "8\n",
      "your addition is 5 + 8>>\n",
      "13\n",
      "your addition is 6 + 13>>\n",
      "19\n",
      "your addition is 7 + 19>>\n",
      "26\n",
      "your addition is 34 + 26>>\n",
      "60\n",
      "your addition is 45 + 60>>\n",
      "105\n",
      "your addition is 234 + 105>>\n",
      "339\n",
      "your addition is 2456 + 339>>\n",
      "2795\n",
      "your addition is 34 + 2795>>\n",
      "2829\n",
      "2829\n"
     ]
    }
   ],
   "source": [
    "str2=[1,3,4,5,6,7,34,45,234,2456,34]\n",
    "n = 0\n",
    "for i in str2:\n",
    "    print(f\"your addition is {i} + {n}>>\")\n",
    "    n=i+n\n",
    "    print(n)\n",
    "    \n",
    "print(n)"
   ]
  },
  {
   "cell_type": "code",
   "execution_count": 4,
   "id": "66a0609f",
   "metadata": {},
   "outputs": [
    {
     "name": "stdout",
     "output_type": "stream",
     "text": [
      "2829\n"
     ]
    }
   ],
   "source": [
    "def add(str2):\n",
    "    n = 0\n",
    "    for i in str2:\n",
    "        print(f\"your addition is {i} + {n}>>\")\n",
    "        n=i+n\n",
    "        print(n)\n",
    "print(n) "
   ]
  },
  {
   "cell_type": "code",
   "execution_count": 5,
   "id": "de650f81",
   "metadata": {},
   "outputs": [
    {
     "name": "stdout",
     "output_type": "stream",
     "text": [
      "your addition is 12 + 0>>\n",
      "12\n",
      "your addition is 334 + 12>>\n",
      "346\n",
      "your addition is 123 + 346>>\n",
      "469\n",
      "your addition is 3456 + 469>>\n",
      "3925\n",
      "your addition is 657 + 3925>>\n",
      "4582\n"
     ]
    }
   ],
   "source": [
    "str5 = [12,334,123,3456,657]\n",
    "add(str5)"
   ]
  },
  {
   "cell_type": "markdown",
   "id": "9b91c503",
   "metadata": {},
   "source": [
    "### Join()\n",
    " join Function convert list to string\n",
    " .join(string)"
   ]
  },
  {
   "cell_type": "code",
   "execution_count": 6,
   "id": "53973ebd",
   "metadata": {},
   "outputs": [
    {
     "data": {
      "text/plain": [
       "['Hellow', 'prathamesh', 'zadkhande']"
      ]
     },
     "execution_count": 6,
     "metadata": {},
     "output_type": "execute_result"
    }
   ],
   "source": [
    "l1 = \"Hellow prathamesh zadkhande\"\n",
    "l1.split()"
   ]
  },
  {
   "cell_type": "code",
   "execution_count": 7,
   "id": "07777fb4",
   "metadata": {},
   "outputs": [
    {
     "data": {
      "text/plain": [
       "'H_e_l_l_o_w_ _p_r_a_t_h_a_m_e_s_h_ _z_a_d_k_h_a_n_d_e'"
      ]
     },
     "execution_count": 7,
     "metadata": {},
     "output_type": "execute_result"
    }
   ],
   "source": [
    "\"_\".join(l1)"
   ]
  },
  {
   "cell_type": "markdown",
   "id": "0b4c2e5b",
   "metadata": {},
   "source": [
    "### casefold()\n",
    "casefold returns the string that all string in lower case\n"
   ]
  },
  {
   "cell_type": "code",
   "execution_count": 8,
   "id": "c62d1cce",
   "metadata": {},
   "outputs": [
    {
     "data": {
      "text/plain": [
       "'data analythics'"
      ]
     },
     "execution_count": 8,
     "metadata": {},
     "output_type": "execute_result"
    }
   ],
   "source": [
    "l2 = \"Data Analythics\"\n",
    "l2.casefold()"
   ]
  },
  {
   "cell_type": "code",
   "execution_count": 9,
   "id": "e39dff22",
   "metadata": {},
   "outputs": [
    {
     "data": {
      "text/plain": [
       "False"
      ]
     },
     "execution_count": 9,
     "metadata": {},
     "output_type": "execute_result"
    }
   ],
   "source": [
    "# endswith()\n",
    "# it Will return true or false\n",
    "a = \"Machine Learning\"\n",
    "a.endswith(\"a\")"
   ]
  },
  {
   "cell_type": "code",
   "execution_count": 11,
   "id": "957fa690",
   "metadata": {},
   "outputs": [
    {
     "data": {
      "text/plain": [
       "True"
      ]
     },
     "execution_count": 11,
     "metadata": {},
     "output_type": "execute_result"
    }
   ],
   "source": [
    "a.endswith('g')"
   ]
  },
  {
   "cell_type": "markdown",
   "id": "af2c3f43",
   "metadata": {},
   "source": [
    "Cheack For the directory"
   ]
  },
  {
   "cell_type": "code",
   "execution_count": 12,
   "id": "54155268",
   "metadata": {},
   "outputs": [
    {
     "data": {
      "text/plain": [
       "'C:\\\\Users\\\\prath\\\\Data Science\\\\Prathamesh'"
      ]
     },
     "execution_count": 12,
     "metadata": {},
     "output_type": "execute_result"
    }
   ],
   "source": [
    "import os\n",
    "os.getcwd()"
   ]
  },
  {
   "cell_type": "code",
   "execution_count": 15,
   "id": "1cd8ae33",
   "metadata": {},
   "outputs": [
    {
     "name": "stdout",
     "output_type": "stream",
     "text": [
      "Mr.Kaushal Gender is male \n",
      "Mr.Prathamesh Gender is male \n",
      "Miss.Pari Gender is Female and She is UnMarried\n",
      "Ms.Angel Gender is Female and She is Married\n",
      "Mr.Ram Gender is male \n",
      "Mr.Prasad Gender is male \n"
     ]
    }
   ],
   "source": [
    "l2 = [\"Mr.Kaushal\",\"Mr.Prathamesh\",\"Miss.Pari\",\"Ms.Angel\",\"Mr.Ram\",\"Mr.Prasad\"]\n",
    "for name in l2:\n",
    "    if name.startswith(\"Mr\"):\n",
    "        print(f\"{name} Gender is male \")\n",
    "    elif name.startswith(\"Miss\"):\n",
    "        print(f\"{name} Gender is Female and She is UnMarried\")\n",
    "    elif name.startswith(\"Ms\"):\n",
    "        print(f\"{name} Gender is Female and She is Married\")\n",
    "    else:\n",
    "        print(\"He is Alien\")"
   ]
  },
  {
   "cell_type": "code",
   "execution_count": 25,
   "id": "2c903ae9",
   "metadata": {},
   "outputs": [],
   "source": [
    "def auto_gender(l2):\n",
    "    for name in l2:\n",
    "        if name.startswith(\"Mr\"):\n",
    "            print(f\"{name} Gender is male \")\n",
    "        elif name.startswith(\"Miss\"):\n",
    "            print(f\"{name} Gender is Female and She is UnMarried\")\n",
    "        elif name.startswith(\"Ms\"):\n",
    "            print(f\"{name} Gender is Female and She is Married\")\n",
    "        else:\n",
    "            print(f\"{name} He is Alien\")\n",
    "     "
   ]
  },
  {
   "cell_type": "code",
   "execution_count": 27,
   "id": "6b0270b2",
   "metadata": {},
   "outputs": [
    {
     "name": "stdout",
     "output_type": "stream",
     "text": [
      "Mr.Ram Gender is male \n",
      "Miss.Gita Gender is Female and She is UnMarried\n",
      "Ms.Tina Gender is Female and She is Married\n",
      "Ms.hina Gender is Female and She is Married\n",
      "Mr.Lakhan Gender is male \n",
      "Rasika He is Alien\n"
     ]
    }
   ],
   "source": [
    "l3=[\"Mr.Ram\",\"Miss.Gita\",\"Ms.Tina\",\"Ms.hina\",\"Mr.Lakhan\",\"Rasika\"]\n",
    "auto_gender(l3)"
   ]
  },
  {
   "cell_type": "code",
   "execution_count": null,
   "id": "377da5c3",
   "metadata": {},
   "outputs": [],
   "source": []
  }
 ],
 "metadata": {
  "kernelspec": {
   "display_name": "Python 3 (ipykernel)",
   "language": "python",
   "name": "python3"
  },
  "language_info": {
   "codemirror_mode": {
    "name": "ipython",
    "version": 3
   },
   "file_extension": ".py",
   "mimetype": "text/x-python",
   "name": "python",
   "nbconvert_exporter": "python",
   "pygments_lexer": "ipython3",
   "version": "3.9.13"
  }
 },
 "nbformat": 4,
 "nbformat_minor": 5
}
