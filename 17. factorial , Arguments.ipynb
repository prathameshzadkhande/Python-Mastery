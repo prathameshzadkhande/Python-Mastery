{
 "cells": [
  {
   "cell_type": "markdown",
   "id": "ea2ecfdd",
   "metadata": {},
   "source": [
    "#### Arbitrary positional Arguments"
   ]
  },
  {
   "cell_type": "markdown",
   "id": "3fa1b398",
   "metadata": {},
   "source": [
    "Python Arbitrary Arguments allows a function to accept any number of positional arguments.\n",
    "it is also called variable length argument\n",
    ">>>datatype of args is tuple\n",
    "when we dont know the number of argument to be passed length of the argument"
   ]
  },
  {
   "cell_type": "code",
   "execution_count": 1,
   "id": "29ebe7ad",
   "metadata": {
    "collapsed": true
   },
   "outputs": [
    {
     "ename": "SyntaxError",
     "evalue": "invalid syntax (426700031.py, line 1)",
     "output_type": "error",
     "traceback": [
      "\u001b[1;36m  File \u001b[1;32m\"C:\\Users\\prath\\AppData\\Local\\Temp\\ipykernel_4024\\426700031.py\"\u001b[1;36m, line \u001b[1;32m1\u001b[0m\n\u001b[1;33m    *args >> *argument\u001b[0m\n\u001b[1;37m             ^\u001b[0m\n\u001b[1;31mSyntaxError\u001b[0m\u001b[1;31m:\u001b[0m invalid syntax\n"
     ]
    }
   ],
   "source": [
    "*args >> *argument"
   ]
  },
  {
   "cell_type": "code",
   "execution_count": 6,
   "id": "79aac6bf",
   "metadata": {},
   "outputs": [],
   "source": [
    "def multiplication(*args):\n",
    "    print(f\"Number of Arguments > {args}\")\n",
    "    mul = 1\n",
    "    for i in args:\n",
    "        print(i)\n",
    "        mul *= i\n",
    "    return mul"
   ]
  },
  {
   "cell_type": "code",
   "execution_count": 7,
   "id": "2cc9f408",
   "metadata": {},
   "outputs": [
    {
     "name": "stdout",
     "output_type": "stream",
     "text": [
      "Number of Arguments > (2, 3, 4, 5)\n",
      "2\n",
      "3\n",
      "4\n",
      "5\n"
     ]
    },
    {
     "data": {
      "text/plain": [
       "120"
      ]
     },
     "execution_count": 7,
     "metadata": {},
     "output_type": "execute_result"
    }
   ],
   "source": [
    "multiplication(2,3,4,5)"
   ]
  },
  {
   "cell_type": "code",
   "execution_count": 21,
   "id": "3cb50779",
   "metadata": {},
   "outputs": [],
   "source": [
    "def factorial(a):\n",
    "    ul = 1 \n",
    "    for i in range(1,a+1):\n",
    "        ul*=i\n",
    "    return ul"
   ]
  },
  {
   "cell_type": "code",
   "execution_count": 22,
   "id": "9be11d9c",
   "metadata": {},
   "outputs": [
    {
     "data": {
      "text/plain": [
       "120"
      ]
     },
     "execution_count": 22,
     "metadata": {},
     "output_type": "execute_result"
    }
   ],
   "source": [
    "factorial(5)"
   ]
  },
  {
   "cell_type": "code",
   "execution_count": 30,
   "id": "f919fec8",
   "metadata": {},
   "outputs": [
    {
     "name": "stdout",
     "output_type": "stream",
     "text": [
      "Number of Arguments > (100, 99)\n",
      "100\n",
      "99\n"
     ]
    },
    {
     "data": {
      "text/plain": [
       "9900"
      ]
     },
     "execution_count": 30,
     "metadata": {},
     "output_type": "execute_result"
    }
   ],
   "source": [
    "multiplication(100,99)"
   ]
  },
  {
   "cell_type": "code",
   "execution_count": 31,
   "id": "5cf54dd4",
   "metadata": {},
   "outputs": [],
   "source": [
    "def fun(a,b,*args,val='data',val1='bata'):\n",
    "    print(f\"{a=},{b=},{args=},{val=},{val1=}\")"
   ]
  },
  {
   "cell_type": "code",
   "execution_count": 32,
   "id": "6e83f532",
   "metadata": {},
   "outputs": [
    {
     "name": "stdout",
     "output_type": "stream",
     "text": [
      "a=2,b=4,args=(5, 3, 6, 'Prathamesh', 'Python'),val='data',val1='bata'\n"
     ]
    }
   ],
   "source": [
    "fun(2,4,5,3,6 ,\"Prathamesh\",\"Python\")"
   ]
  },
  {
   "cell_type": "markdown",
   "id": "e074787f",
   "metadata": {},
   "source": [
    "#### Arbitrary Keyword Arguments"
   ]
  },
  {
   "cell_type": "code",
   "execution_count": null,
   "id": "9bc20c5e",
   "metadata": {},
   "outputs": [],
   "source": [
    "*args>>*argument\n",
    "**kwargs>>**keyword argument\n",
    "if we dont know number of keyword argument to be passed ,then we use **keyword arg\n",
    "data type>>dict"
   ]
  },
  {
   "cell_type": "code",
   "execution_count": 37,
   "id": "4209c5f0",
   "metadata": {},
   "outputs": [],
   "source": [
    "def bun(**keargs):\n",
    "    print(f\"Keywords >>{keargs}\")"
   ]
  },
  {
   "cell_type": "code",
   "execution_count": 40,
   "id": "0f1dd00a",
   "metadata": {},
   "outputs": [
    {
     "name": "stdout",
     "output_type": "stream",
     "text": [
      "Keywords >>{'a': 1, 'b': 'vilas', 'c': 'hellow', 'd': 'ram'}\n"
     ]
    }
   ],
   "source": [
    "bun(a=1,b='vilas',c='hellow',d='ram')"
   ]
  },
  {
   "cell_type": "code",
   "execution_count": null,
   "id": "fc594d9d",
   "metadata": {},
   "outputs": [],
   "source": [
    "overall percentage of subjects marks"
   ]
  },
  {
   "cell_type": "code",
   "execution_count": null,
   "id": "5a7e6183",
   "metadata": {},
   "outputs": [],
   "source": [
    "science=67,maths=81,bio=78,sst=56,eng=56\n",
    "# Formula for percentage\n",
    "(67+81+78+56+56)*100/500"
   ]
  },
  {
   "cell_type": "code",
   "execution_count": null,
   "id": "e16a0b40",
   "metadata": {},
   "outputs": [],
   "source": [
    "# in function we have formula to calculate percentage"
   ]
  },
  {
   "cell_type": "code",
   "execution_count": null,
   "id": "7b4be291",
   "metadata": {},
   "outputs": [],
   "source": [
    "percentage=sum(kwargs.values())/len(kwargs)"
   ]
  },
  {
   "cell_type": "code",
   "execution_count": null,
   "id": "03e4133c",
   "metadata": {},
   "outputs": [],
   "source": [
    "def result(**kwargs)"
   ]
  },
  {
   "cell_type": "code",
   "execution_count": null,
   "id": "827dfa73",
   "metadata": {},
   "outputs": [],
   "source": []
  },
  {
   "cell_type": "code",
   "execution_count": null,
   "id": "fbe82729",
   "metadata": {},
   "outputs": [],
   "source": []
  },
  {
   "cell_type": "code",
   "execution_count": 3,
   "id": "60e39897",
   "metadata": {},
   "outputs": [
    {
     "name": "stdout",
     "output_type": "stream",
     "text": [
      "Enter fibo series :5\n",
      "0 1 1 2 3 "
     ]
    }
   ],
   "source": [
    "def fibo(n):\n",
    "    if n<=1:\n",
    "        return n\n",
    "    else:\n",
    "        return fibo(n-1)+fibo(n-2)\n",
    "a=int(input(\"Enter fibo series :\"))\n",
    "for i in range(a):\n",
    "    print(fibo(i),end=\" \")"
   ]
  },
  {
   "cell_type": "code",
   "execution_count": 3,
   "id": "f7ba8de0",
   "metadata": {},
   "outputs": [],
   "source": [
    "def fibon(a):\n",
    "    if a<=1:\n",
    "        return a\n",
    "    else :\n",
    "        return fibon(a-1)+fibon(a-2)"
   ]
  },
  {
   "cell_type": "code",
   "execution_count": 4,
   "id": "1bb9e76d",
   "metadata": {},
   "outputs": [
    {
     "name": "stdout",
     "output_type": "stream",
     "text": [
      "0 1 1 2 3 5 8 13 21 34 "
     ]
    }
   ],
   "source": [
    "for i in range(10):\n",
    "    print(fibon(i),end=\" \")"
   ]
  },
  {
   "cell_type": "code",
   "execution_count": null,
   "id": "3ebb245a",
   "metadata": {},
   "outputs": [],
   "source": []
  },
  {
   "cell_type": "code",
   "execution_count": null,
   "id": "a34923cd",
   "metadata": {},
   "outputs": [],
   "source": []
  },
  {
   "cell_type": "code",
   "execution_count": null,
   "id": "fecfded9",
   "metadata": {},
   "outputs": [],
   "source": []
  },
  {
   "cell_type": "code",
   "execution_count": null,
   "id": "a7c6f0d3",
   "metadata": {},
   "outputs": [],
   "source": []
  },
  {
   "cell_type": "code",
   "execution_count": null,
   "id": "5391f3a7",
   "metadata": {},
   "outputs": [],
   "source": []
  },
  {
   "cell_type": "code",
   "execution_count": null,
   "id": "51ce34aa",
   "metadata": {},
   "outputs": [],
   "source": []
  },
  {
   "cell_type": "code",
   "execution_count": null,
   "id": "120d2c6a",
   "metadata": {},
   "outputs": [],
   "source": []
  },
  {
   "cell_type": "code",
   "execution_count": null,
   "id": "d8434a25",
   "metadata": {},
   "outputs": [],
   "source": []
  }
 ],
 "metadata": {
  "kernelspec": {
   "display_name": "Python 3 (ipykernel)",
   "language": "python",
   "name": "python3"
  },
  "language_info": {
   "codemirror_mode": {
    "name": "ipython",
    "version": 3
   },
   "file_extension": ".py",
   "mimetype": "text/x-python",
   "name": "python",
   "nbconvert_exporter": "python",
   "pygments_lexer": "ipython3",
   "version": "3.9.13"
  }
 },
 "nbformat": 4,
 "nbformat_minor": 5
}
