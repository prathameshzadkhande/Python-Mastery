{
 "cells": [
  {
   "cell_type": "code",
   "execution_count": 2,
   "id": "d26b23c1",
   "metadata": {},
   "outputs": [
    {
     "name": "stdout",
     "output_type": "stream",
     "text": [
      "[2, 4, 6, 8, 10, 12]\n"
     ]
    }
   ],
   "source": [
    "# map function\n",
    "def addition(n):\n",
    "    return n+n\n",
    "number =[1,2,3,4,5,6]\n",
    "result = map(addition,number)\n",
    "print(list(result))"
   ]
  },
  {
   "cell_type": "code",
   "execution_count": 1,
   "id": "ffa35dda",
   "metadata": {},
   "outputs": [
    {
     "name": "stdout",
     "output_type": "stream",
     "text": [
      "Enter Sequence >>2\n",
      ">>234553\n",
      ">>3\n",
      "The Division is >>78184 >> The Reminder is >>1\n",
      ">>234 \n",
      ">>34\n",
      "The Division is >>6 >> The Reminder is >>30\n"
     ]
    }
   ],
   "source": [
    "str1 = int(input(\"Enter Sequence >>\"))\n",
    "for i in range (str1):\n",
    "    A = int(input(\">>\"))\n",
    "    B = int(input(\">>\"))\n",
    "    print(f\"The Division is >>{A//B} >>\", f\"The Reminder is >>{A%B}\" )"
   ]
  },
  {
   "cell_type": "code",
   "execution_count": 12,
   "id": "7354d379",
   "metadata": {},
   "outputs": [
    {
     "name": "stdout",
     "output_type": "stream",
     "text": [
      "Index>> -1 Value>> 7\n",
      "Index>> 0 Value>> 60.4\n",
      "Index>> 1 Value>> 5.8\n",
      "Index>> 2 Value>> 7\n",
      "Index>> 3 Value>> data\n",
      "Index>> 4 Value>> 1\n"
     ]
    }
   ],
   "source": [
    "lst = [1,\"data\",3+4,5.8,60.4,7]\n",
    "for i , v in enumerate(lst[::-1]):\n",
    "    i = 1-i\n",
    "    print(\"Index>>\",i,\"Value>>\",v)"
   ]
  },
  {
   "cell_type": "code",
   "execution_count": 13,
   "id": "92c53331",
   "metadata": {},
   "outputs": [
    {
     "name": "stdout",
     "output_type": "stream",
     "text": [
      "Index>> 0 Value>> 7\n",
      "Index>> 1 Value>> 60.4\n",
      "Index>> 2 Value>> 5.8\n",
      "Index>> 3 Value>> 7\n",
      "Index>> 4 Value>> data\n",
      "Index>> 5 Value>> 1\n"
     ]
    }
   ],
   "source": [
    "lst = [1,\"data\",3+4,5.8,60.4,7]\n",
    "for i , v in enumerate(lst[::-1]):\n",
    "    print(\"Index>>\",i,\"Value>>\",v)"
   ]
  },
  {
   "cell_type": "code",
   "execution_count": 15,
   "id": "699bae59",
   "metadata": {},
   "outputs": [
    {
     "name": "stdout",
     "output_type": "stream",
     "text": [
      "Index>> 1 Value>> 7\n",
      "Index>> 0 Value>> 60.4\n",
      "Index>> -1 Value>> 5.8\n",
      "Index>> -2 Value>> 7\n",
      "Index>> -3 Value>> data\n",
      "Index>> -4 Value>> 1\n"
     ]
    }
   ],
   "source": [
    "lst = [1,\"data\",3+4,5.8,60.4,7]\n",
    "for i , v in enumerate(lst[::-1]):\n",
    "    i = i+1\n",
    "    print(\"Index>>\",i,\"Value>>\",v)"
   ]
  },
  {
   "cell_type": "code",
   "execution_count": null,
   "id": "b546b408",
   "metadata": {},
   "outputs": [],
   "source": []
  }
 ],
 "metadata": {
  "kernelspec": {
   "display_name": "Python 3 (ipykernel)",
   "language": "python",
   "name": "python3"
  },
  "language_info": {
   "codemirror_mode": {
    "name": "ipython",
    "version": 3
   },
   "file_extension": ".py",
   "mimetype": "text/x-python",
   "name": "python",
   "nbconvert_exporter": "python",
   "pygments_lexer": "ipython3",
   "version": "3.9.13"
  }
 },
 "nbformat": 4,
 "nbformat_minor": 5
}
