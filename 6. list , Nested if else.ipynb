{
 "cells": [
  {
   "cell_type": "code",
   "execution_count": 1,
   "id": "a955746f",
   "metadata": {},
   "outputs": [],
   "source": [
    "# Nested If Else condiotion"
   ]
  },
  {
   "cell_type": "code",
   "execution_count": 17,
   "id": "6a4819fa",
   "metadata": {},
   "outputs": [],
   "source": [
    "def loan_approval(age,cibil,salary):\n",
    "    if age>=25 and age<=50:\n",
    "        print(\"You age is fit for lone\")\n",
    "        if cibil>=750 :\n",
    "            print(\"Your Cibil Score is Good\")\n",
    "            if salary>=50000:\n",
    "                print(\"You Salary also satisfy the lone condition\")\n",
    "                print(\"Congrats, you are eligible for lone\")\n",
    "            else:\n",
    "                print(\"You Salary is not satisfy the lone condition\")\n",
    "        else:\n",
    "            print(\"Your Cibil score is not fit\")\n",
    "    else:\n",
    "        print(\"Your age is not eligible for these lone scheme\")"
   ]
  },
  {
   "cell_type": "code",
   "execution_count": 18,
   "id": "fd1e1c78",
   "metadata": {},
   "outputs": [
    {
     "name": "stdout",
     "output_type": "stream",
     "text": [
      "Your age is not eligible for these lone scheme\n"
     ]
    }
   ],
   "source": [
    "loan_approval(age=22,cibil=333,salary=45555)"
   ]
  },
  {
   "cell_type": "code",
   "execution_count": 19,
   "id": "6d110166",
   "metadata": {},
   "outputs": [],
   "source": [
    "# list"
   ]
  },
  {
   "cell_type": "code",
   "execution_count": 49,
   "id": "7e8f7928",
   "metadata": {},
   "outputs": [
    {
     "name": "stdout",
     "output_type": "stream",
     "text": [
      "[1, 2.2, 'Machine', (3-3j), 0.21, 'Ram', -23, {'Key': 'Value'}, [2, 4, 3], (1+3j)]\n"
     ]
    },
    {
     "data": {
      "text/plain": [
       "10"
      ]
     },
     "execution_count": 49,
     "metadata": {},
     "output_type": "execute_result"
    }
   ],
   "source": [
    "list1=[1,2.2,\"Machine\",3-3j,0.21,'Ram',-23,{\"Key\":\"Value\"},[2,4,3],3j+1]\n",
    "print(list1)\n",
    "len(list1)"
   ]
  },
  {
   "cell_type": "code",
   "execution_count": 53,
   "id": "e3cae41a",
   "metadata": {},
   "outputs": [
    {
     "name": "stdout",
     "output_type": "stream",
     "text": [
      " Value >> 1 , index>> 0 <class 'int'>\n",
      " Value >> 2.2 , index>> 1 <class 'float'>\n",
      " Value >> Machine , index>> 2 <class 'str'>\n",
      " Value >> (3-3j) , index>> 3 <class 'complex'>\n",
      " Value >> 0.21 , index>> 4 <class 'float'>\n",
      " Value >> Ram , index>> 5 <class 'str'>\n",
      " Value >> -23 , index>> 6 <class 'int'>\n",
      " Value >> {'Key': 'Value'} , index>> 7 <class 'dict'>\n",
      " Value >> [2, 4, 3] , index>> 8 <class 'list'>\n",
      " Value >> (1+3j) , index>> 9 <class 'complex'>\n"
     ]
    }
   ],
   "source": [
    "count = 0\n",
    "for i in list1:\n",
    "    print(f\" Value >> {i} , index>> {count}\", type(i))\n",
    "    count=count+1"
   ]
  },
  {
   "cell_type": "code",
   "execution_count": 57,
   "id": "709eed59",
   "metadata": {},
   "outputs": [],
   "source": [
    "def rev_neg_indexing(list1):\n",
    "    count=0\n",
    "    for i in list1[::-1]:\n",
    "        print(f\" Value >> {i}, Index >> {count}\")\n",
    "        count=count+1\n",
    "    "
   ]
  },
  {
   "cell_type": "code",
   "execution_count": 59,
   "id": "7c61544d",
   "metadata": {},
   "outputs": [
    {
     "name": "stdout",
     "output_type": "stream",
     "text": [
      " Value >> (1+3j), Index >> 0\n",
      " Value >> [2, 4, 3], Index >> 1\n",
      " Value >> {'Key': 'Value'}, Index >> 2\n",
      " Value >> -23, Index >> 3\n",
      " Value >> Ram, Index >> 4\n",
      " Value >> 0.21, Index >> 5\n",
      " Value >> (3-3j), Index >> 6\n",
      " Value >> Machine, Index >> 7\n",
      " Value >> 2.2, Index >> 8\n",
      " Value >> 1, Index >> 9\n"
     ]
    }
   ],
   "source": [
    "rev_neg_indexing(list1)"
   ]
  },
  {
   "cell_type": "code",
   "execution_count": 16,
   "id": "2a89fa19",
   "metadata": {},
   "outputs": [
    {
     "name": "stdout",
     "output_type": "stream",
     "text": [
      "PRATHAMESH____KAUSHAL____MANESH____AMAAN____"
     ]
    }
   ],
   "source": [
    "ls1 = [\"prathamesh\",\"kaushal\",\"Manesh\",\"Amaan\"]\n",
    "for i in ls1:\n",
    "    print(i.upper(), end=\"____\")"
   ]
  },
  {
   "cell_type": "code",
   "execution_count": 64,
   "id": "d9ca9dba",
   "metadata": {},
   "outputs": [
    {
     "name": "stdout",
     "output_type": "stream",
     "text": [
      "1\n",
      "3\n",
      "5\n",
      "7\n",
      "9\n",
      "11\n",
      "13\n",
      "15\n",
      "17\n",
      "19\n",
      "21\n",
      "23\n",
      "25\n",
      "27\n",
      "29\n",
      "31\n",
      "33\n",
      "35\n",
      "37\n",
      "39\n",
      "41\n",
      "43\n",
      "45\n",
      "47\n",
      "49\n",
      "51\n",
      "53\n",
      "55\n",
      "57\n",
      "59\n",
      "61\n",
      "63\n",
      "65\n",
      "67\n",
      "69\n",
      "71\n",
      "73\n",
      "75\n",
      "77\n",
      "79\n",
      "81\n",
      "83\n",
      "85\n",
      "87\n",
      "89\n",
      "91\n",
      "93\n",
      "95\n",
      "97\n",
      "99\n"
     ]
    }
   ],
   "source": [
    "for i in range(1,101,2):\n",
    "    print(i)"
   ]
  },
  {
   "cell_type": "code",
   "execution_count": 65,
   "id": "c8647674",
   "metadata": {},
   "outputs": [
    {
     "name": "stdout",
     "output_type": "stream",
     "text": [
      "0\n",
      "2\n",
      "4\n",
      "6\n",
      "8\n",
      "10\n",
      "12\n",
      "14\n",
      "16\n",
      "18\n",
      "20\n",
      "22\n",
      "24\n",
      "26\n",
      "28\n",
      "30\n",
      "32\n",
      "34\n",
      "36\n",
      "38\n",
      "40\n",
      "42\n",
      "44\n",
      "46\n",
      "48\n",
      "50\n",
      "52\n",
      "54\n",
      "56\n",
      "58\n",
      "60\n",
      "62\n",
      "64\n",
      "66\n",
      "68\n",
      "70\n",
      "72\n",
      "74\n",
      "76\n",
      "78\n",
      "80\n",
      "82\n",
      "84\n",
      "86\n",
      "88\n",
      "90\n",
      "92\n",
      "94\n",
      "96\n",
      "98\n",
      "100\n"
     ]
    }
   ],
   "source": [
    "for i in range(0,101,2):\n",
    "    print(i)"
   ]
  },
  {
   "cell_type": "code",
   "execution_count": 80,
   "id": "d09e2cb6",
   "metadata": {},
   "outputs": [
    {
     "name": "stdout",
     "output_type": "stream",
     "text": [
      "Enter 0 or 1 >>>0\n",
      "0\n",
      "100,"
     ]
    }
   ],
   "source": [
    "fun=int(input(\"Enter 0 or 1 >>>\"))\n",
    "print(f\"{fun}\")\n",
    "if fun==0:\n",
    "    if i in range(0,101,2):\n",
    "        print(i,end=\",\")\n",
    "        "
   ]
  },
  {
   "cell_type": "code",
   "execution_count": 14,
   "id": "efdf4bef",
   "metadata": {},
   "outputs": [
    {
     "name": "stdout",
     "output_type": "stream",
     "text": [
      "1\n",
      "2\n",
      "3\n",
      "4\n"
     ]
    }
   ],
   "source": [
    "for i in range (1,101, if i//5==0 and i//6==0):\n",
    "\n",
    "           print(i)\n",
    "        "
   ]
  },
  {
   "cell_type": "code",
   "execution_count": 17,
   "id": "67a2791c",
   "metadata": {},
   "outputs": [
    {
     "ename": "NameError",
     "evalue": "name 'lst1' is not defined",
     "output_type": "error",
     "traceback": [
      "\u001b[1;31m---------------------------------------------------------------------------\u001b[0m",
      "\u001b[1;31mNameError\u001b[0m                                 Traceback (most recent call last)",
      "\u001b[1;32m~\\AppData\\Local\\Temp\\ipykernel_1336\\4257900551.py\u001b[0m in \u001b[0;36m<module>\u001b[1;34m\u001b[0m\n\u001b[1;32m----> 1\u001b[1;33m \u001b[0mset\u001b[0m\u001b[1;33m(\u001b[0m\u001b[0mlst1\u001b[0m\u001b[1;33m)\u001b[0m\u001b[1;33m\u001b[0m\u001b[1;33m\u001b[0m\u001b[0m\n\u001b[0m",
      "\u001b[1;31mNameError\u001b[0m: name 'lst1' is not defined"
     ]
    }
   ],
   "source": [
    "set(lst1)"
   ]
  },
  {
   "cell_type": "code",
   "execution_count": null,
   "id": "83fbfe20",
   "metadata": {},
   "outputs": [],
   "source": []
  }
 ],
 "metadata": {
  "kernelspec": {
   "display_name": "Python 3 (ipykernel)",
   "language": "python",
   "name": "python3"
  },
  "language_info": {
   "codemirror_mode": {
    "name": "ipython",
    "version": 3
   },
   "file_extension": ".py",
   "mimetype": "text/x-python",
   "name": "python",
   "nbconvert_exporter": "python",
   "pygments_lexer": "ipython3",
   "version": "3.9.13"
  }
 },
 "nbformat": 4,
 "nbformat_minor": 5
}
