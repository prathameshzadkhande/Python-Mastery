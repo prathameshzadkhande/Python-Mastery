{
 "cells": [
  {
   "cell_type": "markdown",
   "id": "612222b9",
   "metadata": {},
   "source": [
    "#### SELF\n"
   ]
  },
  {
   "cell_type": "code",
   "execution_count": null,
   "id": "c84b36da",
   "metadata": {},
   "outputs": [],
   "source": [
    "self is the variable of which contains the memory reference of current object"
   ]
  },
  {
   "cell_type": "code",
   "execution_count": 1,
   "id": "49d7e928",
   "metadata": {
    "collapsed": true
   },
   "outputs": [
    {
     "ename": "SyntaxError",
     "evalue": "invalid syntax (2041112820.py, line 1)",
     "output_type": "error",
     "traceback": [
      "\u001b[1;36m  File \u001b[1;32m\"C:\\Users\\prath\\AppData\\Local\\Temp\\ipykernel_23008\\2041112820.py\"\u001b[1;36m, line \u001b[1;32m1\u001b[0m\n\u001b[1;33m    Heap memory:all object and instance variable are stored in the heap memory.When a variable is\u001b[0m\n\u001b[1;37m         ^\u001b[0m\n\u001b[1;31mSyntaxError\u001b[0m\u001b[1;31m:\u001b[0m invalid syntax\n"
     ]
    }
   ],
   "source": [
    "Heap memory:all object and instance variable are stored in the heap memory.When a variable is\n",
    "created in Python, it is stored in a private heap which will then allow for allocation and \n",
    "deallocation. The heap memory enables these variables to be accessed globally by all your\n",
    "programs methods"
   ]
  },
  {
   "cell_type": "code",
   "execution_count": null,
   "id": "b7251a80",
   "metadata": {},
   "outputs": [],
   "source": [
    "The __init__ method lets the class initialize the objects attributes and serves no other purpose.\n",
    "It is only used within classes."
   ]
  },
  {
   "cell_type": "code",
   "execution_count": null,
   "id": "df46d6b8",
   "metadata": {},
   "outputs": [],
   "source": [
    "# camel case,snake case,pascal case"
   ]
  },
  {
   "cell_type": "code",
   "execution_count": 2,
   "id": "80f90e16",
   "metadata": {},
   "outputs": [
    {
     "name": "stdout",
     "output_type": "stream",
     "text": [
      "data collenction\n"
     ]
    }
   ],
   "source": [
    "class DataGathering(): # Camel Case\n",
    "    def getdata(self): # Snake Case\n",
    "        pass\n",
    "    print('data collenction')\n",
    "    def get_collection_data_from_api(self):\n",
    "        pass\n",
    "    \n",
    "class EDA ():\n",
    "    def get_missing_value(self):\n",
    "        pass\n",
    "    def get_outliers(self):\n",
    "        pass\n",
    "    def get_normelization(self):\n",
    "        pass\n",
    "    \n",
    "class ModelTraining():\n",
    "    def get_linear_regression(self):\n",
    "        pass\n",
    "    def get_logistic_regression(self):\n",
    "        pass\n",
    "    def get_decision_tree(self):\n",
    "        pass\n",
    "    \n",
    "class ModelEvaluation():\n",
    "    def get_accureacy(self):\n",
    "        pass\n",
    "    def get_report(self):\n",
    "        pass\n",
    "    \n",
    "\n",
    "dataobj = DataGathering()\n",
    "dataobj.getdata()\n",
    "\n",
    "    \n",
    "    \n",
    "    "
   ]
  },
  {
   "cell_type": "code",
   "execution_count": null,
   "id": "3579a0f6",
   "metadata": {},
   "outputs": [],
   "source": []
  },
  {
   "cell_type": "markdown",
   "id": "f1adfd51",
   "metadata": {},
   "source": [
    "#### ATM"
   ]
  },
  {
   "cell_type": "code",
   "execution_count": 1,
   "id": "d058a017",
   "metadata": {},
   "outputs": [
    {
     "ename": "SyntaxError",
     "evalue": "invalid syntax (1399761262.py, line 7)",
     "output_type": "error",
     "traceback": [
      "\u001b[1;36m  File \u001b[1;32m\"C:\\Users\\prath\\AppData\\Local\\Temp\\ipykernel_11028\\1399761262.py\"\u001b[1;36m, line \u001b[1;32m7\u001b[0m\n\u001b[1;33m    print int(input(\"\"\"\u001b[0m\n\u001b[1;37m          ^\u001b[0m\n\u001b[1;31mSyntaxError\u001b[0m\u001b[1;31m:\u001b[0m invalid syntax\n"
     ]
    }
   ],
   "source": [
    "class ATM ():\n",
    "    def __init__(self):\n",
    "        self.pin = \"\"\n",
    "        self.balance = \"\"\n",
    "        \n",
    "    def menu(self):\n",
    "        print  int(input(\"\"\"\n",
    "                Hello welcome to ATM \n",
    "                1. To create pin \n",
    "                2. to credit balance\n",
    "                3. to withdraw balance\n",
    "                4. to check balance\n",
    "                5. to exit\n",
    "        \"\"\")))\n",
    "        if "
   ]
  },
  {
   "cell_type": "code",
   "execution_count": null,
   "id": "54d37fcb",
   "metadata": {},
   "outputs": [],
   "source": []
  },
  {
   "cell_type": "code",
   "execution_count": null,
   "id": "4f8f6009",
   "metadata": {},
   "outputs": [],
   "source": []
  },
  {
   "cell_type": "code",
   "execution_count": null,
   "id": "03e09778",
   "metadata": {},
   "outputs": [],
   "source": []
  },
  {
   "cell_type": "code",
   "execution_count": null,
   "id": "f6c0ba8d",
   "metadata": {},
   "outputs": [],
   "source": []
  },
  {
   "cell_type": "code",
   "execution_count": null,
   "id": "e456f0fe",
   "metadata": {},
   "outputs": [],
   "source": []
  },
  {
   "cell_type": "code",
   "execution_count": null,
   "id": "1c58ddf0",
   "metadata": {},
   "outputs": [],
   "source": []
  },
  {
   "cell_type": "code",
   "execution_count": null,
   "id": "7ad751b6",
   "metadata": {},
   "outputs": [],
   "source": []
  }
 ],
 "metadata": {
  "kernelspec": {
   "display_name": "Python 3 (ipykernel)",
   "language": "python",
   "name": "python3"
  },
  "language_info": {
   "codemirror_mode": {
    "name": "ipython",
    "version": 3
   },
   "file_extension": ".py",
   "mimetype": "text/x-python",
   "name": "python",
   "nbconvert_exporter": "python",
   "pygments_lexer": "ipython3",
   "version": "3.9.13"
  }
 },
 "nbformat": 4,
 "nbformat_minor": 5
}
