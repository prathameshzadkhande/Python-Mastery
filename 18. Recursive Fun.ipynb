{
 "cells": [
  {
   "cell_type": "markdown",
   "id": "954537e1",
   "metadata": {},
   "source": [
    "#### Recursive Fuction"
   ]
  },
  {
   "cell_type": "code",
   "execution_count": 16,
   "id": "41481e12",
   "metadata": {},
   "outputs": [],
   "source": [
    "# For Factorial\n",
    "def fact(a):\n",
    "    c=1\n",
    "    for i in range(1,a+1):\n",
    "        c*=i\n",
    "    return c"
   ]
  },
  {
   "cell_type": "code",
   "execution_count": 17,
   "id": "d8acd86b",
   "metadata": {},
   "outputs": [
    {
     "data": {
      "text/plain": [
       "120"
      ]
     },
     "execution_count": 17,
     "metadata": {},
     "output_type": "execute_result"
    }
   ],
   "source": [
    "fact(5)"
   ]
  },
  {
   "cell_type": "code",
   "execution_count": 18,
   "id": "95925cf2",
   "metadata": {},
   "outputs": [],
   "source": [
    "# factorial using recursive function\n",
    "def re_fact(a):\n",
    "    if a<=1:\n",
    "        return a\n",
    "    else:\n",
    "        return a*re_fact(a-1)"
   ]
  },
  {
   "cell_type": "code",
   "execution_count": 19,
   "id": "c8d97d46",
   "metadata": {},
   "outputs": [
    {
     "data": {
      "text/plain": [
       "720"
      ]
     },
     "execution_count": 19,
     "metadata": {},
     "output_type": "execute_result"
    }
   ],
   "source": [
    "re_fact(6)"
   ]
  },
  {
   "cell_type": "code",
   "execution_count": 22,
   "id": "ffbc023e",
   "metadata": {},
   "outputs": [
    {
     "name": "stdout",
     "output_type": "stream",
     "text": [
      "Enter Num :6\n",
      "720\n"
     ]
    }
   ],
   "source": [
    "b=int(input(\"Enter Num :\"))\n",
    "print(fact(b))"
   ]
  },
  {
   "cell_type": "code",
   "execution_count": 23,
   "id": "8824a821",
   "metadata": {},
   "outputs": [],
   "source": [
    "# Fibonaci series using recursion function\n",
    "def fibo(a):\n",
    "    if a<=1:\n",
    "        return 1\n",
    "    else:\n",
    "        return (a-1)+(a-2)\n",
    "\n",
    "    \n",
    "    "
   ]
  },
  {
   "cell_type": "code",
   "execution_count": 25,
   "id": "9c84b3f8",
   "metadata": {},
   "outputs": [
    {
     "name": "stdout",
     "output_type": "stream",
     "text": [
      "Enter fibo series number :5\n",
      "1 1 3 5 7 "
     ]
    }
   ],
   "source": [
    "c=int(input(\"Enter fibo series number :\"))\n",
    "for i in range (1,c+1):\n",
    "    print(fibo(i),end=\" \")"
   ]
  },
  {
   "cell_type": "code",
   "execution_count": null,
   "id": "fb09eb6a",
   "metadata": {},
   "outputs": [],
   "source": [
    "### these is method that we use to create fibbonaki series \n"
   ]
  },
  {
   "cell_type": "markdown",
   "id": "80c6e129",
   "metadata": {},
   "source": [
    "#### Set"
   ]
  },
  {
   "cell_type": "code",
   "execution_count": null,
   "id": "66f2bb3c",
   "metadata": {},
   "outputs": [],
   "source": [
    "str >> ordered , immutable , dublicates allowed ,\" \" ' ' \"\"\"\"\"\"\n",
    "list >> ordered , mutable , dublicate allowed , []\n",
    "tuple >> ordered , imutable , dublicate allowed , ()\n",
    "dict >> ordered , key> mutable , value> mutable , dublicat (values ) allowed , {'key':'value'}\n",
    "set >> unordered , mutable , dublicates are not allowed ,set > {} , ()\n",
    "       we can add only immutable items (we cannot add mutable data types > set,list [] etc)"
   ]
  },
  {
   "cell_type": "code",
   "execution_count": 26,
   "id": "8d231242",
   "metadata": {},
   "outputs": [
    {
     "data": {
      "text/plain": [
       "dict"
      ]
     },
     "execution_count": 26,
     "metadata": {},
     "output_type": "execute_result"
    }
   ],
   "source": [
    "obj = {}\n",
    "type(obj)"
   ]
  },
  {
   "cell_type": "code",
   "execution_count": 27,
   "id": "d25b18ca",
   "metadata": {},
   "outputs": [
    {
     "data": {
      "text/plain": [
       "dict"
      ]
     },
     "execution_count": 27,
     "metadata": {},
     "output_type": "execute_result"
    }
   ],
   "source": [
    "obi=set()\n",
    "type(obj)"
   ]
  },
  {
   "cell_type": "code",
   "execution_count": 29,
   "id": "cf668688",
   "metadata": {},
   "outputs": [
    {
     "name": "stdout",
     "output_type": "stream",
     "text": [
      "{88, 1, 3.3, 'data'}\n",
      "<class 'set'>\n"
     ]
    }
   ],
   "source": [
    "set1= {1,3.3,'data',88}\n",
    "print(set1)\n",
    "print(type(set1))"
   ]
  },
  {
   "cell_type": "code",
   "execution_count": 30,
   "id": "eaca2267",
   "metadata": {},
   "outputs": [
    {
     "data": {
      "text/plain": [
       "{2, 3, 99.9, 'obj'}"
      ]
     },
     "execution_count": 30,
     "metadata": {},
     "output_type": "execute_result"
    }
   ],
   "source": [
    "# these can shows us that set are could not accept dublicates\n",
    "set2={2,3,2,'obj','obj',99.9,99.9}\n",
    "set2"
   ]
  },
  {
   "cell_type": "code",
   "execution_count": 31,
   "id": "eeea6d77",
   "metadata": {},
   "outputs": [
    {
     "ename": "TypeError",
     "evalue": "unhashable type: 'list'",
     "output_type": "error",
     "traceback": [
      "\u001b[1;31m---------------------------------------------------------------------------\u001b[0m",
      "\u001b[1;31mTypeError\u001b[0m                                 Traceback (most recent call last)",
      "\u001b[1;32m~\\AppData\\Local\\Temp\\ipykernel_22524\\2269814792.py\u001b[0m in \u001b[0;36m<module>\u001b[1;34m\u001b[0m\n\u001b[1;32m----> 1\u001b[1;33m \u001b[0ms1\u001b[0m\u001b[1;33m=\u001b[0m\u001b[1;33m{\u001b[0m\u001b[1;36m1\u001b[0m\u001b[1;33m,\u001b[0m\u001b[1;36m22\u001b[0m\u001b[1;33m,\u001b[0m\u001b[1;36m22\u001b[0m\u001b[1;33m,\u001b[0m\u001b[1;34m\"agr\"\u001b[0m\u001b[1;33m,\u001b[0m\u001b[1;34m\"agr\"\u001b[0m\u001b[1;33m,\u001b[0m\u001b[1;36m5.6\u001b[0m\u001b[1;33m,\u001b[0m\u001b[1;36m5.6\u001b[0m\u001b[1;33m,\u001b[0m\u001b[1;33m[\u001b[0m\u001b[1;36m23\u001b[0m\u001b[1;33m,\u001b[0m\u001b[1;34m\"yuvraj\"\u001b[0m\u001b[1;33m]\u001b[0m\u001b[1;33m}\u001b[0m\u001b[1;33m\u001b[0m\u001b[1;33m\u001b[0m\u001b[0m\n\u001b[0m\u001b[0;32m      2\u001b[0m \u001b[0ms1\u001b[0m\u001b[1;33m\u001b[0m\u001b[1;33m\u001b[0m\u001b[0m\n",
      "\u001b[1;31mTypeError\u001b[0m: unhashable type: 'list'"
     ]
    }
   ],
   "source": [
    "s1={1,22,22,\"agr\",\"agr\",5.6,5.6,[23,\"yuvraj\"]}\n",
    "s1"
   ]
  },
  {
   "cell_type": "code",
   "execution_count": 32,
   "id": "258d8b86",
   "metadata": {},
   "outputs": [
    {
     "ename": "TypeError",
     "evalue": "unhashable type: 'set'",
     "output_type": "error",
     "traceback": [
      "\u001b[1;31m---------------------------------------------------------------------------\u001b[0m",
      "\u001b[1;31mTypeError\u001b[0m                                 Traceback (most recent call last)",
      "\u001b[1;32m~\\AppData\\Local\\Temp\\ipykernel_22524\\1130678116.py\u001b[0m in \u001b[0;36m<module>\u001b[1;34m\u001b[0m\n\u001b[1;32m----> 1\u001b[1;33m \u001b[0ms1\u001b[0m\u001b[1;33m=\u001b[0m\u001b[1;33m{\u001b[0m\u001b[1;36m1\u001b[0m\u001b[1;33m,\u001b[0m\u001b[1;36m22\u001b[0m\u001b[1;33m,\u001b[0m\u001b[1;36m22\u001b[0m\u001b[1;33m,\u001b[0m\u001b[1;34m\"agr\"\u001b[0m\u001b[1;33m,\u001b[0m\u001b[1;34m\"agr\"\u001b[0m\u001b[1;33m,\u001b[0m\u001b[1;36m5.6\u001b[0m\u001b[1;33m,\u001b[0m\u001b[1;36m5.6\u001b[0m\u001b[1;33m,\u001b[0m\u001b[1;33m{\u001b[0m\u001b[1;36m23\u001b[0m\u001b[1;33m,\u001b[0m\u001b[1;34m\"yuvraj\"\u001b[0m\u001b[1;33m}\u001b[0m\u001b[1;33m}\u001b[0m\u001b[1;33m\u001b[0m\u001b[1;33m\u001b[0m\u001b[0m\n\u001b[0m\u001b[0;32m      2\u001b[0m \u001b[0ms1\u001b[0m\u001b[1;33m\u001b[0m\u001b[1;33m\u001b[0m\u001b[0m\n",
      "\u001b[1;31mTypeError\u001b[0m: unhashable type: 'set'"
     ]
    }
   ],
   "source": [
    "s1={1,22,22,\"agr\",\"agr\",5.6,5.6,{23,\"yuvraj\"}}\n",
    "s1"
   ]
  },
  {
   "cell_type": "markdown",
   "id": "115e8d5d",
   "metadata": {},
   "source": [
    "#### update"
   ]
  },
  {
   "cell_type": "code",
   "execution_count": 34,
   "id": "17f532b8",
   "metadata": {},
   "outputs": [],
   "source": [
    "s1={1,34,'temp','acc',3.23}\n",
    "s2={'IOB','HDFC','SBI'}\n",
    "s1.update(s2)"
   ]
  },
  {
   "cell_type": "code",
   "execution_count": 35,
   "id": "403f0f83",
   "metadata": {},
   "outputs": [
    {
     "name": "stdout",
     "output_type": "stream",
     "text": [
      "{'IOB', 1, 34, 3.23, 'SBI', 'acc', 'temp', 'HDFC'}\n"
     ]
    }
   ],
   "source": [
    "print(s1)\n",
    "# these can give us output in unrdered format"
   ]
  },
  {
   "cell_type": "code",
   "execution_count": 37,
   "id": "68e88f18",
   "metadata": {},
   "outputs": [
    {
     "data": {
      "text/plain": [
       "{1, 234, 3.23, 34, 44, 'HDFC', 'IOB', 'SBI', 'acc', 'df', 'temp'}"
      ]
     },
     "execution_count": 37,
     "metadata": {},
     "output_type": "execute_result"
    }
   ],
   "source": [
    "s1.update([44,'df',234])\n",
    "s1"
   ]
  },
  {
   "cell_type": "code",
   "execution_count": 40,
   "id": "5b8f9a6b",
   "metadata": {
    "collapsed": true
   },
   "outputs": [
    {
     "data": {
      "text/plain": [
       "{1,\n",
       " 223,\n",
       " 234,\n",
       " 3.23,\n",
       " 34,\n",
       " 44,\n",
       " 'HDFC',\n",
       " 'IOB',\n",
       " 'SBI',\n",
       " 'acc',\n",
       " 'b',\n",
       " 'c',\n",
       " 'cbi',\n",
       " 'df',\n",
       " 'g',\n",
       " 'i',\n",
       " 'p',\n",
       " 's',\n",
       " 'sgp',\n",
       " 'temp',\n",
       " 'vv'}"
      ]
     },
     "execution_count": 40,
     "metadata": {},
     "output_type": "execute_result"
    }
   ],
   "source": [
    "s1.update((223,'vv'))\n",
    "s1"
   ]
  },
  {
   "cell_type": "markdown",
   "id": "d5c9615c",
   "metadata": {},
   "source": [
    "#### remove"
   ]
  },
  {
   "cell_type": "code",
   "execution_count": 41,
   "id": "3f4d01f3",
   "metadata": {},
   "outputs": [],
   "source": [
    "s1.remove(44)"
   ]
  },
  {
   "cell_type": "code",
   "execution_count": 43,
   "id": "f2960aa3",
   "metadata": {},
   "outputs": [
    {
     "ename": "TypeError",
     "evalue": "set.remove() takes exactly one argument (2 given)",
     "output_type": "error",
     "traceback": [
      "\u001b[1;31m---------------------------------------------------------------------------\u001b[0m",
      "\u001b[1;31mTypeError\u001b[0m                                 Traceback (most recent call last)",
      "\u001b[1;32m~\\AppData\\Local\\Temp\\ipykernel_22524\\2209686091.py\u001b[0m in \u001b[0;36m<module>\u001b[1;34m\u001b[0m\n\u001b[1;32m----> 1\u001b[1;33m \u001b[0ms1\u001b[0m\u001b[1;33m.\u001b[0m\u001b[0mremove\u001b[0m\u001b[1;33m(\u001b[0m\u001b[1;36m1\u001b[0m\u001b[1;33m,\u001b[0m\u001b[1;36m234\u001b[0m\u001b[1;33m)\u001b[0m\u001b[1;33m\u001b[0m\u001b[1;33m\u001b[0m\u001b[0m\n\u001b[0m",
      "\u001b[1;31mTypeError\u001b[0m: set.remove() takes exactly one argument (2 given)"
     ]
    }
   ],
   "source": [
    "s1.remove(1,234)"
   ]
  },
  {
   "cell_type": "markdown",
   "id": "0a73737d",
   "metadata": {},
   "source": [
    "#### add"
   ]
  },
  {
   "cell_type": "code",
   "execution_count": null,
   "id": "7deb1c30",
   "metadata": {},
   "outputs": [],
   "source": [
    "used to add one item in set \n",
    "item will can added in random index"
   ]
  },
  {
   "cell_type": "code",
   "execution_count": 44,
   "id": "72089c3c",
   "metadata": {
    "collapsed": true
   },
   "outputs": [
    {
     "data": {
      "text/plain": [
       "{1,\n",
       " 223,\n",
       " 234,\n",
       " 3.23,\n",
       " 34,\n",
       " 'HDFC',\n",
       " 'IOB',\n",
       " 'SBI',\n",
       " 'acc',\n",
       " 'b',\n",
       " 'c',\n",
       " 'cbi',\n",
       " 'df',\n",
       " 'g',\n",
       " 'i',\n",
       " 'p',\n",
       " 's',\n",
       " 'sgp',\n",
       " 'temp',\n",
       " 'vv'}"
      ]
     },
     "execution_count": 44,
     "metadata": {},
     "output_type": "execute_result"
    }
   ],
   "source": [
    "s1"
   ]
  },
  {
   "cell_type": "code",
   "execution_count": 45,
   "id": "40f8c120",
   "metadata": {},
   "outputs": [],
   "source": [
    "s1.add(\"IN\")"
   ]
  },
  {
   "cell_type": "code",
   "execution_count": 46,
   "id": "a4543d51",
   "metadata": {
    "collapsed": true
   },
   "outputs": [
    {
     "data": {
      "text/plain": [
       "{1,\n",
       " 223,\n",
       " 234,\n",
       " 3.23,\n",
       " 34,\n",
       " 'HDFC',\n",
       " 'IN',\n",
       " 'IOB',\n",
       " 'SBI',\n",
       " 'acc',\n",
       " 'b',\n",
       " 'c',\n",
       " 'cbi',\n",
       " 'df',\n",
       " 'g',\n",
       " 'i',\n",
       " 'p',\n",
       " 's',\n",
       " 'sgp',\n",
       " 'temp',\n",
       " 'vv'}"
      ]
     },
     "execution_count": 46,
     "metadata": {},
     "output_type": "execute_result"
    }
   ],
   "source": [
    "s1"
   ]
  },
  {
   "cell_type": "markdown",
   "id": "72eeedf0",
   "metadata": {},
   "source": [
    "#### union"
   ]
  },
  {
   "cell_type": "code",
   "execution_count": 47,
   "id": "e00bd58b",
   "metadata": {
    "collapsed": true
   },
   "outputs": [
    {
     "ename": "SyntaxError",
     "evalue": "invalid syntax (364256488.py, line 1)",
     "output_type": "error",
     "traceback": [
      "\u001b[1;36m  File \u001b[1;32m\"C:\\Users\\prath\\AppData\\Local\\Temp\\ipykernel_22524\\364256488.py\"\u001b[1;36m, line \u001b[1;32m1\u001b[0m\n\u001b[1;33m    it will get unique values of two sets\u001b[0m\n\u001b[1;37m       ^\u001b[0m\n\u001b[1;31mSyntaxError\u001b[0m\u001b[1;31m:\u001b[0m invalid syntax\n"
     ]
    }
   ],
   "source": [
    "it will get unique values of two sets\n",
    "the union method returns a new set so we require new variable\n"
   ]
  },
  {
   "cell_type": "code",
   "execution_count": 3,
   "id": "4a70eedc",
   "metadata": {},
   "outputs": [
    {
     "data": {
      "text/plain": [
       "{1, 2, 23, 34, 43, 56, 434}"
      ]
     },
     "execution_count": 3,
     "metadata": {},
     "output_type": "execute_result"
    }
   ],
   "source": [
    "s4={1,34,56,43}\n",
    "s5={2,434,56,23,2,1}\n",
    "s6=s4.union(s5)\n",
    "s6"
   ]
  },
  {
   "cell_type": "markdown",
   "id": "9debc0d3",
   "metadata": {},
   "source": [
    "#### delete"
   ]
  },
  {
   "cell_type": "code",
   "execution_count": 4,
   "id": "83b9a2c8",
   "metadata": {},
   "outputs": [
    {
     "ename": "SyntaxError",
     "evalue": "invalid syntax (1856123387.py, line 1)",
     "output_type": "error",
     "traceback": [
      "\u001b[1;36m  File \u001b[1;32m\"C:\\Users\\prath\\AppData\\Local\\Temp\\ipykernel_20644\\1856123387.py\"\u001b[1;36m, line \u001b[1;32m1\u001b[0m\n\u001b[1;33m    1. remove\u001b[0m\n\u001b[1;37m       ^\u001b[0m\n\u001b[1;31mSyntaxError\u001b[0m\u001b[1;31m:\u001b[0m invalid syntax\n"
     ]
    }
   ],
   "source": [
    "1. remove \n",
    "2. diskard\n",
    "3. pop()\n",
    "4. clear()"
   ]
  },
  {
   "cell_type": "markdown",
   "id": "516a24fe",
   "metadata": {},
   "source": [
    "#### 1. remove"
   ]
  },
  {
   "cell_type": "code",
   "execution_count": 5,
   "id": "846a964e",
   "metadata": {},
   "outputs": [
    {
     "ename": "NameError",
     "evalue": "name 's1' is not defined",
     "output_type": "error",
     "traceback": [
      "\u001b[1;31m---------------------------------------------------------------------------\u001b[0m",
      "\u001b[1;31mNameError\u001b[0m                                 Traceback (most recent call last)",
      "\u001b[1;32m~\\AppData\\Local\\Temp\\ipykernel_20644\\2235286136.py\u001b[0m in \u001b[0;36m<module>\u001b[1;34m\u001b[0m\n\u001b[0;32m      1\u001b[0m \u001b[1;31m# set1.remove(item)\u001b[0m\u001b[1;33m\u001b[0m\u001b[1;33m\u001b[0m\u001b[0m\n\u001b[1;32m----> 2\u001b[1;33m \u001b[0ms1\u001b[0m\u001b[1;33m.\u001b[0m\u001b[0mremove\u001b[0m\u001b[1;33m(\u001b[0m\u001b[1;34m'HDFC'\u001b[0m\u001b[1;33m)\u001b[0m\u001b[1;33m\u001b[0m\u001b[1;33m\u001b[0m\u001b[0m\n\u001b[0m",
      "\u001b[1;31mNameError\u001b[0m: name 's1' is not defined"
     ]
    }
   ],
   "source": [
    "# set1.remove(item)\n",
    "s1.remove('HDFC')"
   ]
  },
  {
   "cell_type": "code",
   "execution_count": 6,
   "id": "bc3dc47b",
   "metadata": {},
   "outputs": [
    {
     "ename": "NameError",
     "evalue": "name 's1' is not defined",
     "output_type": "error",
     "traceback": [
      "\u001b[1;31m---------------------------------------------------------------------------\u001b[0m",
      "\u001b[1;31mNameError\u001b[0m                                 Traceback (most recent call last)",
      "\u001b[1;32m~\\AppData\\Local\\Temp\\ipykernel_20644\\1234754133.py\u001b[0m in \u001b[0;36m<module>\u001b[1;34m\u001b[0m\n\u001b[1;32m----> 1\u001b[1;33m \u001b[0ms1\u001b[0m\u001b[1;33m\u001b[0m\u001b[1;33m\u001b[0m\u001b[0m\n\u001b[0m",
      "\u001b[1;31mNameError\u001b[0m: name 's1' is not defined"
     ]
    }
   ],
   "source": [
    "s1"
   ]
  },
  {
   "cell_type": "markdown",
   "id": "e164e8f9",
   "metadata": {},
   "source": [
    "#### 2. dickart"
   ]
  },
  {
   "cell_type": "code",
   "execution_count": 7,
   "id": "b5f5c1c6",
   "metadata": {},
   "outputs": [
    {
     "data": {
      "text/plain": [
       "{1, 2, 23, 34, 43, 56, 434}"
      ]
     },
     "execution_count": 7,
     "metadata": {},
     "output_type": "execute_result"
    }
   ],
   "source": [
    "s6"
   ]
  },
  {
   "cell_type": "code",
   "execution_count": 8,
   "id": "f210a85f",
   "metadata": {},
   "outputs": [
    {
     "ename": "KeyError",
     "evalue": "3",
     "output_type": "error",
     "traceback": [
      "\u001b[1;31m---------------------------------------------------------------------------\u001b[0m",
      "\u001b[1;31mKeyError\u001b[0m                                  Traceback (most recent call last)",
      "\u001b[1;32m~\\AppData\\Local\\Temp\\ipykernel_20644\\1236351453.py\u001b[0m in \u001b[0;36m<module>\u001b[1;34m\u001b[0m\n\u001b[0;32m      1\u001b[0m \u001b[1;31m# in remove fun when the str,int could not available in set it can show error but diskart could not show error\u001b[0m\u001b[1;33m\u001b[0m\u001b[1;33m\u001b[0m\u001b[0m\n\u001b[1;32m----> 2\u001b[1;33m \u001b[0ms6\u001b[0m\u001b[1;33m.\u001b[0m\u001b[0mremove\u001b[0m\u001b[1;33m(\u001b[0m\u001b[1;36m3\u001b[0m\u001b[1;33m)\u001b[0m\u001b[1;33m\u001b[0m\u001b[1;33m\u001b[0m\u001b[0m\n\u001b[0m",
      "\u001b[1;31mKeyError\u001b[0m: 3"
     ]
    }
   ],
   "source": [
    "# in remove fun when the str,int could not available in set it can show error but diskart could not show error\n",
    "s6.remove(3)"
   ]
  },
  {
   "cell_type": "code",
   "execution_count": 9,
   "id": "a8f1e6f5",
   "metadata": {},
   "outputs": [],
   "source": [
    "s6.discard(3)"
   ]
  },
  {
   "cell_type": "code",
   "execution_count": 10,
   "id": "a1450594",
   "metadata": {},
   "outputs": [],
   "source": [
    "s6.discard(2)"
   ]
  },
  {
   "cell_type": "code",
   "execution_count": 11,
   "id": "d44541f0",
   "metadata": {},
   "outputs": [
    {
     "data": {
      "text/plain": [
       "{1, 23, 34, 43, 56, 434}"
      ]
     },
     "execution_count": 11,
     "metadata": {},
     "output_type": "execute_result"
    }
   ],
   "source": [
    "s6"
   ]
  },
  {
   "cell_type": "code",
   "execution_count": null,
   "id": "f83e8eff",
   "metadata": {},
   "outputs": [],
   "source": []
  },
  {
   "cell_type": "markdown",
   "id": "7686d571",
   "metadata": {},
   "source": [
    "#### 3.pop()"
   ]
  },
  {
   "cell_type": "code",
   "execution_count": null,
   "id": "17b39985",
   "metadata": {},
   "outputs": [],
   "source": [
    "it will delete random item from set \n"
   ]
  },
  {
   "cell_type": "code",
   "execution_count": 12,
   "id": "77edc812",
   "metadata": {},
   "outputs": [
    {
     "data": {
      "text/plain": [
       "{1, 23, 34, 43, 56, 434}"
      ]
     },
     "execution_count": 12,
     "metadata": {},
     "output_type": "execute_result"
    }
   ],
   "source": [
    "s6"
   ]
  },
  {
   "cell_type": "code",
   "execution_count": 13,
   "id": "0ac72c6a",
   "metadata": {},
   "outputs": [
    {
     "data": {
      "text/plain": [
       "1"
      ]
     },
     "execution_count": 13,
     "metadata": {},
     "output_type": "execute_result"
    }
   ],
   "source": [
    "s6.pop()"
   ]
  },
  {
   "cell_type": "code",
   "execution_count": 14,
   "id": "1bc67838",
   "metadata": {},
   "outputs": [
    {
     "data": {
      "text/plain": [
       "34"
      ]
     },
     "execution_count": 14,
     "metadata": {},
     "output_type": "execute_result"
    }
   ],
   "source": [
    "s6.pop()"
   ]
  },
  {
   "cell_type": "markdown",
   "id": "9b272d19",
   "metadata": {},
   "source": [
    "#### 4.clear()"
   ]
  },
  {
   "cell_type": "code",
   "execution_count": 17,
   "id": "7b3389b4",
   "metadata": {},
   "outputs": [],
   "source": [
    "s6.clear()"
   ]
  },
  {
   "cell_type": "code",
   "execution_count": 18,
   "id": "b78540a6",
   "metadata": {},
   "outputs": [
    {
     "data": {
      "text/plain": [
       "set()"
      ]
     },
     "execution_count": 18,
     "metadata": {},
     "output_type": "execute_result"
    }
   ],
   "source": [
    "s6\n"
   ]
  },
  {
   "cell_type": "markdown",
   "id": "dacaae15",
   "metadata": {},
   "source": [
    "#### del()"
   ]
  },
  {
   "cell_type": "code",
   "execution_count": 19,
   "id": "5dabb87e",
   "metadata": {},
   "outputs": [],
   "source": [
    "del s6"
   ]
  },
  {
   "cell_type": "code",
   "execution_count": 20,
   "id": "cce1b332",
   "metadata": {},
   "outputs": [
    {
     "ename": "NameError",
     "evalue": "name 's6' is not defined",
     "output_type": "error",
     "traceback": [
      "\u001b[1;31m---------------------------------------------------------------------------\u001b[0m",
      "\u001b[1;31mNameError\u001b[0m                                 Traceback (most recent call last)",
      "\u001b[1;32m~\\AppData\\Local\\Temp\\ipykernel_20644\\481096884.py\u001b[0m in \u001b[0;36m<module>\u001b[1;34m\u001b[0m\n\u001b[1;32m----> 1\u001b[1;33m \u001b[0ms6\u001b[0m\u001b[1;33m\u001b[0m\u001b[1;33m\u001b[0m\u001b[0m\n\u001b[0m",
      "\u001b[1;31mNameError\u001b[0m: name 's6' is not defined"
     ]
    }
   ],
   "source": [
    "s6"
   ]
  },
  {
   "cell_type": "code",
   "execution_count": null,
   "id": "01b3d9f6",
   "metadata": {},
   "outputs": [],
   "source": []
  },
  {
   "cell_type": "code",
   "execution_count": null,
   "id": "7e4e9068",
   "metadata": {},
   "outputs": [],
   "source": []
  }
 ],
 "metadata": {
  "kernelspec": {
   "display_name": "Python 3 (ipykernel)",
   "language": "python",
   "name": "python3"
  },
  "language_info": {
   "codemirror_mode": {
    "name": "ipython",
    "version": 3
   },
   "file_extension": ".py",
   "mimetype": "text/x-python",
   "name": "python",
   "nbconvert_exporter": "python",
   "pygments_lexer": "ipython3",
   "version": "3.9.13"
  }
 },
 "nbformat": 4,
 "nbformat_minor": 5
}
