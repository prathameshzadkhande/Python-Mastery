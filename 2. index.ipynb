{
 "cells": [
  {
   "cell_type": "markdown",
   "id": "aaf9aecd",
   "metadata": {},
   "source": [
    "### index"
   ]
  },
  {
   "cell_type": "code",
   "execution_count": 1,
   "id": "e9759d13",
   "metadata": {},
   "outputs": [
    {
     "data": {
      "text/plain": [
       "4"
      ]
     },
     "execution_count": 1,
     "metadata": {},
     "output_type": "execute_result"
    }
   ],
   "source": [
    "str1= \"Machine Learning\"\n",
    "str1.index(\"i\")"
   ]
  },
  {
   "cell_type": "code",
   "execution_count": 2,
   "id": "f17033fd",
   "metadata": {},
   "outputs": [
    {
     "data": {
      "text/plain": [
       "8"
      ]
     },
     "execution_count": 2,
     "metadata": {},
     "output_type": "execute_result"
    }
   ],
   "source": [
    "str1.index(\"L\")"
   ]
  },
  {
   "cell_type": "code",
   "execution_count": 3,
   "id": "435a7a91",
   "metadata": {},
   "outputs": [
    {
     "data": {
      "text/plain": [
       "4"
      ]
     },
     "execution_count": 3,
     "metadata": {},
     "output_type": "execute_result"
    }
   ],
   "source": [
    "str1.index(\"i\")"
   ]
  },
  {
   "cell_type": "code",
   "execution_count": 4,
   "id": "e015dfac",
   "metadata": {},
   "outputs": [
    {
     "name": "stdout",
     "output_type": "stream",
     "text": [
      "your addition is 1 + 0>>\n",
      "1\n",
      "your addition is 3 + 1>>\n",
      "4\n",
      "your addition is 4 + 4>>\n",
      "8\n",
      "your addition is 5 + 8>>\n",
      "13\n",
      "your addition is 6 + 13>>\n",
      "19\n",
      "your addition is 7 + 19>>\n",
      "26\n",
      "your addition is 34 + 26>>\n",
      "60\n",
      "your addition is 45 + 60>>\n",
      "105\n",
      "your addition is 234 + 105>>\n",
      "339\n",
      "your addition is 2456 + 339>>\n",
      "2795\n",
      "your addition is 34 + 2795>>\n",
      "2829\n",
      "2829\n"
     ]
    }
   ],
   "source": [
    "str2=[1,3,4,5,6,7,34,45,234,2456,34]\n",
    "n = 0\n",
    "for i in str2:\n",
    "    print(f\"your addition is {i} + {n}>>\")\n",
    "    n=i+n\n",
    "    print(n)\n",
    "    \n",
    "print(n)\n",
    "    "
   ]
  },
  {
   "cell_type": "code",
   "execution_count": null,
   "id": "7939d99c",
   "metadata": {},
   "outputs": [],
   "source": [
    "def add(str2):\n",
    "    n = 0\n",
    "    for i in str2:\n",
    "        print(f\"your addition is {i} + {n}>>\")\n",
    "        n=i+n\n",
    "        print(n)\n",
    "print(n) "
   ]
  },
  {
   "cell_type": "code",
   "execution_count": null,
   "id": "6ce794a4",
   "metadata": {},
   "outputs": [],
   "source": [
    "str5 = [12,334,123,3456,657]\n",
    "add(str5)"
   ]
  },
  {
   "cell_type": "code",
   "execution_count": null,
   "id": "7c6f5251",
   "metadata": {},
   "outputs": [],
   "source": [
    "str6 = [-223,34,-5441,34,-546]\n",
    "add(str6)"
   ]
  },
  {
   "cell_type": "code",
   "execution_count": 5,
   "id": "8724dda1",
   "metadata": {},
   "outputs": [
    {
     "data": {
      "text/plain": [
       "24"
      ]
     },
     "execution_count": 5,
     "metadata": {},
     "output_type": "execute_result"
    }
   ],
   "source": [
    "ind = \"Cloud Computing is More boom than Mechanics\"\n",
    "ind.index(\"boom\")"
   ]
  },
  {
   "cell_type": "code",
   "execution_count": null,
   "id": "7545fc0a",
   "metadata": {},
   "outputs": [],
   "source": []
  }
 ],
 "metadata": {
  "kernelspec": {
   "display_name": "Python 3 (ipykernel)",
   "language": "python",
   "name": "python3"
  },
  "language_info": {
   "codemirror_mode": {
    "name": "ipython",
    "version": 3
   },
   "file_extension": ".py",
   "mimetype": "text/x-python",
   "name": "python",
   "nbconvert_exporter": "python",
   "pygments_lexer": "ipython3",
   "version": "3.11.7"
  }
 },
 "nbformat": 4,
 "nbformat_minor": 5
}
