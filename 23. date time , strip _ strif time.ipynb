{
 "cells": [
  {
   "cell_type": "code",
   "execution_count": null,
   "id": "97b6584b",
   "metadata": {},
   "outputs": [],
   "source": [
    "print next 5 days"
   ]
  },
  {
   "cell_type": "code",
   "execution_count": 3,
   "id": "63f5c189",
   "metadata": {},
   "outputs": [
    {
     "name": "stdout",
     "output_type": "stream",
     "text": [
      "2023-09-04 13:08:22.306213\n",
      "2023-09-08 13:08:22.306213\n"
     ]
    }
   ],
   "source": [
    "import datetime\n",
    "td=datetime.datetime.today()\n",
    "print(td)\n",
    "nd=td+datetime.timedelta(days=4)\n",
    "print (nd)"
   ]
  },
  {
   "cell_type": "code",
   "execution_count": 7,
   "id": "8ff084e6",
   "metadata": {},
   "outputs": [
    {
     "name": "stdout",
     "output_type": "stream",
     "text": [
      "2023-09-04 13:10:51.579843\n",
      "2023-09-05 13:10:51.579843\n",
      "2023-09-06 13:10:51.579843\n",
      "2023-09-07 13:10:51.579843\n",
      "2023-09-08 13:10:51.579843\n",
      "2023-09-09 13:10:51.579843\n",
      "2023-09-10 13:10:51.579843\n"
     ]
    }
   ],
   "source": [
    "td=datetime.datetime.today()\n",
    "for i in range(7):\n",
    "    nd=td+datetime.timedelta(days=i)\n",
    "    print(nd)"
   ]
  },
  {
   "cell_type": "markdown",
   "id": "0d78f5b5",
   "metadata": {},
   "source": [
    "#### striftime()"
   ]
  },
  {
   "cell_type": "code",
   "execution_count": null,
   "id": "d3a33514",
   "metadata": {},
   "outputs": [],
   "source": [
    "strftime > string format >> string from time object "
   ]
  },
  {
   "cell_type": "code",
   "execution_count": 8,
   "id": "435f161f",
   "metadata": {},
   "outputs": [
    {
     "name": "stdout",
     "output_type": "stream",
     "text": [
      "2023-09-04 13:17:09.829011 todya's time with format >><class 'datetime.datetime'>\n"
     ]
    }
   ],
   "source": [
    "td = datetime.datetime.today()\n",
    "print(f\"{td} todya's time with format >>{type(td)}\")"
   ]
  },
  {
   "cell_type": "code",
   "execution_count": 9,
   "id": "d8a6cdb1",
   "metadata": {
    "collapsed": true
   },
   "outputs": [
    {
     "ename": "SyntaxError",
     "evalue": "invalid syntax (1395523489.py, line 1)",
     "output_type": "error",
     "traceback": [
      "\u001b[1;36m  File \u001b[1;32m\"C:\\Users\\prath\\AppData\\Local\\Temp\\ipykernel_7428\\1395523489.py\"\u001b[1;36m, line \u001b[1;32m1\u001b[0m\n\u001b[1;33m    \"2023-aug-31\">>>time object\u001b[0m\n\u001b[1;37m                   ^\u001b[0m\n\u001b[1;31mSyntaxError\u001b[0m\u001b[1;31m:\u001b[0m invalid syntax\n"
     ]
    }
   ],
   "source": [
    "\"2023-aug-31\">>>time object"
   ]
  },
  {
   "cell_type": "code",
   "execution_count": 12,
   "id": "b2379902",
   "metadata": {},
   "outputs": [
    {
     "name": "stdout",
     "output_type": "stream",
     "text": [
      "2023-09-04 13:21:48.098750\n"
     ]
    }
   ],
   "source": [
    "td=datetime.datetime.now()\n",
    "print(td)"
   ]
  },
  {
   "cell_type": "code",
   "execution_count": 13,
   "id": "9b5b3306",
   "metadata": {},
   "outputs": [
    {
     "name": "stdout",
     "output_type": "stream",
     "text": [
      "<class 'datetime.datetime'>\n"
     ]
    }
   ],
   "source": [
    "current_date_obj = datetime.datetime.now()\n",
    "print(type(current_date_obj))"
   ]
  },
  {
   "cell_type": "code",
   "execution_count": 16,
   "id": "dc002fb9",
   "metadata": {},
   "outputs": [
    {
     "name": "stdout",
     "output_type": "stream",
     "text": [
      "Year  2023\n",
      "Year  23\n"
     ]
    }
   ],
   "source": [
    "# year using strftime with different format\n",
    "print(\"Year \",current_date_obj.strftime(\"%Y\"))\n",
    "print(\"Year \",current_date_obj.strftime(\"%y\"))"
   ]
  },
  {
   "cell_type": "code",
   "execution_count": 17,
   "id": "e142b165",
   "metadata": {},
   "outputs": [
    {
     "data": {
      "text/plain": [
       "str"
      ]
     },
     "execution_count": 17,
     "metadata": {},
     "output_type": "execute_result"
    }
   ],
   "source": [
    "type(current_date_obj.strftime(\"%y\"))"
   ]
  },
  {
   "cell_type": "code",
   "execution_count": 22,
   "id": "0652004d",
   "metadata": {},
   "outputs": [
    {
     "name": "stdout",
     "output_type": "stream",
     "text": [
      "Month  Sep\n",
      "Month  September\n",
      "Month  09\n"
     ]
    }
   ],
   "source": [
    "# Month = %B , %b , %m\n",
    "print(\"Month \",current_date_obj.strftime(\"%b\")) # 03-sep-2023\n",
    "print(\"Month \",current_date_obj.strftime(\"%B\")) # 03-september-2023\n",
    "print(\"Month \",current_date_obj.strftime(\"%m\"))# 03-09-2023\n",
    "\n"
   ]
  },
  {
   "cell_type": "code",
   "execution_count": 24,
   "id": "4a6bff21",
   "metadata": {},
   "outputs": [
    {
     "name": "stdout",
     "output_type": "stream",
     "text": [
      "Day  09/04/23\n",
      "day  04\n"
     ]
    }
   ],
   "source": [
    "# Date \n",
    "print(\"Date \",current_date_obj.strftime(\"%D\"))\n",
    "print(\"day \",current_date_obj.strftime(\"%d\"))"
   ]
  },
  {
   "cell_type": "code",
   "execution_count": 25,
   "id": "85d8aecf",
   "metadata": {},
   "outputs": [
    {
     "name": "stdout",
     "output_type": "stream",
     "text": [
      "Date  09/04/23\n",
      "Date  13:22:48\n"
     ]
    }
   ],
   "source": [
    "print(\"Date \",current_date_obj.strftime(\"%x\"))\n",
    "print(\"Date \",current_date_obj.strftime(\"%X\"))\n"
   ]
  },
  {
   "cell_type": "code",
   "execution_count": 27,
   "id": "cc6ba9af",
   "metadata": {},
   "outputs": [
    {
     "name": "stdout",
     "output_type": "stream",
     "text": [
      "Weekdays  Monday\n",
      "Weekdays  Mon\n",
      "Weekdays  1\n"
     ]
    }
   ],
   "source": [
    "# weekdays\n",
    "print(\"Weekdays \",current_date_obj.strftime(\"%A\"))\n",
    "print(\"Weekdays \",current_date_obj.strftime(\"%a\"))\n",
    "print(\"Weekdays \",current_date_obj.strftime(\"%w\"))"
   ]
  },
  {
   "cell_type": "code",
   "execution_count": 31,
   "id": "a11844c1",
   "metadata": {},
   "outputs": [
    {
     "name": "stdout",
     "output_type": "stream",
     "text": [
      "Monday >> 1\n",
      "Tuesday >> 2\n",
      "Wednesday >> 3\n",
      "Thursday >> 4\n",
      "Friday >> 5\n",
      "Saturday >> 6\n",
      "Sunday >> 0\n"
     ]
    }
   ],
   "source": [
    "td =datetime.datetime.now()\n",
    "for i in range(7):\n",
    "    nd=td+datetime.timedelta(days=i)\n",
    "    print(nd.strftime(\"%A\"),\">>\",nd.strftime(\"%w\"))"
   ]
  },
  {
   "cell_type": "code",
   "execution_count": 34,
   "id": "bc3faa68",
   "metadata": {},
   "outputs": [
    {
     "name": "stdout",
     "output_type": "stream",
     "text": [
      "days > 247\n"
     ]
    }
   ],
   "source": [
    "# day of the year \n",
    "current_date_obj = datetime.datetime.now()\n",
    "print('days of the year >',current_date_obj.strftime('%j')) #julean day number"
   ]
  },
  {
   "cell_type": "code",
   "execution_count": 35,
   "id": "43e858dd",
   "metadata": {},
   "outputs": [
    {
     "name": "stdout",
     "output_type": "stream",
     "text": [
      "week of the year > 36 \n"
     ]
    }
   ],
   "source": [
    "# week of the year \n",
    "print(\"week of the year >\",current_date_obj.strftime('%U ')) # week of the year "
   ]
  },
  {
   "cell_type": "code",
   "execution_count": 39,
   "id": "157eba4a",
   "metadata": {},
   "outputs": [
    {
     "name": "stdout",
     "output_type": "stream",
     "text": [
      "AM / PM  > PM\n"
     ]
    }
   ],
   "source": [
    "# AM / PM\n",
    "print(\"AM / PM  >\",current_date_obj.strftime('%p')) # return AM or PM"
   ]
  },
  {
   "cell_type": "code",
   "execution_count": 41,
   "id": "d6abebae",
   "metadata": {},
   "outputs": [
    {
     "name": "stdout",
     "output_type": "stream",
     "text": [
      "Hours > 14\n"
     ]
    }
   ],
   "source": [
    "print(\"Hours >\", current_date_obj.strftime('%H')) # returns hours in 24hr"
   ]
  },
  {
   "cell_type": "code",
   "execution_count": 42,
   "id": "f4ad0133",
   "metadata": {},
   "outputs": [
    {
     "name": "stdout",
     "output_type": "stream",
     "text": [
      "Hours > 02\n"
     ]
    }
   ],
   "source": [
    "print('Hours >', current_date_obj.strftime('%I')) # hours in 12hr"
   ]
  },
  {
   "cell_type": "code",
   "execution_count": 47,
   "id": "86359e29",
   "metadata": {},
   "outputs": [
    {
     "name": "stdout",
     "output_type": "stream",
     "text": [
      "Hours > 14\n",
      "Minuts > 17\n",
      "Seconds > 18\n",
      "Microseconds > 150622\n"
     ]
    }
   ],
   "source": [
    "current_date_obj = datetime.datetime.now()\n",
    "print(\"Hours >\", current_date_obj.strftime('%H')) # for hrs\n",
    "print(\"Minuts >\",current_date_obj.strftime('%M')) # for minuts\n",
    "print(\"Seconds >\", current_date_obj.strftime('%S')) # for seconds\n",
    "print(\"Microseconds >\", current_date_obj.strftime('%f')) # for microseconds"
   ]
  },
  {
   "cell_type": "code",
   "execution_count": 49,
   "id": "ca7ff83e",
   "metadata": {},
   "outputs": [
    {
     "name": "stdout",
     "output_type": "stream",
     "text": [
      "Seconds  22\n",
      "Minuts  26\n"
     ]
    }
   ],
   "source": [
    "import datetime\n",
    "now = datetime.datetime.now()\n",
    "second = now.strftime(\"%S\")\n",
    "minuts = now.strftime('%M')\n",
    "print('Seconds ',second)\n",
    "print('Minuts ', minuts)"
   ]
  },
  {
   "cell_type": "markdown",
   "id": "28bd1515",
   "metadata": {},
   "source": [
    "#### Striptime()"
   ]
  },
  {
   "cell_type": "code",
   "execution_count": 50,
   "id": "c2810848",
   "metadata": {
    "collapsed": true
   },
   "outputs": [
    {
     "ename": "SyntaxError",
     "evalue": "invalid syntax (279617946.py, line 1)",
     "output_type": "error",
     "traceback": [
      "\u001b[1;36m  File \u001b[1;32m\"C:\\Users\\prath\\AppData\\Local\\Temp\\ipykernel_7428\\279617946.py\"\u001b[1;36m, line \u001b[1;32m1\u001b[0m\n\u001b[1;33m    strptime >> string praser > string format to datetime\u001b[0m\n\u001b[1;37m                       ^\u001b[0m\n\u001b[1;31mSyntaxError\u001b[0m\u001b[1;31m:\u001b[0m invalid syntax\n"
     ]
    }
   ],
   "source": [
    "strptime >> string praser > string format to datetime"
   ]
  },
  {
   "cell_type": "code",
   "execution_count": 55,
   "id": "9d965626",
   "metadata": {},
   "outputs": [
    {
     "name": "stdout",
     "output_type": "stream",
     "text": [
      "2023-01-04 00:09:00\n",
      "type =<class 'str'> after using strptime type become <class 'datetime.datetime'>\n"
     ]
    }
   ],
   "source": [
    "date = '04 09 2023' # string format 4th sep 2023\n",
    "new_date_form = datetime.datetime.strptime(date,'%d %M %Y')\n",
    "print(new_date_form )\n",
    "print(f\"type ={type(date)} after using strptime type become {type(new_date_form)}\")"
   ]
  },
  {
   "cell_type": "code",
   "execution_count": 56,
   "id": "185381c6",
   "metadata": {},
   "outputs": [
    {
     "name": "stdout",
     "output_type": "stream",
     "text": [
      "2023-03-09 00:00:00\n",
      "type =<class 'str'> after using strptime type become <class 'datetime.datetime'>\n"
     ]
    }
   ],
   "source": [
    "date=\"03 09 2023\" #string format>>9th march 2023\n",
    "new_date_std=datetime.datetime.strptime(date,\"%m %d %Y\") \n",
    "print(new_date_std)\n",
    "print(f\"type ={type(date)} after using strptime type become {type(new_date_std)}\")"
   ]
  },
  {
   "cell_type": "code",
   "execution_count": null,
   "id": "e2afa6b0",
   "metadata": {},
   "outputs": [],
   "source": []
  },
  {
   "cell_type": "code",
   "execution_count": 57,
   "id": "5171f47d",
   "metadata": {},
   "outputs": [
    {
     "data": {
      "text/plain": [
       "datetime.datetime(2023, 9, 4, 14, 35, 13, 646578)"
      ]
     },
     "execution_count": 57,
     "metadata": {},
     "output_type": "execute_result"
    }
   ],
   "source": [
    "datetime.datetime.now()"
   ]
  },
  {
   "cell_type": "code",
   "execution_count": null,
   "id": "f09ea971",
   "metadata": {},
   "outputs": [],
   "source": []
  },
  {
   "cell_type": "code",
   "execution_count": 58,
   "id": "c1cc91e2",
   "metadata": {},
   "outputs": [
    {
     "name": "stdout",
     "output_type": "stream",
     "text": [
      "03-06-2023 %d-%m-%Y\n",
      "03 jun 2023 %d %b %Y\n",
      "2023 jun 09 %Y %b %d\n",
      "2023/jun/03 %Y/%b/%d\n"
     ]
    }
   ],
   "source": [
    "date_list=[\"03-06-2023\",\"03 jun 2023\",\"2023 jun 09\",\"2023/jun/03\"]\n",
    "date_format=[\"%Y/%b/%d\",\"%Y %b %d\",\"%d %b %Y\",\"%d-%m-%Y\"]\n",
    "# \"2023/jun/03\" >>>\"%Y/%b/%d\"\n",
    "for i in date_list:\n",
    "    for j in date_format:\n",
    "        try :\n",
    "            date_now=datetime.datetime.strptime(i,j).date()\n",
    "            print(i,j)\n",
    "        except:\n",
    "            pass"
   ]
  },
  {
   "cell_type": "code",
   "execution_count": null,
   "id": "df21e73a",
   "metadata": {},
   "outputs": [],
   "source": []
  },
  {
   "cell_type": "code",
   "execution_count": null,
   "id": "d3dcc2a7",
   "metadata": {},
   "outputs": [],
   "source": []
  },
  {
   "cell_type": "code",
   "execution_count": null,
   "id": "1eef48b1",
   "metadata": {},
   "outputs": [],
   "source": []
  },
  {
   "cell_type": "code",
   "execution_count": null,
   "id": "e633eeaa",
   "metadata": {},
   "outputs": [],
   "source": []
  },
  {
   "cell_type": "code",
   "execution_count": null,
   "id": "c3930c4e",
   "metadata": {},
   "outputs": [],
   "source": []
  },
  {
   "cell_type": "code",
   "execution_count": null,
   "id": "5c3f1983",
   "metadata": {},
   "outputs": [],
   "source": []
  }
 ],
 "metadata": {
  "kernelspec": {
   "display_name": "Python 3 (ipykernel)",
   "language": "python",
   "name": "python3"
  },
  "language_info": {
   "codemirror_mode": {
    "name": "ipython",
    "version": 3
   },
   "file_extension": ".py",
   "mimetype": "text/x-python",
   "name": "python",
   "nbconvert_exporter": "python",
   "pygments_lexer": "ipython3",
   "version": "3.9.13"
  }
 },
 "nbformat": 4,
 "nbformat_minor": 5
}
