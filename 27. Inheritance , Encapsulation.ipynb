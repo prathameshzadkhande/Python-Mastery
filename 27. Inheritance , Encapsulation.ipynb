{
 "cells": [
  {
   "cell_type": "markdown",
   "id": "466bbb94",
   "metadata": {},
   "source": [
    "#### Multiple Inheritance "
   ]
  },
  {
   "cell_type": "code",
   "execution_count": 10,
   "id": "37fe3f09",
   "metadata": {},
   "outputs": [],
   "source": [
    "class Mother():\n",
    "    def __init__(self):\n",
    "        print(\"Mother Calss\")\n",
    "    def addition(self,a,b):\n",
    "        return a+b\n",
    "class Father():\n",
    "    def __init__(self):\n",
    "        print(\"Father Calss\")\n",
    "    def substraction(self,a,b):\n",
    "        return a-b\n",
    "class Child(Mother,Father):\n",
    "    def __init__(self):\n",
    "        print(\"Child Calss\")\n",
    "    def Multiplication(self,a,b):\n",
    "        return a*b\n",
    "    def division(self,a,b):\n",
    "        return a//b\n",
    "    "
   ]
  },
  {
   "cell_type": "code",
   "execution_count": 11,
   "id": "32b5fd71",
   "metadata": {},
   "outputs": [
    {
     "name": "stdout",
     "output_type": "stream",
     "text": [
      "Child Calss\n"
     ]
    },
    {
     "data": {
      "text/plain": [
       "3"
      ]
     },
     "execution_count": 11,
     "metadata": {},
     "output_type": "execute_result"
    }
   ],
   "source": [
    "obj_ch=Child()\n",
    "obj_ch.division(12,4)\n"
   ]
  },
  {
   "cell_type": "code",
   "execution_count": null,
   "id": "b31f7eda",
   "metadata": {
    "collapsed": true
   },
   "outputs": [],
   "source": [
    "class child(Mother,Father) : if we use super method then it will take init of father class\n",
    "class child(Father,Mother) : if we use super method then it will take init of mother class\n",
    "    "
   ]
  },
  {
   "cell_type": "code",
   "execution_count": null,
   "id": "1b00d7a4",
   "metadata": {},
   "outputs": [],
   "source": []
  },
  {
   "cell_type": "markdown",
   "id": "0d989b89",
   "metadata": {},
   "source": [
    "#### Encapsulation "
   ]
  },
  {
   "cell_type": "code",
   "execution_count": null,
   "id": "85d5ac65",
   "metadata": {
    "collapsed": true
   },
   "outputs": [],
   "source": [
    "# to make our code secure we use incapsulation method \n",
    "obj1.__class_var # encapsulated variable"
   ]
  },
  {
   "cell_type": "code",
   "execution_count": 1,
   "id": "610bc358",
   "metadata": {},
   "outputs": [],
   "source": [
    "class SSGB():\n",
    "    def __init__(self):\n",
    "        print(\"Welcome to Shri Sant Gadge Baba College of Engineering and Technology\")\n",
    "        self.login_id = \"1234 \"\n",
    "        self.login_pass = '22'\n",
    "        self.menu()\n",
    "    def menu(self):\n",
    "        user_in = int(input(\"\"\"\n",
    "                      Checking for Faculty Information\n",
    "                     1] Enter 1 for CSE Branch \n",
    "                     2] Enter 2 for DS&AI Branch\n",
    "                     3] Enter 3 for E&tc Branch\n",
    "                     4] Enter 4 for Civil Branch\n",
    "                     5] Enter 5 for Machenical Branch\n",
    "                     \"\"\"))\n",
    "        if user_in ==1:\n",
    "            self.CSE()\n",
    "        elif user_in ==2:\n",
    "            print('DS&AI')\n",
    "        elif user_in ==3:\n",
    "            print('E&tc')\n",
    "        elif user_in ==4:\n",
    "            print('Civil')\n",
    "        elif user_in ==5:\n",
    "            print('Machenical')\n",
    "        \n",
    "    def id_pass(self):\n",
    "        self.std_id = input('Enter Your Login ID :')\n",
    "        self.std_pass = input('Enter Your Password :')\n",
    "        if self.std_id == self.login_id and self.std_pass == self.login_pass:\n",
    "            pass\n",
    "        else:\n",
    "            return \"ID & Password is incorrect \"\n",
    "    \n",
    "    def CSE(self):\n",
    "        if self.id_pass():\n",
    "            print(\"Welcome to Computer Science and Engineering Branch \")\n",
    "            \n",
    "        \n",
    "        \n",
    "        \n",
    "        \n",
    "            \n",
    "      "
   ]
  },
  {
   "cell_type": "code",
   "execution_count": 2,
   "id": "4ddb5cba",
   "metadata": {},
   "outputs": [
    {
     "name": "stdout",
     "output_type": "stream",
     "text": [
      "Welcome to Shri Sant Gadge Baba College of Engineering and Technology\n",
      "\n",
      "                      Checking for Faculty Information\n",
      "                     1] Enter 1 for CSE Branch \n",
      "                     2] Enter 2 for DS&AI Branch\n",
      "                     3] Enter 3 for E&tc Branch\n",
      "                     4] Enter 4 for Civil Branch\n",
      "                     5] Enter 5 for Machenical Branch\n",
      "                     1\n",
      "Enter Your Login ID :1234\n",
      "Enter Your Password :22\n",
      "Welcome to Computer Science and Engineering Branch \n"
     ]
    }
   ],
   "source": [
    "college = SSGB()"
   ]
  },
  {
   "cell_type": "code",
   "execution_count": 8,
   "id": "a3477f53",
   "metadata": {},
   "outputs": [
    {
     "data": {
      "text/plain": [
       "'2222'"
      ]
     },
     "execution_count": 8,
     "metadata": {},
     "output_type": "execute_result"
    }
   ],
   "source": [
    "college.login_id = \"2222\"\n",
    "college.login_id"
   ]
  },
  {
   "cell_type": "code",
   "execution_count": 9,
   "id": "58470594",
   "metadata": {
    "collapsed": true
   },
   "outputs": [
    {
     "ename": "SyntaxError",
     "evalue": "invalid syntax (3399359805.py, line 1)",
     "output_type": "error",
     "traceback": [
      "\u001b[1;36m  File \u001b[1;32m\"C:\\Users\\prath\\AppData\\Local\\Temp\\ipykernel_21176\\3399359805.py\"\u001b[1;36m, line \u001b[1;32m1\u001b[0m\n\u001b[1;33m    in these code the user can esily access and change the code\u001b[0m\n\u001b[1;37m    ^\u001b[0m\n\u001b[1;31mSyntaxError\u001b[0m\u001b[1;31m:\u001b[0m invalid syntax\n"
     ]
    }
   ],
   "source": [
    "in these code the user can esily access and change the code  "
   ]
  },
  {
   "cell_type": "code",
   "execution_count": null,
   "id": "41cdf7fa",
   "metadata": {},
   "outputs": [],
   "source": [
    "to secure our id pass we can use incapsulation method "
   ]
  },
  {
   "cell_type": "code",
   "execution_count": 1,
   "id": "83ede6ba",
   "metadata": {},
   "outputs": [],
   "source": [
    "class SSGB():\n",
    "    def __init__(self):\n",
    "        print(\"Welcome to Shri Sant Gadge Baba College of Engineering and Technology\")\n",
    "        self.__login_id = \"1234 \"\n",
    "        self.__login_pass = '22'\n",
    "        self.menu()\n",
    "        \n",
    "    def menu(self):\n",
    "        user_in = int(input(\"\"\"\n",
    "                      Checking for Faculty Information\n",
    "                     1] Enter 1 for CSE Branch \n",
    "                     2] Enter 2 for DS&AI Branch\n",
    "                     3] Enter 3 for E&tc Branch\n",
    "                     4] Enter 4 for Civil Branch\n",
    "                     5] Enter 5 for Machenical Branch\n",
    "                     \"\"\"))\n",
    "        if user_in ==1:\n",
    "            self.CSE()\n",
    "        elif user_in ==2:\n",
    "            self.DS()\n",
    "        elif user_in ==3:\n",
    "            Self.Etc()\n",
    "        elif user_in ==4:\n",
    "            self.Civil()\n",
    "        elif user_in ==5:\n",
    "            self.Machenical()\n",
    "        \n",
    "    def __id_pass(self):\n",
    "        self.__std_id = input('Enter Your Login ID :')\n",
    "        self.__std_pass = input('Enter Your Password :')\n",
    "        if self.__std_id == self.__login_id and self.__std_pass == self.__login_pass:\n",
    "            pass\n",
    "        else:\n",
    "            return \"ID & Password is incorrect \"\n",
    "    \n",
    "    def CSE(self):\n",
    "        if self.__id_pass():\n",
    "            print(\"Welcome to Computer Science and Engineering Branch \")\n",
    "            \n",
    "        def Cse_menu(self):\n",
    "            self.std_in = input(\"Enter Your Valid E-mail or Contact Number \")\n",
    "            print(\"Our Team will shortly Contact you\")\n",
    "            \n",
    "    def DS(self):\n",
    "        if self.__id_pass():\n",
    "            print(\"Welcome to Data Science and Artificial Intelligance Engineering Branch \")\n",
    "            \n",
    "    def Etc(self):\n",
    "        if self.__id_pass():\n",
    "            print(\"Welcome to Electronic & Telecommunication Engineering Branch \")\n",
    "            \n",
    "    def Civil(self):\n",
    "        if self.__id_pass():\n",
    "            print(\"Welcome to Civil Engineering Branch \")\n",
    "            \n",
    "    def Machenical(self):\n",
    "        if self.__id_pass():\n",
    "            print(\"Welcome to Machenical Engineering Branch \")\n",
    "            \n",
    "            \n",
    "        \n",
    "        \n",
    "        \n",
    "        \n",
    "            \n",
    "      "
   ]
  },
  {
   "cell_type": "code",
   "execution_count": 2,
   "id": "8e8a0447",
   "metadata": {},
   "outputs": [
    {
     "name": "stdout",
     "output_type": "stream",
     "text": [
      "Welcome to Shri Sant Gadge Baba College of Engineering and Technology\n",
      "\n",
      "                      Checking for Faculty Information\n",
      "                     1] Enter 1 for CSE Branch \n",
      "                     2] Enter 2 for DS&AI Branch\n",
      "                     3] Enter 3 for E&tc Branch\n",
      "                     4] Enter 4 for Civil Branch\n",
      "                     5] Enter 5 for Machenical Branch\n",
      "                     1\n",
      "Enter Your Login ID :1234\n",
      "Enter Your Password :22\n",
      "Welcome to Computer Science and Engineering Branch \n"
     ]
    }
   ],
   "source": [
    "college =SSGB()"
   ]
  },
  {
   "cell_type": "markdown",
   "id": "a854d382",
   "metadata": {},
   "source": []
  },
  {
   "cell_type": "code",
   "execution_count": null,
   "id": "3ef6b2d7",
   "metadata": {},
   "outputs": [],
   "source": []
  },
  {
   "cell_type": "code",
   "execution_count": null,
   "id": "2e0563bf",
   "metadata": {},
   "outputs": [],
   "source": []
  },
  {
   "cell_type": "code",
   "execution_count": null,
   "id": "d61eac24",
   "metadata": {},
   "outputs": [],
   "source": []
  },
  {
   "cell_type": "code",
   "execution_count": null,
   "id": "cad4b52a",
   "metadata": {},
   "outputs": [],
   "source": []
  },
  {
   "cell_type": "code",
   "execution_count": 1,
   "id": "cf7c8f0e",
   "metadata": {},
   "outputs": [
    {
     "data": {
      "text/plain": [
       "3"
      ]
     },
     "execution_count": 1,
     "metadata": {},
     "output_type": "execute_result"
    }
   ],
   "source": [
    "6//2"
   ]
  },
  {
   "cell_type": "code",
   "execution_count": null,
   "id": "ce4b4ac6",
   "metadata": {},
   "outputs": [],
   "source": []
  },
  {
   "cell_type": "code",
   "execution_count": null,
   "id": "fddc47c8",
   "metadata": {},
   "outputs": [],
   "source": []
  },
  {
   "cell_type": "code",
   "execution_count": null,
   "id": "22b4606f",
   "metadata": {},
   "outputs": [],
   "source": []
  },
  {
   "cell_type": "code",
   "execution_count": null,
   "id": "f4fb4076",
   "metadata": {},
   "outputs": [],
   "source": []
  },
  {
   "cell_type": "code",
   "execution_count": null,
   "id": "0c2384e8",
   "metadata": {},
   "outputs": [],
   "source": []
  }
 ],
 "metadata": {
  "kernelspec": {
   "display_name": "Python 3 (ipykernel)",
   "language": "python",
   "name": "python3"
  },
  "language_info": {
   "codemirror_mode": {
    "name": "ipython",
    "version": 3
   },
   "file_extension": ".py",
   "mimetype": "text/x-python",
   "name": "python",
   "nbconvert_exporter": "python",
   "pygments_lexer": "ipython3",
   "version": "3.9.13"
  }
 },
 "nbformat": 4,
 "nbformat_minor": 5
}
