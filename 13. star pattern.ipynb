{
 "cells": [
  {
   "cell_type": "code",
   "execution_count": 2,
   "id": "44a90548",
   "metadata": {
    "collapsed": true
   },
   "outputs": [
    {
     "ename": "IndentationError",
     "evalue": "unindent does not match any outer indentation level (<tokenize>, line 3)",
     "output_type": "error",
     "traceback": [
      "\u001b[1;36m  File \u001b[1;32m\"<tokenize>\"\u001b[1;36m, line \u001b[1;32m3\u001b[0m\n\u001b[1;33m    * * *\u001b[0m\n\u001b[1;37m    ^\u001b[0m\n\u001b[1;31mIndentationError\u001b[0m\u001b[1;31m:\u001b[0m unindent does not match any outer indentation level\n"
     ]
    }
   ],
   "source": [
    "    *\n",
    "   * *\n",
    "  * * *\n",
    " * * * *\n",
    "* * * * *\n",
    "# print these star pattern"
   ]
  },
  {
   "cell_type": "code",
   "execution_count": 5,
   "id": "56fffd52",
   "metadata": {},
   "outputs": [
    {
     "name": "stdout",
     "output_type": "stream",
     "text": [
      "         \n",
      "        * \n",
      "       * * \n",
      "      * * * \n",
      "     * * * * \n",
      "    * * * * * \n",
      "   * * * * * * \n",
      "  * * * * * * * \n",
      " * * * * * * * * \n"
     ]
    }
   ],
   "source": [
    "for i in range(9):\n",
    "    print(\" \"*(8-i),\"* \"*i)"
   ]
  },
  {
   "cell_type": "code",
   "execution_count": 6,
   "id": "854f3e85",
   "metadata": {},
   "outputs": [],
   "source": [
    "def triangle():\n",
    "    n=int(input(\"Enter Triangle Range >>\"))\n",
    "    for i in range(n+1):\n",
    "        print(\" \"*(n-i),\"* \"*i)"
   ]
  },
  {
   "cell_type": "code",
   "execution_count": 7,
   "id": "270979ed",
   "metadata": {},
   "outputs": [
    {
     "name": "stdout",
     "output_type": "stream",
     "text": [
      "Enter Triangle Range >>6\n",
      "       \n",
      "      * \n",
      "     * * \n",
      "    * * * \n",
      "   * * * * \n",
      "  * * * * * \n",
      " * * * * * * \n"
     ]
    }
   ],
   "source": [
    "triangle()"
   ]
  },
  {
   "cell_type": "code",
   "execution_count": 9,
   "id": "a9ba48f3",
   "metadata": {},
   "outputs": [
    {
     "name": "stdout",
     "output_type": "stream",
     "text": [
      " * * * * * * * * \n",
      "  * * * * * * * \n",
      "   * * * * * * \n",
      "    * * * * * \n",
      "     * * * * \n",
      "      * * * \n",
      "       * * \n",
      "        * \n"
     ]
    }
   ],
   "source": [
    "for i in range(8,0,-1):\n",
    "    print(\" \"*(8-i),\"* \"*i)"
   ]
  },
  {
   "cell_type": "code",
   "execution_count": 10,
   "id": "ddb58736",
   "metadata": {},
   "outputs": [],
   "source": [
    "def oppo_triangle():\n",
    "    n=int(input(\"Enter Triangle Range >>\"))\n",
    "    for i in range(n,0,-1):\n",
    "        print(\" \"*(n-i),\"* \"*i)\n",
    "    "
   ]
  },
  {
   "cell_type": "code",
   "execution_count": 11,
   "id": "b2850cf8",
   "metadata": {},
   "outputs": [
    {
     "name": "stdout",
     "output_type": "stream",
     "text": [
      "Enter Triangle Range >>5\n",
      " * * * * * \n",
      "  * * * * \n",
      "   * * * \n",
      "    * * \n",
      "     * \n"
     ]
    }
   ],
   "source": [
    "oppo_triangle()"
   ]
  },
  {
   "cell_type": "code",
   "execution_count": 17,
   "id": "d84c2187",
   "metadata": {},
   "outputs": [],
   "source": [
    "def time_triangle():\n",
    "    n=int(input(\"Enter Triangle Range >>\"))\n",
    "    for i in range(n,0,-1):\n",
    "        print(\" \"*(n-i),\"* \"*i)\n",
    "    for i in range(n+1):\n",
    "        print(\" \"*(n-i),\"* \"*i)"
   ]
  },
  {
   "cell_type": "code",
   "execution_count": 18,
   "id": "6fcc9de5",
   "metadata": {},
   "outputs": [
    {
     "name": "stdout",
     "output_type": "stream",
     "text": [
      "Enter Triangle Range >>8\n",
      " * * * * * * * * \n",
      "  * * * * * * * \n",
      "   * * * * * * \n",
      "    * * * * * \n",
      "     * * * * \n",
      "      * * * \n",
      "       * * \n",
      "        * \n",
      "         \n",
      "        * \n",
      "       * * \n",
      "      * * * \n",
      "     * * * * \n",
      "    * * * * * \n",
      "   * * * * * * \n",
      "  * * * * * * * \n",
      " * * * * * * * * \n"
     ]
    }
   ],
   "source": [
    "time_triangle()"
   ]
  },
  {
   "cell_type": "code",
   "execution_count": 19,
   "id": "b1f08235",
   "metadata": {
    "collapsed": true
   },
   "outputs": [
    {
     "ename": "NameError",
     "evalue": "name 'A' is not defined",
     "output_type": "error",
     "traceback": [
      "\u001b[1;31m---------------------------------------------------------------------------\u001b[0m",
      "\u001b[1;31mNameError\u001b[0m                                 Traceback (most recent call last)",
      "\u001b[1;32m~\\AppData\\Local\\Temp\\ipykernel_9444\\2464418644.py\u001b[0m in \u001b[0;36m<module>\u001b[1;34m\u001b[0m\n\u001b[1;32m----> 1\u001b[1;33m \u001b[0mA\u001b[0m\u001b[1;33m\u001b[0m\u001b[1;33m\u001b[0m\u001b[0m\n\u001b[0m\u001b[0;32m      2\u001b[0m \u001b[0mAA\u001b[0m\u001b[1;33m\u001b[0m\u001b[1;33m\u001b[0m\u001b[0m\n\u001b[0;32m      3\u001b[0m \u001b[0mAAA\u001b[0m\u001b[1;33m\u001b[0m\u001b[1;33m\u001b[0m\u001b[0m\n\u001b[0;32m      4\u001b[0m \u001b[0mAAAA\u001b[0m\u001b[1;33m\u001b[0m\u001b[1;33m\u001b[0m\u001b[0m\n\u001b[0;32m      5\u001b[0m \u001b[0mAAAAA\u001b[0m\u001b[1;33m\u001b[0m\u001b[1;33m\u001b[0m\u001b[0m\n",
      "\u001b[1;31mNameError\u001b[0m: name 'A' is not defined"
     ]
    }
   ],
   "source": [
    "A\n",
    "AA\n",
    "AAA\n",
    "AAAA\n",
    "AAAAA\n",
    "AAAAAA\n",
    "# print these star pattern"
   ]
  },
  {
   "cell_type": "code",
   "execution_count": 2,
   "id": "6675f453",
   "metadata": {},
   "outputs": [
    {
     "name": "stdout",
     "output_type": "stream",
     "text": [
      "\n",
      "A \n",
      "A A \n",
      "A A A \n",
      "A A A A \n",
      "A A A A A \n"
     ]
    }
   ],
   "source": [
    "for i in range(6):\n",
    "    print(\"A \"*i)"
   ]
  },
  {
   "cell_type": "code",
   "execution_count": 3,
   "id": "c88547ef",
   "metadata": {},
   "outputs": [
    {
     "data": {
      "text/plain": [
       "'A'"
      ]
     },
     "execution_count": 3,
     "metadata": {},
     "output_type": "execute_result"
    }
   ],
   "source": [
    "chr(65)"
   ]
  },
  {
   "cell_type": "code",
   "execution_count": 4,
   "id": "172d0bf2",
   "metadata": {},
   "outputs": [
    {
     "data": {
      "text/plain": [
       "'B'"
      ]
     },
     "execution_count": 4,
     "metadata": {},
     "output_type": "execute_result"
    }
   ],
   "source": [
    "chr(66)"
   ]
  },
  {
   "cell_type": "code",
   "execution_count": 5,
   "id": "7ef23194",
   "metadata": {},
   "outputs": [
    {
     "data": {
      "text/plain": [
       "'Z'"
      ]
     },
     "execution_count": 5,
     "metadata": {},
     "output_type": "execute_result"
    }
   ],
   "source": [
    "chr(90)"
   ]
  },
  {
   "cell_type": "code",
   "execution_count": 6,
   "id": "3a83cd09",
   "metadata": {},
   "outputs": [
    {
     "data": {
      "text/plain": [
       "'a'"
      ]
     },
     "execution_count": 6,
     "metadata": {},
     "output_type": "execute_result"
    }
   ],
   "source": [
    "chr(97)"
   ]
  },
  {
   "cell_type": "code",
   "execution_count": 7,
   "id": "4e34bc1b",
   "metadata": {},
   "outputs": [
    {
     "data": {
      "text/plain": [
       "'z'"
      ]
     },
     "execution_count": 7,
     "metadata": {},
     "output_type": "execute_result"
    }
   ],
   "source": [
    "chr(122)"
   ]
  },
  {
   "cell_type": "code",
   "execution_count": 17,
   "id": "08f74710",
   "metadata": {},
   "outputs": [],
   "source": [
    "def capital_letter():\n",
    "    list_capital=[]\n",
    "    for i in range(65,91):\n",
    "        list_capital.append(chr(i))\n",
    "    \n",
    "    print(list_capital)"
   ]
  },
  {
   "cell_type": "code",
   "execution_count": 18,
   "id": "4411d521",
   "metadata": {},
   "outputs": [],
   "source": [
    "def small_letter():\n",
    "    list_small=[]\n",
    "    for i in range(97,123):\n",
    "        list_small.append(chr(i))\n",
    "    \n",
    "    print(list_small)"
   ]
  },
  {
   "cell_type": "code",
   "execution_count": 19,
   "id": "0e499c76",
   "metadata": {},
   "outputs": [
    {
     "name": "stdout",
     "output_type": "stream",
     "text": [
      "['A', 'B', 'C', 'D', 'E', 'F', 'G', 'H', 'I', 'J', 'K', 'L', 'M', 'N', 'O', 'P', 'Q', 'R', 'S', 'T', 'U', 'V', 'W', 'X', 'Y', 'Z']\n",
      "['a', 'b', 'c', 'd', 'e', 'f', 'g', 'h', 'i', 'j', 'k', 'l', 'm', 'n', 'o', 'p', 'q', 'r', 's', 't', 'u', 'v', 'w', 'x', 'y', 'z']\n"
     ]
    }
   ],
   "source": [
    "capital_letter()\n",
    "small_letter()"
   ]
  },
  {
   "cell_type": "code",
   "execution_count": 20,
   "id": "6e931aa1",
   "metadata": {
    "collapsed": true
   },
   "outputs": [
    {
     "ename": "SyntaxError",
     "evalue": "invalid syntax (793011222.py, line 2)",
     "output_type": "error",
     "traceback": [
      "\u001b[1;36m  File \u001b[1;32m\"C:\\Users\\prath\\AppData\\Local\\Temp\\ipykernel_20228\\793011222.py\"\u001b[1;36m, line \u001b[1;32m2\u001b[0m\n\u001b[1;33m    0 1\u001b[0m\n\u001b[1;37m      ^\u001b[0m\n\u001b[1;31mSyntaxError\u001b[0m\u001b[1;31m:\u001b[0m invalid syntax\n"
     ]
    }
   ],
   "source": [
    "0\n",
    "0 1\n",
    "0 1 2\n",
    "0 1 2 3\n",
    "0 1 2 3 4\n",
    "# print these star pattern"
   ]
  },
  {
   "cell_type": "code",
   "execution_count": 26,
   "id": "9c63ebf8",
   "metadata": {},
   "outputs": [
    {
     "name": "stdout",
     "output_type": "stream",
     "text": [
      "\n",
      "\n",
      "\n",
      "\n",
      "0 \n",
      "\n",
      "0 1 \n",
      "\n",
      "0 1 2 \n",
      "\n",
      "0 1 2 3 \n",
      "\n",
      "0 1 2 3 4 "
     ]
    }
   ],
   "source": [
    "for i in range(0,6):\n",
    "    print(\"\\n\")\n",
    "    for j in range(i):\n",
    "        print(j,end=\" \")"
   ]
  },
  {
   "cell_type": "code",
   "execution_count": 40,
   "id": "0ba2c13d",
   "metadata": {},
   "outputs": [
    {
     "name": "stdout",
     "output_type": "stream",
     "text": [
      "\n",
      "\n",
      "A \n",
      "\n",
      "B B \n",
      "\n",
      "C C C \n",
      "\n",
      "D D D D \n",
      "\n",
      "E E E E E \n",
      "\n",
      "F F F F F F "
     ]
    }
   ],
   "source": [
    "for i in range(6):\n",
    "    print(\"\\n\")\n",
    "    for j in range(i+1):\n",
    "        print(chr(65+i),end=\" \")\n",
    "    "
   ]
  },
  {
   "cell_type": "code",
   "execution_count": 42,
   "id": "47b20284",
   "metadata": {},
   "outputs": [
    {
     "name": "stdout",
     "output_type": "stream",
     "text": [
      "\n",
      "\n",
      "\n",
      "\n",
      "0 \n",
      "\n",
      "1 2 \n",
      "\n",
      "3 4 5 \n",
      "\n",
      "6 7 8 9 \n",
      "\n",
      "10 11 12 13 14 "
     ]
    }
   ],
   "source": [
    "c=0\n",
    "for i in range(6):\n",
    "    print(\"\\n\")\n",
    "    for j in range(i):\n",
    "        print(c,end=\" \")\n",
    "        c+=1"
   ]
  },
  {
   "cell_type": "code",
   "execution_count": 43,
   "id": "77c80602",
   "metadata": {},
   "outputs": [
    {
     "data": {
      "text/plain": [
       "'A'"
      ]
     },
     "execution_count": 43,
     "metadata": {},
     "output_type": "execute_result"
    }
   ],
   "source": [
    "chr(65)"
   ]
  },
  {
   "cell_type": "code",
   "execution_count": 44,
   "id": "e92af634",
   "metadata": {},
   "outputs": [
    {
     "data": {
      "text/plain": [
       "65"
      ]
     },
     "execution_count": 44,
     "metadata": {},
     "output_type": "execute_result"
    }
   ],
   "source": [
    "ord(\"A\")"
   ]
  },
  {
   "cell_type": "code",
   "execution_count": 45,
   "id": "5ba55891",
   "metadata": {},
   "outputs": [
    {
     "data": {
      "text/plain": [
       "64"
      ]
     },
     "execution_count": 45,
     "metadata": {},
     "output_type": "execute_result"
    }
   ],
   "source": [
    "ord(\"@\")"
   ]
  },
  {
   "cell_type": "code",
   "execution_count": 47,
   "id": "14a846d7",
   "metadata": {},
   "outputs": [
    {
     "data": {
      "text/plain": [
       "'`'"
      ]
     },
     "execution_count": 47,
     "metadata": {},
     "output_type": "execute_result"
    }
   ],
   "source": [
    "chr(96)"
   ]
  },
  {
   "cell_type": "code",
   "execution_count": 61,
   "id": "635c949b",
   "metadata": {},
   "outputs": [
    {
     "name": "stdout",
     "output_type": "stream",
     "text": [
      "\n",
      "* \n",
      "* * \n",
      "* * * \n",
      "* * * * \n",
      "* * * * * \n",
      "* * * * * * \n",
      "* * * * * \n",
      "* * * * \n",
      "* * * \n",
      "* * \n",
      "* \n"
     ]
    }
   ],
   "source": [
    "for i in range(6):\n",
    "    print(\"* \"*i)\n",
    "for j in range(6,0,-1):\n",
    "    print(\"* \"*j)"
   ]
  },
  {
   "cell_type": "code",
   "execution_count": 25,
   "id": "0f45da02",
   "metadata": {},
   "outputs": [
    {
     "name": "stderr",
     "output_type": "stream",
     "text": [
      "<>:6: SyntaxWarning: 'str' object is not callable; perhaps you missed a comma?\n",
      "<>:6: SyntaxWarning: 'str' object is not callable; perhaps you missed a comma?\n"
     ]
    },
    {
     "name": "stdout",
     "output_type": "stream",
     "text": [
      "Enter the Range >>4\n"
     ]
    },
    {
     "name": "stderr",
     "output_type": "stream",
     "text": [
      "C:\\Users\\prath\\AppData\\Local\\Temp\\ipykernel_4720\\2966939073.py:6: SyntaxWarning: 'str' object is not callable; perhaps you missed a comma?\n",
      "  print(\"* \"*\" \"(n-1)+\"* \")\n"
     ]
    },
    {
     "name": "stdout",
     "output_type": "stream",
     "text": [
      "* * * * \n"
     ]
    },
    {
     "ename": "TypeError",
     "evalue": "'str' object is not callable",
     "output_type": "error",
     "traceback": [
      "\u001b[1;31m---------------------------------------------------------------------------\u001b[0m",
      "\u001b[1;31mTypeError\u001b[0m                                 Traceback (most recent call last)",
      "\u001b[1;32m~\\AppData\\Local\\Temp\\ipykernel_4720\\2966939073.py\u001b[0m in \u001b[0;36m<module>\u001b[1;34m\u001b[0m\n\u001b[0;32m      4\u001b[0m         \u001b[0mprint\u001b[0m\u001b[1;33m(\u001b[0m\u001b[1;34m\"* \"\u001b[0m\u001b[1;33m*\u001b[0m\u001b[0mn\u001b[0m\u001b[1;33m)\u001b[0m\u001b[1;33m\u001b[0m\u001b[1;33m\u001b[0m\u001b[0m\n\u001b[0;32m      5\u001b[0m     \u001b[1;32melse\u001b[0m\u001b[1;33m:\u001b[0m\u001b[1;33m\u001b[0m\u001b[1;33m\u001b[0m\u001b[0m\n\u001b[1;32m----> 6\u001b[1;33m         \u001b[0mprint\u001b[0m\u001b[1;33m(\u001b[0m\u001b[1;34m\"* \"\u001b[0m\u001b[1;33m*\u001b[0m\u001b[1;34m\" \"\u001b[0m\u001b[1;33m(\u001b[0m\u001b[0mn\u001b[0m\u001b[1;33m-\u001b[0m\u001b[1;36m1\u001b[0m\u001b[1;33m)\u001b[0m\u001b[1;33m+\u001b[0m\u001b[1;34m\"* \"\u001b[0m\u001b[1;33m)\u001b[0m\u001b[1;33m\u001b[0m\u001b[1;33m\u001b[0m\u001b[0m\n\u001b[0m",
      "\u001b[1;31mTypeError\u001b[0m: 'str' object is not callable"
     ]
    }
   ],
   "source": [
    "n = int(input(\"Enter the Range >>\"))\n",
    "for i in range(n):\n",
    "    if i==0 :\n",
    "        print(\"* \"*n)\n",
    "    else:\n",
    "        print(\"* \"*\" \"(n-1)+\"* \")"
   ]
  },
  {
   "cell_type": "code",
   "execution_count": null,
   "id": "5923750b",
   "metadata": {},
   "outputs": [],
   "source": []
  },
  {
   "cell_type": "code",
   "execution_count": null,
   "id": "6077e09d",
   "metadata": {},
   "outputs": [],
   "source": []
  }
 ],
 "metadata": {
  "kernelspec": {
   "display_name": "Python 3 (ipykernel)",
   "language": "python",
   "name": "python3"
  },
  "language_info": {
   "codemirror_mode": {
    "name": "ipython",
    "version": 3
   },
   "file_extension": ".py",
   "mimetype": "text/x-python",
   "name": "python",
   "nbconvert_exporter": "python",
   "pygments_lexer": "ipython3",
   "version": "3.9.13"
  }
 },
 "nbformat": 4,
 "nbformat_minor": 5
}
