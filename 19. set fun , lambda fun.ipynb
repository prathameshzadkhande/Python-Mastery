{
 "cells": [
  {
   "cell_type": "markdown",
   "id": "080cb8f3",
   "metadata": {},
   "source": [
    "#### other set functon"
   ]
  },
  {
   "cell_type": "markdown",
   "id": "3890ebbc",
   "metadata": {},
   "source": [
    "#### 1. intersection()"
   ]
  },
  {
   "cell_type": "code",
   "execution_count": 2,
   "id": "626af786",
   "metadata": {},
   "outputs": [
    {
     "data": {
      "text/plain": [
       "{7, 8, 9}"
      ]
     },
     "execution_count": 2,
     "metadata": {},
     "output_type": "execute_result"
    }
   ],
   "source": [
    "s1= {1,2,3,4,5,6,7,8,9}\n",
    "s2= {7,8,9,10,11,12}\n",
    "s1.intersection(s2)"
   ]
  },
  {
   "cell_type": "code",
   "execution_count": 3,
   "id": "dc081df8",
   "metadata": {},
   "outputs": [
    {
     "name": "stdout",
     "output_type": "stream",
     "text": [
      "{1, 2, 3, 4, 5, 6, 7, 8, 9}\n"
     ]
    }
   ],
   "source": [
    "print(s1)"
   ]
  },
  {
   "cell_type": "code",
   "execution_count": 4,
   "id": "27b40188",
   "metadata": {},
   "outputs": [
    {
     "name": "stdout",
     "output_type": "stream",
     "text": [
      "{7, 8, 9, 10, 11, 12}\n"
     ]
    }
   ],
   "source": [
    "print(s2)"
   ]
  },
  {
   "cell_type": "code",
   "execution_count": 5,
   "id": "5231b2ee",
   "metadata": {},
   "outputs": [
    {
     "data": {
      "text/plain": [
       "{7, 8, 9}"
      ]
     },
     "execution_count": 5,
     "metadata": {},
     "output_type": "execute_result"
    }
   ],
   "source": [
    "s3= s1.intersection(s2)\n",
    "s3"
   ]
  },
  {
   "cell_type": "markdown",
   "id": "78be303e",
   "metadata": {},
   "source": [
    "#### 2. intersection_update()"
   ]
  },
  {
   "cell_type": "code",
   "execution_count": 6,
   "id": "21de25f4",
   "metadata": {},
   "outputs": [
    {
     "data": {
      "text/plain": [
       "{1, 2, 3, 4, 5, 6, 7, 8, 9}"
      ]
     },
     "execution_count": 6,
     "metadata": {},
     "output_type": "execute_result"
    }
   ],
   "source": [
    "s1"
   ]
  },
  {
   "cell_type": "code",
   "execution_count": 7,
   "id": "0a69c402",
   "metadata": {},
   "outputs": [
    {
     "data": {
      "text/plain": [
       "{7, 8, 9, 10, 11, 12}"
      ]
     },
     "execution_count": 7,
     "metadata": {},
     "output_type": "execute_result"
    }
   ],
   "source": [
    "s2"
   ]
  },
  {
   "cell_type": "code",
   "execution_count": 8,
   "id": "61a7c741",
   "metadata": {},
   "outputs": [],
   "source": [
    "s1.intersection_update(s2)"
   ]
  },
  {
   "cell_type": "code",
   "execution_count": 9,
   "id": "2cc71547",
   "metadata": {},
   "outputs": [
    {
     "data": {
      "text/plain": [
       "{7, 8, 9}"
      ]
     },
     "execution_count": 9,
     "metadata": {},
     "output_type": "execute_result"
    }
   ],
   "source": [
    "s1"
   ]
  },
  {
   "cell_type": "markdown",
   "id": "0631005b",
   "metadata": {},
   "source": [
    "#### 3. difference()"
   ]
  },
  {
   "cell_type": "code",
   "execution_count": 10,
   "id": "6c81b238",
   "metadata": {},
   "outputs": [],
   "source": [
    "A={2,3,4,5,6,7,8}\n",
    "B={6,7,8,9,10,11,12}\n"
   ]
  },
  {
   "cell_type": "code",
   "execution_count": 11,
   "id": "a802331d",
   "metadata": {},
   "outputs": [],
   "source": [
    "C=A.difference(B)"
   ]
  },
  {
   "cell_type": "code",
   "execution_count": 12,
   "id": "ab8e4623",
   "metadata": {},
   "outputs": [
    {
     "data": {
      "text/plain": [
       "{2, 3, 4, 5}"
      ]
     },
     "execution_count": 12,
     "metadata": {},
     "output_type": "execute_result"
    }
   ],
   "source": [
    "C"
   ]
  },
  {
   "cell_type": "code",
   "execution_count": 13,
   "id": "57323fe3",
   "metadata": {},
   "outputs": [
    {
     "data": {
      "text/plain": [
       "{9, 10, 11, 12}"
      ]
     },
     "execution_count": 13,
     "metadata": {},
     "output_type": "execute_result"
    }
   ],
   "source": [
    "D=B.difference(A)\n",
    "D"
   ]
  },
  {
   "cell_type": "code",
   "execution_count": null,
   "id": "674afa52",
   "metadata": {},
   "outputs": [],
   "source": []
  },
  {
   "cell_type": "markdown",
   "id": "f5d19327",
   "metadata": {},
   "source": [
    "#### 4. difference_update()"
   ]
  },
  {
   "cell_type": "code",
   "execution_count": 14,
   "id": "b24160b6",
   "metadata": {},
   "outputs": [
    {
     "data": {
      "text/plain": [
       "{2, 3, 4, 5, 6, 7, 8}"
      ]
     },
     "execution_count": 14,
     "metadata": {},
     "output_type": "execute_result"
    }
   ],
   "source": [
    "A"
   ]
  },
  {
   "cell_type": "code",
   "execution_count": 15,
   "id": "dfc284f6",
   "metadata": {},
   "outputs": [
    {
     "data": {
      "text/plain": [
       "{6, 7, 8, 9, 10, 11, 12}"
      ]
     },
     "execution_count": 15,
     "metadata": {},
     "output_type": "execute_result"
    }
   ],
   "source": [
    "B"
   ]
  },
  {
   "cell_type": "code",
   "execution_count": 16,
   "id": "9d5d5bb8",
   "metadata": {},
   "outputs": [],
   "source": [
    "A.difference_update(B)"
   ]
  },
  {
   "cell_type": "code",
   "execution_count": 21,
   "id": "a0a3648a",
   "metadata": {},
   "outputs": [
    {
     "data": {
      "text/plain": [
       "{2, 3, 4, 5}"
      ]
     },
     "execution_count": 21,
     "metadata": {},
     "output_type": "execute_result"
    }
   ],
   "source": [
    "A"
   ]
  },
  {
   "cell_type": "code",
   "execution_count": null,
   "id": "edd56d52",
   "metadata": {},
   "outputs": [],
   "source": []
  },
  {
   "cell_type": "markdown",
   "id": "51ad037b",
   "metadata": {},
   "source": [
    "#### 5. Symentric difference ()"
   ]
  },
  {
   "cell_type": "code",
   "execution_count": 22,
   "id": "7c07986d",
   "metadata": {},
   "outputs": [
    {
     "name": "stdout",
     "output_type": "stream",
     "text": [
      "{2, 3, 4, 5, 6, 7, 8, 9, 10, 11, 12}\n"
     ]
    }
   ],
   "source": [
    "E = A.symmetric_difference(B)\n",
    "print(E)"
   ]
  },
  {
   "cell_type": "markdown",
   "id": "84aa8714",
   "metadata": {},
   "source": [
    "#### 6. Symentric difference update ()"
   ]
  },
  {
   "cell_type": "code",
   "execution_count": 25,
   "id": "f53ea150",
   "metadata": {},
   "outputs": [
    {
     "data": {
      "text/plain": [
       "{2, 3, 4, 5, 6, 7, 8, 9, 10, 11, 12}"
      ]
     },
     "execution_count": 25,
     "metadata": {},
     "output_type": "execute_result"
    }
   ],
   "source": [
    "A.symmetric_difference_update(B)\n",
    "A"
   ]
  },
  {
   "cell_type": "markdown",
   "id": "a639dd4c",
   "metadata": {},
   "source": [
    "#### 7. issubset()"
   ]
  },
  {
   "cell_type": "code",
   "execution_count": 26,
   "id": "83afd39e",
   "metadata": {},
   "outputs": [],
   "source": [
    "Q={1,2,3,4,5,6,7}\n",
    "W={2,3,4}\n"
   ]
  },
  {
   "cell_type": "code",
   "execution_count": 27,
   "id": "103ad48e",
   "metadata": {},
   "outputs": [
    {
     "data": {
      "text/plain": [
       "True"
      ]
     },
     "execution_count": 27,
     "metadata": {},
     "output_type": "execute_result"
    }
   ],
   "source": [
    "W.issubset(Q)"
   ]
  },
  {
   "cell_type": "code",
   "execution_count": 29,
   "id": "f85f0be1",
   "metadata": {},
   "outputs": [
    {
     "data": {
      "text/plain": [
       "False"
      ]
     },
     "execution_count": 29,
     "metadata": {},
     "output_type": "execute_result"
    }
   ],
   "source": [
    "Q.issubset(W)"
   ]
  },
  {
   "cell_type": "code",
   "execution_count": null,
   "id": "9eca6b08",
   "metadata": {},
   "outputs": [],
   "source": []
  },
  {
   "cell_type": "markdown",
   "id": "7b7c2bf7",
   "metadata": {},
   "source": [
    "#### 8. issuperset()"
   ]
  },
  {
   "cell_type": "code",
   "execution_count": 30,
   "id": "4ff9b5af",
   "metadata": {},
   "outputs": [],
   "source": [
    "Q={1,2,3,4,5,6,7}\n",
    "W={2,3,4}\n",
    "E={2,4}\n"
   ]
  },
  {
   "cell_type": "code",
   "execution_count": 31,
   "id": "4544182a",
   "metadata": {},
   "outputs": [
    {
     "data": {
      "text/plain": [
       "True"
      ]
     },
     "execution_count": 31,
     "metadata": {},
     "output_type": "execute_result"
    }
   ],
   "source": [
    "Q.issuperset(W)"
   ]
  },
  {
   "cell_type": "code",
   "execution_count": 32,
   "id": "f1d52920",
   "metadata": {},
   "outputs": [
    {
     "data": {
      "text/plain": [
       "True"
      ]
     },
     "execution_count": 32,
     "metadata": {},
     "output_type": "execute_result"
    }
   ],
   "source": [
    "Q.issuperset(E)"
   ]
  },
  {
   "cell_type": "code",
   "execution_count": 33,
   "id": "75339f29",
   "metadata": {},
   "outputs": [
    {
     "data": {
      "text/plain": [
       "True"
      ]
     },
     "execution_count": 33,
     "metadata": {},
     "output_type": "execute_result"
    }
   ],
   "source": [
    "W.issuperset(E)"
   ]
  },
  {
   "cell_type": "code",
   "execution_count": null,
   "id": "6d259ba0",
   "metadata": {},
   "outputs": [],
   "source": []
  },
  {
   "cell_type": "markdown",
   "id": "7c68ee0a",
   "metadata": {},
   "source": [
    "#### Lambda Function"
   ]
  },
  {
   "cell_type": "markdown",
   "id": "ade5a763",
   "metadata": {},
   "source": [
    "> it is annonymous function\n",
    "> Annonymous function > Function without name \n",
    "  e.g. def name()\n",
    "> Define by lambda keyword\n",
    "> no need of any writern \n",
    "> we use it for short period of time \n"
   ]
  },
  {
   "cell_type": "code",
   "execution_count": null,
   "id": "e00a1d85",
   "metadata": {},
   "outputs": [],
   "source": [
    "1-10>>>even>>>square>>list"
   ]
  },
  {
   "cell_type": "code",
   "execution_count": 46,
   "id": "920eb353",
   "metadata": {},
   "outputs": [],
   "source": [
    "def square(a,b):\n",
    "    d=[]\n",
    "    for i in range(a,b+1):\n",
    "        c = i*i\n",
    "        d.append(c)\n",
    "    return d"
   ]
  },
  {
   "cell_type": "code",
   "execution_count": 48,
   "id": "d84ffd4c",
   "metadata": {},
   "outputs": [
    {
     "data": {
      "text/plain": [
       "[4, 9, 16, 25, 36, 49, 64, 81, 100]"
      ]
     },
     "execution_count": 48,
     "metadata": {},
     "output_type": "execute_result"
    }
   ],
   "source": [
    "square(2,10)"
   ]
  },
  {
   "cell_type": "code",
   "execution_count": 1,
   "id": "bd65448d",
   "metadata": {},
   "outputs": [],
   "source": [
    "# for even square \n",
    "def even_square(a,b):\n",
    "    c= ['Even Numbers Square ']\n",
    "    d= [\"Odd Numbers  Square \"]\n",
    "    for i in range(a,b+1):\n",
    "        if i%2==0:\n",
    "            c.append(i*i)\n",
    "        else:\n",
    "            d.append(i*i)\n",
    "    return d , c\n"
   ]
  },
  {
   "cell_type": "code",
   "execution_count": 2,
   "id": "cc665fa2",
   "metadata": {},
   "outputs": [
    {
     "data": {
      "text/plain": [
       "(['Odd Numbers  Square ', 9, 25, 49, 81],\n",
       " ['Even Numbers Square ', 4, 16, 36, 64, 100])"
      ]
     },
     "execution_count": 2,
     "metadata": {},
     "output_type": "execute_result"
    }
   ],
   "source": [
    "even_square(2,10)"
   ]
  },
  {
   "cell_type": "code",
   "execution_count": 2,
   "id": "cc32597c",
   "metadata": {},
   "outputs": [],
   "source": [
    "# using lambda function \n",
    "even = lambda x: x%2==0 \n",
    "odd = lambda x: x%2 != 0\n",
    "sq = lambda x: x*x\n",
    "cube = lambda x : x*x*x\n",
    "\n",
    "\n"
   ]
  },
  {
   "cell_type": "code",
   "execution_count": 4,
   "id": "82c81fb7",
   "metadata": {},
   "outputs": [
    {
     "data": {
      "text/plain": [
       "True"
      ]
     },
     "execution_count": 4,
     "metadata": {},
     "output_type": "execute_result"
    }
   ],
   "source": [
    "even(3) "
   ]
  },
  {
   "cell_type": "code",
   "execution_count": 5,
   "id": "2d2bbf60",
   "metadata": {},
   "outputs": [
    {
     "data": {
      "text/plain": [
       "True"
      ]
     },
     "execution_count": 5,
     "metadata": {},
     "output_type": "execute_result"
    }
   ],
   "source": [
    "odd(3)"
   ]
  },
  {
   "cell_type": "code",
   "execution_count": 6,
   "id": "4ea41c80",
   "metadata": {},
   "outputs": [
    {
     "data": {
      "text/plain": [
       "25"
      ]
     },
     "execution_count": 6,
     "metadata": {},
     "output_type": "execute_result"
    }
   ],
   "source": [
    "sq(5)"
   ]
  },
  {
   "cell_type": "code",
   "execution_count": 7,
   "id": "acbd4b6a",
   "metadata": {},
   "outputs": [
    {
     "data": {
      "text/plain": [
       "216"
      ]
     },
     "execution_count": 7,
     "metadata": {},
     "output_type": "execute_result"
    }
   ],
   "source": [
    "cube(6)"
   ]
  },
  {
   "cell_type": "code",
   "execution_count": 8,
   "id": "fa1ced92",
   "metadata": {},
   "outputs": [],
   "source": [
    "avg = lambda x,y,z : (x+y+z)/3"
   ]
  },
  {
   "cell_type": "code",
   "execution_count": 9,
   "id": "33b265d8",
   "metadata": {},
   "outputs": [
    {
     "data": {
      "text/plain": [
       "33.0"
      ]
     },
     "execution_count": 9,
     "metadata": {},
     "output_type": "execute_result"
    }
   ],
   "source": [
    "avg(22,33,44)"
   ]
  },
  {
   "cell_type": "code",
   "execution_count": 10,
   "id": "b3ed7a53",
   "metadata": {},
   "outputs": [],
   "source": [
    "sum = lambda l1 : sum(l1)"
   ]
  },
  {
   "cell_type": "code",
   "execution_count": 1,
   "id": "fccec3c5",
   "metadata": {},
   "outputs": [
    {
     "data": {
      "text/plain": [
       "26676"
      ]
     },
     "execution_count": 1,
     "metadata": {},
     "output_type": "execute_result"
    }
   ],
   "source": [
    "sum([12,3241,23423])"
   ]
  },
  {
   "cell_type": "code",
   "execution_count": 3,
   "id": "5f71a804",
   "metadata": {},
   "outputs": [],
   "source": [
    "# prime numbers using lambda function 1-50"
   ]
  },
  {
   "cell_type": "code",
   "execution_count": null,
   "id": "739e8a4a",
   "metadata": {},
   "outputs": [],
   "source": []
  },
  {
   "cell_type": "code",
   "execution_count": 5,
   "id": "db2afa43",
   "metadata": {},
   "outputs": [],
   "source": []
  },
  {
   "cell_type": "code",
   "execution_count": 7,
   "id": "da312d1e",
   "metadata": {},
   "outputs": [
    {
     "ename": "TypeError",
     "evalue": "'str' object cannot be interpreted as an integer",
     "output_type": "error",
     "traceback": [
      "\u001b[1;31m---------------------------------------------------------------------------\u001b[0m",
      "\u001b[1;31mTypeError\u001b[0m                                 Traceback (most recent call last)",
      "\u001b[1;32m~\\AppData\\Local\\Temp\\ipykernel_15668\\1578629128.py\u001b[0m in \u001b[0;36m<module>\u001b[1;34m\u001b[0m\n\u001b[0;32m      1\u001b[0m \u001b[0ma\u001b[0m\u001b[1;33m=\u001b[0m\u001b[1;34m'python'\u001b[0m\u001b[1;33m\u001b[0m\u001b[1;33m\u001b[0m\u001b[0m\n\u001b[0;32m      2\u001b[0m \u001b[0mb\u001b[0m\u001b[1;33m=\u001b[0m\u001b[1;33m[\u001b[0m\u001b[1;36m2\u001b[0m\u001b[1;33m,\u001b[0m\u001b[1;36m3\u001b[0m\u001b[1;33m,\u001b[0m\u001b[1;36m4\u001b[0m\u001b[1;33m,\u001b[0m\u001b[1;36m5\u001b[0m\u001b[1;33m,\u001b[0m\u001b[1;36m6\u001b[0m\u001b[1;33m,\u001b[0m\u001b[1;36m7\u001b[0m\u001b[1;33m]\u001b[0m\u001b[1;33m\u001b[0m\u001b[1;33m\u001b[0m\u001b[0m\n\u001b[1;32m----> 3\u001b[1;33m \u001b[0mc\u001b[0m\u001b[1;33m=\u001b[0m\u001b[0mmap\u001b[0m\u001b[1;33m(\u001b[0m\u001b[0mfun\u001b[0m\u001b[1;33m(\u001b[0m\u001b[0ma\u001b[0m\u001b[1;33m)\u001b[0m\u001b[1;33m,\u001b[0m\u001b[0mfun\u001b[0m\u001b[1;33m(\u001b[0m\u001b[0mb\u001b[0m\u001b[1;33m)\u001b[0m\u001b[1;33m)\u001b[0m\u001b[1;33m\u001b[0m\u001b[1;33m\u001b[0m\u001b[0m\n\u001b[0m",
      "\u001b[1;32m~\\AppData\\Local\\Temp\\ipykernel_15668\\3829216409.py\u001b[0m in \u001b[0;36mfun\u001b[1;34m(a)\u001b[0m\n\u001b[0;32m      1\u001b[0m \u001b[1;32mdef\u001b[0m \u001b[0mfun\u001b[0m\u001b[1;33m(\u001b[0m\u001b[0ma\u001b[0m\u001b[1;33m)\u001b[0m\u001b[1;33m:\u001b[0m\u001b[1;33m\u001b[0m\u001b[1;33m\u001b[0m\u001b[0m\n\u001b[1;32m----> 2\u001b[1;33m     \u001b[1;32mfor\u001b[0m \u001b[0mi\u001b[0m \u001b[1;32min\u001b[0m \u001b[0mrange\u001b[0m\u001b[1;33m(\u001b[0m\u001b[0ma\u001b[0m\u001b[1;33m)\u001b[0m\u001b[1;33m:\u001b[0m\u001b[1;33m\u001b[0m\u001b[1;33m\u001b[0m\u001b[0m\n\u001b[0m\u001b[0;32m      3\u001b[0m         \u001b[1;32mreturn\u001b[0m \u001b[0mi\u001b[0m\u001b[1;33m\u001b[0m\u001b[1;33m\u001b[0m\u001b[0m\n",
      "\u001b[1;31mTypeError\u001b[0m: 'str' object cannot be interpreted as an integer"
     ]
    }
   ],
   "source": [
    "a='python'\n",
    "b=[2,3,4,5,6,7]\n",
    "list(map())"
   ]
  },
  {
   "cell_type": "code",
   "execution_count": 3,
   "id": "c0a3fa74",
   "metadata": {},
   "outputs": [
    {
     "name": "stdout",
     "output_type": "stream",
     "text": [
      "<map object at 0x000001ECDEDB2A00>\n"
     ]
    }
   ],
   "source": [
    "print(c)"
   ]
  },
  {
   "cell_type": "code",
   "execution_count": null,
   "id": "8f8330a2",
   "metadata": {},
   "outputs": [],
   "source": []
  },
  {
   "cell_type": "code",
   "execution_count": 11,
   "id": "682185cc",
   "metadata": {},
   "outputs": [
    {
     "ename": "SyntaxError",
     "evalue": "invalid syntax (2305869614.py, line 3)",
     "output_type": "error",
     "traceback": [
      "\u001b[1;36m  File \u001b[1;32m\"C:\\Users\\prath\\AppData\\Local\\Temp\\ipykernel_15668\\2305869614.py\"\u001b[1;36m, line \u001b[1;32m3\u001b[0m\n\u001b[1;33m    c= [i for i in l if i>b b=i]\u001b[0m\n\u001b[1;37m                            ^\u001b[0m\n\u001b[1;31mSyntaxError\u001b[0m\u001b[1;31m:\u001b[0m invalid syntax\n"
     ]
    }
   ],
   "source": [
    "l=[12,3,4,454,34]\n",
    "b=0\n"
   ]
  },
  {
   "cell_type": "code",
   "execution_count": 10,
   "id": "23327098",
   "metadata": {},
   "outputs": [
    {
     "data": {
      "text/plain": [
       "[12, 3, 4, 454, 34]"
      ]
     },
     "execution_count": 10,
     "metadata": {},
     "output_type": "execute_result"
    }
   ],
   "source": [
    "c"
   ]
  },
  {
   "cell_type": "code",
   "execution_count": null,
   "id": "55db585f",
   "metadata": {},
   "outputs": [],
   "source": []
  },
  {
   "cell_type": "code",
   "execution_count": null,
   "id": "673f754f",
   "metadata": {},
   "outputs": [],
   "source": []
  }
 ],
 "metadata": {
  "kernelspec": {
   "display_name": "Python 3 (ipykernel)",
   "language": "python",
   "name": "python3"
  },
  "language_info": {
   "codemirror_mode": {
    "name": "ipython",
    "version": 3
   },
   "file_extension": ".py",
   "mimetype": "text/x-python",
   "name": "python",
   "nbconvert_exporter": "python",
   "pygments_lexer": "ipython3",
   "version": "3.9.13"
  }
 },
 "nbformat": 4,
 "nbformat_minor": 5
}
